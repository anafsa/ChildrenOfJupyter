{
 "cells": [
  {
   "cell_type": "markdown",
   "metadata": {
    "id": "JeP6xkRIBJco"
   },
   "source": [
    "# World Data League 2021\n",
    "## Notebook Template\n",
    "\n",
    "This notebook is one of the mandatory deliverables when you submit your solution (alongside the video pitch). Its structure follows the WDL evaluation criteria and it has dedicated cells where you can add descriptions. Make sure your code is readable as it will be the only technical support the jury will have to evaluate your work.\n",
    "\n",
    "The notebook must:\n",
    "\n",
    "*   💻 have all the code that you want the jury to evaluate\n",
    "*   🧱 follow the predefined structure\n",
    "*   📄 have markdown descriptions where you find necessary\n",
    "*   👀 be saved with all the output that you want the jury to see\n",
    "*   🏃‍♂️ be runnable\n"
   ]
  },
  {
   "cell_type": "markdown",
   "metadata": {
    "id": "63ltgxp_rOpI"
   },
   "source": [
    "## Introduction\n",
    "Describe how you framed the challenge by telling us what problem are you trying to solve and how your solution solves that problem."
   ]
  },
  {
   "cell_type": "markdown",
   "metadata": {
    "id": "Hp34gOznrwrq"
   },
   "source": []
  },
  {
   "cell_type": "markdown",
   "metadata": {
    "id": "C8rCpNajszur"
   },
   "source": [
    "## Development"
   ]
  },
  {
   "cell_type": "code",
   "execution_count": 1,
   "metadata": {
    "id": "afB4W0KnutpV"
   },
   "outputs": [],
   "source": [
    "#Import Libraries\n",
    "import pandas as pd\n",
    "import numpy as np\n",
    "import seaborn as sns\n",
    "from matplotlib import pyplot\n",
    "from datetime import datetime\n",
    "from sklearn.preprocessing import OneHotEncoder, OrdinalEncoder\n",
    "import requests\n",
    "\n",
    "sns.set_theme(style=\"whitegrid\")\n",
    "sns.set_color_codes(\"pastel\")"
   ]
  },
  {
   "cell_type": "code",
   "execution_count": 3,
   "metadata": {},
   "outputs": [
    {
     "name": "stderr",
     "output_type": "stream",
     "text": [
      "/home/ana/anaconda3/envs/data_analysis/lib/python3.7/site-packages/numpy/lib/arraysetops.py:580: FutureWarning: elementwise comparison failed; returning scalar instead, but in the future will perform elementwise comparison\n",
      "  mask |= (ar1 == a)\n"
     ]
    },
    {
     "data": {
      "text/html": [
       "<div>\n",
       "<style scoped>\n",
       "    .dataframe tbody tr th:only-of-type {\n",
       "        vertical-align: middle;\n",
       "    }\n",
       "\n",
       "    .dataframe tbody tr th {\n",
       "        vertical-align: top;\n",
       "    }\n",
       "\n",
       "    .dataframe thead th {\n",
       "        text-align: right;\n",
       "    }\n",
       "</style>\n",
       "<table border=\"1\" class=\"dataframe\">\n",
       "  <thead>\n",
       "    <tr style=\"text-align: right;\">\n",
       "      <th></th>\n",
       "      <th>Block</th>\n",
       "      <th>Street</th>\n",
       "      <th>EntryDate</th>\n",
       "      <th>Bylaw</th>\n",
       "      <th>Section</th>\n",
       "      <th>Status</th>\n",
       "      <th>InfractionText</th>\n",
       "      <th>Year</th>\n",
       "      <th>HBLOCK</th>\n",
       "      <th>Infraction_Stage</th>\n",
       "    </tr>\n",
       "  </thead>\n",
       "  <tbody>\n",
       "    <tr>\n",
       "      <th>0</th>\n",
       "      <td>1400</td>\n",
       "      <td>Kingsway</td>\n",
       "      <td>2017-08-23</td>\n",
       "      <td>2849</td>\n",
       "      <td>17.1</td>\n",
       "      <td>IS</td>\n",
       "      <td>STOP AT A PLACE WHERE A TRAFFIC SIGN PROHIBITS...</td>\n",
       "      <td>2017</td>\n",
       "      <td>1400 KINGSWAY</td>\n",
       "      <td>0</td>\n",
       "    </tr>\n",
       "    <tr>\n",
       "      <th>1</th>\n",
       "      <td>2100</td>\n",
       "      <td>13th Ave E.</td>\n",
       "      <td>2017-08-26</td>\n",
       "      <td>2849</td>\n",
       "      <td>19.1(H)</td>\n",
       "      <td>IS</td>\n",
       "      <td>STOP ON EITHER SIDE OF A LANE WHICH ABUTS COMM...</td>\n",
       "      <td>2017</td>\n",
       "      <td>2100 13TH AVE E</td>\n",
       "      <td>0</td>\n",
       "    </tr>\n",
       "    <tr>\n",
       "      <th>2</th>\n",
       "      <td>2800</td>\n",
       "      <td>Trinity St.</td>\n",
       "      <td>2017-08-26</td>\n",
       "      <td>2849</td>\n",
       "      <td>17.6(B)</td>\n",
       "      <td>VA</td>\n",
       "      <td>PARK ON A STREET WHERE A TRAFFIC SIGN RESTRICT...</td>\n",
       "      <td>2017</td>\n",
       "      <td>2800 TRINITY ST</td>\n",
       "      <td>0</td>\n",
       "    </tr>\n",
       "    <tr>\n",
       "      <th>3</th>\n",
       "      <td>200</td>\n",
       "      <td>17th Ave W.</td>\n",
       "      <td>2017-08-27</td>\n",
       "      <td>2849</td>\n",
       "      <td>17.5(B)</td>\n",
       "      <td>IS</td>\n",
       "      <td>STOP WITHIN 6 METRES OF THE NEAREST EDGE OF TH...</td>\n",
       "      <td>2017</td>\n",
       "      <td>200 17TH AVE W</td>\n",
       "      <td>0</td>\n",
       "    </tr>\n",
       "    <tr>\n",
       "      <th>4</th>\n",
       "      <td>1900</td>\n",
       "      <td>4th Ave W.</td>\n",
       "      <td>2017-08-19</td>\n",
       "      <td>2952</td>\n",
       "      <td>5(4)(a)(ii)</td>\n",
       "      <td>IS</td>\n",
       "      <td>PARK IN A METERED SPACE IF THE PARKING METER H...</td>\n",
       "      <td>2017</td>\n",
       "      <td>1900 4TH AVE W</td>\n",
       "      <td>0</td>\n",
       "    </tr>\n",
       "  </tbody>\n",
       "</table>\n",
       "</div>"
      ],
      "text/plain": [
       "   Block       Street  EntryDate  Bylaw      Section Status  \\\n",
       "0   1400     Kingsway 2017-08-23   2849         17.1     IS   \n",
       "1   2100  13th Ave E. 2017-08-26   2849      19.1(H)     IS   \n",
       "2   2800  Trinity St. 2017-08-26   2849      17.6(B)     VA   \n",
       "3    200  17th Ave W. 2017-08-27   2849      17.5(B)     IS   \n",
       "4   1900   4th Ave W. 2017-08-19   2952  5(4)(a)(ii)     IS   \n",
       "\n",
       "                                      InfractionText  Year           HBLOCK  \\\n",
       "0  STOP AT A PLACE WHERE A TRAFFIC SIGN PROHIBITS...  2017    1400 KINGSWAY   \n",
       "1  STOP ON EITHER SIDE OF A LANE WHICH ABUTS COMM...  2017  2100 13TH AVE E   \n",
       "2  PARK ON A STREET WHERE A TRAFFIC SIGN RESTRICT...  2017  2800 TRINITY ST   \n",
       "3  STOP WITHIN 6 METRES OF THE NEAREST EDGE OF TH...  2017   200 17TH AVE W   \n",
       "4  PARK IN A METERED SPACE IF THE PARKING METER H...  2017   1900 4TH AVE W   \n",
       "\n",
       "   Infraction_Stage  \n",
       "0                 0  \n",
       "1                 0  \n",
       "2                 0  \n",
       "3                 0  \n",
       "4                 0  "
      ]
     },
     "execution_count": 3,
     "metadata": {},
     "output_type": "execute_result"
    }
   ],
   "source": [
    "def get_stage(text):\n",
    "    if 'STAGE 1' in text:\n",
    "        return 1\n",
    "    elif 'STAGE 2' in text:\n",
    "        return 2\n",
    "    else:\n",
    "        return 0\n",
    "\n",
    "def get_parking_tickets_data():\n",
    "    # O ficheiro é demasiado grande para o github\n",
    "    df = pd.read_csv('/home/ana/Downloads/parking-tickets-2017-2019_WDL.csv', sep=';', index_col=0,\n",
    "                    parse_dates=['EntryDate'])\n",
    "    # Some infractions are the same, but have a final dot in them! Remove that dot in order \n",
    "    # to not consider those infractions as distincts\n",
    "    df['InfractionText'] = df['InfractionText'].str.rstrip('.') \n",
    "    \n",
    "    # There are repeated infractions with different stages (or without a stage)\n",
    "    df['Infraction_Stage'] = df['InfractionText'].apply(lambda x: get_stage(x))\n",
    "    df['InfractionText'] = df['InfractionText'].str.rstrip(' - STAGE 1').str.rstrip(' - STAGE 2') \n",
    "    return df\n",
    "\n",
    "df = get_parking_tickets_data()\n",
    "df.head()"
   ]
  },
  {
   "cell_type": "code",
   "execution_count": 4,
   "metadata": {},
   "outputs": [
    {
     "name": "stdout",
     "output_type": "stream",
     "text": [
      "+----------------------------------------------------+\n",
      "+     Column     |      Type      | Uniques  | NaN?  |\n",
      "+----------------------------------------------------+\n",
      "+     Block      |     int64      |   129    | False |\n",
      "+     Street     |     object     |   1785   | False |\n",
      "+   EntryDate    | datetime64[ns] |   1089   | False |\n",
      "+     Bylaw      |     int64      |    5     | False |\n",
      "+    Section     |     object     |    98    | False |\n",
      "+     Status     |     object     |    5     | False |\n",
      "+ InfractionText |     object     |    92    | False |\n",
      "+      Year      |     int64      |    3     | False |\n",
      "+     HBLOCK     |     object     |  15219   | False |\n",
      "+Infraction_Stage|     int64      |    3     | False |\n",
      "+----------------------------------------------------+\n"
     ]
    }
   ],
   "source": [
    "def eda_to_df(df):\n",
    "    header=\"+\" + (\"-\"*52) + \"+\"\n",
    "    form = \"+{:^16s}|{:^16s}|{:^10s}|{:^7s}|\"\n",
    "    print(header)\n",
    "    print(form.format(\"Column\", \"Type\", \"Uniques\", \"NaN?\"))\n",
    "    print(header)\n",
    "    for col in df.columns:\n",
    "        print(form.format(str(col), str(df[col].dtypes), str(len(df[col].unique())), \n",
    "                          str(df[col].isnull().values.any()) ))\n",
    "    print(header)\n",
    "    \n",
    "eda_to_df(df)"
   ]
  },
  {
   "cell_type": "code",
   "execution_count": null,
   "metadata": {},
   "outputs": [],
   "source": []
  },
  {
   "cell_type": "code",
   "execution_count": null,
   "metadata": {},
   "outputs": [],
   "source": [
    "\n",
    "\n"
   ]
  },
  {
   "cell_type": "code",
   "execution_count": null,
   "metadata": {},
   "outputs": [],
   "source": []
  },
  {
   "cell_type": "code",
   "execution_count": null,
   "metadata": {},
   "outputs": [],
   "source": []
  },
  {
   "cell_type": "markdown",
   "metadata": {},
   "source": [
    "## Categorical features"
   ]
  },
  {
   "cell_type": "code",
   "execution_count": null,
   "metadata": {},
   "outputs": [],
   "source": [
    "def categorical_feature_study(_df, feature, horizontal=False, treshould=0, plot=True):\n",
    "    df = _df.copy()\n",
    "    df = df[feature].value_counts().to_frame()\n",
    "    \n",
    "    if treshould>0 :\n",
    "        df = df[ df[feature] >= treshould ]\n",
    "    \n",
    "    df = df.reset_index()\n",
    "    df = df.rename(columns={feature: \"Count\"})\n",
    "    df = df.rename(columns={\"index\": feature})\n",
    "       \n",
    "    if plot:\n",
    "        fig, ax = pyplot.subplots()#figsize=(20,15))\n",
    "    \n",
    "        if horizontal :\n",
    "            sns.barplot(x=\"Count\", y=feature, data=df, ax=ax)\n",
    "        else:\n",
    "            sns.barplot(x=feature, y=\"Count\", data=df, ax=ax)\n",
    "        \n",
    "        ax.plot()\n",
    "\n",
    "    return df"
   ]
  },
  {
   "cell_type": "code",
   "execution_count": null,
   "metadata": {},
   "outputs": [],
   "source": [
    "categorical_feature_study(df, \"InfractionText\", horizontal=True, treshould=10000).head()"
   ]
  },
  {
   "cell_type": "code",
   "execution_count": null,
   "metadata": {},
   "outputs": [],
   "source": [
    "categorical_feature_study(df, \"Street\", horizontal=True, treshould=10000).head()"
   ]
  },
  {
   "cell_type": "code",
   "execution_count": null,
   "metadata": {},
   "outputs": [],
   "source": [
    "categorical_feature_study(df, \"Year\", horizontal=False)"
   ]
  },
  {
   "cell_type": "code",
   "execution_count": null,
   "metadata": {},
   "outputs": [],
   "source": [
    "categorical_feature_study(df, \"Bylaw\", horizontal=False)"
   ]
  },
  {
   "cell_type": "code",
   "execution_count": null,
   "metadata": {},
   "outputs": [],
   "source": [
    "categorical_feature_study(df, \"HBLOCK\", horizontal=True, treshould=5000).head()"
   ]
  },
  {
   "cell_type": "markdown",
   "metadata": {},
   "source": [
    "## Encode categorical features"
   ]
  },
  {
   "cell_type": "code",
   "execution_count": null,
   "metadata": {},
   "outputs": [],
   "source": []
  },
  {
   "cell_type": "code",
   "execution_count": null,
   "metadata": {},
   "outputs": [],
   "source": [
    "enc = OrdinalEncoder()\n",
    "df[\"InfractionText\"] = enc.fit_transform(df[[\"InfractionText\"]]).astype(int)\n",
    "\n",
    "df_infraction = categorical_feature_study(df, \"InfractionText\", horizontal=True, treshould=10000, plot=False)\n",
    "df_infraction.head()"
   ]
  },
  {
   "cell_type": "code",
   "execution_count": null,
   "metadata": {},
   "outputs": [],
   "source": [
    "enc = OrdinalEncoder()\n",
    "df[\"Street\"] = enc.fit_transform(df[[\"Street\"]]).astype(int)\n",
    "\n",
    "df_streets = categorical_feature_study(df, \"Street\", horizontal=True, treshould=10000, plot=False)\n",
    "df_streets.head()"
   ]
  },
  {
   "cell_type": "markdown",
   "metadata": {},
   "source": [
    "## Number of infractions per day"
   ]
  },
  {
   "cell_type": "code",
   "execution_count": null,
   "metadata": {},
   "outputs": [],
   "source": [
    "nInfractionsPerDay = df.groupby(['EntryDate']) \\\n",
    "                        .count() \\\n",
    "                        .rename(columns={'Block':'Count'})[['Count']] \\\n",
    "                        .reset_index()\n",
    "nInfractionsPerDay"
   ]
  },
  {
   "cell_type": "code",
   "execution_count": null,
   "metadata": {},
   "outputs": [],
   "source": [
    "fig, ax = pyplot.subplots(figsize=(25,20))\n",
    "sns.lineplot(data=nInfractionsPerDay, x=\"EntryDate\", y=\"Count\", ax=ax)"
   ]
  },
  {
   "cell_type": "markdown",
   "metadata": {},
   "source": [
    "## Number of infractions per day per type of infraction"
   ]
  },
  {
   "cell_type": "code",
   "execution_count": null,
   "metadata": {},
   "outputs": [],
   "source": [
    "df.head()"
   ]
  },
  {
   "cell_type": "code",
   "execution_count": null,
   "metadata": {},
   "outputs": [],
   "source": [
    "popular_infractions = df_infraction.InfractionText.tolist()\n",
    "\n",
    "# number of Infractions per Day and per Type\n",
    "nIDT = df.copy()\n",
    "nIDT = nIDT[nIDT[\"InfractionText\"].isin(popular_infractions)]\n",
    "nIDT = nIDT.groupby(['EntryDate', 'InfractionText']) \\\n",
    "                                .count() \\\n",
    "                                .rename(columns={'Block':'Count'})[['Count']]\\\n",
    "                                .reset_index()\n",
    "nIDT"
   ]
  },
  {
   "cell_type": "code",
   "execution_count": null,
   "metadata": {},
   "outputs": [],
   "source": [
    "fig, ax = pyplot.subplots(figsize=(25,20))\n",
    "sns.lineplot(data=nIDT, x=\"EntryDate\", y=\"Count\", hue=\"InfractionText\", ax=ax)"
   ]
  },
  {
   "cell_type": "markdown",
   "metadata": {},
   "source": [
    "## Number of Infractions per Day per Type per Street"
   ]
  },
  {
   "cell_type": "code",
   "execution_count": null,
   "metadata": {},
   "outputs": [],
   "source": [
    "popular_streets = df_streets.Street.tolist()\n",
    "\n",
    "# number of Infractions per Day per Type per Street\n",
    "nIDTS = df.copy()\n",
    "nIDTS = nIDTS[(nIDTS[\"Street\"].isin(popular_streets)) & (nIDTS[\"InfractionText\"].isin(popular_infractions))]\n",
    "nIDTS = nIDTS.groupby(['EntryDate', 'InfractionText', 'Street']) \\\n",
    "                                .count() \\\n",
    "                                .rename(columns={'Block':'Count'})[['Count']]\\\n",
    "                                .reset_index()\n",
    "\n",
    "nIDTS['Street_str'] = nIDTS['Street'].astype(str)\n",
    "nIDTS['InfractionText_str'] = nIDTS['InfractionText'].astype(str)\n",
    "nIDTS['Street_&_Infraction'] = nIDTS['Street_str'] + [\"___\"]*len(nIDTS) + nIDTS['InfractionText_str']\n",
    "nIDTS"
   ]
  },
  {
   "cell_type": "code",
   "execution_count": null,
   "metadata": {
    "scrolled": true
   },
   "outputs": [],
   "source": [
    "fig, ax = pyplot.subplots(figsize=(25,20))\n",
    "sns.lineplot(data=nIDTS, x=\"EntryDate\", y=\"Count\", hue=\"Street_&_Infraction\", ax=ax)"
   ]
  },
  {
   "cell_type": "code",
   "execution_count": null,
   "metadata": {},
   "outputs": [],
   "source": [
    "nIDTS"
   ]
  },
  {
   "cell_type": "code",
   "execution_count": null,
   "metadata": {
    "id": "J4jPpcKOutZ5"
   },
   "outputs": [],
   "source": [
    "nIDTS_filter = nIDTS[nIDTS['Street']==87]\n",
    "fig, ax = pyplot.subplots(figsize=(25,20))\n",
    "sns.lineplot(data=nIDTS_filter, x=\"EntryDate\", y=\"Count\", hue=\"Street_&_Infraction\", ax=ax)"
   ]
  },
  {
   "cell_type": "code",
   "execution_count": null,
   "metadata": {},
   "outputs": [],
   "source": [
    "nIDTS_filter[['Count']].head(50)"
   ]
  },
  {
   "cell_type": "markdown",
   "metadata": {},
   "source": [
    "## Juntar dados meteorológicos + feriados + fins de semana + nº pessoas q anda de bicicleta/ transportes públicos..."
   ]
  },
  {
   "cell_type": "raw",
   "metadata": {},
   "source": [
    "Divisão de tarefas\n",
    "Juntar variáveis externas e "
   ]
  },
  {
   "cell_type": "code",
   "execution_count": null,
   "metadata": {},
   "outputs": [],
   "source": []
  },
  {
   "cell_type": "code",
   "execution_count": null,
   "metadata": {},
   "outputs": [],
   "source": []
  },
  {
   "cell_type": "markdown",
   "metadata": {},
   "source": [
    "# Using Oracle Cloud Infratructure to perform forecasting"
   ]
  },
  {
   "cell_type": "markdown",
   "metadata": {},
   "source": [
    "## ARIMA, SARIMA, ETS"
   ]
  },
  {
   "cell_type": "code",
   "execution_count": null,
   "metadata": {},
   "outputs": [],
   "source": []
  },
  {
   "cell_type": "code",
   "execution_count": null,
   "metadata": {},
   "outputs": [],
   "source": []
  },
  {
   "cell_type": "code",
   "execution_count": null,
   "metadata": {},
   "outputs": [],
   "source": []
  },
  {
   "cell_type": "code",
   "execution_count": null,
   "metadata": {},
   "outputs": [],
   "source": []
  },
  {
   "cell_type": "code",
   "execution_count": null,
   "metadata": {},
   "outputs": [],
   "source": []
  },
  {
   "cell_type": "code",
   "execution_count": null,
   "metadata": {},
   "outputs": [],
   "source": []
  },
  {
   "cell_type": "code",
   "execution_count": null,
   "metadata": {},
   "outputs": [],
   "source": []
  },
  {
   "cell_type": "code",
   "execution_count": null,
   "metadata": {},
   "outputs": [],
   "source": []
  },
  {
   "cell_type": "code",
   "execution_count": null,
   "metadata": {},
   "outputs": [],
   "source": []
  },
  {
   "cell_type": "code",
   "execution_count": null,
   "metadata": {},
   "outputs": [],
   "source": []
  },
  {
   "cell_type": "markdown",
   "metadata": {},
   "source": [
    "# ??"
   ]
  },
  {
   "cell_type": "code",
   "execution_count": null,
   "metadata": {},
   "outputs": [],
   "source": []
  },
  {
   "cell_type": "code",
   "execution_count": null,
   "metadata": {},
   "outputs": [],
   "source": []
  },
  {
   "cell_type": "code",
   "execution_count": null,
   "metadata": {},
   "outputs": [],
   "source": []
  },
  {
   "cell_type": "code",
   "execution_count": null,
   "metadata": {
    "id": "LQ90XveiBN6A"
   },
   "outputs": [],
   "source": []
  },
  {
   "cell_type": "markdown",
   "metadata": {
    "id": "gSDath2nr1fq"
   },
   "source": [
    "## Conclusions\n",
    "\n",
    "### Scalability and Impact\n",
    "Tell us how applicable and scalable your solution is if you were to implement it in a city. Identify possible limitations and measure the potential social impact of your solution."
   ]
  },
  {
   "cell_type": "markdown",
   "metadata": {
    "id": "CGmbES9GszEv"
   },
   "source": []
  },
  {
   "cell_type": "markdown",
   "metadata": {
    "id": "0XBiBOyAl2Sv"
   },
   "source": [
    "### Future Work\n",
    "Now picture the following scenario: imagine you could have access to any type of data that could help you solve this challenge even better. What would that data be and how would it improve your solution? 🚀"
   ]
  },
  {
   "cell_type": "markdown",
   "metadata": {
    "id": "5gK3heTKl7qz"
   },
   "source": []
  }
 ],
 "metadata": {
  "colab": {
   "collapsed_sections": [],
   "name": "Notebook Submission Template.ipynb",
   "provenance": []
  },
  "kernelspec": {
   "display_name": "Python 3",
   "language": "python",
   "name": "python3"
  },
  "language_info": {
   "codemirror_mode": {
    "name": "ipython",
    "version": 3
   },
   "file_extension": ".py",
   "mimetype": "text/x-python",
   "name": "python",
   "nbconvert_exporter": "python",
   "pygments_lexer": "ipython3",
   "version": "3.7.5"
  }
 },
 "nbformat": 4,
 "nbformat_minor": 1
}
