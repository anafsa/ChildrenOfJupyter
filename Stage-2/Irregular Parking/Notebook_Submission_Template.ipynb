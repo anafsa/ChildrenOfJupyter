{
  "nbformat": 4,
  "nbformat_minor": 0,
  "metadata": {
    "colab": {
      "name": "Notebook Submission Template.ipynb",
      "provenance": [],
      "collapsed_sections": []
    },
    "kernelspec": {
      "name": "python3",
      "display_name": "Python 3"
    },
    "language_info": {
      "name": "python"
    }
  },
  "cells": [
    {
      "cell_type": "markdown",
      "metadata": {
        "id": "JeP6xkRIBJco"
      },
      "source": [
        "# World Data League 2021\n",
        "## Notebook Template\n",
        "\n",
        "This notebook is one of the mandatory deliverables when you submit your solution (alongside the video pitch). Its structure follows the WDL evaluation criteria and it has dedicated cells where you can add descriptions. Make sure your code is readable as it will be the only technical support the jury will have to evaluate your work.\n",
        "\n",
        "The notebook must:\n",
        "\n",
        "*   💻 have all the code that you want the jury to evaluate\n",
        "*   🧱 follow the predefined structure\n",
        "*   📄 have markdown descriptions where you find necessary\n",
        "*   👀 be saved with all the output that you want the jury to see\n",
        "*   🏃‍♂️ be runnable\n"
      ]
    },
    {
      "cell_type": "markdown",
      "metadata": {
        "id": "63ltgxp_rOpI"
      },
      "source": [
        "## Introduction\n",
        "Describe how you framed the challenge by telling us what problem are you trying to solve and how your solution solves that problem."
      ]
    },
    {
      "cell_type": "markdown",
      "metadata": {
        "id": "Hp34gOznrwrq"
      },
      "source": [
        ""
      ]
    },
    {
      "cell_type": "markdown",
      "metadata": {
        "id": "C8rCpNajszur"
      },
      "source": [
        "## Development\n",
        "Start coding here! 🐱‍🏍\n",
        "\n",
        "Don't hesitate to create markdown cells to include descriptions of your work where you see fit, as well as commenting your code.\n",
        "\n",
        "We know that you know exactly where to start when it comes to crunching data and building models, but don't forget that WDL is all about social impact...so take that into consideration as well."
      ]
    },
    {
      "cell_type": "code",
      "metadata": {
        "id": "afB4W0KnutpV"
      },
      "source": [
        "import pandas as pd"
      ],
      "execution_count": null,
      "outputs": []
    },
    {
      "cell_type": "code",
      "metadata": {
        "id": "J4jPpcKOutZ5"
      },
      "source": [
        ""
      ],
      "execution_count": null,
      "outputs": []
    },
    {
      "cell_type": "code",
      "metadata": {
        "id": "LQ90XveiBN6A"
      },
      "source": [
        ""
      ],
      "execution_count": null,
      "outputs": []
    },
    {
      "cell_type": "markdown",
      "metadata": {
        "id": "gSDath2nr1fq"
      },
      "source": [
        "## Conclusions\n",
        "\n",
        "### Scalability and Impact\n",
        "Tell us how applicable and scalable your solution is if you were to implement it in a city. Identify possible limitations and measure the potential social impact of your solution."
      ]
    },
    {
      "cell_type": "markdown",
      "metadata": {
        "id": "CGmbES9GszEv"
      },
      "source": [
        ""
      ]
    },
    {
      "cell_type": "markdown",
      "metadata": {
        "id": "0XBiBOyAl2Sv"
      },
      "source": [
        "### Future Work\n",
        "Now picture the following scenario: imagine you could have access to any type of data that could help you solve this challenge even better. What would that data be and how would it improve your solution? 🚀"
      ]
    },
    {
      "cell_type": "markdown",
      "metadata": {
        "id": "5gK3heTKl7qz"
      },
      "source": [
        ""
      ]
    }
  ]
}