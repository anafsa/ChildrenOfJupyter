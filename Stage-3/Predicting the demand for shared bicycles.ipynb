{
 "cells": [
  {
   "cell_type": "code",
   "execution_count": 1,
   "metadata": {},
   "outputs": [],
   "source": [
    "import pandas as pd\n",
    "import numpy as np\n",
    "import datetime\n",
    "import pickle\n",
    "import requests\n",
    "from sklearn.preprocessing import OneHotEncoder, OrdinalEncoder\n",
    "import seaborn as sns\n",
    "import matplotlib.pyplot as plt\n",
    "\n",
    "sns.set_theme(style=\"whitegrid\")\n",
    "fig_dim = (13,10)"
   ]
  },
  {
   "cell_type": "code",
   "execution_count": 2,
   "metadata": {},
   "outputs": [],
   "source": [
    "# Carol\n",
    "path = r'C:\\Users\\Carolina Alves\\OneDrive - Universidade de Aveiro\\WDL competition\\Stage 3'"
   ]
  },
  {
   "cell_type": "markdown",
   "metadata": {
    "heading_collapsed": true
   },
   "source": [
    "## Cleaning Data"
   ]
  },
  {
   "cell_type": "code",
   "execution_count": null,
   "metadata": {
    "hidden": true
   },
   "outputs": [],
   "source": [
    "# Opening and saving given dataset\n",
    "#df = pd.read_csv(path+'/'+\"bike_loans.csv\", sep=\";\")\n",
    "#pickle.dump(df, open(path+'/'+\"df_raw\", \"wb\"))"
   ]
  },
  {
   "cell_type": "code",
   "execution_count": null,
   "metadata": {
    "hidden": true
   },
   "outputs": [],
   "source": [
    "# Opening data\n",
    "df = pickle.load(open(path+'/'+\"df_raw\", \"rb\" ))"
   ]
  },
  {
   "cell_type": "code",
   "execution_count": null,
   "metadata": {
    "hidden": true
   },
   "outputs": [],
   "source": [
    "df.head()"
   ]
  },
  {
   "cell_type": "code",
   "execution_count": null,
   "metadata": {
    "hidden": true
   },
   "outputs": [],
   "source": [
    "df.describe()"
   ]
  },
  {
   "cell_type": "code",
   "execution_count": null,
   "metadata": {
    "hidden": true
   },
   "outputs": [],
   "source": [
    "df.shape"
   ]
  },
  {
   "cell_type": "markdown",
   "metadata": {
    "heading_collapsed": true
   },
   "source": [
    "## Exploratory Data Analysis"
   ]
  },
  {
   "cell_type": "code",
   "execution_count": null,
   "metadata": {
    "hidden": true,
    "scrolled": true
   },
   "outputs": [],
   "source": [
    "def eda_to_df(df):\n",
    "    header=\"+\" + (\"-\"*85) + \"+\"\n",
    "    form = \"+{:^25s}|{:^10s}|{:^10s}|{:^10s}|{:^15s}|{:^10s}|\"\n",
    "    print(header)\n",
    "    print(form.format(\"Column\", \"Type\", \"Uniques\", \"NaN?\", \"Number of NaN\" ,\"%NaN\"))\n",
    "    print(header)\n",
    "    for col in df.columns:\n",
    "        print(form.format(str(col), #Column\n",
    "                          str(df[col].dtypes), #Type\n",
    "                          str(len(df[col].unique())), #Uniques\n",
    "                          str(df[col].isnull().values.any()), #NaN?\n",
    "                          str(df[col].isnull().sum()),\n",
    "                          str(round(((df[col].isnull().sum())/len(df[col]))*100,5)) )) #%NaN\n",
    "    print(header)\n",
    "\n",
    "eda_to_df(df)"
   ]
  },
  {
   "cell_type": "markdown",
   "metadata": {
    "hidden": true
   },
   "source": [
    "[ANÁLISE TABELA]"
   ]
  },
  {
   "cell_type": "markdown",
   "metadata": {
    "hidden": true
   },
   "source": [
    "Importe e DescripcionImporte têm apenas um valor que se repete em todas as linhas e por isso são removidos"
   ]
  },
  {
   "cell_type": "code",
   "execution_count": null,
   "metadata": {
    "hidden": true
   },
   "outputs": [],
   "source": [
    "df = df.drop(['Importe', 'DescripcionImporte'], axis=1)"
   ]
  },
  {
   "cell_type": "markdown",
   "metadata": {
    "hidden": true
   },
   "source": [
    "***Looking for relations between NaN values in columns Id_Aparcamiento_Destino, Posicion_Destino and operario***"
   ]
  },
  {
   "cell_type": "code",
   "execution_count": null,
   "metadata": {
    "hidden": true,
    "scrolled": true
   },
   "outputs": [],
   "source": [
    "df_apar_destino = df[df['Id_Aparcamiento_Destino'].isnull()]\n",
    "print('Number of NaN in Id_Aparcamiento_Destino column: ', len(df_apar_destino))\n",
    "\n",
    "df_pos_destino = df[df['Posicion_Destino'].isnull()]\n",
    "print('\\nNumber of NaN in Posicion_Destino column: ', len(df_pos_destino))\n",
    "\n",
    "df_pos_apar = df[(df['Id_Aparcamiento_Destino'].isnull()) & (df['Posicion_Destino'].isnull())]\n",
    "print('\\nNumber of rows when Id_Aparcamiento_Destino and Posicion_Destino are NaN: ', len(df_pos_apar))\n",
    "\n",
    "df_pos_apar_ope = df[(df['Id_Aparcamiento_Destino'].isnull()) & (df['Posicion_Destino'].isnull()) & (df['operario']=='monitor')]\n",
    "print('\\nNumber of rows when Id_Aparcamiento_Destino and Posicion_Origen are NaN and the operario is monitor: ', len(df_pos_apar_ope))\n",
    "\n",
    "df_pos_apar_ope_null = df[(df['Id_Aparcamiento_Destino'].isnull()) & (df['Posicion_Destino'].isnull()) & (df['operario'].isnull())]\n",
    "print('\\nNumber of rows when Id_Aparcamiento_Destino, Posicion_Origen and operario are NaN: ', len(df_pos_apar_ope_null))"
   ]
  },
  {
   "cell_type": "code",
   "execution_count": null,
   "metadata": {
    "hidden": true
   },
   "outputs": [],
   "source": [
    "df_apar_destino.head()"
   ]
  },
  {
   "cell_type": "markdown",
   "metadata": {
    "hidden": true
   },
   "source": [
    "Quando o Id_Aparcamiento_Destino tem valores NaN não conseguimos saber qual a estação de destino. Por essa razão esses dados não nos interessam pois não trazem informação ao modelo que irá ser construído. "
   ]
  },
  {
   "cell_type": "code",
   "execution_count": null,
   "metadata": {
    "hidden": true
   },
   "outputs": [],
   "source": [
    "df = df[df['Id_Aparcamiento_Destino'].notna()]"
   ]
  },
  {
   "cell_type": "markdown",
   "metadata": {
    "hidden": true
   },
   "source": [
    "***Calculating the usage duration of bicycles***"
   ]
  },
  {
   "cell_type": "code",
   "execution_count": null,
   "metadata": {
    "hidden": true
   },
   "outputs": [],
   "source": [
    "def duration (prestamo, devolucion):\n",
    "\n",
    "    start = datetime.datetime.strptime(prestamo[0:19], \"%Y-%m-%d %H:%M:%S\")\n",
    "    end = datetime.datetime.strptime(devolucion[0:19], \"%Y-%m-%d %H:%M:%S\")\n",
    "    time = end - start\n",
    "    seconds = time.total_seconds()\n",
    "\n",
    "    return seconds"
   ]
  },
  {
   "cell_type": "code",
   "execution_count": null,
   "metadata": {
    "hidden": true
   },
   "outputs": [],
   "source": [
    "df['Duration'] = df.apply(lambda x: duration(x['Fecha_Prestamo'],x['Fecha_Devolucion']),axis=1)"
   ]
  },
  {
   "cell_type": "markdown",
   "metadata": {
    "hidden": true
   },
   "source": [
    "***Removing data when the usage duration of bicycles is negative (which means that the day of prestamo is after the day of devolucion)***"
   ]
  },
  {
   "cell_type": "code",
   "execution_count": null,
   "metadata": {
    "hidden": true
   },
   "outputs": [],
   "source": [
    "df = df[df['Duration']>0]"
   ]
  },
  {
   "cell_type": "markdown",
   "metadata": {
    "hidden": true
   },
   "source": [
    "***Removing data before 2016 and after 2020***"
   ]
  },
  {
   "cell_type": "code",
   "execution_count": null,
   "metadata": {
    "hidden": true
   },
   "outputs": [],
   "source": [
    "def year_ (row):\n",
    "    \n",
    "    year = int(row[0:4])\n",
    "\n",
    "    return year"
   ]
  },
  {
   "cell_type": "code",
   "execution_count": null,
   "metadata": {
    "hidden": true
   },
   "outputs": [],
   "source": [
    "df_list = []\n",
    "increment = 1000000\n",
    "for i in range(0,15000000, increment):\n",
    "    df_ = df.iloc[i:i+increment,:]\n",
    "    #creating column with the year of prestamo and devolucion\n",
    "    df_['Year_Prestamo'] = df_.apply(lambda x: year_(x['Fecha_Prestamo']),axis=1) \n",
    "    df_['Year_Devolucion'] = df_.apply(lambda x: year_(x['Fecha_Devolucion']),axis=1) \n",
    "    #removing years before 2016 and after 2020\n",
    "    df_= df_[(df_['Year_Prestamo']>=2016) & (df_['Year_Prestamo']<2020)]\n",
    "    df_= df_[(df_['Year_Devolucion']>=2016) & (df_['Year_Devolucion']<2020)]\n",
    "    df_list.append(df_)\n",
    "\n",
    "#creating cleaned dataframe\n",
    "df_new_ = pd.DataFrame()\n",
    "df_clean_ = df_new_.append(other=df_list,ignore_index=True)\n",
    "\n",
    "#confirming\n",
    "print(df_clean_['Year_Prestamo'].unique())\n",
    "print(df_clean_['Year_Devolucion'].unique())"
   ]
  },
  {
   "cell_type": "code",
   "execution_count": null,
   "metadata": {
    "hidden": true
   },
   "outputs": [],
   "source": [
    "df_clean_"
   ]
  },
  {
   "cell_type": "markdown",
   "metadata": {
    "hidden": true
   },
   "source": [
    "***Encoding categorical features***"
   ]
  },
  {
   "cell_type": "code",
   "execution_count": null,
   "metadata": {
    "hidden": true
   },
   "outputs": [],
   "source": [
    "print('Number of NaN in column Id_Tag_Bicicleta: ', df_clean_['Id_Tag_Bicicleta'].isnull().sum())\n",
    "print('\\nNumber of NaN in column operario: ', df_clean_['operario'].isnull().sum())"
   ]
  },
  {
   "cell_type": "code",
   "execution_count": null,
   "metadata": {
    "hidden": true
   },
   "outputs": [],
   "source": [
    "operario_ = df_clean_['operario'].fillna(value='other')\n",
    "df_clean_['operario'] = operario_"
   ]
  },
  {
   "cell_type": "code",
   "execution_count": null,
   "metadata": {
    "hidden": true
   },
   "outputs": [],
   "source": [
    "def encode_categorical_features(_df, features):\n",
    "    df = _df.copy()\n",
    "    enc = OrdinalEncoder()\n",
    "    df[features] = enc.fit_transform(df[features]).astype(int)\n",
    "    \n",
    "    return enc, df"
   ]
  },
  {
   "cell_type": "code",
   "execution_count": null,
   "metadata": {
    "hidden": true
   },
   "outputs": [],
   "source": [
    "enc, df_clean_ = encode_categorical_features(df_clean_, [\"Id_Tag_Bicicleta\", \"operario\"])\n",
    "df_clean_.head()"
   ]
  },
  {
   "cell_type": "code",
   "execution_count": null,
   "metadata": {
    "hidden": true
   },
   "outputs": [],
   "source": [
    "#Saving cleaned dataframe\n",
    "pickle.dump(df_clean_, open(path+'/'+\"df_clean\", \"wb\" ))"
   ]
  },
  {
   "cell_type": "markdown",
   "metadata": {},
   "source": [
    "## External Data"
   ]
  },
  {
   "cell_type": "markdown",
   "metadata": {},
   "source": [
    "***Acessing dataframe***"
   ]
  },
  {
   "cell_type": "code",
   "execution_count": 3,
   "metadata": {},
   "outputs": [],
   "source": [
    "# Opening cleaned data\n",
    "df = pickle.load(open(path+'/'+\"df_clean\", \"rb\" ))\n",
    "\n",
    "# Opening raw data\n",
    "#df = pickle.load(open(path+'/'+\"df_raw\", \"rb\" ))\n",
    "\n",
    "df.Fecha_Prestamo=pd.to_datetime(df.Fecha_Prestamo)\n",
    "df.Fecha_Devolucion=pd.to_datetime(df.Fecha_Devolucion)\n",
    "\n",
    "df['month_prestamo'] = df.Fecha_Prestamo.dt.month\n",
    "df['day_prestamo'] = df.Fecha_Prestamo.dt.day\n",
    "df['hour_prestamo'] = df.Fecha_Prestamo.dt.hour\n",
    "\n",
    "df['month_devolucion'] = df.Fecha_Devolucion.dt.month\n",
    "df['day_devolucion'] = df.Fecha_Devolucion.dt.day\n",
    "df['hour_devolucion'] = df.Fecha_Devolucion.dt.hour\n",
    "\n",
    "df = df.rename(columns={'Year_prestamo':'year_prestamo', 'Year_devolucion':'year_devolucion'})"
   ]
  },
  {
   "cell_type": "markdown",
   "metadata": {},
   "source": [
    "***Holidays***"
   ]
  },
  {
   "cell_type": "code",
   "execution_count": 4,
   "metadata": {},
   "outputs": [],
   "source": [
    "holidays16 = pd.read_excel('holidays_columbia.xlsx', sheet_name='2016')\n",
    "holidays17 = pd.read_excel('holidays_columbia.xlsx', sheet_name='2017')\n",
    "holidays18 = pd.read_excel('holidays_columbia.xlsx', sheet_name='2018')\n",
    "holidays19 = pd.read_excel('holidays_columbia.xlsx', sheet_name='2019')"
   ]
  },
  {
   "cell_type": "code",
   "execution_count": 5,
   "metadata": {},
   "outputs": [],
   "source": [
    "holidays = pd.concat([holidays16, holidays17, holidays18, holidays19])\n",
    "df['DATE'] = df['Fecha_Prestamo'].dt.date.astype(str)\n",
    "dfDATE_count = df.groupby('DATE').size().reset_index(name='count')\n",
    "holidays_count = pd.merge(dfDATE_count,holidays,on='DATE')"
   ]
  },
  {
   "cell_type": "code",
   "execution_count": 6,
   "metadata": {},
   "outputs": [
    {
     "data": {
      "text/plain": [
       "<AxesSubplot:xlabel='DATE', ylabel='count'>"
      ]
     },
     "execution_count": 6,
     "metadata": {},
     "output_type": "execute_result"
    },
    {
     "data": {
      "image/png": "[encoded data removed]",
      "text/plain": [
       "<Figure size 936x720 with 1 Axes>"
      ]
     },
     "metadata": {},
     "output_type": "display_data"
    }
   ],
   "source": [
    "fig, ax = plt.subplots(figsize=fig_dim)\n",
    "\n",
    "sns.lineplot(data=dfDATE_count, x=\"DATE\", y=\"count\",  ax=ax, label=\"Number of loads per day\")\n",
    "\n",
    "sns.regplot(data=holidays_count, x=\"DATE\", y=\"count\", fit_reg=False, scatter_kws={\"color\":\"black\",\"alpha\":1,\"s\":50}, ax=ax)"
   ]
  },
  {
   "cell_type": "markdown",
   "metadata": {},
   "source": [
    "***Wheather***"
   ]
  },
  {
   "cell_type": "code",
   "execution_count": null,
   "metadata": {},
   "outputs": [],
   "source": [
    "def get_history(city_name, start_date, end_date):\n",
    "    print(\"Retrieving {0} history...\".format(city_name))\n",
    "    \n",
    "    api = \"155b4d6acbf49ae8044c54f654953578\"\n",
    "    \n",
    "    url = \"http://history.openweathermap.org/data/2.5/aggregated/year?q=\" + city_name + \",CO&appid=\" + api \\\n",
    "                + \"&start=\"+ start_date + \"&end=\" + end_date \\\n",
    "    \n",
    "    \n",
    "    request_json=requests.get(url).json()\n",
    "    if \"result\" not in request_json:\n",
    "        return get_history(city_name)\n",
    "    \n",
    "    return pd.json_normalize(request_json[\"result\"])"
   ]
  },
  {
   "cell_type": "code",
   "execution_count": null,
   "metadata": {},
   "outputs": [],
   "source": [
    "weather_data = get_history(\"Itagui\",\"2020-01-01\",\"2020-12-31\")"
   ]
  },
  {
   "cell_type": "markdown",
   "metadata": {},
   "source": [
    "***Aggregating weather and bycicle information***"
   ]
  },
  {
   "cell_type": "code",
   "execution_count": null,
   "metadata": {},
   "outputs": [],
   "source": [
    "dfY = df[df['year_prestamo']==2019] ################################### MUDAR DEPOIS DE RECEBER NOVOS DADOS OPENWEATHER"
   ]
  },
  {
   "cell_type": "code",
   "execution_count": null,
   "metadata": {},
   "outputs": [],
   "source": [
    "dfYMD = dfY.groupby(['year_prestamo','month_prestamo','day_prestamo']).size().reset_index(name='count')"
   ]
  },
  {
   "cell_type": "code",
   "execution_count": null,
   "metadata": {},
   "outputs": [],
   "source": [
    "dfYMD = dfYMD.rename(columns={'year_prestamo':'year', 'month_prestamo':'month', 'day_prestamo':'day'})"
   ]
  },
  {
   "cell_type": "code",
   "execution_count": null,
   "metadata": {},
   "outputs": [],
   "source": [
    "weather_analysis = pd.merge(dfYMD,weather_data,on=['month','day'])"
   ]
  },
  {
   "cell_type": "code",
   "execution_count": null,
   "metadata": {
    "scrolled": false
   },
   "outputs": [],
   "source": [
    "weather_analysis.head()"
   ]
  },
  {
   "cell_type": "code",
   "execution_count": null,
   "metadata": {},
   "outputs": [],
   "source": [
    "def df_weather (data, feat):\n",
    "    weather_ = [column for column in data if column.startswith(feat)]\n",
    "    weather_.append('count')\n",
    "    weather = data[weather_]\n",
    "    cor = weather.corr()\n",
    "    \n",
    "    fig,ax = plt.subplots(figsize=(7,7))\n",
    "    sns.heatmap(cor, annot=True)"
   ]
  },
  {
   "cell_type": "code",
   "execution_count": null,
   "metadata": {},
   "outputs": [],
   "source": [
    "df_weather(weather_analysis, \"temp\")"
   ]
  },
  {
   "cell_type": "code",
   "execution_count": null,
   "metadata": {},
   "outputs": [],
   "source": [
    "df_weather(weather_analysis, \"pressure\")"
   ]
  },
  {
   "cell_type": "code",
   "execution_count": null,
   "metadata": {},
   "outputs": [],
   "source": [
    "df_weather(weather_analysis, \"humidity\")"
   ]
  },
  {
   "cell_type": "code",
   "execution_count": null,
   "metadata": {},
   "outputs": [],
   "source": [
    "df_weather(weather_analysis, \"wind\")"
   ]
  },
  {
   "cell_type": "code",
   "execution_count": null,
   "metadata": {},
   "outputs": [],
   "source": [
    "df_weather(weather_analysis, \"precipitation\")"
   ]
  }
 ],
 "metadata": {
  "kernelspec": {
   "display_name": "Python 3",
   "language": "python",
   "name": "python3"
  },
  "language_info": {
   "codemirror_mode": {
    "name": "ipython",
    "version": 3
   },
   "file_extension": ".py",
   "mimetype": "text/x-python",
   "name": "python",
   "nbconvert_exporter": "python",
   "pygments_lexer": "ipython3",
   "version": "3.7.5"
  },
  "toc": {
   "base_numbering": 1,
   "nav_menu": {},
   "number_sections": true,
   "sideBar": true,
   "skip_h1_title": false,
   "title_cell": "Table of Contents",
   "title_sidebar": "Contents",
   "toc_cell": false,
   "toc_position": {},
   "toc_section_display": true,
   "toc_window_display": true
  },
  "varInspector": {
   "cols": {
    "lenName": 16,
    "lenType": 16,
    "lenVar": 40
   },
   "kernels_config": {
    "python": {
     "delete_cmd_postfix": "",
     "delete_cmd_prefix": "del ",
     "library": "var_list.py",
     "varRefreshCmd": "print(var_dic_list())"
    },
    "r": {
     "delete_cmd_postfix": ") ",
     "delete_cmd_prefix": "rm(",
     "library": "var_list.r",
     "varRefreshCmd": "cat(var_dic_list()) "
    }
   },
   "oldHeight": 419.50483399999996,
   "position": {
    "height": "40px",
    "left": "1175.16px",
    "right": "20px",
    "top": "1.99739px",
    "width": "287.018px"
   },
   "types_to_exclude": [
    "module",
    "function",
    "builtin_function_or_method",
    "instance",
    "_Feature"
   ],
   "varInspector_section_display": "none",
   "window_display": true
  }
 },
 "nbformat": 4,
 "nbformat_minor": 2
}
