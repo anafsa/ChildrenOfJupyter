{
 "cells": [
  {
   "cell_type": "markdown",
   "metadata": {},
   "source": [
    "# WDL 2021 - Stage 3: Predicting the demand for shared bicycles"
   ]
  },
  {
   "cell_type": "markdown",
   "metadata": {},
   "source": [
    "# Introduction"
   ]
  },
  {
   "cell_type": "markdown",
   "metadata": {},
   "source": [
    "Intro\n",
    "\n",
    "SOA\n",
    "\n",
    "A nossa abordagem (resumo)\n",
    "\n",
    "Problemas encontrados (resumo)\n",
    "\n",
    "A nossa solução (resumo)"
   ]
  },
  {
   "cell_type": "markdown",
   "metadata": {},
   "source": [
    "Notas: A nossa solução inicial assumia que era possível fazer o tracing das bicicletas, mas após ser fornecido o dicionário, percebemos que tal não era possível dado que \"The same bike can have multiple tags over the year\"."
   ]
  },
  {
   "cell_type": "markdown",
   "metadata": {},
   "source": [
    "# Data pre-processing\n",
    "\n",
    "Explicar o que foi limpo, etc. e justificar. (RESUMO)\n",
    "\n",
    "Guardamos o df pre-processado e por isso pode-se só executar o código a partir do cap Exploratory data analysis"
   ]
  },
  {
   "cell_type": "markdown",
   "metadata": {},
   "source": [
    "## Import libraries and customize seaborn"
   ]
  },
  {
   "cell_type": "code",
   "execution_count": 1,
   "metadata": {},
   "outputs": [
    {
     "name": "stderr",
     "output_type": "stream",
     "text": [
      "Using TensorFlow backend.\n"
     ]
    }
   ],
   "source": [
    "import pandas as pd\n",
    "import numpy as np\n",
    "import datetime\n",
    "import pickle\n",
    "import matplotlib.pyplot as plt\n",
    "from matplotlib import cm\n",
    "from matplotlib.ticker import LinearLocator, FormatStrFormatter\n",
    "from mpl_toolkits.mplot3d import Axes3D\n",
    "import seaborn as sns\n",
    "from math import floor\n",
    "from keras.layers import Dense, Dropout, Flatten\n",
    "from keras.layers.convolutional import Conv1D, MaxPooling1D\n",
    "from keras.models import Sequential\n",
    "from sklearn.metrics import mean_squared_error\n",
    "from sklearn.preprocessing import OneHotEncoder, OrdinalEncoder\n",
    "\n",
    "pd.set_option('display.max_rows', 100)\n",
    "sns.set_theme(style=\"whitegrid\")\n",
    "fig_dim = (15,12)\n",
    "\n",
    "base = '/home/ana/Downloads/'\n",
    "#base = r'C:\\Users\\Carolina Alves\\OneDrive - Universidade de Aveiro\\WDL competition\\Stage 3'"
   ]
  },
  {
   "cell_type": "markdown",
   "metadata": {},
   "source": [
    "## Auxiliar functions"
   ]
  },
  {
   "cell_type": "code",
   "execution_count": 2,
   "metadata": {},
   "outputs": [],
   "source": [
    "# bar plot function\n",
    "def bar_plot(_x, _y, _data):\n",
    "    fig, axs = plt.subplots(figsize=fig_dim)\n",
    "    axs = sns.barplot(x=_x, y=_y, data=_data)\n",
    "    plt.xticks(rotation=90)\n",
    "    plt.draw()\n",
    "    \n",
    "# performs the encoding of categorical features to ordinal numbers\n",
    "def encode_categorical_features(_df, features):\n",
    "    df = _df.copy()\n",
    "    enc = OrdinalEncoder()\n",
    "    df[features] = enc.fit_transform(df[features]).astype(int)\n",
    "    \n",
    "    return enc, df"
   ]
  },
  {
   "cell_type": "markdown",
   "metadata": {},
   "source": [
    "## Loading the dataset"
   ]
  },
  {
   "cell_type": "code",
   "execution_count": null,
   "metadata": {},
   "outputs": [],
   "source": [
    "# Opening and saving the original dataset\n",
    "# We converted the file from csv to binary in order to read it faster\n",
    "# You do not need to run this cell\n",
    "df = pd.read_csv(base+'/'+\"bike_loans.csv\", sep=\";\")\n",
    "pickle.dump(df, open(base+'/'+\"df_raw\", \"wb\"))"
   ]
  },
  {
   "cell_type": "code",
   "execution_count": null,
   "metadata": {},
   "outputs": [],
   "source": [
    "# Opening data\n",
    "df = pickle.load(open(base+'/'+\"df_raw\", \"rb\" ))"
   ]
  },
  {
   "cell_type": "code",
   "execution_count": null,
   "metadata": {},
   "outputs": [],
   "source": [
    "df.head()"
   ]
  },
  {
   "cell_type": "code",
   "execution_count": null,
   "metadata": {},
   "outputs": [],
   "source": [
    "df.describe()"
   ]
  },
  {
   "cell_type": "code",
   "execution_count": null,
   "metadata": {},
   "outputs": [],
   "source": [
    "df.shape"
   ]
  },
  {
   "cell_type": "markdown",
   "metadata": {},
   "source": [
    "## Data types, uniques and NaN information "
   ]
  },
  {
   "cell_type": "markdown",
   "metadata": {},
   "source": [
    "For each column, check type of data, number of unique values and the presence of missing values"
   ]
  },
  {
   "cell_type": "code",
   "execution_count": null,
   "metadata": {},
   "outputs": [],
   "source": [
    "def eda_to_df(df):\n",
    "    header=\"+\" + (\"-\"*85) + \"+\"\n",
    "    form = \"|{:^25s}|{:^10s}|{:^10s}|{:^10s}|{:^15s}|{:^10s}|\"\n",
    "    print(header)\n",
    "    print(form.format(\"Column\", \"Type\", \"Uniques\", \"NaN?\", \"Number of NaN\" ,\"%NaN\"))\n",
    "    print(header)\n",
    "    for col in df.columns:\n",
    "        print(form.format(str(col), # Column\n",
    "                          str(df[col].dtypes), # Type\n",
    "                          str(len(df[col].unique())), # Uniques\n",
    "                          str(df[col].isnull().values.any()), # NaN?\n",
    "                          str(df[col].isnull().sum()), # Number of NaNs\n",
    "                          str(round(((df[col].isnull().sum())/len(df[col]))*100,5)) )) # %NaN\n",
    "    print(header)\n",
    "\n",
    "eda_to_df(df)"
   ]
  },
  {
   "cell_type": "markdown",
   "metadata": {},
   "source": [
    "[ANÁLISE TABELA]"
   ]
  },
  {
   "cell_type": "markdown",
   "metadata": {},
   "source": [
    "Importe e DescripcionImporte têm apenas um valor que se repete em todas as linhas e por isso são removidos"
   ]
  },
  {
   "cell_type": "code",
   "execution_count": null,
   "metadata": {},
   "outputs": [],
   "source": [
    "df = df.drop(['Importe', 'DescripcionImporte'], axis=1)"
   ]
  },
  {
   "cell_type": "markdown",
   "metadata": {},
   "source": [
    "***Looking for relations between NaN values in columns Id_Aparcamiento_Destino, Posicion_Destino and operario***"
   ]
  },
  {
   "cell_type": "code",
   "execution_count": null,
   "metadata": {},
   "outputs": [],
   "source": [
    "df_apar_destino = df[df['Id_Aparcamiento_Destino'].isnull()]\n",
    "print('Number of NaN in Id_Aparcamiento_Destino column: ', len(df_apar_destino))\n",
    "\n",
    "df_pos_destino = df[df['Posicion_Destino'].isnull()]\n",
    "print('\\nNumber of NaN in Posicion_Destino column: ', len(df_pos_destino))\n",
    "\n",
    "df_pos_apar = df[(df['Id_Aparcamiento_Destino'].isnull()) & (df['Posicion_Destino'].isnull())]\n",
    "print('\\nNumber of rows when Id_Aparcamiento_Destino and Posicion_Destino are NaN: ', len(df_pos_apar))\n",
    "\n",
    "df_pos_apar_ope = df[(df['Id_Aparcamiento_Destino'].isnull()) & (df['Posicion_Destino'].isnull()) & (df['operario']=='monitor')]\n",
    "print('\\nNumber of rows when Id_Aparcamiento_Destino and Posicion_Origen are NaN and the operario is monitor: ', len(df_pos_apar_ope))\n",
    "\n",
    "df_pos_apar_ope_null = df[(df['Id_Aparcamiento_Destino'].isnull()) & (df['Posicion_Destino'].isnull()) & (df['operario'].isnull())]\n",
    "print('\\nNumber of rows when Id_Aparcamiento_Destino, Posicion_Origen and operario are NaN: ', len(df_pos_apar_ope_null))"
   ]
  },
  {
   "cell_type": "code",
   "execution_count": null,
   "metadata": {},
   "outputs": [],
   "source": [
    "df_apar_destino.head()"
   ]
  },
  {
   "cell_type": "markdown",
   "metadata": {},
   "source": [
    "Quando o Id_Aparcamiento_Destino tem valores NaN não conseguimos saber qual a estação de destino. Por essa razão esses dados não nos interessam pois não trazem informação ao modelo que irá ser construído. "
   ]
  },
  {
   "cell_type": "code",
   "execution_count": null,
   "metadata": {},
   "outputs": [],
   "source": [
    "df = df[df['Id_Aparcamiento_Destino'].notna()]"
   ]
  },
  {
   "cell_type": "markdown",
   "metadata": {},
   "source": [
    "***Calculating the usage duration of bicycles***"
   ]
  },
  {
   "cell_type": "code",
   "execution_count": null,
   "metadata": {},
   "outputs": [],
   "source": [
    "def duration (prestamo, devolucion):\n",
    "\n",
    "    start = datetime.datetime.strptime(prestamo[0:19], \"%Y-%m-%d %H:%M:%S\")\n",
    "    end = datetime.datetime.strptime(devolucion[0:19], \"%Y-%m-%d %H:%M:%S\")\n",
    "    time = end - start\n",
    "    seconds = time.total_seconds()\n",
    "\n",
    "    return seconds"
   ]
  },
  {
   "cell_type": "code",
   "execution_count": null,
   "metadata": {},
   "outputs": [],
   "source": [
    "df['Duration'] = df.apply(lambda x: duration(x['Fecha_Prestamo'],x['Fecha_Devolucion']),axis=1)"
   ]
  },
  {
   "cell_type": "markdown",
   "metadata": {},
   "source": [
    "***Removing data when the usage duration of bicycles is negative (which means that the day of prestamo is after the day of devolucion)***"
   ]
  },
  {
   "cell_type": "code",
   "execution_count": null,
   "metadata": {},
   "outputs": [],
   "source": [
    "df = df[df['Duration']>60]"
   ]
  },
  {
   "cell_type": "markdown",
   "metadata": {},
   "source": [
    "***Removing data before 2016 and after 2020***"
   ]
  },
  {
   "cell_type": "code",
   "execution_count": null,
   "metadata": {},
   "outputs": [],
   "source": [
    "def select_data_between(df, year_init, year_end):\n",
    "\n",
    "    df_list = []\n",
    "    increment = 1000000\n",
    "    for i in range(0,15000000, increment):\n",
    "        df_ = df.iloc[i:i+increment,:]\n",
    "        #creating column with the year of prestamo and devolucion\n",
    "        df_['Year_Prestamo'] = df_.apply(lambda x: year_(x['Fecha_Prestamo']),axis=1) \n",
    "        df_['Year_Devolucion'] = df_.apply(lambda x: year_(x['Fecha_Devolucion']),axis=1) \n",
    "        #removing years before year_init and after year_end\n",
    "        df_= df_[(df_['Year_Prestamo']>=year_init) & (df_['Year_Prestamo']<year_end)]\n",
    "        df_= df_[(df_['Year_Devolucion']>=year_init) & (df_['Year_Devolucion']<year_end)]\n",
    "        df_list.append(df_)\n",
    "\n",
    "    #creating cleaned dataframe\n",
    "    df_new_ = pd.DataFrame()\n",
    "    df_clean_ = df_new_.append(other=df_list,ignore_index=True)\n",
    "\n",
    "    return df_clean_\n",
    "\n",
    "df_clean_ = select_data_between(df, 2016, 2020)\n",
    "\n",
    "#confirming\n",
    "print(df_clean_['Year_Prestamo'].unique())\n",
    "print(df_clean_['Year_Devolucion'].unique())"
   ]
  },
  {
   "cell_type": "code",
   "execution_count": null,
   "metadata": {},
   "outputs": [],
   "source": [
    "df_clean_.head()"
   ]
  },
  {
   "cell_type": "markdown",
   "metadata": {},
   "source": [
    "***Encoding categorical features***"
   ]
  },
  {
   "cell_type": "code",
   "execution_count": null,
   "metadata": {},
   "outputs": [],
   "source": [
    "print('Number of NaN in column Id_Tag_Bicicleta: ', df_clean_['Id_Tag_Bicicleta'].isnull().sum())\n",
    "print('\\nNumber of NaN in column operario: ', df_clean_['operario'].isnull().sum())"
   ]
  },
  {
   "cell_type": "code",
   "execution_count": null,
   "metadata": {},
   "outputs": [],
   "source": [
    "operario_ = df_clean_['operario'].fillna(value='other')\n",
    "df_clean_['operario'] = operario_"
   ]
  },
  {
   "cell_type": "code",
   "execution_count": null,
   "metadata": {},
   "outputs": [],
   "source": [
    "enc, df_clean_ = encode_categorical_features(df_clean_, [\"Id_Tag_Bicicleta\", \"operario\"])\n",
    "df_clean_.head()"
   ]
  },
  {
   "cell_type": "code",
   "execution_count": null,
   "metadata": {},
   "outputs": [],
   "source": [
    "#Saving cleaned dataframe\n",
    "pickle.dump(df_clean_, open(path+'/'+\"df_clean\", \"wb\" ))"
   ]
  },
  {
   "cell_type": "code",
   "execution_count": null,
   "metadata": {},
   "outputs": [],
   "source": []
  },
  {
   "cell_type": "code",
   "execution_count": null,
   "metadata": {},
   "outputs": [],
   "source": []
  },
  {
   "cell_type": "code",
   "execution_count": null,
   "metadata": {},
   "outputs": [],
   "source": []
  },
  {
   "cell_type": "markdown",
   "metadata": {},
   "source": [
    "# Exploratory Data Analysis"
   ]
  },
  {
   "cell_type": "code",
   "execution_count": 3,
   "metadata": {},
   "outputs": [
    {
     "data": {
      "text/html": [
       "<div>\n",
       "<style scoped>\n",
       "    .dataframe tbody tr th:only-of-type {\n",
       "        vertical-align: middle;\n",
       "    }\n",
       "\n",
       "    .dataframe tbody tr th {\n",
       "        vertical-align: top;\n",
       "    }\n",
       "\n",
       "    .dataframe thead th {\n",
       "        text-align: right;\n",
       "    }\n",
       "</style>\n",
       "<table border=\"1\" class=\"dataframe\">\n",
       "  <thead>\n",
       "    <tr style=\"text-align: right;\">\n",
       "      <th></th>\n",
       "      <th>Loan ID</th>\n",
       "      <th>User ID</th>\n",
       "      <th>Tag ID</th>\n",
       "      <th>Start loan</th>\n",
       "      <th>End loan</th>\n",
       "      <th>ID start station</th>\n",
       "      <th>Position start</th>\n",
       "      <th>ID end station</th>\n",
       "      <th>Position end</th>\n",
       "      <th>year_prestamo</th>\n",
       "      <th>month_prestamo</th>\n",
       "      <th>day_prestamo</th>\n",
       "      <th>hour_prestamo</th>\n",
       "      <th>year_devolucion</th>\n",
       "      <th>month_devolucion</th>\n",
       "      <th>day_devolucion</th>\n",
       "      <th>hour_devolucion</th>\n",
       "      <th>duration_hour</th>\n",
       "      <th>Fecha_Prestamo_htruncate</th>\n",
       "    </tr>\n",
       "  </thead>\n",
       "  <tbody>\n",
       "    <tr>\n",
       "      <th>0</th>\n",
       "      <td>6501462</td>\n",
       "      <td>18701</td>\n",
       "      <td>1164</td>\n",
       "      <td>2017-06-21 14:22:11</td>\n",
       "      <td>2017-06-21 14:38:29</td>\n",
       "      <td>8</td>\n",
       "      <td>1</td>\n",
       "      <td>43.0</td>\n",
       "      <td>1.0</td>\n",
       "      <td>2017</td>\n",
       "      <td>6</td>\n",
       "      <td>21</td>\n",
       "      <td>14</td>\n",
       "      <td>2017</td>\n",
       "      <td>6</td>\n",
       "      <td>21</td>\n",
       "      <td>14</td>\n",
       "      <td>0.271667</td>\n",
       "      <td>2017-06-21 14:00:00</td>\n",
       "    </tr>\n",
       "    <tr>\n",
       "      <th>1</th>\n",
       "      <td>6501318</td>\n",
       "      <td>41811</td>\n",
       "      <td>1089</td>\n",
       "      <td>2017-06-21 14:07:18</td>\n",
       "      <td>2017-06-21 14:39:06</td>\n",
       "      <td>56</td>\n",
       "      <td>6</td>\n",
       "      <td>54.0</td>\n",
       "      <td>NaN</td>\n",
       "      <td>2017</td>\n",
       "      <td>6</td>\n",
       "      <td>21</td>\n",
       "      <td>14</td>\n",
       "      <td>2017</td>\n",
       "      <td>6</td>\n",
       "      <td>21</td>\n",
       "      <td>14</td>\n",
       "      <td>0.530000</td>\n",
       "      <td>2017-06-21 14:00:00</td>\n",
       "    </tr>\n",
       "    <tr>\n",
       "      <th>2</th>\n",
       "      <td>6501489</td>\n",
       "      <td>96620</td>\n",
       "      <td>1110</td>\n",
       "      <td>2017-06-21 14:25:11</td>\n",
       "      <td>2017-06-21 14:39:07</td>\n",
       "      <td>36</td>\n",
       "      <td>25</td>\n",
       "      <td>9.0</td>\n",
       "      <td>13.0</td>\n",
       "      <td>2017</td>\n",
       "      <td>6</td>\n",
       "      <td>21</td>\n",
       "      <td>14</td>\n",
       "      <td>2017</td>\n",
       "      <td>6</td>\n",
       "      <td>21</td>\n",
       "      <td>14</td>\n",
       "      <td>0.232222</td>\n",
       "      <td>2017-06-21 14:00:00</td>\n",
       "    </tr>\n",
       "    <tr>\n",
       "      <th>3</th>\n",
       "      <td>6501001</td>\n",
       "      <td>16055</td>\n",
       "      <td>1465</td>\n",
       "      <td>2017-06-21 13:35:52</td>\n",
       "      <td>2017-06-21 14:39:22</td>\n",
       "      <td>8</td>\n",
       "      <td>1</td>\n",
       "      <td>9.0</td>\n",
       "      <td>6.0</td>\n",
       "      <td>2017</td>\n",
       "      <td>6</td>\n",
       "      <td>21</td>\n",
       "      <td>13</td>\n",
       "      <td>2017</td>\n",
       "      <td>6</td>\n",
       "      <td>21</td>\n",
       "      <td>14</td>\n",
       "      <td>1.058333</td>\n",
       "      <td>2017-06-21 13:00:00</td>\n",
       "    </tr>\n",
       "    <tr>\n",
       "      <th>4</th>\n",
       "      <td>6501421</td>\n",
       "      <td>6431</td>\n",
       "      <td>996</td>\n",
       "      <td>2017-06-21 14:17:56</td>\n",
       "      <td>2017-06-21 14:39:26</td>\n",
       "      <td>56</td>\n",
       "      <td>14</td>\n",
       "      <td>54.0</td>\n",
       "      <td>NaN</td>\n",
       "      <td>2017</td>\n",
       "      <td>6</td>\n",
       "      <td>21</td>\n",
       "      <td>14</td>\n",
       "      <td>2017</td>\n",
       "      <td>6</td>\n",
       "      <td>21</td>\n",
       "      <td>14</td>\n",
       "      <td>0.358333</td>\n",
       "      <td>2017-06-21 14:00:00</td>\n",
       "    </tr>\n",
       "  </tbody>\n",
       "</table>\n",
       "</div>"
      ],
      "text/plain": [
       "   Loan ID  User ID  Tag ID          Start loan            End loan  \\\n",
       "0  6501462    18701    1164 2017-06-21 14:22:11 2017-06-21 14:38:29   \n",
       "1  6501318    41811    1089 2017-06-21 14:07:18 2017-06-21 14:39:06   \n",
       "2  6501489    96620    1110 2017-06-21 14:25:11 2017-06-21 14:39:07   \n",
       "3  6501001    16055    1465 2017-06-21 13:35:52 2017-06-21 14:39:22   \n",
       "4  6501421     6431     996 2017-06-21 14:17:56 2017-06-21 14:39:26   \n",
       "\n",
       "   ID start station  Position start  ID end station  Position end  \\\n",
       "0                 8               1            43.0           1.0   \n",
       "1                56               6            54.0           NaN   \n",
       "2                36              25             9.0          13.0   \n",
       "3                 8               1             9.0           6.0   \n",
       "4                56              14            54.0           NaN   \n",
       "\n",
       "   year_prestamo  month_prestamo  day_prestamo  hour_prestamo  \\\n",
       "0           2017               6            21             14   \n",
       "1           2017               6            21             14   \n",
       "2           2017               6            21             14   \n",
       "3           2017               6            21             13   \n",
       "4           2017               6            21             14   \n",
       "\n",
       "   year_devolucion  month_devolucion  day_devolucion  hour_devolucion  \\\n",
       "0             2017                 6              21               14   \n",
       "1             2017                 6              21               14   \n",
       "2             2017                 6              21               14   \n",
       "3             2017                 6              21               14   \n",
       "4             2017                 6              21               14   \n",
       "\n",
       "   duration_hour Fecha_Prestamo_htruncate  \n",
       "0       0.271667      2017-06-21 14:00:00  \n",
       "1       0.530000      2017-06-21 14:00:00  \n",
       "2       0.232222      2017-06-21 14:00:00  \n",
       "3       1.058333      2017-06-21 13:00:00  \n",
       "4       0.358333      2017-06-21 14:00:00  "
      ]
     },
     "execution_count": 3,
     "metadata": {},
     "output_type": "execute_result"
    }
   ],
   "source": [
    "def get_loans_clean(base):\n",
    "\n",
    "    df = pd.read_pickle(base + 'df_clean')[[\"Id_Historico_Prestamo\", \"Id_Usuario\", \"Id_Tag_Bicicleta\", \\\n",
    "            \"Fecha_Prestamo\", \"Fecha_Devolucion\", \"Id_Aparcamiento_Origen\", \"Posicion_Origen\", \\\n",
    "            \"Id_Aparcamiento_Destino\", \"Posicion_Destino\"]]\n",
    "    \n",
    "    # Rename columns\n",
    "    # The same bike can have multiple tags over the year.\n",
    "    df = df.rename(columns={\n",
    "        \"Id_Historico_Prestamo\": \"Loan ID\",\n",
    "        \"Id_Usuario\": \"User ID\",\n",
    "        \"Id_Tag_Bicicleta\": \"Tag ID\",\n",
    "        \"Fecha_Prestamo\": \"Start loan\",\n",
    "        \"Fecha_Devolucion\": \"End loan\",\n",
    "        \"Id_Aparcamiento_Origen\": \"ID start station\",\n",
    "        \"Posicion_Origen\": \"Position start\",\n",
    "        \"Id_Aparcamiento_Destino\": \"ID end station\",\n",
    "        \"Posicion_Destino\": \"Position end\"\n",
    "    })\n",
    "    \n",
    "    df[\"Start loan\"] = pd.to_datetime(df[\"Start loan\"], format='%Y-%m-%d %H:%M:%S.%f')\n",
    "    df[\"End loan\"] = pd.to_datetime(df[\"End loan\"], format='%Y-%m-%d %H:%M:%S.%f')\n",
    "    \n",
    "    # Auxiliar fields\n",
    "    df['year_prestamo'] = df[\"Start loan\"].dt.year\n",
    "    df['month_prestamo'] = df[\"Start loan\"].dt.month\n",
    "    df['day_prestamo'] = df[\"Start loan\"].dt.day\n",
    "    df['hour_prestamo'] = df[\"Start loan\"].dt.hour\n",
    "    \n",
    "    df['year_devolucion'] = df[\"End loan\"].dt.year\n",
    "    df['month_devolucion'] = df[\"End loan\"].dt.month\n",
    "    df['day_devolucion'] = df[\"End loan\"].dt.day\n",
    "    df['hour_devolucion'] = df[\"End loan\"].dt.hour\n",
    "    \n",
    "    df['duration_hour'] = (df[\"End loan\"]-df[\"Start loan\"]).dt.total_seconds().div(60*60)\n",
    "    df['Fecha_Prestamo_htruncate'] = df['Start loan'].dt.floor('h')\n",
    "        \n",
    "    return df\n",
    "\n",
    "df = get_loans_clean(base)\n",
    "df.head()"
   ]
  },
  {
   "cell_type": "markdown",
   "metadata": {},
   "source": [
    "Stations information"
   ]
  },
  {
   "cell_type": "markdown",
   "metadata": {},
   "source": [
    "## External data"
   ]
  },
  {
   "cell_type": "markdown",
   "metadata": {},
   "source": [
    "### Stations location"
   ]
  },
  {
   "cell_type": "code",
   "execution_count": 4,
   "metadata": {},
   "outputs": [
    {
     "data": {
      "text/html": [
       "<div>\n",
       "<style scoped>\n",
       "    .dataframe tbody tr th:only-of-type {\n",
       "        vertical-align: middle;\n",
       "    }\n",
       "\n",
       "    .dataframe tbody tr th {\n",
       "        vertical-align: top;\n",
       "    }\n",
       "\n",
       "    .dataframe thead th {\n",
       "        text-align: right;\n",
       "    }\n",
       "</style>\n",
       "<table border=\"1\" class=\"dataframe\">\n",
       "  <thead>\n",
       "    <tr style=\"text-align: right;\">\n",
       "      <th></th>\n",
       "      <th>ID</th>\n",
       "      <th>numSlots</th>\n",
       "      <th>isManual</th>\n",
       "    </tr>\n",
       "  </thead>\n",
       "  <tbody>\n",
       "    <tr>\n",
       "      <th>0</th>\n",
       "      <td>1</td>\n",
       "      <td>15</td>\n",
       "      <td>1</td>\n",
       "    </tr>\n",
       "    <tr>\n",
       "      <th>1</th>\n",
       "      <td>2</td>\n",
       "      <td>33</td>\n",
       "      <td>1</td>\n",
       "    </tr>\n",
       "    <tr>\n",
       "      <th>2</th>\n",
       "      <td>3</td>\n",
       "      <td>40</td>\n",
       "      <td>0</td>\n",
       "    </tr>\n",
       "    <tr>\n",
       "      <th>3</th>\n",
       "      <td>4</td>\n",
       "      <td>10</td>\n",
       "      <td>1</td>\n",
       "    </tr>\n",
       "    <tr>\n",
       "      <th>4</th>\n",
       "      <td>5</td>\n",
       "      <td>33</td>\n",
       "      <td>1</td>\n",
       "    </tr>\n",
       "  </tbody>\n",
       "</table>\n",
       "</div>"
      ],
      "text/plain": [
       "   ID  numSlots  isManual\n",
       "0   1        15         1\n",
       "1   2        33         1\n",
       "2   3        40         0\n",
       "3   4        10         1\n",
       "4   5        33         1"
      ]
     },
     "execution_count": 4,
     "metadata": {},
     "output_type": "execute_result"
    }
   ],
   "source": [
    "df_info = pd.read_csv(\"station_location_with_id.csv\", sep=';')[['ID','numSlots','isManual']]\n",
    "df_info.head()"
   ]
  },
  {
   "cell_type": "markdown",
   "metadata": {},
   "source": [
    "Ver a capacidade de armazenamento das estações automáticas. Quais são as estações automáticas com maior capacidade de armazenamento? Quais as com menor?"
   ]
  },
  {
   "cell_type": "code",
   "execution_count": 5,
   "metadata": {},
   "outputs": [
    {
     "data": {
      "image/png": "[encoded data removed]",
      "text/plain": [
       "<Figure size 1080x864 with 1 Axes>"
      ]
     },
     "metadata": {
      "needs_background": "light"
     },
     "output_type": "display_data"
    }
   ],
   "source": [
    "def capacity_per_station(_df):\n",
    "    df = _df.copy()\n",
    "    df[\"ID\"] = df[\"ID\"].astype(str)\n",
    "    df = df.sort_values(by=['numSlots'])\n",
    "    \n",
    "    fig, axs = plt.subplots(figsize=(15,12))\n",
    "    axs = sns.barplot(x=\"ID\", y=\"numSlots\", hue=\"isManual\", data=df)\n",
    "    plt.xticks(rotation=90)\n",
    "    plt.tight_layout()\n",
    "    plt.draw()\n",
    "    \n",
    "capacity_per_station(df_info)"
   ]
  },
  {
   "cell_type": "markdown",
   "metadata": {},
   "source": [
    "É possivel vizualizar que as estações manuais existem em menor quantidade que as automáticas..."
   ]
  },
  {
   "cell_type": "markdown",
   "metadata": {},
   "source": [
    "### Holidays"
   ]
  },
  {
   "cell_type": "code",
   "execution_count": 6,
   "metadata": {},
   "outputs": [
    {
     "data": {
      "text/html": [
       "<div>\n",
       "<style scoped>\n",
       "    .dataframe tbody tr th:only-of-type {\n",
       "        vertical-align: middle;\n",
       "    }\n",
       "\n",
       "    .dataframe tbody tr th {\n",
       "        vertical-align: top;\n",
       "    }\n",
       "\n",
       "    .dataframe thead th {\n",
       "        text-align: right;\n",
       "    }\n",
       "</style>\n",
       "<table border=\"1\" class=\"dataframe\">\n",
       "  <thead>\n",
       "    <tr style=\"text-align: right;\">\n",
       "      <th></th>\n",
       "      <th>DAY</th>\n",
       "      <th>DATE</th>\n",
       "      <th>HOLIDAY</th>\n",
       "    </tr>\n",
       "  </thead>\n",
       "  <tbody>\n",
       "    <tr>\n",
       "      <th>0</th>\n",
       "      <td>Friday</td>\n",
       "      <td>2016-01-01</td>\n",
       "      <td>New Year's Day</td>\n",
       "    </tr>\n",
       "    <tr>\n",
       "      <th>1</th>\n",
       "      <td>Monday</td>\n",
       "      <td>2016-01-11</td>\n",
       "      <td>Epiphany</td>\n",
       "    </tr>\n",
       "    <tr>\n",
       "      <th>2</th>\n",
       "      <td>Monday</td>\n",
       "      <td>2016-03-21</td>\n",
       "      <td>Saint Joseph's Day</td>\n",
       "    </tr>\n",
       "    <tr>\n",
       "      <th>3</th>\n",
       "      <td>Thursday</td>\n",
       "      <td>2016-03-24</td>\n",
       "      <td>Maundy Thursday</td>\n",
       "    </tr>\n",
       "    <tr>\n",
       "      <th>4</th>\n",
       "      <td>Friday</td>\n",
       "      <td>2016-03-25</td>\n",
       "      <td>Good Friday</td>\n",
       "    </tr>\n",
       "  </tbody>\n",
       "</table>\n",
       "</div>"
      ],
      "text/plain": [
       "        DAY        DATE             HOLIDAY\n",
       "0    Friday  2016-01-01      New Year's Day\n",
       "1    Monday  2016-01-11            Epiphany\n",
       "2    Monday  2016-03-21  Saint Joseph's Day\n",
       "3  Thursday  2016-03-24     Maundy Thursday\n",
       "4    Friday  2016-03-25         Good Friday"
      ]
     },
     "execution_count": 6,
     "metadata": {},
     "output_type": "execute_result"
    }
   ],
   "source": [
    "def get_holidays():\n",
    "    holidays16 = pd.read_excel('holidays_columbia.xlsx', sheet_name='2016')\n",
    "    holidays17 = pd.read_excel('holidays_columbia.xlsx', sheet_name='2017')\n",
    "    holidays18 = pd.read_excel('holidays_columbia.xlsx', sheet_name='2018')\n",
    "    holidays19 = pd.read_excel('holidays_columbia.xlsx', sheet_name='2019')\n",
    "    holidays = pd.concat([holidays16, holidays17, holidays18, holidays19])\n",
    "    return holidays\n",
    "\n",
    "holidays = get_holidays()\n",
    "holidays.head()"
   ]
  },
  {
   "cell_type": "code",
   "execution_count": 7,
   "metadata": {},
   "outputs": [
    {
     "data": {
      "text/html": [
       "<div>\n",
       "<style scoped>\n",
       "    .dataframe tbody tr th:only-of-type {\n",
       "        vertical-align: middle;\n",
       "    }\n",
       "\n",
       "    .dataframe tbody tr th {\n",
       "        vertical-align: top;\n",
       "    }\n",
       "\n",
       "    .dataframe thead th {\n",
       "        text-align: right;\n",
       "    }\n",
       "</style>\n",
       "<table border=\"1\" class=\"dataframe\">\n",
       "  <thead>\n",
       "    <tr style=\"text-align: right;\">\n",
       "      <th></th>\n",
       "      <th>Loan ID</th>\n",
       "      <th>User ID</th>\n",
       "      <th>Tag ID</th>\n",
       "      <th>Start loan</th>\n",
       "      <th>End loan</th>\n",
       "      <th>ID start station</th>\n",
       "      <th>Position start</th>\n",
       "      <th>ID end station</th>\n",
       "      <th>Position end</th>\n",
       "      <th>year_prestamo</th>\n",
       "      <th>month_prestamo</th>\n",
       "      <th>day_prestamo</th>\n",
       "      <th>hour_prestamo</th>\n",
       "      <th>year_devolucion</th>\n",
       "      <th>month_devolucion</th>\n",
       "      <th>day_devolucion</th>\n",
       "      <th>hour_devolucion</th>\n",
       "      <th>duration_hour</th>\n",
       "      <th>Fecha_Prestamo_htruncate</th>\n",
       "    </tr>\n",
       "  </thead>\n",
       "  <tbody>\n",
       "    <tr>\n",
       "      <th>0</th>\n",
       "      <td>6501462</td>\n",
       "      <td>18701</td>\n",
       "      <td>1164</td>\n",
       "      <td>2017-06-21 14:22:11</td>\n",
       "      <td>2017-06-21 14:38:29</td>\n",
       "      <td>8</td>\n",
       "      <td>1</td>\n",
       "      <td>43.0</td>\n",
       "      <td>1.0</td>\n",
       "      <td>2017</td>\n",
       "      <td>6</td>\n",
       "      <td>21</td>\n",
       "      <td>14</td>\n",
       "      <td>2017</td>\n",
       "      <td>6</td>\n",
       "      <td>21</td>\n",
       "      <td>14</td>\n",
       "      <td>0.271667</td>\n",
       "      <td>2017-06-21 14:00:00</td>\n",
       "    </tr>\n",
       "    <tr>\n",
       "      <th>1</th>\n",
       "      <td>6501318</td>\n",
       "      <td>41811</td>\n",
       "      <td>1089</td>\n",
       "      <td>2017-06-21 14:07:18</td>\n",
       "      <td>2017-06-21 14:39:06</td>\n",
       "      <td>56</td>\n",
       "      <td>6</td>\n",
       "      <td>54.0</td>\n",
       "      <td>NaN</td>\n",
       "      <td>2017</td>\n",
       "      <td>6</td>\n",
       "      <td>21</td>\n",
       "      <td>14</td>\n",
       "      <td>2017</td>\n",
       "      <td>6</td>\n",
       "      <td>21</td>\n",
       "      <td>14</td>\n",
       "      <td>0.530000</td>\n",
       "      <td>2017-06-21 14:00:00</td>\n",
       "    </tr>\n",
       "    <tr>\n",
       "      <th>2</th>\n",
       "      <td>6501489</td>\n",
       "      <td>96620</td>\n",
       "      <td>1110</td>\n",
       "      <td>2017-06-21 14:25:11</td>\n",
       "      <td>2017-06-21 14:39:07</td>\n",
       "      <td>36</td>\n",
       "      <td>25</td>\n",
       "      <td>9.0</td>\n",
       "      <td>13.0</td>\n",
       "      <td>2017</td>\n",
       "      <td>6</td>\n",
       "      <td>21</td>\n",
       "      <td>14</td>\n",
       "      <td>2017</td>\n",
       "      <td>6</td>\n",
       "      <td>21</td>\n",
       "      <td>14</td>\n",
       "      <td>0.232222</td>\n",
       "      <td>2017-06-21 14:00:00</td>\n",
       "    </tr>\n",
       "    <tr>\n",
       "      <th>3</th>\n",
       "      <td>6501001</td>\n",
       "      <td>16055</td>\n",
       "      <td>1465</td>\n",
       "      <td>2017-06-21 13:35:52</td>\n",
       "      <td>2017-06-21 14:39:22</td>\n",
       "      <td>8</td>\n",
       "      <td>1</td>\n",
       "      <td>9.0</td>\n",
       "      <td>6.0</td>\n",
       "      <td>2017</td>\n",
       "      <td>6</td>\n",
       "      <td>21</td>\n",
       "      <td>13</td>\n",
       "      <td>2017</td>\n",
       "      <td>6</td>\n",
       "      <td>21</td>\n",
       "      <td>14</td>\n",
       "      <td>1.058333</td>\n",
       "      <td>2017-06-21 13:00:00</td>\n",
       "    </tr>\n",
       "    <tr>\n",
       "      <th>4</th>\n",
       "      <td>6501421</td>\n",
       "      <td>6431</td>\n",
       "      <td>996</td>\n",
       "      <td>2017-06-21 14:17:56</td>\n",
       "      <td>2017-06-21 14:39:26</td>\n",
       "      <td>56</td>\n",
       "      <td>14</td>\n",
       "      <td>54.0</td>\n",
       "      <td>NaN</td>\n",
       "      <td>2017</td>\n",
       "      <td>6</td>\n",
       "      <td>21</td>\n",
       "      <td>14</td>\n",
       "      <td>2017</td>\n",
       "      <td>6</td>\n",
       "      <td>21</td>\n",
       "      <td>14</td>\n",
       "      <td>0.358333</td>\n",
       "      <td>2017-06-21 14:00:00</td>\n",
       "    </tr>\n",
       "  </tbody>\n",
       "</table>\n",
       "</div>"
      ],
      "text/plain": [
       "   Loan ID  User ID  Tag ID          Start loan            End loan  \\\n",
       "0  6501462    18701    1164 2017-06-21 14:22:11 2017-06-21 14:38:29   \n",
       "1  6501318    41811    1089 2017-06-21 14:07:18 2017-06-21 14:39:06   \n",
       "2  6501489    96620    1110 2017-06-21 14:25:11 2017-06-21 14:39:07   \n",
       "3  6501001    16055    1465 2017-06-21 13:35:52 2017-06-21 14:39:22   \n",
       "4  6501421     6431     996 2017-06-21 14:17:56 2017-06-21 14:39:26   \n",
       "\n",
       "   ID start station  Position start  ID end station  Position end  \\\n",
       "0                 8               1            43.0           1.0   \n",
       "1                56               6            54.0           NaN   \n",
       "2                36              25             9.0          13.0   \n",
       "3                 8               1             9.0           6.0   \n",
       "4                56              14            54.0           NaN   \n",
       "\n",
       "   year_prestamo  month_prestamo  day_prestamo  hour_prestamo  \\\n",
       "0           2017               6            21             14   \n",
       "1           2017               6            21             14   \n",
       "2           2017               6            21             14   \n",
       "3           2017               6            21             13   \n",
       "4           2017               6            21             14   \n",
       "\n",
       "   year_devolucion  month_devolucion  day_devolucion  hour_devolucion  \\\n",
       "0             2017                 6              21               14   \n",
       "1             2017                 6              21               14   \n",
       "2             2017                 6              21               14   \n",
       "3             2017                 6              21               14   \n",
       "4             2017                 6              21               14   \n",
       "\n",
       "   duration_hour Fecha_Prestamo_htruncate  \n",
       "0       0.271667      2017-06-21 14:00:00  \n",
       "1       0.530000      2017-06-21 14:00:00  \n",
       "2       0.232222      2017-06-21 14:00:00  \n",
       "3       1.058333      2017-06-21 13:00:00  \n",
       "4       0.358333      2017-06-21 14:00:00  "
      ]
     },
     "execution_count": 7,
     "metadata": {},
     "output_type": "execute_result"
    }
   ],
   "source": [
    "df.head()"
   ]
  },
  {
   "cell_type": "code",
   "execution_count": 8,
   "metadata": {},
   "outputs": [
    {
     "name": "stdout",
     "output_type": "stream",
     "text": [
      "Error in callback <function flush_figures at 0x7f2e6b49f830> (for post_execute):\n"
     ]
    },
    {
     "ename": "KeyboardInterrupt",
     "evalue": "",
     "output_type": "error",
     "traceback": [
      "\u001b[0;31m---------------------------------------------------------------------------\u001b[0m",
      "\u001b[0;31mKeyboardInterrupt\u001b[0m                         Traceback (most recent call last)",
      "\u001b[0;32m~/anaconda3/envs/data_analysis/lib/python3.7/site-packages/ipykernel/pylab/backend_inline.py\u001b[0m in \u001b[0;36mflush_figures\u001b[0;34m()\u001b[0m\n\u001b[1;32m    115\u001b[0m         \u001b[0;31m# ignore the tracking, just draw and close all figures\u001b[0m\u001b[0;34m\u001b[0m\u001b[0;34m\u001b[0m\u001b[0;34m\u001b[0m\u001b[0m\n\u001b[1;32m    116\u001b[0m         \u001b[0;32mtry\u001b[0m\u001b[0;34m:\u001b[0m\u001b[0;34m\u001b[0m\u001b[0;34m\u001b[0m\u001b[0m\n\u001b[0;32m--> 117\u001b[0;31m             \u001b[0;32mreturn\u001b[0m \u001b[0mshow\u001b[0m\u001b[0;34m(\u001b[0m\u001b[0;32mTrue\u001b[0m\u001b[0;34m)\u001b[0m\u001b[0;34m\u001b[0m\u001b[0;34m\u001b[0m\u001b[0m\n\u001b[0m\u001b[1;32m    118\u001b[0m         \u001b[0;32mexcept\u001b[0m \u001b[0mException\u001b[0m \u001b[0;32mas\u001b[0m \u001b[0me\u001b[0m\u001b[0;34m:\u001b[0m\u001b[0;34m\u001b[0m\u001b[0;34m\u001b[0m\u001b[0m\n\u001b[1;32m    119\u001b[0m             \u001b[0;31m# safely show traceback if in IPython, else raise\u001b[0m\u001b[0;34m\u001b[0m\u001b[0;34m\u001b[0m\u001b[0;34m\u001b[0m\u001b[0m\n",
      "\u001b[0;32m~/anaconda3/envs/data_analysis/lib/python3.7/site-packages/ipykernel/pylab/backend_inline.py\u001b[0m in \u001b[0;36mshow\u001b[0;34m(close, block)\u001b[0m\n\u001b[1;32m     37\u001b[0m             display(\n\u001b[1;32m     38\u001b[0m                 \u001b[0mfigure_manager\u001b[0m\u001b[0;34m.\u001b[0m\u001b[0mcanvas\u001b[0m\u001b[0;34m.\u001b[0m\u001b[0mfigure\u001b[0m\u001b[0;34m,\u001b[0m\u001b[0;34m\u001b[0m\u001b[0;34m\u001b[0m\u001b[0m\n\u001b[0;32m---> 39\u001b[0;31m                 \u001b[0mmetadata\u001b[0m\u001b[0;34m=\u001b[0m\u001b[0m_fetch_figure_metadata\u001b[0m\u001b[0;34m(\u001b[0m\u001b[0mfigure_manager\u001b[0m\u001b[0;34m.\u001b[0m\u001b[0mcanvas\u001b[0m\u001b[0;34m.\u001b[0m\u001b[0mfigure\u001b[0m\u001b[0;34m)\u001b[0m\u001b[0;34m\u001b[0m\u001b[0;34m\u001b[0m\u001b[0m\n\u001b[0m\u001b[1;32m     40\u001b[0m             )\n\u001b[1;32m     41\u001b[0m     \u001b[0;32mfinally\u001b[0m\u001b[0;34m:\u001b[0m\u001b[0;34m\u001b[0m\u001b[0;34m\u001b[0m\u001b[0m\n",
      "\u001b[0;32m~/anaconda3/envs/data_analysis/lib/python3.7/site-packages/IPython/core/display.py\u001b[0m in \u001b[0;36mdisplay\u001b[0;34m(include, exclude, metadata, transient, display_id, *objs, **kwargs)\u001b[0m\n\u001b[1;32m    311\u001b[0m             \u001b[0mpublish_display_data\u001b[0m\u001b[0;34m(\u001b[0m\u001b[0mdata\u001b[0m\u001b[0;34m=\u001b[0m\u001b[0mobj\u001b[0m\u001b[0;34m,\u001b[0m \u001b[0mmetadata\u001b[0m\u001b[0;34m=\u001b[0m\u001b[0mmetadata\u001b[0m\u001b[0;34m,\u001b[0m \u001b[0;34m**\u001b[0m\u001b[0mkwargs\u001b[0m\u001b[0;34m)\u001b[0m\u001b[0;34m\u001b[0m\u001b[0;34m\u001b[0m\u001b[0m\n\u001b[1;32m    312\u001b[0m         \u001b[0;32melse\u001b[0m\u001b[0;34m:\u001b[0m\u001b[0;34m\u001b[0m\u001b[0;34m\u001b[0m\u001b[0m\n\u001b[0;32m--> 313\u001b[0;31m             \u001b[0mformat_dict\u001b[0m\u001b[0;34m,\u001b[0m \u001b[0mmd_dict\u001b[0m \u001b[0;34m=\u001b[0m \u001b[0mformat\u001b[0m\u001b[0;34m(\u001b[0m\u001b[0mobj\u001b[0m\u001b[0;34m,\u001b[0m \u001b[0minclude\u001b[0m\u001b[0;34m=\u001b[0m\u001b[0minclude\u001b[0m\u001b[0;34m,\u001b[0m \u001b[0mexclude\u001b[0m\u001b[0;34m=\u001b[0m\u001b[0mexclude\u001b[0m\u001b[0;34m)\u001b[0m\u001b[0;34m\u001b[0m\u001b[0;34m\u001b[0m\u001b[0m\n\u001b[0m\u001b[1;32m    314\u001b[0m             \u001b[0;32mif\u001b[0m \u001b[0;32mnot\u001b[0m \u001b[0mformat_dict\u001b[0m\u001b[0;34m:\u001b[0m\u001b[0;34m\u001b[0m\u001b[0;34m\u001b[0m\u001b[0m\n\u001b[1;32m    315\u001b[0m                 \u001b[0;31m# nothing to display (e.g. _ipython_display_ took over)\u001b[0m\u001b[0;34m\u001b[0m\u001b[0;34m\u001b[0m\u001b[0;34m\u001b[0m\u001b[0m\n",
      "\u001b[0;32m~/anaconda3/envs/data_analysis/lib/python3.7/site-packages/IPython/core/formatters.py\u001b[0m in \u001b[0;36mformat\u001b[0;34m(self, obj, include, exclude)\u001b[0m\n\u001b[1;32m    178\u001b[0m             \u001b[0mmd\u001b[0m \u001b[0;34m=\u001b[0m \u001b[0;32mNone\u001b[0m\u001b[0;34m\u001b[0m\u001b[0;34m\u001b[0m\u001b[0m\n\u001b[1;32m    179\u001b[0m             \u001b[0;32mtry\u001b[0m\u001b[0;34m:\u001b[0m\u001b[0;34m\u001b[0m\u001b[0;34m\u001b[0m\u001b[0m\n\u001b[0;32m--> 180\u001b[0;31m                 \u001b[0mdata\u001b[0m \u001b[0;34m=\u001b[0m \u001b[0mformatter\u001b[0m\u001b[0;34m(\u001b[0m\u001b[0mobj\u001b[0m\u001b[0;34m)\u001b[0m\u001b[0;34m\u001b[0m\u001b[0;34m\u001b[0m\u001b[0m\n\u001b[0m\u001b[1;32m    181\u001b[0m             \u001b[0;32mexcept\u001b[0m\u001b[0;34m:\u001b[0m\u001b[0;34m\u001b[0m\u001b[0;34m\u001b[0m\u001b[0m\n\u001b[1;32m    182\u001b[0m                 \u001b[0;31m# FIXME: log the exception\u001b[0m\u001b[0;34m\u001b[0m\u001b[0;34m\u001b[0m\u001b[0;34m\u001b[0m\u001b[0m\n",
      "\u001b[0;32m</home/ana/anaconda3/envs/data_analysis/lib/python3.7/site-packages/decorator.py:decorator-gen-9>\u001b[0m in \u001b[0;36m__call__\u001b[0;34m(self, obj)\u001b[0m\n",
      "\u001b[0;32m~/anaconda3/envs/data_analysis/lib/python3.7/site-packages/IPython/core/formatters.py\u001b[0m in \u001b[0;36mcatch_format_error\u001b[0;34m(method, self, *args, **kwargs)\u001b[0m\n\u001b[1;32m    222\u001b[0m     \u001b[0;34m\"\"\"show traceback on failed format call\"\"\"\u001b[0m\u001b[0;34m\u001b[0m\u001b[0;34m\u001b[0m\u001b[0m\n\u001b[1;32m    223\u001b[0m     \u001b[0;32mtry\u001b[0m\u001b[0;34m:\u001b[0m\u001b[0;34m\u001b[0m\u001b[0;34m\u001b[0m\u001b[0m\n\u001b[0;32m--> 224\u001b[0;31m         \u001b[0mr\u001b[0m \u001b[0;34m=\u001b[0m \u001b[0mmethod\u001b[0m\u001b[0;34m(\u001b[0m\u001b[0mself\u001b[0m\u001b[0;34m,\u001b[0m \u001b[0;34m*\u001b[0m\u001b[0margs\u001b[0m\u001b[0;34m,\u001b[0m \u001b[0;34m**\u001b[0m\u001b[0mkwargs\u001b[0m\u001b[0;34m)\u001b[0m\u001b[0;34m\u001b[0m\u001b[0;34m\u001b[0m\u001b[0m\n\u001b[0m\u001b[1;32m    225\u001b[0m     \u001b[0;32mexcept\u001b[0m \u001b[0mNotImplementedError\u001b[0m\u001b[0;34m:\u001b[0m\u001b[0;34m\u001b[0m\u001b[0;34m\u001b[0m\u001b[0m\n\u001b[1;32m    226\u001b[0m         \u001b[0;31m# don't warn on NotImplementedErrors\u001b[0m\u001b[0;34m\u001b[0m\u001b[0;34m\u001b[0m\u001b[0;34m\u001b[0m\u001b[0m\n",
      "\u001b[0;32m~/anaconda3/envs/data_analysis/lib/python3.7/site-packages/IPython/core/formatters.py\u001b[0m in \u001b[0;36m__call__\u001b[0;34m(self, obj)\u001b[0m\n\u001b[1;32m    339\u001b[0m                 \u001b[0;32mpass\u001b[0m\u001b[0;34m\u001b[0m\u001b[0;34m\u001b[0m\u001b[0m\n\u001b[1;32m    340\u001b[0m             \u001b[0;32melse\u001b[0m\u001b[0;34m:\u001b[0m\u001b[0;34m\u001b[0m\u001b[0;34m\u001b[0m\u001b[0m\n\u001b[0;32m--> 341\u001b[0;31m                 \u001b[0;32mreturn\u001b[0m \u001b[0mprinter\u001b[0m\u001b[0;34m(\u001b[0m\u001b[0mobj\u001b[0m\u001b[0;34m)\u001b[0m\u001b[0;34m\u001b[0m\u001b[0;34m\u001b[0m\u001b[0m\n\u001b[0m\u001b[1;32m    342\u001b[0m             \u001b[0;31m# Finally look for special method names\u001b[0m\u001b[0;34m\u001b[0m\u001b[0;34m\u001b[0m\u001b[0;34m\u001b[0m\u001b[0m\n\u001b[1;32m    343\u001b[0m             \u001b[0mmethod\u001b[0m \u001b[0;34m=\u001b[0m \u001b[0mget_real_method\u001b[0m\u001b[0;34m(\u001b[0m\u001b[0mobj\u001b[0m\u001b[0;34m,\u001b[0m \u001b[0mself\u001b[0m\u001b[0;34m.\u001b[0m\u001b[0mprint_method\u001b[0m\u001b[0;34m)\u001b[0m\u001b[0;34m\u001b[0m\u001b[0;34m\u001b[0m\u001b[0m\n",
      "\u001b[0;32m~/anaconda3/envs/data_analysis/lib/python3.7/site-packages/IPython/core/pylabtools.py\u001b[0m in \u001b[0;36m<lambda>\u001b[0;34m(fig)\u001b[0m\n\u001b[1;32m    242\u001b[0m \u001b[0;34m\u001b[0m\u001b[0m\n\u001b[1;32m    243\u001b[0m     \u001b[0;32mif\u001b[0m \u001b[0;34m'png'\u001b[0m \u001b[0;32min\u001b[0m \u001b[0mformats\u001b[0m\u001b[0;34m:\u001b[0m\u001b[0;34m\u001b[0m\u001b[0;34m\u001b[0m\u001b[0m\n\u001b[0;32m--> 244\u001b[0;31m         \u001b[0mpng_formatter\u001b[0m\u001b[0;34m.\u001b[0m\u001b[0mfor_type\u001b[0m\u001b[0;34m(\u001b[0m\u001b[0mFigure\u001b[0m\u001b[0;34m,\u001b[0m \u001b[0;32mlambda\u001b[0m \u001b[0mfig\u001b[0m\u001b[0;34m:\u001b[0m \u001b[0mprint_figure\u001b[0m\u001b[0;34m(\u001b[0m\u001b[0mfig\u001b[0m\u001b[0;34m,\u001b[0m \u001b[0;34m'png'\u001b[0m\u001b[0;34m,\u001b[0m \u001b[0;34m**\u001b[0m\u001b[0mkwargs\u001b[0m\u001b[0;34m)\u001b[0m\u001b[0;34m)\u001b[0m\u001b[0;34m\u001b[0m\u001b[0;34m\u001b[0m\u001b[0m\n\u001b[0m\u001b[1;32m    245\u001b[0m     \u001b[0;32mif\u001b[0m \u001b[0;34m'retina'\u001b[0m \u001b[0;32min\u001b[0m \u001b[0mformats\u001b[0m \u001b[0;32mor\u001b[0m \u001b[0;34m'png2x'\u001b[0m \u001b[0;32min\u001b[0m \u001b[0mformats\u001b[0m\u001b[0;34m:\u001b[0m\u001b[0;34m\u001b[0m\u001b[0;34m\u001b[0m\u001b[0m\n\u001b[1;32m    246\u001b[0m         \u001b[0mpng_formatter\u001b[0m\u001b[0;34m.\u001b[0m\u001b[0mfor_type\u001b[0m\u001b[0;34m(\u001b[0m\u001b[0mFigure\u001b[0m\u001b[0;34m,\u001b[0m \u001b[0;32mlambda\u001b[0m \u001b[0mfig\u001b[0m\u001b[0;34m:\u001b[0m \u001b[0mretina_figure\u001b[0m\u001b[0;34m(\u001b[0m\u001b[0mfig\u001b[0m\u001b[0;34m,\u001b[0m \u001b[0;34m**\u001b[0m\u001b[0mkwargs\u001b[0m\u001b[0;34m)\u001b[0m\u001b[0;34m)\u001b[0m\u001b[0;34m\u001b[0m\u001b[0;34m\u001b[0m\u001b[0m\n",
      "\u001b[0;32m~/anaconda3/envs/data_analysis/lib/python3.7/site-packages/IPython/core/pylabtools.py\u001b[0m in \u001b[0;36mprint_figure\u001b[0;34m(fig, fmt, bbox_inches, **kwargs)\u001b[0m\n\u001b[1;32m    126\u001b[0m \u001b[0;34m\u001b[0m\u001b[0m\n\u001b[1;32m    127\u001b[0m     \u001b[0mbytes_io\u001b[0m \u001b[0;34m=\u001b[0m \u001b[0mBytesIO\u001b[0m\u001b[0;34m(\u001b[0m\u001b[0;34m)\u001b[0m\u001b[0;34m\u001b[0m\u001b[0;34m\u001b[0m\u001b[0m\n\u001b[0;32m--> 128\u001b[0;31m     \u001b[0mfig\u001b[0m\u001b[0;34m.\u001b[0m\u001b[0mcanvas\u001b[0m\u001b[0;34m.\u001b[0m\u001b[0mprint_figure\u001b[0m\u001b[0;34m(\u001b[0m\u001b[0mbytes_io\u001b[0m\u001b[0;34m,\u001b[0m \u001b[0;34m**\u001b[0m\u001b[0mkw\u001b[0m\u001b[0;34m)\u001b[0m\u001b[0;34m\u001b[0m\u001b[0;34m\u001b[0m\u001b[0m\n\u001b[0m\u001b[1;32m    129\u001b[0m     \u001b[0mdata\u001b[0m \u001b[0;34m=\u001b[0m \u001b[0mbytes_io\u001b[0m\u001b[0;34m.\u001b[0m\u001b[0mgetvalue\u001b[0m\u001b[0;34m(\u001b[0m\u001b[0;34m)\u001b[0m\u001b[0;34m\u001b[0m\u001b[0;34m\u001b[0m\u001b[0m\n\u001b[1;32m    130\u001b[0m     \u001b[0;32mif\u001b[0m \u001b[0mfmt\u001b[0m \u001b[0;34m==\u001b[0m \u001b[0;34m'svg'\u001b[0m\u001b[0;34m:\u001b[0m\u001b[0;34m\u001b[0m\u001b[0;34m\u001b[0m\u001b[0m\n",
      "\u001b[0;32m~/anaconda3/envs/data_analysis/lib/python3.7/site-packages/matplotlib/backend_bases.py\u001b[0m in \u001b[0;36mprint_figure\u001b[0;34m(self, filename, dpi, facecolor, edgecolor, orientation, format, bbox_inches, pad_inches, bbox_extra_artists, backend, **kwargs)\u001b[0m\n\u001b[1;32m   2215\u001b[0m                     \u001b[0morientation\u001b[0m\u001b[0;34m=\u001b[0m\u001b[0morientation\u001b[0m\u001b[0;34m,\u001b[0m\u001b[0;34m\u001b[0m\u001b[0;34m\u001b[0m\u001b[0m\n\u001b[1;32m   2216\u001b[0m                     \u001b[0mbbox_inches_restore\u001b[0m\u001b[0;34m=\u001b[0m\u001b[0m_bbox_inches_restore\u001b[0m\u001b[0;34m,\u001b[0m\u001b[0;34m\u001b[0m\u001b[0;34m\u001b[0m\u001b[0m\n\u001b[0;32m-> 2217\u001b[0;31m                     **kwargs)\n\u001b[0m\u001b[1;32m   2218\u001b[0m             \u001b[0;32mfinally\u001b[0m\u001b[0;34m:\u001b[0m\u001b[0;34m\u001b[0m\u001b[0;34m\u001b[0m\u001b[0m\n\u001b[1;32m   2219\u001b[0m                 \u001b[0;32mif\u001b[0m \u001b[0mbbox_inches\u001b[0m \u001b[0;32mand\u001b[0m \u001b[0mrestore_bbox\u001b[0m\u001b[0;34m:\u001b[0m\u001b[0;34m\u001b[0m\u001b[0;34m\u001b[0m\u001b[0m\n",
      "\u001b[0;32m~/anaconda3/envs/data_analysis/lib/python3.7/site-packages/matplotlib/backend_bases.py\u001b[0m in \u001b[0;36mwrapper\u001b[0;34m(*args, **kwargs)\u001b[0m\n\u001b[1;32m   1637\u001b[0m             \u001b[0mkwargs\u001b[0m\u001b[0;34m.\u001b[0m\u001b[0mpop\u001b[0m\u001b[0;34m(\u001b[0m\u001b[0marg\u001b[0m\u001b[0;34m)\u001b[0m\u001b[0;34m\u001b[0m\u001b[0;34m\u001b[0m\u001b[0m\n\u001b[1;32m   1638\u001b[0m \u001b[0;34m\u001b[0m\u001b[0m\n\u001b[0;32m-> 1639\u001b[0;31m         \u001b[0;32mreturn\u001b[0m \u001b[0mfunc\u001b[0m\u001b[0;34m(\u001b[0m\u001b[0;34m*\u001b[0m\u001b[0margs\u001b[0m\u001b[0;34m,\u001b[0m \u001b[0;34m**\u001b[0m\u001b[0mkwargs\u001b[0m\u001b[0;34m)\u001b[0m\u001b[0;34m\u001b[0m\u001b[0;34m\u001b[0m\u001b[0m\n\u001b[0m\u001b[1;32m   1640\u001b[0m \u001b[0;34m\u001b[0m\u001b[0m\n\u001b[1;32m   1641\u001b[0m     \u001b[0;32mreturn\u001b[0m \u001b[0mwrapper\u001b[0m\u001b[0;34m\u001b[0m\u001b[0;34m\u001b[0m\u001b[0m\n",
      "\u001b[0;32m~/anaconda3/envs/data_analysis/lib/python3.7/site-packages/matplotlib/backends/backend_agg.py\u001b[0m in \u001b[0;36mprint_png\u001b[0;34m(self, filename_or_obj, metadata, pil_kwargs, *args)\u001b[0m\n\u001b[1;32m    507\u001b[0m             \u001b[0;34m*\u001b[0m\u001b[0mmetadata\u001b[0m\u001b[0;34m*\u001b[0m\u001b[0;34m,\u001b[0m \u001b[0mincluding\u001b[0m \u001b[0mthe\u001b[0m \u001b[0mdefault\u001b[0m \u001b[0;34m'Software'\u001b[0m \u001b[0mkey\u001b[0m\u001b[0;34m.\u001b[0m\u001b[0;34m\u001b[0m\u001b[0;34m\u001b[0m\u001b[0m\n\u001b[1;32m    508\u001b[0m         \"\"\"\n\u001b[0;32m--> 509\u001b[0;31m         \u001b[0mFigureCanvasAgg\u001b[0m\u001b[0;34m.\u001b[0m\u001b[0mdraw\u001b[0m\u001b[0;34m(\u001b[0m\u001b[0mself\u001b[0m\u001b[0;34m)\u001b[0m\u001b[0;34m\u001b[0m\u001b[0;34m\u001b[0m\u001b[0m\n\u001b[0m\u001b[1;32m    510\u001b[0m         mpl.image.imsave(\n\u001b[1;32m    511\u001b[0m             \u001b[0mfilename_or_obj\u001b[0m\u001b[0;34m,\u001b[0m \u001b[0mself\u001b[0m\u001b[0;34m.\u001b[0m\u001b[0mbuffer_rgba\u001b[0m\u001b[0;34m(\u001b[0m\u001b[0;34m)\u001b[0m\u001b[0;34m,\u001b[0m \u001b[0mformat\u001b[0m\u001b[0;34m=\u001b[0m\u001b[0;34m\"png\"\u001b[0m\u001b[0;34m,\u001b[0m \u001b[0morigin\u001b[0m\u001b[0;34m=\u001b[0m\u001b[0;34m\"upper\"\u001b[0m\u001b[0;34m,\u001b[0m\u001b[0;34m\u001b[0m\u001b[0;34m\u001b[0m\u001b[0m\n",
      "\u001b[0;32m~/anaconda3/envs/data_analysis/lib/python3.7/site-packages/matplotlib/backends/backend_agg.py\u001b[0m in \u001b[0;36mdraw\u001b[0;34m(self)\u001b[0m\n\u001b[1;32m    405\u001b[0m              (self.toolbar._wait_cursor_for_draw_cm() if self.toolbar\n\u001b[1;32m    406\u001b[0m               else nullcontext()):\n\u001b[0;32m--> 407\u001b[0;31m             \u001b[0mself\u001b[0m\u001b[0;34m.\u001b[0m\u001b[0mfigure\u001b[0m\u001b[0;34m.\u001b[0m\u001b[0mdraw\u001b[0m\u001b[0;34m(\u001b[0m\u001b[0mself\u001b[0m\u001b[0;34m.\u001b[0m\u001b[0mrenderer\u001b[0m\u001b[0;34m)\u001b[0m\u001b[0;34m\u001b[0m\u001b[0;34m\u001b[0m\u001b[0m\n\u001b[0m\u001b[1;32m    408\u001b[0m             \u001b[0;31m# A GUI class may be need to update a window using this draw, so\u001b[0m\u001b[0;34m\u001b[0m\u001b[0;34m\u001b[0m\u001b[0;34m\u001b[0m\u001b[0m\n\u001b[1;32m    409\u001b[0m             \u001b[0;31m# don't forget to call the superclass.\u001b[0m\u001b[0;34m\u001b[0m\u001b[0;34m\u001b[0m\u001b[0;34m\u001b[0m\u001b[0m\n",
      "\u001b[0;32m~/anaconda3/envs/data_analysis/lib/python3.7/site-packages/matplotlib/artist.py\u001b[0m in \u001b[0;36mdraw_wrapper\u001b[0;34m(artist, renderer, *args, **kwargs)\u001b[0m\n\u001b[1;32m     39\u001b[0m                 \u001b[0mrenderer\u001b[0m\u001b[0;34m.\u001b[0m\u001b[0mstart_filter\u001b[0m\u001b[0;34m(\u001b[0m\u001b[0;34m)\u001b[0m\u001b[0;34m\u001b[0m\u001b[0;34m\u001b[0m\u001b[0m\n\u001b[1;32m     40\u001b[0m \u001b[0;34m\u001b[0m\u001b[0m\n\u001b[0;32m---> 41\u001b[0;31m             \u001b[0;32mreturn\u001b[0m \u001b[0mdraw\u001b[0m\u001b[0;34m(\u001b[0m\u001b[0martist\u001b[0m\u001b[0;34m,\u001b[0m \u001b[0mrenderer\u001b[0m\u001b[0;34m,\u001b[0m \u001b[0;34m*\u001b[0m\u001b[0margs\u001b[0m\u001b[0;34m,\u001b[0m \u001b[0;34m**\u001b[0m\u001b[0mkwargs\u001b[0m\u001b[0;34m)\u001b[0m\u001b[0;34m\u001b[0m\u001b[0;34m\u001b[0m\u001b[0m\n\u001b[0m\u001b[1;32m     42\u001b[0m         \u001b[0;32mfinally\u001b[0m\u001b[0;34m:\u001b[0m\u001b[0;34m\u001b[0m\u001b[0;34m\u001b[0m\u001b[0m\n\u001b[1;32m     43\u001b[0m             \u001b[0;32mif\u001b[0m \u001b[0martist\u001b[0m\u001b[0;34m.\u001b[0m\u001b[0mget_agg_filter\u001b[0m\u001b[0;34m(\u001b[0m\u001b[0;34m)\u001b[0m \u001b[0;32mis\u001b[0m \u001b[0;32mnot\u001b[0m \u001b[0;32mNone\u001b[0m\u001b[0;34m:\u001b[0m\u001b[0;34m\u001b[0m\u001b[0;34m\u001b[0m\u001b[0m\n",
      "\u001b[0;32m~/anaconda3/envs/data_analysis/lib/python3.7/site-packages/matplotlib/figure.py\u001b[0m in \u001b[0;36mdraw\u001b[0;34m(self, renderer)\u001b[0m\n\u001b[1;32m   1862\u001b[0m             \u001b[0mself\u001b[0m\u001b[0;34m.\u001b[0m\u001b[0mpatch\u001b[0m\u001b[0;34m.\u001b[0m\u001b[0mdraw\u001b[0m\u001b[0;34m(\u001b[0m\u001b[0mrenderer\u001b[0m\u001b[0;34m)\u001b[0m\u001b[0;34m\u001b[0m\u001b[0;34m\u001b[0m\u001b[0m\n\u001b[1;32m   1863\u001b[0m             mimage._draw_list_compositing_images(\n\u001b[0;32m-> 1864\u001b[0;31m                 renderer, self, artists, self.suppressComposite)\n\u001b[0m\u001b[1;32m   1865\u001b[0m \u001b[0;34m\u001b[0m\u001b[0m\n\u001b[1;32m   1866\u001b[0m             \u001b[0mrenderer\u001b[0m\u001b[0;34m.\u001b[0m\u001b[0mclose_group\u001b[0m\u001b[0;34m(\u001b[0m\u001b[0;34m'figure'\u001b[0m\u001b[0;34m)\u001b[0m\u001b[0;34m\u001b[0m\u001b[0;34m\u001b[0m\u001b[0m\n",
      "\u001b[0;32m~/anaconda3/envs/data_analysis/lib/python3.7/site-packages/matplotlib/image.py\u001b[0m in \u001b[0;36m_draw_list_compositing_images\u001b[0;34m(renderer, parent, artists, suppress_composite)\u001b[0m\n\u001b[1;32m    129\u001b[0m     \u001b[0;32mif\u001b[0m \u001b[0mnot_composite\u001b[0m \u001b[0;32mor\u001b[0m \u001b[0;32mnot\u001b[0m \u001b[0mhas_images\u001b[0m\u001b[0;34m:\u001b[0m\u001b[0;34m\u001b[0m\u001b[0;34m\u001b[0m\u001b[0m\n\u001b[1;32m    130\u001b[0m         \u001b[0;32mfor\u001b[0m \u001b[0ma\u001b[0m \u001b[0;32min\u001b[0m \u001b[0martists\u001b[0m\u001b[0;34m:\u001b[0m\u001b[0;34m\u001b[0m\u001b[0;34m\u001b[0m\u001b[0m\n\u001b[0;32m--> 131\u001b[0;31m             \u001b[0ma\u001b[0m\u001b[0;34m.\u001b[0m\u001b[0mdraw\u001b[0m\u001b[0;34m(\u001b[0m\u001b[0mrenderer\u001b[0m\u001b[0;34m)\u001b[0m\u001b[0;34m\u001b[0m\u001b[0;34m\u001b[0m\u001b[0m\n\u001b[0m\u001b[1;32m    132\u001b[0m     \u001b[0;32melse\u001b[0m\u001b[0;34m:\u001b[0m\u001b[0;34m\u001b[0m\u001b[0;34m\u001b[0m\u001b[0m\n\u001b[1;32m    133\u001b[0m         \u001b[0;31m# Composite any adjacent images together\u001b[0m\u001b[0;34m\u001b[0m\u001b[0;34m\u001b[0m\u001b[0;34m\u001b[0m\u001b[0m\n",
      "\u001b[0;32m~/anaconda3/envs/data_analysis/lib/python3.7/site-packages/matplotlib/artist.py\u001b[0m in \u001b[0;36mdraw_wrapper\u001b[0;34m(artist, renderer, *args, **kwargs)\u001b[0m\n\u001b[1;32m     39\u001b[0m                 \u001b[0mrenderer\u001b[0m\u001b[0;34m.\u001b[0m\u001b[0mstart_filter\u001b[0m\u001b[0;34m(\u001b[0m\u001b[0;34m)\u001b[0m\u001b[0;34m\u001b[0m\u001b[0;34m\u001b[0m\u001b[0m\n\u001b[1;32m     40\u001b[0m \u001b[0;34m\u001b[0m\u001b[0m\n\u001b[0;32m---> 41\u001b[0;31m             \u001b[0;32mreturn\u001b[0m \u001b[0mdraw\u001b[0m\u001b[0;34m(\u001b[0m\u001b[0martist\u001b[0m\u001b[0;34m,\u001b[0m \u001b[0mrenderer\u001b[0m\u001b[0;34m,\u001b[0m \u001b[0;34m*\u001b[0m\u001b[0margs\u001b[0m\u001b[0;34m,\u001b[0m \u001b[0;34m**\u001b[0m\u001b[0mkwargs\u001b[0m\u001b[0;34m)\u001b[0m\u001b[0;34m\u001b[0m\u001b[0;34m\u001b[0m\u001b[0m\n\u001b[0m\u001b[1;32m     42\u001b[0m         \u001b[0;32mfinally\u001b[0m\u001b[0;34m:\u001b[0m\u001b[0;34m\u001b[0m\u001b[0;34m\u001b[0m\u001b[0m\n\u001b[1;32m     43\u001b[0m             \u001b[0;32mif\u001b[0m \u001b[0martist\u001b[0m\u001b[0;34m.\u001b[0m\u001b[0mget_agg_filter\u001b[0m\u001b[0;34m(\u001b[0m\u001b[0;34m)\u001b[0m \u001b[0;32mis\u001b[0m \u001b[0;32mnot\u001b[0m \u001b[0;32mNone\u001b[0m\u001b[0;34m:\u001b[0m\u001b[0;34m\u001b[0m\u001b[0;34m\u001b[0m\u001b[0m\n",
      "\u001b[0;32m~/anaconda3/envs/data_analysis/lib/python3.7/site-packages/matplotlib/cbook/deprecation.py\u001b[0m in \u001b[0;36mwrapper\u001b[0;34m(*inner_args, **inner_kwargs)\u001b[0m\n\u001b[1;32m    409\u001b[0m                          \u001b[0;32melse\u001b[0m \u001b[0mdeprecation_addendum\u001b[0m\u001b[0;34m,\u001b[0m\u001b[0;34m\u001b[0m\u001b[0;34m\u001b[0m\u001b[0m\n\u001b[1;32m    410\u001b[0m                 **kwargs)\n\u001b[0;32m--> 411\u001b[0;31m         \u001b[0;32mreturn\u001b[0m \u001b[0mfunc\u001b[0m\u001b[0;34m(\u001b[0m\u001b[0;34m*\u001b[0m\u001b[0minner_args\u001b[0m\u001b[0;34m,\u001b[0m \u001b[0;34m**\u001b[0m\u001b[0minner_kwargs\u001b[0m\u001b[0;34m)\u001b[0m\u001b[0;34m\u001b[0m\u001b[0;34m\u001b[0m\u001b[0m\n\u001b[0m\u001b[1;32m    412\u001b[0m \u001b[0;34m\u001b[0m\u001b[0m\n\u001b[1;32m    413\u001b[0m     \u001b[0;32mreturn\u001b[0m \u001b[0mwrapper\u001b[0m\u001b[0;34m\u001b[0m\u001b[0;34m\u001b[0m\u001b[0m\n",
      "\u001b[0;32m~/anaconda3/envs/data_analysis/lib/python3.7/site-packages/matplotlib/axes/_base.py\u001b[0m in \u001b[0;36mdraw\u001b[0;34m(self, renderer, inframe)\u001b[0m\n\u001b[1;32m   2705\u001b[0m                 \u001b[0martists\u001b[0m\u001b[0;34m.\u001b[0m\u001b[0mremove\u001b[0m\u001b[0;34m(\u001b[0m\u001b[0mspine\u001b[0m\u001b[0;34m)\u001b[0m\u001b[0;34m\u001b[0m\u001b[0;34m\u001b[0m\u001b[0m\n\u001b[1;32m   2706\u001b[0m \u001b[0;34m\u001b[0m\u001b[0m\n\u001b[0;32m-> 2707\u001b[0;31m         \u001b[0mself\u001b[0m\u001b[0;34m.\u001b[0m\u001b[0m_update_title_position\u001b[0m\u001b[0;34m(\u001b[0m\u001b[0mrenderer\u001b[0m\u001b[0;34m)\u001b[0m\u001b[0;34m\u001b[0m\u001b[0;34m\u001b[0m\u001b[0m\n\u001b[0m\u001b[1;32m   2708\u001b[0m \u001b[0;34m\u001b[0m\u001b[0m\n\u001b[1;32m   2709\u001b[0m         \u001b[0;32mif\u001b[0m \u001b[0;32mnot\u001b[0m \u001b[0mself\u001b[0m\u001b[0;34m.\u001b[0m\u001b[0maxison\u001b[0m \u001b[0;32mor\u001b[0m \u001b[0minframe\u001b[0m\u001b[0;34m:\u001b[0m\u001b[0;34m\u001b[0m\u001b[0;34m\u001b[0m\u001b[0m\n",
      "\u001b[0;32m~/anaconda3/envs/data_analysis/lib/python3.7/site-packages/matplotlib/axes/_base.py\u001b[0m in \u001b[0;36m_update_title_position\u001b[0;34m(self, renderer)\u001b[0m\n\u001b[1;32m   2636\u001b[0m                 if (ax.xaxis.get_ticks_position() in ['top', 'unknown']\n\u001b[1;32m   2637\u001b[0m                         or ax.xaxis.get_label_position() == 'top'):\n\u001b[0;32m-> 2638\u001b[0;31m                     \u001b[0mbb\u001b[0m \u001b[0;34m=\u001b[0m \u001b[0max\u001b[0m\u001b[0;34m.\u001b[0m\u001b[0mxaxis\u001b[0m\u001b[0;34m.\u001b[0m\u001b[0mget_tightbbox\u001b[0m\u001b[0;34m(\u001b[0m\u001b[0mrenderer\u001b[0m\u001b[0;34m)\u001b[0m\u001b[0;34m\u001b[0m\u001b[0;34m\u001b[0m\u001b[0m\n\u001b[0m\u001b[1;32m   2639\u001b[0m                 \u001b[0;32melse\u001b[0m\u001b[0;34m:\u001b[0m\u001b[0;34m\u001b[0m\u001b[0;34m\u001b[0m\u001b[0m\n\u001b[1;32m   2640\u001b[0m                     \u001b[0mbb\u001b[0m \u001b[0;34m=\u001b[0m \u001b[0max\u001b[0m\u001b[0;34m.\u001b[0m\u001b[0mget_window_extent\u001b[0m\u001b[0;34m(\u001b[0m\u001b[0mrenderer\u001b[0m\u001b[0;34m)\u001b[0m\u001b[0;34m\u001b[0m\u001b[0;34m\u001b[0m\u001b[0m\n",
      "\u001b[0;32m~/anaconda3/envs/data_analysis/lib/python3.7/site-packages/matplotlib/axis.py\u001b[0m in \u001b[0;36mget_tightbbox\u001b[0;34m(self, renderer, for_layout_only)\u001b[0m\n\u001b[1;32m   1113\u001b[0m         \u001b[0;31m# go back to just this axis's tick labels\u001b[0m\u001b[0;34m\u001b[0m\u001b[0;34m\u001b[0m\u001b[0;34m\u001b[0m\u001b[0m\n\u001b[1;32m   1114\u001b[0m         ticklabelBoxes, ticklabelBoxes2 = self._get_tick_bboxes(\n\u001b[0;32m-> 1115\u001b[0;31m                     ticks_to_draw, renderer)\n\u001b[0m\u001b[1;32m   1116\u001b[0m \u001b[0;34m\u001b[0m\u001b[0m\n\u001b[1;32m   1117\u001b[0m         \u001b[0mself\u001b[0m\u001b[0;34m.\u001b[0m\u001b[0m_update_offset_text_position\u001b[0m\u001b[0;34m(\u001b[0m\u001b[0mticklabelBoxes\u001b[0m\u001b[0;34m,\u001b[0m \u001b[0mticklabelBoxes2\u001b[0m\u001b[0;34m)\u001b[0m\u001b[0;34m\u001b[0m\u001b[0;34m\u001b[0m\u001b[0m\n",
      "\u001b[0;32m~/anaconda3/envs/data_analysis/lib/python3.7/site-packages/matplotlib/axis.py\u001b[0m in \u001b[0;36m_get_tick_bboxes\u001b[0;34m(self, ticks, renderer)\u001b[0m\n\u001b[1;32m   1090\u001b[0m         \u001b[0;34m\"\"\"Return lists of bboxes for ticks' label1's and label2's.\"\"\"\u001b[0m\u001b[0;34m\u001b[0m\u001b[0;34m\u001b[0m\u001b[0m\n\u001b[1;32m   1091\u001b[0m         return ([tick.label1.get_window_extent(renderer)\n\u001b[0;32m-> 1092\u001b[0;31m                  for tick in ticks if tick.label1.get_visible()],\n\u001b[0m\u001b[1;32m   1093\u001b[0m                 [tick.label2.get_window_extent(renderer)\n\u001b[1;32m   1094\u001b[0m                  for tick in ticks if tick.label2.get_visible()])\n",
      "\u001b[0;32m~/anaconda3/envs/data_analysis/lib/python3.7/site-packages/matplotlib/axis.py\u001b[0m in \u001b[0;36m<listcomp>\u001b[0;34m(.0)\u001b[0m\n\u001b[1;32m   1090\u001b[0m         \u001b[0;34m\"\"\"Return lists of bboxes for ticks' label1's and label2's.\"\"\"\u001b[0m\u001b[0;34m\u001b[0m\u001b[0;34m\u001b[0m\u001b[0m\n\u001b[1;32m   1091\u001b[0m         return ([tick.label1.get_window_extent(renderer)\n\u001b[0;32m-> 1092\u001b[0;31m                  for tick in ticks if tick.label1.get_visible()],\n\u001b[0m\u001b[1;32m   1093\u001b[0m                 [tick.label2.get_window_extent(renderer)\n\u001b[1;32m   1094\u001b[0m                  for tick in ticks if tick.label2.get_visible()])\n",
      "\u001b[0;32m~/anaconda3/envs/data_analysis/lib/python3.7/site-packages/matplotlib/text.py\u001b[0m in \u001b[0;36mget_window_extent\u001b[0;34m(self, renderer, dpi)\u001b[0m\n\u001b[1;32m    900\u001b[0m \u001b[0;34m\u001b[0m\u001b[0m\n\u001b[1;32m    901\u001b[0m         \u001b[0;32mwith\u001b[0m \u001b[0mcbook\u001b[0m\u001b[0;34m.\u001b[0m\u001b[0m_setattr_cm\u001b[0m\u001b[0;34m(\u001b[0m\u001b[0mself\u001b[0m\u001b[0;34m.\u001b[0m\u001b[0mfigure\u001b[0m\u001b[0;34m,\u001b[0m \u001b[0mdpi\u001b[0m\u001b[0;34m=\u001b[0m\u001b[0mdpi\u001b[0m\u001b[0;34m)\u001b[0m\u001b[0;34m:\u001b[0m\u001b[0;34m\u001b[0m\u001b[0;34m\u001b[0m\u001b[0m\n\u001b[0;32m--> 902\u001b[0;31m             \u001b[0mbbox\u001b[0m\u001b[0;34m,\u001b[0m \u001b[0minfo\u001b[0m\u001b[0;34m,\u001b[0m \u001b[0mdescent\u001b[0m \u001b[0;34m=\u001b[0m \u001b[0mself\u001b[0m\u001b[0;34m.\u001b[0m\u001b[0m_get_layout\u001b[0m\u001b[0;34m(\u001b[0m\u001b[0mself\u001b[0m\u001b[0;34m.\u001b[0m\u001b[0m_renderer\u001b[0m\u001b[0;34m)\u001b[0m\u001b[0;34m\u001b[0m\u001b[0;34m\u001b[0m\u001b[0m\n\u001b[0m\u001b[1;32m    903\u001b[0m             \u001b[0mx\u001b[0m\u001b[0;34m,\u001b[0m \u001b[0my\u001b[0m \u001b[0;34m=\u001b[0m \u001b[0mself\u001b[0m\u001b[0;34m.\u001b[0m\u001b[0mget_unitless_position\u001b[0m\u001b[0;34m(\u001b[0m\u001b[0;34m)\u001b[0m\u001b[0;34m\u001b[0m\u001b[0;34m\u001b[0m\u001b[0m\n\u001b[1;32m    904\u001b[0m             \u001b[0mx\u001b[0m\u001b[0;34m,\u001b[0m \u001b[0my\u001b[0m \u001b[0;34m=\u001b[0m \u001b[0mself\u001b[0m\u001b[0;34m.\u001b[0m\u001b[0mget_transform\u001b[0m\u001b[0;34m(\u001b[0m\u001b[0;34m)\u001b[0m\u001b[0;34m.\u001b[0m\u001b[0mtransform\u001b[0m\u001b[0;34m(\u001b[0m\u001b[0;34m(\u001b[0m\u001b[0mx\u001b[0m\u001b[0;34m,\u001b[0m \u001b[0my\u001b[0m\u001b[0;34m)\u001b[0m\u001b[0;34m)\u001b[0m\u001b[0;34m\u001b[0m\u001b[0;34m\u001b[0m\u001b[0m\n",
      "\u001b[0;32m~/anaconda3/envs/data_analysis/lib/python3.7/site-packages/matplotlib/text.py\u001b[0m in \u001b[0;36m_get_layout\u001b[0;34m(self, renderer)\u001b[0m\n\u001b[1;32m    291\u001b[0m \u001b[0;34m\u001b[0m\u001b[0m\n\u001b[1;32m    292\u001b[0m         \u001b[0;32mfor\u001b[0m \u001b[0mi\u001b[0m\u001b[0;34m,\u001b[0m \u001b[0mline\u001b[0m \u001b[0;32min\u001b[0m \u001b[0menumerate\u001b[0m\u001b[0;34m(\u001b[0m\u001b[0mlines\u001b[0m\u001b[0;34m)\u001b[0m\u001b[0;34m:\u001b[0m\u001b[0;34m\u001b[0m\u001b[0;34m\u001b[0m\u001b[0m\n\u001b[0;32m--> 293\u001b[0;31m             \u001b[0mclean_line\u001b[0m\u001b[0;34m,\u001b[0m \u001b[0mismath\u001b[0m \u001b[0;34m=\u001b[0m \u001b[0mself\u001b[0m\u001b[0;34m.\u001b[0m\u001b[0m_preprocess_math\u001b[0m\u001b[0;34m(\u001b[0m\u001b[0mline\u001b[0m\u001b[0;34m)\u001b[0m\u001b[0;34m\u001b[0m\u001b[0;34m\u001b[0m\u001b[0m\n\u001b[0m\u001b[1;32m    294\u001b[0m             \u001b[0;32mif\u001b[0m \u001b[0mclean_line\u001b[0m\u001b[0;34m:\u001b[0m\u001b[0;34m\u001b[0m\u001b[0;34m\u001b[0m\u001b[0m\n\u001b[1;32m    295\u001b[0m                 w, h, d = renderer.get_text_width_height_descent(\n",
      "\u001b[0;32m~/anaconda3/envs/data_analysis/lib/python3.7/site-packages/matplotlib/text.py\u001b[0m in \u001b[0;36m_preprocess_math\u001b[0;34m(self, s)\u001b[0m\n\u001b[1;32m   1183\u001b[0m                 \u001b[0ms\u001b[0m \u001b[0;34m=\u001b[0m \u001b[0;34mr\"\\ \"\u001b[0m\u001b[0;34m\u001b[0m\u001b[0;34m\u001b[0m\u001b[0m\n\u001b[1;32m   1184\u001b[0m             \u001b[0;32mreturn\u001b[0m \u001b[0ms\u001b[0m\u001b[0;34m,\u001b[0m \u001b[0;34m\"TeX\"\u001b[0m\u001b[0;34m\u001b[0m\u001b[0;34m\u001b[0m\u001b[0m\n\u001b[0;32m-> 1185\u001b[0;31m         \u001b[0;32melif\u001b[0m \u001b[0mcbook\u001b[0m\u001b[0;34m.\u001b[0m\u001b[0mis_math_text\u001b[0m\u001b[0;34m(\u001b[0m\u001b[0ms\u001b[0m\u001b[0;34m)\u001b[0m\u001b[0;34m:\u001b[0m\u001b[0;34m\u001b[0m\u001b[0;34m\u001b[0m\u001b[0m\n\u001b[0m\u001b[1;32m   1186\u001b[0m             \u001b[0;32mreturn\u001b[0m \u001b[0ms\u001b[0m\u001b[0;34m,\u001b[0m \u001b[0;32mTrue\u001b[0m\u001b[0;34m\u001b[0m\u001b[0;34m\u001b[0m\u001b[0m\n\u001b[1;32m   1187\u001b[0m         \u001b[0;32melse\u001b[0m\u001b[0;34m:\u001b[0m\u001b[0;34m\u001b[0m\u001b[0;34m\u001b[0m\u001b[0m\n",
      "\u001b[0;32m~/anaconda3/envs/data_analysis/lib/python3.7/site-packages/matplotlib/cbook/__init__.py\u001b[0m in \u001b[0;36mis_math_text\u001b[0;34m(s)\u001b[0m\n\u001b[1;32m   1273\u001b[0m     \u001b[0mnon\u001b[0m\u001b[0;34m-\u001b[0m\u001b[0mescaped\u001b[0m \u001b[0mdollar\u001b[0m \u001b[0msigns\u001b[0m\u001b[0;34m.\u001b[0m\u001b[0;34m\u001b[0m\u001b[0;34m\u001b[0m\u001b[0m\n\u001b[1;32m   1274\u001b[0m     \"\"\"\n\u001b[0;32m-> 1275\u001b[0;31m     \u001b[0ms\u001b[0m \u001b[0;34m=\u001b[0m \u001b[0mstr\u001b[0m\u001b[0;34m(\u001b[0m\u001b[0ms\u001b[0m\u001b[0;34m)\u001b[0m\u001b[0;34m\u001b[0m\u001b[0;34m\u001b[0m\u001b[0m\n\u001b[0m\u001b[1;32m   1276\u001b[0m     \u001b[0mdollar_count\u001b[0m \u001b[0;34m=\u001b[0m \u001b[0ms\u001b[0m\u001b[0;34m.\u001b[0m\u001b[0mcount\u001b[0m\u001b[0;34m(\u001b[0m\u001b[0;34mr'$'\u001b[0m\u001b[0;34m)\u001b[0m \u001b[0;34m-\u001b[0m \u001b[0ms\u001b[0m\u001b[0;34m.\u001b[0m\u001b[0mcount\u001b[0m\u001b[0;34m(\u001b[0m\u001b[0;34mr'\\$'\u001b[0m\u001b[0;34m)\u001b[0m\u001b[0;34m\u001b[0m\u001b[0;34m\u001b[0m\u001b[0m\n\u001b[1;32m   1277\u001b[0m     \u001b[0meven_dollars\u001b[0m \u001b[0;34m=\u001b[0m \u001b[0;34m(\u001b[0m\u001b[0mdollar_count\u001b[0m \u001b[0;34m>\u001b[0m \u001b[0;36m0\u001b[0m \u001b[0;32mand\u001b[0m \u001b[0mdollar_count\u001b[0m \u001b[0;34m%\u001b[0m \u001b[0;36m2\u001b[0m \u001b[0;34m==\u001b[0m \u001b[0;36m0\u001b[0m\u001b[0;34m)\u001b[0m\u001b[0;34m\u001b[0m\u001b[0;34m\u001b[0m\u001b[0m\n",
      "\u001b[0;31mKeyboardInterrupt\u001b[0m: "
     ]
    }
   ],
   "source": [
    "def plot_loans_per_day_versus_holidays(_df, holidays):\n",
    "    df = _df.copy()\n",
    "    df['DATE'] = df['Start loan'].dt.date.astype(str)\n",
    "    dfDATE_count = df.groupby('DATE').size().reset_index(name='count')\n",
    "    \n",
    "    holidays_count = pd.merge(dfDATE_count,holidays,on='DATE')\n",
    "\n",
    "    fig, ax = plt.subplots(figsize=fig_dim)\n",
    "    sns.lineplot(data=dfDATE_count, x=\"DATE\", y=\"count\", ax=ax, label=\"Number of loads per day\")\n",
    "    sns.regplot(data=holidays_count, x=\"DATE\", y=\"count\", fit_reg=False, \n",
    "                scatter_kws={\"color\":\"black\",\"alpha\":1,\"s\":50}, ax=ax, label='Holidays')\n",
    "    \n",
    "plot_loans_per_day_versus_holidays(df, holidays)"
   ]
  },
  {
   "cell_type": "markdown",
   "metadata": {},
   "source": [
    "Na maior parte em que a contagem é muito baixa coincide com os feriados. Dado que a maior parte ads estações são automáticas, isto significa que, o mais provável é, mesmo as estaões automáticas fecham em determinados dias (tais como os feriados)"
   ]
  },
  {
   "cell_type": "code",
   "execution_count": null,
   "metadata": {},
   "outputs": [],
   "source": []
  },
  {
   "cell_type": "markdown",
   "metadata": {},
   "source": [
    "## Evolution of loans, returns, stations... over time"
   ]
  },
  {
   "cell_type": "markdown",
   "metadata": {},
   "source": [
    "***Quais são as horas/dias da semana/meses mais comuns para usar uma bicicleta?***"
   ]
  },
  {
   "cell_type": "code",
   "execution_count": 9,
   "metadata": {},
   "outputs": [
    {
     "data": {
      "image/png": "[encoded data removed]",
      "text/plain": [
       "<Figure size 1080x864 with 4 Axes>"
      ]
     },
     "metadata": {
      "needs_background": "light"
     },
     "output_type": "display_data"
    }
   ],
   "source": [
    "def plot_prestamo_over_time(_df):\n",
    "    df = _df.copy()\n",
    "    \n",
    "    fig, axs = plt.subplots(2, 2, figsize=fig_dim)\n",
    "    axis = [ axs[0, 0], axs[0, 1], axs[1, 0], axs[1, 1]]\n",
    "    \n",
    "    time_units = [\"year\", \"month\", \"day\", \"hour\"]\n",
    "    \n",
    "    for i in range(len(time_units)):\n",
    "        time_unit = time_units[i]\n",
    "        df_time = df.groupby(time_unit+'_prestamo').size().reset_index(name='count')\n",
    "\n",
    "        axis[i].plot(df_time[time_unit+\"_prestamo\"], df_time[\"count\"])\n",
    "        axis[i].set_title(time_unit+\"_prestamo\")\n",
    "\n",
    "    plt.plot()\n",
    "\n",
    "plot_prestamo_over_time(df)"
   ]
  },
  {
   "cell_type": "markdown",
   "metadata": {},
   "source": [
    "Over the years, the number of loans increased. \n",
    "\n",
    "Existem meses com um maior volume de empréstimos, nomeadamente Agosto, set., out. \n",
    "Estes são meses de férias... por isso é esperado um maior nº de turistas????\n",
    "Os meses de fevereiro, março, julho e novembro tb verificam um elevado nº de empréstimos.\n",
    "\n",
    "Relativamente aos dias, os valores são similares, havendo pequenas oscilações. Para o dia 31 verifica-se uma grande diminuição dado que existe um menor nº de meses com 31 dias.\n",
    "\n",
    "Hour: Existem dois picos que se destacam, sendo estes coincidentes com o rush hour (um no periodo ao inicio da manhã  e outro ao fim do dia). Também existe um pico à hora de almoço. As estações devem de abrir Às 4h e fechar Às ?22? dado qque o nº de empréstimos antes e depois é 0."
   ]
  },
  {
   "cell_type": "markdown",
   "metadata": {},
   "source": [
    "***Quais é que são os tempos médios de empréstimo?***"
   ]
  },
  {
   "cell_type": "code",
   "execution_count": null,
   "metadata": {},
   "outputs": [],
   "source": [
    "dfDuration=df.groupby('duration_hour').size().reset_index(name='count')\n",
    "ax=dfDuration.plot(x=\"duration_hour\", y=\"count\", figsize=(16,9))\n",
    "ax.set_xscale('log')"
   ]
  },
  {
   "cell_type": "code",
   "execution_count": null,
   "metadata": {},
   "outputs": [],
   "source": [
    "dfDuration_ft = dfDuration[(dfDuration[\"duration_hour\"]<0.2) & (dfDuration[\"duration_hour\"]>0.05)]\n",
    "ax=dfDuration_ft.plot(x=\"duration_hour\", y=\"count\", figsize=(16,9))"
   ]
  },
  {
   "cell_type": "markdown",
   "metadata": {},
   "source": [
    "Como podemos ver, o topo da curva é atingido entre os 0.10 e 0.12 da hora, i.e., entre os 6 e 8 minutos."
   ]
  },
  {
   "cell_type": "markdown",
   "metadata": {},
   "source": [
    "***Quais as origens/destinos mais comuns***"
   ]
  },
  {
   "cell_type": "code",
   "execution_count": null,
   "metadata": {},
   "outputs": [],
   "source": [
    "dfOrigin=df.groupby('ID start station').size().reset_index(name='count').sort_values(by=['count'])    \n",
    "dfOrigin[\"ID start station\"] = dfOrigin[\"ID start station\"].astype(str)\n",
    "bar_plot(\"ID start station\", \"count\", dfOrigin)"
   ]
  },
  {
   "cell_type": "markdown",
   "metadata": {},
   "source": [
    "O gráfico dá-nos as origens mais comuns. Várias estações são muito pouco utilizadas, da estação 73 à 105 (pela ordem representada no gráfico). "
   ]
  },
  {
   "cell_type": "code",
   "execution_count": null,
   "metadata": {},
   "outputs": [],
   "source": [
    "dfOrigin.head(25)"
   ]
  },
  {
   "cell_type": "code",
   "execution_count": null,
   "metadata": {},
   "outputs": [],
   "source": [
    "dfDestination=df.groupby('ID end station').size().reset_index(name='count').sort_values(by=['count'])    \n",
    "dfDestination[\"ID end station\"] = dfDestination[\"ID end station\"].astype(str)\n",
    "bar_plot(\"ID end station\", \"count\", dfDestination)"
   ]
  },
  {
   "cell_type": "markdown",
   "metadata": {},
   "source": [
    "Quais os trajetos mais comuns?"
   ]
  },
  {
   "cell_type": "code",
   "execution_count": null,
   "metadata": {},
   "outputs": [],
   "source": [
    "def plot_popular_routes(df):\n",
    "    \n",
    "    df_routes = df.groupby(['ID start station', 'ID end station']).size().reset_index(name='count')\n",
    "\n",
    "    fig = plt.figure(figsize=fig_dim)\n",
    "    ax = Axes3D(fig)\n",
    "\n",
    "    ax.plot_trisurf(df_routes[\"ID start station\"], df_routes[\"ID end station\"], \\\n",
    "                    df_routes[\"count\"], cmap=cm.jet, linewidth=0.2)\n",
    "    ax.set_zlabel('Count')\n",
    "    ax.set_xlabel('Origin')\n",
    "    ax.set_ylabel('Destination')\n",
    "\n",
    "    plt.show()\n",
    "    \n",
    "plot_popular_routes(df)"
   ]
  },
  {
   "cell_type": "code",
   "execution_count": null,
   "metadata": {},
   "outputs": [],
   "source": []
  },
  {
   "cell_type": "code",
   "execution_count": null,
   "metadata": {},
   "outputs": [],
   "source": [
    "# justificar porque é que só usamos os desta coluna\n",
    "unique_parks = df['ID start station'].unique()\n",
    "unique_parks"
   ]
  },
  {
   "cell_type": "markdown",
   "metadata": {},
   "source": [
    "Para cada nó, as datas/dias e a contagem do check-in (empréstimos)."
   ]
  },
  {
   "cell_type": "code",
   "execution_count": null,
   "metadata": {},
   "outputs": [],
   "source": [
    "dfOrigemDayCount=df.groupby([\"ID start station\", pd.Grouper(key=\"Fecha_Prestamo_htruncate\", freq=\"D\")]) \\\n",
    "                        .size().reset_index(name='Count')\n",
    "dfOrigemDayCount.head()"
   ]
  },
  {
   "cell_type": "code",
   "execution_count": null,
   "metadata": {},
   "outputs": [],
   "source": [
    "# TO-DO\n",
    "# gráfico\n",
    "# após a previsão encontrar o dia com mais nós em que foi realizada a previsão\n",
    "\n",
    "# nº de nós associados ao dia\n",
    "dfNodesDay = dfOrigemDayCount.groupby(\"Fecha_Prestamo_htruncate\").size().reset_index() \\\n",
    "    .rename(columns={0:'count'}).sort_values(by=['count'])\n",
    "\n",
    "dfNodesDay.tail()"
   ]
  },
  {
   "cell_type": "code",
   "execution_count": null,
   "metadata": {},
   "outputs": [],
   "source": [
    "def active_stations_per_day(_df):\n",
    "    df = _df.copy().sort_values(by=['Fecha_Prestamo_htruncate'])\n",
    "    fig = plt.figure(figsize=fig_dim)\n",
    "    plt.plot(df[\"Fecha_Prestamo_htruncate\"], df[\"count\"])\n",
    "\n",
    "active_stations_per_day(dfNodesDay)"
   ]
  },
  {
   "cell_type": "markdown",
   "metadata": {},
   "source": [
    "Isto dá-nos a data com mais nós associados mas não garante que os 85 nós tem 4 entradas antes"
   ]
  },
  {
   "cell_type": "code",
   "execution_count": null,
   "metadata": {},
   "outputs": [],
   "source": [
    "def loans_per_day_per_station(_df, station):\n",
    "    df = _df.copy()\n",
    "    df = df[df[\"ID start station\"]==station]\n",
    "    df = df[[\"Fecha_Prestamo_htruncate\", \"Count\"]]\n",
    "    \n",
    "    fig = plt.figure(figsize=fig_dim)\n",
    "    plt.plot(df[\"Fecha_Prestamo_htruncate\"], df[\"Count\"])\n",
    "\n",
    "loans_per_day_per_station(dfOrigemDayCount, 1)"
   ]
  },
  {
   "cell_type": "code",
   "execution_count": null,
   "metadata": {},
   "outputs": [],
   "source": [
    "loans_per_day_per_station(dfOrigemDayCount, 70)"
   ]
  },
  {
   "cell_type": "markdown",
   "metadata": {},
   "source": [
    "Loans per station per hour"
   ]
  },
  {
   "cell_type": "code",
   "execution_count": null,
   "metadata": {},
   "outputs": [],
   "source": [
    "def get_loans_or_returns_per_station_per_time(_df, field_date, field_station, field_position, time):\n",
    "    df = _df.copy()\n",
    "    df = df[[field_date, field_station, field_position]]\n",
    "    df[field_position] = [1]*len(df.index)\n",
    "    #df[field_date] = df[field_date].dt.round(time)\n",
    "    \n",
    "    if time == 'd':\n",
    "        df[field_date] = df[field_date].dt.date\n",
    "    elif time == 'h':\n",
    "        df[field_date] = df[field_date].dt.floor('h')\n",
    "\n",
    "    df = df.rename(columns={field_date:'Date', field_station:'Station'})\n",
    "    df = df.groupby(['Station', 'Date']).size().to_frame()\n",
    "    \n",
    "    if(field_date=='Start loan'):\n",
    "        df = df.rename(columns={0:'N Loans'})\n",
    "    else:\n",
    "        df = df.rename(columns={0:'N Returns'})\n",
    "        \n",
    "    return df\n",
    "\n",
    "def get_loans_and_returns_info_per_time(_df, time):\n",
    "    loans = get_loans_or_returns_per_station_per_time(_df, \\\n",
    "                    'Start loan', 'ID start station', 'Position start', time)\n",
    "        \n",
    "    returns = get_loans_or_returns_per_station_per_time(_df, \\\n",
    "                    'End loan', 'ID end station', 'Position end', time)\n",
    "        \n",
    "    df = pd.concat([loans, returns], axis=1)\n",
    "    df = df.fillna(0)\n",
    "    df['balance_per_' + time] = df['N Returns'] - df['N Loans']\n",
    "    \n",
    "    return df"
   ]
  },
  {
   "cell_type": "code",
   "execution_count": null,
   "metadata": {},
   "outputs": [],
   "source": [
    "loans_and_returns = get_loans_and_returns_info_per_time(df, \"h\")\n",
    "loans_and_returns.head(5)"
   ]
  },
  {
   "cell_type": "code",
   "execution_count": null,
   "metadata": {},
   "outputs": [],
   "source": [
    "# Given a station, this function calculates the number of bikes through time using the loans and the returns\n",
    "def get_balance_for_station(_df, station):\n",
    "    df = _df.copy()\n",
    "    df = df.reset_index()\n",
    "    df = df.loc[df['Station']==station]\n",
    "    df['N Loans cumsum'] = df['N Loans'].cumsum()\n",
    "    df['N Returns cumsum'] = df['N Returns'].cumsum() # returns\n",
    "    df['Balance'] = df['N Returns cumsum'] - df['N Loans cumsum']\n",
    "    \n",
    "    return df"
   ]
  },
  {
   "cell_type": "code",
   "execution_count": null,
   "metadata": {},
   "outputs": [],
   "source": [
    "def plot_balance_over_multiple_stations(loans_and_returns, stations):\n",
    "    \n",
    "    fig, axs = plt.subplots(4, 2, figsize=(15,24))\n",
    "    axis = [ axs[0, 0], axs[0, 1], axs[1, 0], axs[1, 1],\n",
    "             axs[2, 0], axs[2, 1], axs[3, 0], axs[3, 1]]\n",
    "    colors = ['tab:blue', 'tab:orange', 'tab:green', 'tab:red', 'tab:blue', 'tab:orange', 'tab:green', 'tab:red']\n",
    "    \n",
    "    for i in range(8):\n",
    "        station = stations[i]\n",
    "    \n",
    "        balance_st = get_balance_for_station(loans_and_returns, station)\n",
    "        \n",
    "        axis[i].plot(balance_st['Date'], balance_st['Balance'], colors[i])\n",
    "        axis[i].set_title('Station ' + str(station))\n",
    "        axis[i].tick_params(labelrotation=30)\n",
    "\n",
    "    plt.plot()\n",
    "\n",
    "plot_balance_over_multiple_stations(loans_and_returns, stations=[1, 70, 54, 45, 12, 70, 2, 21])"
   ]
  },
  {
   "cell_type": "markdown",
   "metadata": {},
   "source": [
    "Dizer o que significa as subidas, descidas e estabilizações - recebm mais do que emprestam, emprestam mais do que receber e recebem e emprestam na mesma porporção (respetivamente)\n",
    "Através do balanço não dá para perceber qual o número de bicicletas inicial da estação, porque esistem várias trocas manuais que não são reportadas."
   ]
  },
  {
   "cell_type": "code",
   "execution_count": null,
   "metadata": {},
   "outputs": [],
   "source": []
  },
  {
   "cell_type": "code",
   "execution_count": null,
   "metadata": {},
   "outputs": [],
   "source": [
    "# TO-DO\n",
    "# gráfico\n",
    "# após a previsão encontrar o dia com mais nós em que foi realizada a previsão"
   ]
  },
  {
   "cell_type": "code",
   "execution_count": null,
   "metadata": {},
   "outputs": [],
   "source": []
  },
  {
   "cell_type": "markdown",
   "metadata": {},
   "source": [
    "Obter o número inicial de bicicletas por estação"
   ]
  },
  {
   "cell_type": "code",
   "execution_count": null,
   "metadata": {},
   "outputs": [],
   "source": [
    "# ver o primeiro mês em que a estação abre, e fazer a contagens por aí\n",
    "\n",
    "def get_init_number_of_bikes_per_station(_df):\n",
    "    df = _df.copy()\n",
    "    df = df[[\"Tag ID\", \"Start loan\", \"ID start station\"]]\n",
    "    df[\"Start loan\"] = pd.to_datetime(df[\"Start loan\"], format='%Y-%m-%d %H:%M:%S.%f')\n",
    "    df = df.sort_values(by=\"Start loan\")\n",
    "    # for each tag get first station\n",
    "    df = df.groupby(\"Tag ID\").first() \\\n",
    "            .reset_index() \\\n",
    "            [[\"Tag ID\", \"ID start station\"]]\n",
    "    # for each station get initial number of bikes \n",
    "    df = df.groupby(\"ID start station\").count()\n",
    "    df = df.rename(columns={'Tag ID':'Count'})\n",
    "    df = df.sort_values(by=['Count'])\n",
    "    df = df.reset_index()\n",
    "    df[\"ID start station\"] = df[\"ID start station\"].astype(str)\n",
    "    return df\n",
    "    \n",
    "init_n_bikes = get_init_number_of_bikes_per_station(df)\n",
    "init_n_bikes.head()"
   ]
  },
  {
   "cell_type": "code",
   "execution_count": null,
   "metadata": {},
   "outputs": [],
   "source": [
    "fig, axs = plt.subplots(figsize=fig_dim)\n",
    "axs = sns.barplot(x=\"ID start station\", y=\"Count\", data=init_n_bikes)\n",
    "plt.xticks(rotation=90)\n",
    "plt.draw()"
   ]
  },
  {
   "cell_type": "markdown",
   "metadata": {},
   "source": [
    "The figure above represents the number of bikes that appear for the first time in each station"
   ]
  },
  {
   "cell_type": "markdown",
   "metadata": {},
   "source": [
    "A estação 9 está associada ao aparecimento pela primeira vez de 400 bicicletas (do ID de uma bicicleta)."
   ]
  },
  {
   "cell_type": "markdown",
   "metadata": {},
   "source": [
    "[BRUNO] Qual é a localização das estações com mais de 100 contagens? "
   ]
  },
  {
   "cell_type": "code",
   "execution_count": null,
   "metadata": {},
   "outputs": [],
   "source": []
  },
  {
   "cell_type": "code",
   "execution_count": null,
   "metadata": {},
   "outputs": [],
   "source": []
  },
  {
   "cell_type": "code",
   "execution_count": null,
   "metadata": {},
   "outputs": [],
   "source": []
  },
  {
   "cell_type": "markdown",
   "metadata": {},
   "source": [
    "Verificar quando as estações automáticas cheias. -> ver para cada estação qual o nº máximo de posições diferentes e depois tentar perceber qnd é que elas estão cheias (elas estão cheias se num dado intervalo de tempo todas as positions estão ocupadas) ---> taxa de ocupação"
   ]
  },
  {
   "cell_type": "markdown",
   "metadata": {},
   "source": [
    "Há posições que nunca são ocupadas!!!!"
   ]
  },
  {
   "cell_type": "code",
   "execution_count": null,
   "metadata": {},
   "outputs": [],
   "source": []
  },
  {
   "cell_type": "code",
   "execution_count": null,
   "metadata": {},
   "outputs": [],
   "source": []
  },
  {
   "cell_type": "markdown",
   "metadata": {},
   "source": [
    "Ver a taxa de ocupação a cada hora"
   ]
  },
  {
   "cell_type": "markdown",
   "metadata": {},
   "source": [
    "# Forecasting the ?field?"
   ]
  },
  {
   "cell_type": "code",
   "execution_count": null,
   "metadata": {},
   "outputs": [],
   "source": [
    "dfOrigemDayCount.head()"
   ]
  },
  {
   "cell_type": "code",
   "execution_count": null,
   "metadata": {},
   "outputs": [],
   "source": [
    "loans_and_returns_per_day = get_loans_and_returns_info_per_time(df, \"d\")\n",
    "loans_and_returns_per_day.head(25)"
   ]
  },
  {
   "cell_type": "code",
   "execution_count": null,
   "metadata": {},
   "outputs": [],
   "source": [
    "def get_max_balance_per_day(_df):\n",
    "    df = _df.copy()\n",
    "    df = get_loans_and_returns_info_per_time(df, \"h\")\n",
    "    df = df.reset_index()\n",
    "    df[\"Date\"] = df[\"Date\"].dt.date\n",
    "    df = df.groupby(['Station', 'Date']).max().rename(\n",
    "        columns={\"N Loans\": \"max_n_loans\", \"N Returns\": \"max_n_returns\", \"balance_per_h\": \"max_balance_per_h\"})\n",
    "    df['max_balance_per_h'] = [0 if x<0 else x for x in df['max_balance_per_h']]\n",
    "    return df\n",
    "    \n",
    "loans_and_returns_max_per_day = get_max_balance_per_day(df)\n",
    "loans_and_returns_max_per_day.head()"
   ]
  },
  {
   "cell_type": "code",
   "execution_count": null,
   "metadata": {},
   "outputs": [],
   "source": []
  },
  {
   "cell_type": "code",
   "execution_count": null,
   "metadata": {},
   "outputs": [],
   "source": []
  },
  {
   "cell_type": "code",
   "execution_count": null,
   "metadata": {},
   "outputs": [],
   "source": [
    "# ver parâmetros para melhorar, \n",
    "# se o count_before for 8 ele dá 8 entradas antes\n",
    "# offset é o nº de dias antes do atual\n",
    "# distância entre cada uma das entradas\n",
    "# distance=1, count_before=3, offset=0 ---> considera os 3 dias antes\n",
    "# distance=7, count_before=4, offset=7 ---> 4 entradas com a diferença de 7 dias entre elas \n",
    "#                                              e começo a contar na semana anterior"
   ]
  },
  {
   "cell_type": "code",
   "execution_count": null,
   "metadata": {},
   "outputs": [],
   "source": [
    "# Auxiliar functions\n",
    "def generate_features(df, cols, distance=1, count_before=3, offset=0):\n",
    "    # Filter rows in which we cannot trace back history\n",
    "    periodDf = df[df.index-(count_before*distance+offset)>=0].copy()\n",
    "    # Number of removed elements is the offset for the new df\n",
    "    n_removed=df.shape[0]-periodDf.shape[0]\n",
    "    # Add new features based on traced history\n",
    "    for col in cols:\n",
    "        for i in range(0, count_before):\n",
    "            diff=(i+1)*distance+offset\n",
    "            periodDf[col+\"_minus_\" + str(diff)]=periodDf.apply(lambda row: df.iloc[int(row.name)-diff][col], \\\n",
    "                                                               axis=1) \n",
    "        \n",
    "    return periodDf\n",
    "\n",
    "def prepare_inputs(X_train, X_test):\n",
    "    ohe = OneHotEncoder()\n",
    "    ohe.fit(X_train)\n",
    "    X_train_enc = ohe.transform(X_train)\n",
    "    X_test_enc = ohe.transform(X_test)\n",
    "    return X_train_enc, X_test_enc\n",
    "\n",
    "\n",
    "def split_df(df, train_size=0.8):\n",
    "    train_size = floor(df.shape[0]*train_size)\n",
    "\n",
    "    train = df[:train_size]\n",
    "    test = df[train_size:]\n",
    "    \n",
    "    return train, test\n",
    "\n",
    "def process_df(train, test, dfFeatures):\n",
    "    trainX = train[dfFeatures.columns[4:]]\n",
    "    trainX = trainX.to_numpy().reshape(trainX.shape[0], trainX.shape[1], 1)\n",
    "    trainY = train[[\"Count\"]]\n",
    "    trainY = trainY.to_numpy().reshape(trainY.shape[0])\n",
    "    testX = test[dfFeatures.columns[4:]]\n",
    "    testX = testX.to_numpy().reshape(testX.shape[0], testX.shape[1], 1)\n",
    "    testY = test[[\"Count\"]]\n",
    "    testY = testY.to_numpy().reshape(testY.shape[0])\n",
    "    \n",
    "    \n",
    "    return trainX, trainY, testX, testY\n",
    "\n",
    "# fit and evaluate a model\n",
    "def evaluate_model(trainX, trainy, testX, testy):\n",
    "    verbose, epochs, batch_size = 0, 10, 32\n",
    "    n_timesteps, n_features, n_outputs = trainX.shape[0], trainX.shape[1], trainX.shape[2]\n",
    "    model = Sequential()\n",
    "    model.add(Conv1D(filters=6, kernel_size=2, activation='relu', input_shape=(n_features, n_outputs)))\n",
    "    model.add(Conv1D(filters=6, kernel_size=2, activation='relu'))\n",
    "    #model.add(MaxPooling1D(pool_size=2))\n",
    "    model.add(Flatten())\n",
    "    #model.add(Dense(100, activation='relu'))\n",
    "    model.add(Dense(1, activation='relu')) \n",
    "    model.compile(loss='mse', optimizer='adam', metrics=['mean_squared_error'])\n",
    "    # fit network\n",
    "    model.fit(trainX, trainy, epochs=epochs, batch_size=batch_size, verbose=verbose)\n",
    "    # evaluate model\n",
    "    _, accuracy = model.evaluate(testX, testy, batch_size=batch_size, verbose=0)\n",
    "    return model, accuracy\n",
    "\n",
    "\n",
    "def run_experiment(trainX, trainy, testX, testy, repeats=10):\n",
    "    min_score=-1\n",
    "    min_model=None\n",
    "    # repeat experiment\n",
    "    scores = list()\n",
    "    for r in range(repeats):\n",
    "        print(\"Train #{}....\".format(r))\n",
    "        model, score = evaluate_model(trainX, trainy, testX, testy)\n",
    "        if min_score==-1 or score<min_score:\n",
    "            min_score=score\n",
    "            min_model=model\n",
    "        scores.append(score)\n",
    "    return min_model, scores"
   ]
  },
  {
   "cell_type": "code",
   "execution_count": null,
   "metadata": {},
   "outputs": [],
   "source": [
    "def perform_forecasting_all_nodes(_df, parks):\n",
    "    \n",
    "    df = _df.copy()\n",
    "\n",
    "    allNodesDf=pd.DataFrame()\n",
    "    # CREATE MODEL PER NODE AND PREDICT TEST SET BASED ON EACH INDIVIDUAL MODEL\n",
    "    for park in parks:\n",
    "        # FILTERING ENTRIES TO PARK ID\n",
    "        print (\"Filtering entries by park id {}...\".format(park))\n",
    "        dfParkId = df[df[\"ID start station\"]==park]\n",
    "        dfParkId=dfParkId.reset_index()\n",
    "\n",
    "        # GENERATE FEATURES (4 ENTRIES 7 DAYS APPART FROM EACH OTHER FROM THE PREVIOUS 4 WEEKS)\n",
    "        print (\"Generating park {} features...\".format(park))\n",
    "        dfFeatures=generate_features(dfParkId, [\"Count\"], distance=7, count_before=4, offset=7)\n",
    "        dfFeatures=dfFeatures.reset_index(drop=True)\n",
    "\n",
    "        # SPLITTING DF INTO TRAIN AND TEST SETS\n",
    "        print (\"Splitting train/test dataset for park id {}...\".format(park))\n",
    "        train, test = split_df(dfFeatures)\n",
    "        trainX, trainy, testX, testy = process_df(train, test, dfFeatures)\n",
    "\n",
    "        # TRAIN CNN\n",
    "        print (\"Traning model for park id {}...\".format(park))\n",
    "        model, scores = run_experiment(trainX, trainy, testX, testy, repeats=3)\n",
    "\n",
    "        # PREDICT TEST SET SAMPLES\n",
    "        print (\"Predicting samples for park id {}...\".format(park))\n",
    "        predict = model.predict(testX)\n",
    "        dfPredict=pd.DataFrame(data=predict.flatten()[:], columns=[\"predict\"])\n",
    "        truth=pd.DataFrame(data=testy[:], columns=[\"truth\"])\n",
    "        testDf=pd.concat([dfPredict, truth, test.reset_index()[[\"ID start station\", \"Fecha_Prestamo_htruncate\"]]], \\\n",
    "                         axis=1)\n",
    "        testDf.set_index([\"ID start station\", \"Fecha_Prestamo_htruncate\"], inplace = True)\n",
    "        allNodesDf=pd.concat([allNodesDf, testDf])\n",
    "        print(allNodesDf)\n",
    "        \n",
    "    return allNodesDf\n",
    "\n",
    "# perform_forecasting_all_nodes(dfOrigemDayCount, unique_parks)\n",
    "allNodesDf = perform_forecasting_all_nodes(dfOrigemDayCount, [8, 56])"
   ]
  },
  {
   "cell_type": "markdown",
   "metadata": {},
   "source": [
    "## Overall results"
   ]
  },
  {
   "cell_type": "code",
   "execution_count": null,
   "metadata": {
    "scrolled": false
   },
   "outputs": [],
   "source": [
    "rms = np.sqrt(mean_squared_error(allNodesDf[\"truth\"], allNodesDf[\"predict\"]))\n",
    "print (\"OVERALL ROOT MEAN SQUARED ERROR >> \" + str(rms))\n",
    "\n",
    "for node in unique_parks:\n",
    "    print (\" ------------------ NODE {} TRUTH VS PREDICTED CHECK INS ------------------ \".format(node))\n",
    "    ax=allNodesDf.loc[node].plot(figsize=fig_dim, title='Predicted vs ground truth number of infractions over time (for test set)')\n",
    "\n",
    "    ax.set_xlabel(\"Date\")\n",
    "    ax.set_ylabel(\"Number of infractions\")\n",
    "    plt.show()"
   ]
  },
  {
   "cell_type": "code",
   "execution_count": null,
   "metadata": {},
   "outputs": [],
   "source": []
  },
  {
   "cell_type": "markdown",
   "metadata": {},
   "source": [
    "# Load Balancing"
   ]
  },
  {
   "cell_type": "code",
   "execution_count": null,
   "metadata": {},
   "outputs": [],
   "source": []
  },
  {
   "cell_type": "code",
   "execution_count": null,
   "metadata": {},
   "outputs": [],
   "source": []
  },
  {
   "cell_type": "markdown",
   "metadata": {},
   "source": [
    "# Conclusions\n",
    "\n",
    "## Scalability and Impact"
   ]
  },
  {
   "cell_type": "markdown",
   "metadata": {},
   "source": [
    "## Future Work"
   ]
  },
  {
   "cell_type": "markdown",
   "metadata": {},
   "source": [
    "# References"
   ]
  }
 ],
 "metadata": {
  "kernelspec": {
   "display_name": "Python 3",
   "language": "python",
   "name": "python3"
  },
  "language_info": {
   "codemirror_mode": {
    "name": "ipython",
    "version": 3
   },
   "file_extension": ".py",
   "mimetype": "text/x-python",
   "name": "python",
   "nbconvert_exporter": "python",
   "pygments_lexer": "ipython3",
   "version": "3.7.5"
  }
 },
 "nbformat": 4,
 "nbformat_minor": 2
}
