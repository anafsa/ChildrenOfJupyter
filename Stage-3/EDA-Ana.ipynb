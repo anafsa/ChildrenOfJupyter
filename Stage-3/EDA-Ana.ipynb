{
 "cells": [
  {
   "cell_type": "markdown",
   "metadata": {},
   "source": [
    "# WDL 2021 - Stage 3: Predicting the demand for shared bicycles"
   ]
  },
  {
   "cell_type": "markdown",
   "metadata": {},
   "source": [
    "# Introduction"
   ]
  },
  {
   "cell_type": "markdown",
   "metadata": {},
   "source": [
    "Heavy traffic is associated with air pollution, safety risks, and losses in terms of accessibility, sustainable growth, and social cohesion. In order to overcome these problems, one of the main goals of the European transport policy is to promote more sustainable modes of transportation. [1] [2] \n",
    "\n",
    "Our cities must evolve to become more environmentally friendly, thus reducing the negative impact on our planet. According to [3], bicycles are one of the most sustainable modes of urban transport, thus not having any negative impact n the environment, and even promotes physical activity and improves health. Moreover, it's suitable for short and médium distance trips and is cost-effective from the perspective of users and infrastructure.\n",
    "\n",
    "Over the last few years, the popularity of public bike-sharing systems has increased so much that more than 60 countries already have these types of systems implemented. Bike-sharing systems allow users to travel in the city at a low cost and with ease of loan a bicycle at one station and leave it at another. [3]\n",
    "\n",
    "This type of system is already changing and becoming more effective since most of them are equipped with sensors capable of giving information to users. However, regarding resources management, there are still some problems associated with it and which limit its use. [3] If, on the one hand, the use of a shared bicycle allows the user to reduce waiting time in transit and searching for parking, on the other hand, the management of bicycles has some problems that the user may have to wait in a station until there is a vacant dock [3].\n",
    "\n",
    "Nowadays, some of the solutions that are being studied are related to predicting the demand of bicycles and, subsequently, station administrators notification, that allows them to identify which stations should be close down and where to set up more stations. It should also be noted that in many of these studies, weather conditions, events, time of day, and day of the week are considered factors with a high influence on the use or not of shared bicycles, so we’ll also look at some of these. [3] [4] [5]\n",
    "\n",
    "**(VER C Fábio e Bruno)**\n",
    "\n",
    "Our first approach was to make the tracking of each bike and thus understand which stations would be with the docks all full and which ones would be empty so that the bikes were moved from one station to another. However, as the bike id changes throughout the year, this would not be possible.\n",
    "\n",
    "We had to modify our solution, however, the goal of helping the problem mentioned above, the existence of periods of time at certain stations in which users have to wait or move to another station to find an available dock, remains.\n",
    "\n",
    "To overcome this problem our solution, (...)."
   ]
  },
  {
   "cell_type": "markdown",
   "metadata": {},
   "source": [
    "# Data pre-processing\n",
    "\n",
    "When analyzing the data, from the beginning there was a large amount of information that made it difficult to process, so some decisions were made:\n",
    "- the selected data refers to the years of 2016, 2017, 2018 and 2019. It was found that the data comprised 2014 and 2021, which we considered to be a very large window. Thus, data prior to 2016, since they are from a long time ago and because they have a smaller amount of data (2014 - 210880 and 2015 - 1161752) and after 2020, due to the coronavirus, were removed.\n",
    "- rows of important columns with NaN values are removed.  \n",
    "- only durations longer than 1 min are considered. From the calculation of the bicycle usage duration, some anomalies were verified, such as the date of fecha_devolucion being before fecha_prestamo (negative duration) and durations of less than 1min, for which reason all these data were removed.\n",
    "\n",
    "In order to avoid the repetition of preprocessing, the preprocessed data was previously saved. Thus, sections 3.3 and 3.4 can be ignored and in section 4 the cleaned dataframe is used for analysis."
   ]
  },
  {
   "cell_type": "markdown",
   "metadata": {},
   "source": [
    "## Import libraries and customize seaborn"
   ]
  },
  {
   "cell_type": "code",
   "execution_count": 1,
   "metadata": {},
   "outputs": [
    {
     "name": "stderr",
     "output_type": "stream",
     "text": [
      "Using TensorFlow backend.\n"
     ]
    }
   ],
   "source": [
    "import pandas as pd\n",
    "import numpy as np\n",
    "import time\n",
    "import datetime\n",
    "import pickle\n",
    "import requests\n",
    "import matplotlib.pyplot as plt\n",
    "from matplotlib import cm\n",
    "from matplotlib.ticker import LinearLocator, FormatStrFormatter\n",
    "from mpl_toolkits.mplot3d import Axes3D\n",
    "import seaborn as sns\n",
    "from math import floor, sin, cos, sqrt, atan2, radians, asin\n",
    "from keras.layers import Dense, Dropout, Flatten\n",
    "from keras.layers.convolutional import Conv1D, MaxPooling1D\n",
    "from keras.models import Sequential\n",
    "from sklearn.metrics import mean_squared_error\n",
    "from sklearn.preprocessing import OneHotEncoder, OrdinalEncoder, MinMaxScaler\n",
    "import folium\n",
    "from itertools import combinations\n",
    "import networkx as nx\n",
    "\n",
    "pd.set_option('display.max_rows', 100)\n",
    "sns.set_theme(style=\"whitegrid\")\n",
    "fig_dim = (16,9)\n",
    "\n",
    "base = '/home/ana/Downloads/'\n",
    "#base = '/home/bsilva/Desktop/'\n",
    "#base = r'C:\\Users\\Carolina Alves\\OneDrive - Universidade de Aveiro\\WDL competition\\Stage 3\\'"
   ]
  },
  {
   "cell_type": "markdown",
   "metadata": {},
   "source": [
    "## Auxiliar functions"
   ]
  },
  {
   "cell_type": "code",
   "execution_count": 2,
   "metadata": {},
   "outputs": [],
   "source": [
    "# bar plot function\n",
    "def bar_plot(_x, _y, _data):\n",
    "    fig, axs = plt.subplots(figsize=fig_dim)\n",
    "    axs = sns.barplot(x=_x, y=_y, data=_data)\n",
    "    plt.xticks(rotation=90)\n",
    "    plt.draw()\n",
    "    \n",
    "# performs the encoding of categorical features to ordinal numbers\n",
    "def encode_categorical_features(_df, features):\n",
    "    df = _df.copy()\n",
    "    enc = OrdinalEncoder()\n",
    "    df[features] = enc.fit_transform(df[features]).astype(int)\n",
    "    \n",
    "    return enc, df"
   ]
  },
  {
   "cell_type": "markdown",
   "metadata": {},
   "source": [
    "## Loading the dataset"
   ]
  },
  {
   "cell_type": "code",
   "execution_count": null,
   "metadata": {},
   "outputs": [],
   "source": [
    "# Opening and saving the original dataset\n",
    "# We converted the file from csv to binary in order to read it faster\n",
    "# You do not need to run this cell\n",
    "df = pd.read_csv(base+'/'+\"bike_loans.csv\", sep=\";\")\n",
    "pickle.dump(df, open(base+'/'+\"df_raw\", \"wb\"))"
   ]
  },
  {
   "cell_type": "code",
   "execution_count": null,
   "metadata": {},
   "outputs": [],
   "source": [
    "# Opening data\n",
    "df = pickle.load(open(base+'/'+\"df_raw\", \"rb\" ))"
   ]
  },
  {
   "cell_type": "code",
   "execution_count": null,
   "metadata": {},
   "outputs": [],
   "source": [
    "df.head()"
   ]
  },
  {
   "cell_type": "code",
   "execution_count": null,
   "metadata": {},
   "outputs": [],
   "source": [
    "df.shape"
   ]
  },
  {
   "cell_type": "markdown",
   "metadata": {},
   "source": [
    "## Data types, uniques and NaN information "
   ]
  },
  {
   "cell_type": "markdown",
   "metadata": {},
   "source": [
    "**Checking type of data, number of unique values and the presence of missing values**"
   ]
  },
  {
   "cell_type": "code",
   "execution_count": null,
   "metadata": {},
   "outputs": [],
   "source": [
    "def eda_to_df(df):\n",
    "    header=\"+\" + (\"-\"*85) + \"+\"\n",
    "    form = \"|{:^25s}|{:^10s}|{:^10s}|{:^10s}|{:^15s}|{:^10s}|\"\n",
    "    print(header)\n",
    "    print(form.format(\"Column\", \"Type\", \"Uniques\", \"NaN?\", \"Number of NaN\" ,\"%NaN\"))\n",
    "    print(header)\n",
    "    for col in df.columns:\n",
    "        print(form.format(str(col), # Column\n",
    "                          str(df[col].dtypes), # Type\n",
    "                          str(len(df[col].unique())), # Uniques\n",
    "                          str(df[col].isnull().values.any()), # NaN?\n",
    "                          str(df[col].isnull().sum()), # Number of NaNs\n",
    "                          str(round(((df[col].isnull().sum())/len(df[col]))*100,5)) )) # %NaN\n",
    "    print(header)\n",
    "\n",
    "eda_to_df(df)"
   ]
  },
  {
   "cell_type": "markdown",
   "metadata": {},
   "source": [
    "Regarding Type, Id_Tag_Bicicleta and operario are two columns where the type is an object and where we intend to encode the features. Fecha_Prestamo and Fecha_Devolucion are also an object, however, we will not encode them, since they are related to dates and hours.\n",
    "\n",
    "Looking up to the uniques, stands out the fact that Id_Aparcamiento_Origen and Id_Aparcamiento_Destino don't have the same counts and that the columns Importe and DescripcionImporte only have one value that is why we removed them.\n",
    "\n",
    "Lastly, there are a lot of columns with NaN values. The one that we highlight is Id_Aparcamiento_Destino because if there is no information from the destination station then this information must be deleted."
   ]
  },
  {
   "cell_type": "markdown",
   "metadata": {},
   "source": [
    "**Removing Importe and DescripcionImporte**"
   ]
  },
  {
   "cell_type": "code",
   "execution_count": null,
   "metadata": {},
   "outputs": [],
   "source": [
    "df = df.drop(['Importe', 'DescripcionImporte'], axis=1)"
   ]
  },
  {
   "cell_type": "markdown",
   "metadata": {},
   "source": [
    "**Removing NaN values from Id_Aparcamiento_Destino**"
   ]
  },
  {
   "cell_type": "code",
   "execution_count": null,
   "metadata": {},
   "outputs": [],
   "source": [
    "df = df[df['Id_Aparcamiento_Destino'].notna()]"
   ]
  },
  {
   "cell_type": "markdown",
   "metadata": {},
   "source": [
    "**Calculating the usage duration of bicycles**"
   ]
  },
  {
   "cell_type": "code",
   "execution_count": null,
   "metadata": {},
   "outputs": [],
   "source": [
    "def duration (prestamo, devolucion):\n",
    "\n",
    "    start = datetime.datetime.strptime(prestamo[0:19], \"%Y-%m-%d %H:%M:%S\")\n",
    "    end = datetime.datetime.strptime(devolucion[0:19], \"%Y-%m-%d %H:%M:%S\")\n",
    "    time = end - start\n",
    "    seconds = time.total_seconds()\n",
    "\n",
    "    return seconds"
   ]
  },
  {
   "cell_type": "code",
   "execution_count": null,
   "metadata": {},
   "outputs": [],
   "source": [
    "df['Duration'] = df.apply(lambda x: duration(x['Fecha_Prestamo'],x['Fecha_Devolucion']),axis=1)"
   ]
  },
  {
   "cell_type": "markdown",
   "metadata": {},
   "source": [
    "**Removing data when the usage duration of bicycles is negative (which means that the day of prestamo is after the day of devolucion) and less than one minute(60 seconds)**"
   ]
  },
  {
   "cell_type": "code",
   "execution_count": null,
   "metadata": {},
   "outputs": [],
   "source": [
    "df = df[df['Duration']>60]"
   ]
  },
  {
   "cell_type": "markdown",
   "metadata": {},
   "source": [
    "**Removing data before 2016 and after 2020**"
   ]
  },
  {
   "cell_type": "code",
   "execution_count": null,
   "metadata": {},
   "outputs": [],
   "source": [
    "def select_data_between(df, year_init, year_end):\n",
    "\n",
    "    df_list = []\n",
    "    increment = 1000000\n",
    "    for i in range(0,15000000, increment):\n",
    "        df_ = df.iloc[i:i+increment,:]\n",
    "        #creating column with the year of prestamo and devolucion\n",
    "        df_['Year_Prestamo'] = df_.apply(lambda x: year_(x['Fecha_Prestamo']),axis=1) \n",
    "        df_['Year_Devolucion'] = df_.apply(lambda x: year_(x['Fecha_Devolucion']),axis=1) \n",
    "        #removing years before year_init and after year_end\n",
    "        df_= df_[(df_['Year_Prestamo']>=year_init) & (df_['Year_Prestamo']<year_end)]\n",
    "        df_= df_[(df_['Year_Devolucion']>=year_init) & (df_['Year_Devolucion']<year_end)]\n",
    "        df_list.append(df_)\n",
    "\n",
    "    #creating cleaned dataframe\n",
    "    df_new_ = pd.DataFrame()\n",
    "    df_clean_ = df_new_.append(other=df_list,ignore_index=True)\n",
    "\n",
    "    return df_clean_\n",
    "\n",
    "df_clean_ = select_data_between(df, 2016, 2020)\n",
    "\n",
    "#confirming\n",
    "print(df_clean_['Year_Prestamo'].unique())\n",
    "print(df_clean_['Year_Devolucion'].unique())"
   ]
  },
  {
   "cell_type": "markdown",
   "metadata": {},
   "source": [
    "**Encoding categorical features: Importe and DescripcionImporte**"
   ]
  },
  {
   "cell_type": "code",
   "execution_count": null,
   "metadata": {},
   "outputs": [],
   "source": [
    "print('Number of NaN in column Id_Tag_Bicicleta: ', df_clean_['Id_Tag_Bicicleta'].isnull().sum())\n",
    "print('\\nNumber of NaN in column operario: ', df_clean_['operario'].isnull().sum())"
   ]
  },
  {
   "cell_type": "code",
   "execution_count": null,
   "metadata": {},
   "outputs": [],
   "source": [
    "operario_ = df_clean_['operario'].fillna(value='other')\n",
    "df_clean_['operario'] = operario_"
   ]
  },
  {
   "cell_type": "code",
   "execution_count": null,
   "metadata": {},
   "outputs": [],
   "source": [
    "enc, df_clean_ = encode_categorical_features(df_clean_, [\"Id_Tag_Bicicleta\", \"operario\"])\n",
    "df_clean_.head()"
   ]
  },
  {
   "cell_type": "code",
   "execution_count": null,
   "metadata": {},
   "outputs": [],
   "source": [
    "#Saving cleaned dataframe\n",
    "pickle.dump(df_clean_, open(path+'/'+\"df_clean\", \"wb\" ))"
   ]
  },
  {
   "cell_type": "markdown",
   "metadata": {},
   "source": [
    "# Exploratory Data Analysis"
   ]
  },
  {
   "cell_type": "code",
   "execution_count": 3,
   "metadata": {},
   "outputs": [
    {
     "data": {
      "text/html": [
       "<div>\n",
       "<style scoped>\n",
       "    .dataframe tbody tr th:only-of-type {\n",
       "        vertical-align: middle;\n",
       "    }\n",
       "\n",
       "    .dataframe tbody tr th {\n",
       "        vertical-align: top;\n",
       "    }\n",
       "\n",
       "    .dataframe thead th {\n",
       "        text-align: right;\n",
       "    }\n",
       "</style>\n",
       "<table border=\"1\" class=\"dataframe\">\n",
       "  <thead>\n",
       "    <tr style=\"text-align: right;\">\n",
       "      <th></th>\n",
       "      <th>Loan ID</th>\n",
       "      <th>User ID</th>\n",
       "      <th>Tag ID</th>\n",
       "      <th>Start loan</th>\n",
       "      <th>End loan</th>\n",
       "      <th>ID start station</th>\n",
       "      <th>Position start</th>\n",
       "      <th>ID end station</th>\n",
       "      <th>Position end</th>\n",
       "      <th>year_prestamo</th>\n",
       "      <th>month_prestamo</th>\n",
       "      <th>day_prestamo</th>\n",
       "      <th>hour_prestamo</th>\n",
       "      <th>year_devolucion</th>\n",
       "      <th>month_devolucion</th>\n",
       "      <th>day_devolucion</th>\n",
       "      <th>hour_devolucion</th>\n",
       "      <th>duration_hour</th>\n",
       "      <th>Fecha_Prestamo_htruncate</th>\n",
       "    </tr>\n",
       "  </thead>\n",
       "  <tbody>\n",
       "    <tr>\n",
       "      <th>0</th>\n",
       "      <td>6501462</td>\n",
       "      <td>18701</td>\n",
       "      <td>1164</td>\n",
       "      <td>2017-06-21 14:22:11</td>\n",
       "      <td>2017-06-21 14:38:29</td>\n",
       "      <td>8</td>\n",
       "      <td>1</td>\n",
       "      <td>43</td>\n",
       "      <td>1.0</td>\n",
       "      <td>2017</td>\n",
       "      <td>6</td>\n",
       "      <td>21</td>\n",
       "      <td>14</td>\n",
       "      <td>2017</td>\n",
       "      <td>6</td>\n",
       "      <td>21</td>\n",
       "      <td>14</td>\n",
       "      <td>0.271667</td>\n",
       "      <td>2017-06-21 14:00:00</td>\n",
       "    </tr>\n",
       "    <tr>\n",
       "      <th>1</th>\n",
       "      <td>6501318</td>\n",
       "      <td>41811</td>\n",
       "      <td>1089</td>\n",
       "      <td>2017-06-21 14:07:18</td>\n",
       "      <td>2017-06-21 14:39:06</td>\n",
       "      <td>56</td>\n",
       "      <td>6</td>\n",
       "      <td>54</td>\n",
       "      <td>NaN</td>\n",
       "      <td>2017</td>\n",
       "      <td>6</td>\n",
       "      <td>21</td>\n",
       "      <td>14</td>\n",
       "      <td>2017</td>\n",
       "      <td>6</td>\n",
       "      <td>21</td>\n",
       "      <td>14</td>\n",
       "      <td>0.530000</td>\n",
       "      <td>2017-06-21 14:00:00</td>\n",
       "    </tr>\n",
       "    <tr>\n",
       "      <th>2</th>\n",
       "      <td>6501489</td>\n",
       "      <td>96620</td>\n",
       "      <td>1110</td>\n",
       "      <td>2017-06-21 14:25:11</td>\n",
       "      <td>2017-06-21 14:39:07</td>\n",
       "      <td>36</td>\n",
       "      <td>25</td>\n",
       "      <td>9</td>\n",
       "      <td>13.0</td>\n",
       "      <td>2017</td>\n",
       "      <td>6</td>\n",
       "      <td>21</td>\n",
       "      <td>14</td>\n",
       "      <td>2017</td>\n",
       "      <td>6</td>\n",
       "      <td>21</td>\n",
       "      <td>14</td>\n",
       "      <td>0.232222</td>\n",
       "      <td>2017-06-21 14:00:00</td>\n",
       "    </tr>\n",
       "    <tr>\n",
       "      <th>3</th>\n",
       "      <td>6501001</td>\n",
       "      <td>16055</td>\n",
       "      <td>1465</td>\n",
       "      <td>2017-06-21 13:35:52</td>\n",
       "      <td>2017-06-21 14:39:22</td>\n",
       "      <td>8</td>\n",
       "      <td>1</td>\n",
       "      <td>9</td>\n",
       "      <td>6.0</td>\n",
       "      <td>2017</td>\n",
       "      <td>6</td>\n",
       "      <td>21</td>\n",
       "      <td>13</td>\n",
       "      <td>2017</td>\n",
       "      <td>6</td>\n",
       "      <td>21</td>\n",
       "      <td>14</td>\n",
       "      <td>1.058333</td>\n",
       "      <td>2017-06-21 13:00:00</td>\n",
       "    </tr>\n",
       "    <tr>\n",
       "      <th>4</th>\n",
       "      <td>6501421</td>\n",
       "      <td>6431</td>\n",
       "      <td>996</td>\n",
       "      <td>2017-06-21 14:17:56</td>\n",
       "      <td>2017-06-21 14:39:26</td>\n",
       "      <td>56</td>\n",
       "      <td>14</td>\n",
       "      <td>54</td>\n",
       "      <td>NaN</td>\n",
       "      <td>2017</td>\n",
       "      <td>6</td>\n",
       "      <td>21</td>\n",
       "      <td>14</td>\n",
       "      <td>2017</td>\n",
       "      <td>6</td>\n",
       "      <td>21</td>\n",
       "      <td>14</td>\n",
       "      <td>0.358333</td>\n",
       "      <td>2017-06-21 14:00:00</td>\n",
       "    </tr>\n",
       "  </tbody>\n",
       "</table>\n",
       "</div>"
      ],
      "text/plain": [
       "   Loan ID  User ID  Tag ID          Start loan            End loan  \\\n",
       "0  6501462    18701    1164 2017-06-21 14:22:11 2017-06-21 14:38:29   \n",
       "1  6501318    41811    1089 2017-06-21 14:07:18 2017-06-21 14:39:06   \n",
       "2  6501489    96620    1110 2017-06-21 14:25:11 2017-06-21 14:39:07   \n",
       "3  6501001    16055    1465 2017-06-21 13:35:52 2017-06-21 14:39:22   \n",
       "4  6501421     6431     996 2017-06-21 14:17:56 2017-06-21 14:39:26   \n",
       "\n",
       "   ID start station  Position start  ID end station  Position end  \\\n",
       "0                 8               1              43           1.0   \n",
       "1                56               6              54           NaN   \n",
       "2                36              25               9          13.0   \n",
       "3                 8               1               9           6.0   \n",
       "4                56              14              54           NaN   \n",
       "\n",
       "   year_prestamo  month_prestamo  day_prestamo  hour_prestamo  \\\n",
       "0           2017               6            21             14   \n",
       "1           2017               6            21             14   \n",
       "2           2017               6            21             14   \n",
       "3           2017               6            21             13   \n",
       "4           2017               6            21             14   \n",
       "\n",
       "   year_devolucion  month_devolucion  day_devolucion  hour_devolucion  \\\n",
       "0             2017                 6              21               14   \n",
       "1             2017                 6              21               14   \n",
       "2             2017                 6              21               14   \n",
       "3             2017                 6              21               14   \n",
       "4             2017                 6              21               14   \n",
       "\n",
       "   duration_hour Fecha_Prestamo_htruncate  \n",
       "0       0.271667      2017-06-21 14:00:00  \n",
       "1       0.530000      2017-06-21 14:00:00  \n",
       "2       0.232222      2017-06-21 14:00:00  \n",
       "3       1.058333      2017-06-21 13:00:00  \n",
       "4       0.358333      2017-06-21 14:00:00  "
      ]
     },
     "execution_count": 3,
     "metadata": {},
     "output_type": "execute_result"
    }
   ],
   "source": [
    "def get_loans_clean(base):\n",
    "\n",
    "    df = pd.read_pickle(base + 'df_clean')[[\"Id_Historico_Prestamo\", \"Id_Usuario\", \"Id_Tag_Bicicleta\", \\\n",
    "            \"Fecha_Prestamo\", \"Fecha_Devolucion\", \"Id_Aparcamiento_Origen\", \"Posicion_Origen\", \\\n",
    "            \"Id_Aparcamiento_Destino\", \"Posicion_Destino\"]]\n",
    "    \n",
    "    # Rename columns\n",
    "    # The same bike can have multiple tags over the year.\n",
    "    df = df.rename(columns={\n",
    "        \"Id_Historico_Prestamo\": \"Loan ID\",\n",
    "        \"Id_Usuario\": \"User ID\",\n",
    "        \"Id_Tag_Bicicleta\": \"Tag ID\",\n",
    "        \"Fecha_Prestamo\": \"Start loan\",\n",
    "        \"Fecha_Devolucion\": \"End loan\",\n",
    "        \"Id_Aparcamiento_Origen\": \"ID start station\",\n",
    "        \"Posicion_Origen\": \"Position start\",\n",
    "        \"Id_Aparcamiento_Destino\": \"ID end station\",\n",
    "        \"Posicion_Destino\": \"Position end\"\n",
    "    })\n",
    "    \n",
    "    df['ID end station'] = df['ID end station'].astype(int)\n",
    "    df['ID start station'] = df['ID start station'].astype(int)\n",
    "    \n",
    "    df[\"Start loan\"] = pd.to_datetime(df[\"Start loan\"], format='%Y-%m-%d %H:%M:%S.%f')\n",
    "    df[\"End loan\"] = pd.to_datetime(df[\"End loan\"], format='%Y-%m-%d %H:%M:%S.%f')\n",
    "    \n",
    "    # Auxiliar fields\n",
    "    df['year_prestamo'] = df[\"Start loan\"].dt.year\n",
    "    df['month_prestamo'] = df[\"Start loan\"].dt.month\n",
    "    df['day_prestamo'] = df[\"Start loan\"].dt.day\n",
    "    df['hour_prestamo'] = df[\"Start loan\"].dt.hour\n",
    "    \n",
    "    df['year_devolucion'] = df[\"End loan\"].dt.year\n",
    "    df['month_devolucion'] = df[\"End loan\"].dt.month\n",
    "    df['day_devolucion'] = df[\"End loan\"].dt.day\n",
    "    df['hour_devolucion'] = df[\"End loan\"].dt.hour\n",
    "    \n",
    "    df['duration_hour'] = (df[\"End loan\"]-df[\"Start loan\"]).dt.total_seconds().div(60*60)\n",
    "    df['Fecha_Prestamo_htruncate'] = df['Start loan'].dt.floor('h')\n",
    "        \n",
    "    return df\n",
    "\n",
    "df = get_loans_clean(base)\n",
    "df.head()"
   ]
  },
  {
   "cell_type": "markdown",
   "metadata": {},
   "source": [
    "## Analysis using External Data"
   ]
  },
  {
   "cell_type": "markdown",
   "metadata": {},
   "source": [
    "### Stations location"
   ]
  },
  {
   "cell_type": "code",
   "execution_count": 4,
   "metadata": {},
   "outputs": [
    {
     "data": {
      "text/html": [
       "<div>\n",
       "<style scoped>\n",
       "    .dataframe tbody tr th:only-of-type {\n",
       "        vertical-align: middle;\n",
       "    }\n",
       "\n",
       "    .dataframe tbody tr th {\n",
       "        vertical-align: top;\n",
       "    }\n",
       "\n",
       "    .dataframe thead th {\n",
       "        text-align: right;\n",
       "    }\n",
       "</style>\n",
       "<table border=\"1\" class=\"dataframe\">\n",
       "  <thead>\n",
       "    <tr style=\"text-align: right;\">\n",
       "      <th></th>\n",
       "      <th>ID</th>\n",
       "      <th>Description</th>\n",
       "      <th>numSlots</th>\n",
       "      <th>isManual</th>\n",
       "      <th>Lat</th>\n",
       "      <th>Lon</th>\n",
       "    </tr>\n",
       "  </thead>\n",
       "  <tbody>\n",
       "    <tr>\n",
       "      <th>0</th>\n",
       "      <td>1</td>\n",
       "      <td>Moravia</td>\n",
       "      <td>15</td>\n",
       "      <td>1</td>\n",
       "      <td>6.276585</td>\n",
       "      <td>-75.564804</td>\n",
       "    </tr>\n",
       "    <tr>\n",
       "      <th>1</th>\n",
       "      <td>2</td>\n",
       "      <td>Universidad</td>\n",
       "      <td>33</td>\n",
       "      <td>1</td>\n",
       "      <td>6.269267</td>\n",
       "      <td>-75.565300</td>\n",
       "    </tr>\n",
       "    <tr>\n",
       "      <th>2</th>\n",
       "      <td>3</td>\n",
       "      <td>Ruta N</td>\n",
       "      <td>40</td>\n",
       "      <td>0</td>\n",
       "      <td>6.265182</td>\n",
       "      <td>-75.566348</td>\n",
       "    </tr>\n",
       "    <tr>\n",
       "      <th>3</th>\n",
       "      <td>4</td>\n",
       "      <td>Punto Cero</td>\n",
       "      <td>10</td>\n",
       "      <td>1</td>\n",
       "      <td>6.265161</td>\n",
       "      <td>-75.575066</td>\n",
       "    </tr>\n",
       "    <tr>\n",
       "      <th>4</th>\n",
       "      <td>5</td>\n",
       "      <td>Universidad Nacional</td>\n",
       "      <td>33</td>\n",
       "      <td>1</td>\n",
       "      <td>6.259663</td>\n",
       "      <td>-75.578812</td>\n",
       "    </tr>\n",
       "  </tbody>\n",
       "</table>\n",
       "</div>"
      ],
      "text/plain": [
       "   ID           Description  numSlots  isManual       Lat        Lon\n",
       "0   1               Moravia        15         1  6.276585 -75.564804\n",
       "1   2           Universidad        33         1  6.269267 -75.565300\n",
       "2   3                Ruta N        40         0  6.265182 -75.566348\n",
       "3   4            Punto Cero        10         1  6.265161 -75.575066\n",
       "4   5  Universidad Nacional        33         1  6.259663 -75.578812"
      ]
     },
     "execution_count": 4,
     "metadata": {},
     "output_type": "execute_result"
    }
   ],
   "source": [
    "df_info = pd.read_csv(\"station_location_with_id.csv\", sep=';')[['ID','Description', \\\n",
    "                'numSlots','isManual', 'Lat', 'Lon']]\n",
    "\n",
    "def convert_coord_to_number(coord_str):\n",
    "    return float(coord_str.replace(',', '.'))\n",
    "\n",
    "df_info['Lat'] = df_info['Lat'].apply(lambda x : convert_coord_to_number(x))\n",
    "df_info['Lon'] = df_info['Lon'].apply(lambda x : convert_coord_to_number(x))\n",
    "\n",
    "df_info.head()"
   ]
  },
  {
   "cell_type": "markdown",
   "metadata": {},
   "source": [
    "**Showing stations in the map**"
   ]
  },
  {
   "cell_type": "code",
   "execution_count": 5,
   "metadata": {
    "scrolled": true
   },
   "outputs": [
    {
     "data": {
      "text/html": [
       "<div style=\"width:100%;\"><div style=\"position:relative;width:100%;height:0;padding-bottom:60%;\"><iframe src=\"data:text/html;charset=utf-8;base64,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\" style=\"position:absolute;width:100%;height:100%;left:0;top:0;border:none !important;\" allowfullscreen webkitallowfullscreen mozallowfullscreen></iframe></div></div>"
      ],
      "text/plain": [
       "<folium.folium.Map at 0x7f74a75e4490>"
      ]
     },
     "execution_count": 5,
     "metadata": {},
     "output_type": "execute_result"
    }
   ],
   "source": [
    "plt.show()\n",
    "# Helper function to draw street blocks on map\n",
    "def add_marker(map, station_name, lat, long):\n",
    "    folium.Marker(location=[float(lat), float(long)], popup=station_name).add_to(map)   \n",
    "\n",
    "#initiate map in medelín\n",
    "m=folium.Map(location=[6.2427031074310175, -75.49371702640158], zoom_start=12)\n",
    "\n",
    "#draw the street blocks on the map with a color and assign them to a group\n",
    "df_info.apply(lambda l: add_marker(m, l['Description'],l['Lat'], l['Lon']),axis=1)\n",
    "\n",
    "m"
   ]
  },
  {
   "cell_type": "markdown",
   "metadata": {},
   "source": [
    "From a wider perspective, two regions of bicycle stations stand out. \n",
    "\n",
    "When looking with less zoom, the region below is divided into three zones that correspond to 3 different cities that belong to the Valle de aburrá: Sabaneta, Itaguí, and Envigado.\n",
    "\n",
    "The uppermost region is located in the city of Medelín, which is the most important and largest in the Valle, so it makes perfect sense to be the one with the largest number of stations.\n",
    "\n",
    "The cities of Caldas, La Estrella, Bello, Copacabana, Girardota, and Barbosa, according to the data, do not have stations, which may be necessary to create shared bicycle systems in these areas."
   ]
  },
  {
   "cell_type": "markdown",
   "metadata": {},
   "source": [
    "**Checking the storage capacity of automatic stations**"
   ]
  },
  {
   "cell_type": "markdown",
   "metadata": {},
   "source": [
    "* What are the automatic stations with the largest and smallest storage capacity?"
   ]
  },
  {
   "cell_type": "code",
   "execution_count": 6,
   "metadata": {},
   "outputs": [
    {
     "data": {
      "image/png": "[encoded data removed]",
      "text/plain": [
       "<Figure size 1152x648 with 1 Axes>"
      ]
     },
     "metadata": {
      "needs_background": "light"
     },
     "output_type": "display_data"
    }
   ],
   "source": [
    "def capacity_per_station(_df):\n",
    "    df = _df.copy()\n",
    "    df[\"ID\"] = df[\"ID\"].astype(str)\n",
    "    df = df.sort_values(by=['numSlots'])\n",
    "    \n",
    "    fig, axs = plt.subplots(figsize=fig_dim)\n",
    "    axs = sns.barplot(x=\"ID\", y=\"numSlots\", hue=\"isManual\", data=df)\n",
    "    plt.xticks(rotation=90)\n",
    "    plt.tight_layout()\n",
    "    plt.draw()\n",
    "    \n",
    "capacity_per_station(df_info)"
   ]
  },
  {
   "cell_type": "markdown",
   "metadata": {},
   "source": [
    "From the above figure, the number of manual stations is much less than automatic stations. It should also be noted that most of the stations with less storage are manual and the ones with higher storage are automatic."
   ]
  },
  {
   "cell_type": "markdown",
   "metadata": {},
   "source": [
    "### Holidays"
   ]
  },
  {
   "cell_type": "code",
   "execution_count": 7,
   "metadata": {},
   "outputs": [
    {
     "data": {
      "text/html": [
       "<div>\n",
       "<style scoped>\n",
       "    .dataframe tbody tr th:only-of-type {\n",
       "        vertical-align: middle;\n",
       "    }\n",
       "\n",
       "    .dataframe tbody tr th {\n",
       "        vertical-align: top;\n",
       "    }\n",
       "\n",
       "    .dataframe thead th {\n",
       "        text-align: right;\n",
       "    }\n",
       "</style>\n",
       "<table border=\"1\" class=\"dataframe\">\n",
       "  <thead>\n",
       "    <tr style=\"text-align: right;\">\n",
       "      <th></th>\n",
       "      <th>DAY</th>\n",
       "      <th>DATE</th>\n",
       "      <th>HOLIDAY</th>\n",
       "    </tr>\n",
       "  </thead>\n",
       "  <tbody>\n",
       "    <tr>\n",
       "      <th>0</th>\n",
       "      <td>Friday</td>\n",
       "      <td>2016-01-01</td>\n",
       "      <td>New Year's Day</td>\n",
       "    </tr>\n",
       "    <tr>\n",
       "      <th>1</th>\n",
       "      <td>Monday</td>\n",
       "      <td>2016-01-11</td>\n",
       "      <td>Epiphany</td>\n",
       "    </tr>\n",
       "    <tr>\n",
       "      <th>2</th>\n",
       "      <td>Monday</td>\n",
       "      <td>2016-03-21</td>\n",
       "      <td>Saint Joseph's Day</td>\n",
       "    </tr>\n",
       "    <tr>\n",
       "      <th>3</th>\n",
       "      <td>Thursday</td>\n",
       "      <td>2016-03-24</td>\n",
       "      <td>Maundy Thursday</td>\n",
       "    </tr>\n",
       "    <tr>\n",
       "      <th>4</th>\n",
       "      <td>Friday</td>\n",
       "      <td>2016-03-25</td>\n",
       "      <td>Good Friday</td>\n",
       "    </tr>\n",
       "  </tbody>\n",
       "</table>\n",
       "</div>"
      ],
      "text/plain": [
       "        DAY        DATE             HOLIDAY\n",
       "0    Friday  2016-01-01      New Year's Day\n",
       "1    Monday  2016-01-11            Epiphany\n",
       "2    Monday  2016-03-21  Saint Joseph's Day\n",
       "3  Thursday  2016-03-24     Maundy Thursday\n",
       "4    Friday  2016-03-25         Good Friday"
      ]
     },
     "execution_count": 7,
     "metadata": {},
     "output_type": "execute_result"
    }
   ],
   "source": [
    "def get_holidays():\n",
    "    holidays16 = pd.read_excel('holidays_columbia.xlsx', sheet_name='2016')\n",
    "    holidays17 = pd.read_excel('holidays_columbia.xlsx', sheet_name='2017')\n",
    "    holidays18 = pd.read_excel('holidays_columbia.xlsx', sheet_name='2018')\n",
    "    holidays19 = pd.read_excel('holidays_columbia.xlsx', sheet_name='2019')\n",
    "    holidays = pd.concat([holidays16, holidays17, holidays18, holidays19])\n",
    "    return holidays\n",
    "\n",
    "holidays = get_holidays()\n",
    "holidays.head()"
   ]
  },
  {
   "cell_type": "code",
   "execution_count": 8,
   "metadata": {},
   "outputs": [
    {
     "name": "stdout",
     "output_type": "stream",
     "text": [
      "          DATE  count      DAY             HOLIDAY\n",
      "17  2018-08-08  11666   Monday            Epiphany\n",
      "9   2017-08-15   9011  Tuesday  Assumption of Mary\n"
     ]
    },
    {
     "data": {
      "image/png": "[encoded data removed]",
      "text/plain": [
       "<Figure size 1152x648 with 1 Axes>"
      ]
     },
     "metadata": {
      "needs_background": "light"
     },
     "output_type": "display_data"
    }
   ],
   "source": [
    "def plot_loans_per_day_versus_holidays(_df, holidays):\n",
    "    df = _df.copy()\n",
    "    df['DATE'] = df['Start loan'].dt.date.astype(str)\n",
    "    dfDATE_count = df.groupby('DATE').size().reset_index(name='count')\n",
    "    \n",
    "    holidays_count = pd.merge(dfDATE_count,holidays,on='DATE')\n",
    "    \n",
    "    print(holidays_count.sort_values(by='count', ascending=False).head(2))\n",
    "\n",
    "    fig, ax = plt.subplots(figsize=fig_dim)\n",
    "    \n",
    "    sns.lineplot(data=dfDATE_count, x='DATE',y='count', ax=ax, label=\"Number of loads per day\")\n",
    "    sns.regplot(data=holidays_count, x=\"DATE\", y=\"count\", fit_reg=False, \n",
    "                scatter_kws={\"color\":\"black\",\"alpha\":1,\"s\":50}, ax=ax, label='Holidays')\n",
    "    \n",
    "plot_loans_per_day_versus_holidays(df, holidays)"
   ]
  },
  {
   "cell_type": "markdown",
   "metadata": {},
   "source": [
    "Analyzing the graph of daily counts over the years with the holidays, we can see the great influence of the holidays on the data. \n",
    "\n",
    "Most of the days, when the count is very low, coincide with the holidays, standing out only two days when the number of users is high, which refer to holidays x and y. Since most stations are automatic, it is more likely that stations close on holidays."
   ]
  },
  {
   "cell_type": "markdown",
   "metadata": {},
   "source": [
    "### Weather"
   ]
  },
  {
   "cell_type": "code",
   "execution_count": 9,
   "metadata": {},
   "outputs": [],
   "source": [
    "def get_history(city_name, start_date):\n",
    "    \n",
    "    print(\"Retrieving {0} history...\".format(city_name))\n",
    "      \n",
    "    api = \"155b4d6acbf49ae8044c54f654953578\"\n",
    "    start = str(int(time.mktime(datetime.datetime.strptime(start_date, \"%Y-%m-%d\").timetuple())))\n",
    "    \n",
    "    url = \"http://history.openweathermap.org/data/2.5/history/wdl?q=\" + city_name + ',CO&type=hour&start=' + start + '&cnt=24&appid=' + api \\\n",
    "        \n",
    "    request_json=requests.get(url).json()   \n",
    "    \n",
    "    return pd.json_normalize(request_json[\"list\"])"
   ]
  },
  {
   "cell_type": "code",
   "execution_count": 10,
   "metadata": {},
   "outputs": [],
   "source": [
    "def get_agg_metric(city, start_date, col, agg_metric):\n",
    "    df=get_history(city, start_date)\n",
    "    #metric = df[col].agg_metric\n",
    "    \n",
    "    #return metric\n",
    "    return df.agg({col: agg_metric})"
   ]
  },
  {
   "cell_type": "markdown",
   "metadata": {},
   "source": [
    "Selecting data from 2018 and 2019 and counting the daily number of bicycle usage."
   ]
  },
  {
   "cell_type": "code",
   "execution_count": null,
   "metadata": {},
   "outputs": [],
   "source": [
    "df['DATE'] = df['Start loan'].dt.date.astype(str)\n",
    "df = df[(df['year_prestamo']>=2018)]"
   ]
  },
  {
   "cell_type": "code",
   "execution_count": null,
   "metadata": {},
   "outputs": [],
   "source": [
    "dfDateCount = df.groupby(['DATE','year_prestamo','month_prestamo','day_prestamo']).size().reset_index(name='count')"
   ]
  },
  {
   "cell_type": "code",
   "execution_count": null,
   "metadata": {},
   "outputs": [],
   "source": [
    "dfDateCount['AvgDailyTemp'] = dfDateCount.apply(lambda row: get_agg_metric(\"Itagui\", row.DATE, \"main.temp\", \"mean\"), axis=1)\n",
    "dfDateCount['AvgDailyPressure'] = dfDateCount.apply(lambda row: get_agg_metric(\"Itagui\", row.DATE, \"main.pressure\", \"mean\"), axis=1)\n",
    "dfDateCount['AvgDailyHumidity'] = dfDateCount.apply(lambda row: get_agg_metric(\"Itagui\", row.DATE, \"main.humidity\", \"mean\"), axis=1)\n",
    "dfDateCount['AvgDailyWind'] = dfDateCount.apply(lambda row: get_agg_metric(\"Itagui\", row.DATE, \"wind.speed\", \"mean\"), axis=1)"
   ]
  },
  {
   "cell_type": "code",
   "execution_count": null,
   "metadata": {},
   "outputs": [],
   "source": [
    "#saving dataframe with weather data\n",
    "pickle.dump(dfDateCount, open(base+'/'+\"df_weather\", \"wb\"))"
   ]
  },
  {
   "cell_type": "code",
   "execution_count": 11,
   "metadata": {},
   "outputs": [],
   "source": [
    "#acessing dataframe with weather data\n",
    "dfDateCountWeather = pd.read_pickle(base + '/' + 'df_weather')"
   ]
  },
  {
   "cell_type": "code",
   "execution_count": 12,
   "metadata": {},
   "outputs": [],
   "source": [
    "def correlation_matrix (df):\n",
    "    cor = df.corr()\n",
    "    \n",
    "    fig,ax = plt.subplots(figsize=(6,5))\n",
    "    sns.heatmap(cor, annot=True)"
   ]
  },
  {
   "cell_type": "markdown",
   "metadata": {},
   "source": [
    "**Daily Analysis**"
   ]
  },
  {
   "cell_type": "code",
   "execution_count": 13,
   "metadata": {
    "scrolled": false
   },
   "outputs": [
    {
     "data": {
      "image/png": "[encoded data removed]",
      "text/plain": [
       "<Figure size 432x360 with 2 Axes>"
      ]
     },
     "metadata": {
      "needs_background": "light"
     },
     "output_type": "display_data"
    }
   ],
   "source": [
    "correlation_matrix(dfDateCountWeather.filter(['count', 'AvgDailyTemp', 'AvgDailyPressure', 'AvgDailyHumidity', 'AvgDailyWind']))"
   ]
  },
  {
   "cell_type": "markdown",
   "metadata": {},
   "source": [
    "The number \n",
    "\n",
    "\n",
    "\n",
    "TROCAR ORDEM PARA DEPOIS DA PARTE EM QUE FAÇO BALANÇO E VER A RELAÇÃO DO BALANÇO VERSUS DADOS METER."
   ]
  },
  {
   "cell_type": "markdown",
   "metadata": {},
   "source": [
    "# Evolution over time versus loans????"
   ]
  },
  {
   "cell_type": "markdown",
   "metadata": {},
   "source": [
    "## Evolution of loans, returns, stations... over time"
   ]
  },
  {
   "cell_type": "markdown",
   "metadata": {},
   "source": [
    "**What are the most common hours / days of the week / months for using shared bicycles?**"
   ]
  },
  {
   "cell_type": "code",
   "execution_count": null,
   "metadata": {},
   "outputs": [],
   "source": [
    "def plot_prestamo_over_time(_df):\n",
    "    df = _df.copy()\n",
    "    \n",
    "    fig, axs = plt.subplots(2, 2, figsize=fig_dim)\n",
    "    axis = [ axs[0, 0], axs[0, 1], axs[1, 0], axs[1, 1]]\n",
    "    \n",
    "    time_units = [\"year\", \"month\", \"day\", \"hour\"]\n",
    "    \n",
    "    for i in range(len(time_units)):\n",
    "        time_unit = time_units[i]\n",
    "        df_time = df.groupby(time_unit+'_prestamo').size().reset_index(name='count')\n",
    "\n",
    "        axis[i].plot(df_time[time_unit+\"_prestamo\"], df_time[\"count\"])\n",
    "        axis[i].set_title(time_unit+\"_prestamo\")\n",
    "\n",
    "    plt.plot()\n",
    "\n",
    "plot_prestamo_over_time(df)"
   ]
  },
  {
   "cell_type": "markdown",
   "metadata": {},
   "source": [
    "Over the years there has been an increase in the use of shared bicycles, which proves the efforts made so that more and more sustainable transports are used.\n",
    "\n",
    "Regarding the months throughout the year, there are some that stand out for the greater volume of loans, namely August, September, and October. This may be due to the fact that they correspond to the times with the greatest number of tourists. They are followed by February, March, July, and November, where there is also a high number of loans. The months with the lowest use of bicycles are January, June, and December. The fact that January and December have such low numbers may be related to the weather conditions (heavy rain) that lead to the non-use of bicycles.\n",
    "\n",
    "Over the days of the month, the values are similar, with small fluctuations. For the 31st day, there is a great decrease, this is due to the fact that a smaller number of months has 31 days.\n",
    "\n",
    "Throughout the day, there are two peaks that stand out and that coincide with the rush hour (one in the early morning and the other in the late afternoon). There is also a peak at lunchtime. These three moments of the day are the busiest because they include traveling home-work, work-home, and even traveling to lunch. It is also possible to identify approximately the opening and closing times of the stations, 4 am and 10 pm, respectively."
   ]
  },
  {
   "cell_type": "markdown",
   "metadata": {},
   "source": [
    "**What are the average loan times?**"
   ]
  },
  {
   "cell_type": "code",
   "execution_count": null,
   "metadata": {},
   "outputs": [],
   "source": [
    "dfDuration = df.groupby('duration_hour').size().reset_index(name='count')\n",
    "dfDuration_ft = dfDuration[(dfDuration[\"duration_hour\"]<3) & (dfDuration[\"duration_hour\"]>0.05)]\n",
    "ax=dfDuration_ft.plot(x=\"duration_hour\", y=\"count\", figsize=fig_dim)"
   ]
  },
  {
   "cell_type": "code",
   "execution_count": null,
   "metadata": {},
   "outputs": [],
   "source": [
    "dfDuration_ft = dfDuration[(dfDuration[\"duration_hour\"]<0.2) & (dfDuration[\"duration_hour\"]>0.05)]\n",
    "ax=dfDuration_ft.plot(x=\"duration_hour\", y=\"count\", figsize=fig_dim)"
   ]
  },
  {
   "cell_type": "markdown",
   "metadata": {},
   "source": [
    "As it can be verified, most of the durations of use are less than 1 hour and that the top of the curve is reached between 0.10 and 0.12 of the hour, which means that the most common durations are between 6 and 8 minutes."
   ]
  },
  {
   "cell_type": "markdown",
   "metadata": {},
   "source": [
    "**What are the most common origins/destinations?**"
   ]
  },
  {
   "cell_type": "code",
   "execution_count": null,
   "metadata": {},
   "outputs": [],
   "source": [
    "dfOrigin=df.groupby('ID start station').size().reset_index(name='count').sort_values(by=['count'])    \n",
    "dfOrigin[\"ID start station\"] = dfOrigin[\"ID start station\"].astype(str)\n",
    "bar_plot(\"ID start station\", \"count\", dfOrigin)"
   ]
  },
  {
   "cell_type": "code",
   "execution_count": null,
   "metadata": {},
   "outputs": [],
   "source": [
    "dfOrigin[(dfOrigin[\"ID start station\"]=='73') | (dfOrigin[\"ID start station\"]=='105')]"
   ]
  },
  {
   "cell_type": "markdown",
   "metadata": {},
   "source": [
    "The above graph shows the most common origins.\n",
    "\n",
    "There are a large number of underused stations, in particular from 73 to 105 (according to the order shown in the graph), with counts less than 1015.\n",
    "\n",
    "The most used stations, the ones with counts above 300000, are the station 8,7,12,3,2,67 (in descending order). "
   ]
  },
  {
   "cell_type": "code",
   "execution_count": null,
   "metadata": {
    "scrolled": false
   },
   "outputs": [],
   "source": [
    "dfDestination=df.groupby('ID end station').size().reset_index(name='count').sort_values(by=['count'])    \n",
    "dfDestination[\"ID end station\"] = dfDestination[\"ID end station\"].astype(str)\n",
    "bar_plot(\"ID end station\", \"count\", dfDestination)"
   ]
  },
  {
   "cell_type": "code",
   "execution_count": null,
   "metadata": {},
   "outputs": [],
   "source": [
    "dfDestination[(dfDestination[\"ID end station\"]=='88') | (dfDestination[\"ID end station\"]=='109')]"
   ]
  },
  {
   "cell_type": "markdown",
   "metadata": {},
   "source": [
    "The above graph shows the most common destinations.\n",
    "\n",
    "Again, there are a large number of underused stations, in particular from 88 to 109 (according to the order shown in the graph), with counts less than 1348.\n",
    "\n",
    "The most used stations, the ones with counts above 300000, are the station 8,7,12,3,67,2,10 (in descending order). "
   ]
  },
  {
   "cell_type": "markdown",
   "metadata": {},
   "source": [
    "Relating the counts of the origin and destination stations, it can be seen that the most used ones are common, with 8, 7 and 12 in both being the ones with the highest number."
   ]
  },
  {
   "cell_type": "markdown",
   "metadata": {},
   "source": [
    "**What are the most common routes?**"
   ]
  },
  {
   "cell_type": "code",
   "execution_count": null,
   "metadata": {},
   "outputs": [],
   "source": [
    "def plot_popular_routes(df):\n",
    "    \n",
    "    df_routes = df.groupby(['ID start station', 'ID end station']).size().reset_index(name='count')\n",
    "    \n",
    "    _df_temp = df_routes.copy()\n",
    "    _df_temp = _df_temp.sort_values(by=['count'], ascending=False).head(6)\n",
    "    \n",
    "    print(\"Max count: \")\n",
    "    print(_df_temp)\n",
    "\n",
    "    fig = plt.figure(figsize=fig_dim)\n",
    "    ax = Axes3D(fig)\n",
    "\n",
    "    ax.plot_trisurf(df_routes[\"ID start station\"], df_routes[\"ID end station\"], \\\n",
    "                    df_routes[\"count\"], cmap=cm.jet, linewidth=0.2)\n",
    "    ax.set_zlabel('Count')\n",
    "    ax.set_xlabel('Origin')\n",
    "    ax.set_ylabel('Destination')\n",
    "\n",
    "    plt.show()\n",
    "    \n",
    "plot_popular_routes(df)"
   ]
  },
  {
   "cell_type": "markdown",
   "metadata": {},
   "source": [
    "There are 3 main routes: 8-10, 7-70, and 2-1. The one that is the most common is the 8-10.\n",
    "\n",
    "[VERIFICAR LOCALIZAÇÃO]"
   ]
  },
  {
   "cell_type": "markdown",
   "metadata": {},
   "source": [
    "From now on, only the data related to the station of origin will be considered, this is due to the fact that there are destination stations that are never used as an origin and therefore are not informative in our case."
   ]
  },
  {
   "cell_type": "code",
   "execution_count": null,
   "metadata": {},
   "outputs": [],
   "source": [
    "unique_parks = df['ID start station'].unique()"
   ]
  },
  {
   "cell_type": "markdown",
   "metadata": {},
   "source": [
    "**For each node, the dates/days and the loans count**"
   ]
  },
  {
   "cell_type": "code",
   "execution_count": null,
   "metadata": {},
   "outputs": [],
   "source": [
    "dfOrigemDayCount=df.groupby([\"ID start station\", pd.Grouper(key=\"Fecha_Prestamo_htruncate\", freq=\"D\")]) \\\n",
    "                        .size().reset_index(name='Count')\n",
    "dfOrigemDayCount.head()"
   ]
  },
  {
   "cell_type": "markdown",
   "metadata": {},
   "source": [
    "[????????]"
   ]
  },
  {
   "cell_type": "code",
   "execution_count": null,
   "metadata": {},
   "outputs": [],
   "source": [
    "# nº de nós associados ao dia\n",
    "dfNodesDay = dfOrigemDayCount.groupby(\"Fecha_Prestamo_htruncate\").size().reset_index() \\\n",
    "    .rename(columns={0:'count'}).sort_values(by=['count'])\n",
    "\n",
    "dfNodesDay.tail()"
   ]
  },
  {
   "cell_type": "markdown",
   "metadata": {},
   "source": [
    "**Daily number of active stations**"
   ]
  },
  {
   "cell_type": "code",
   "execution_count": null,
   "metadata": {},
   "outputs": [],
   "source": [
    "def active_stations_per_day(_df, holidays):\n",
    "    df = _df.copy().sort_values(by=['Fecha_Prestamo_htruncate'])\n",
    "    df[\"Fecha_Prestamo_htruncate\"] = df[\"Fecha_Prestamo_htruncate\"].dt.date.astype(str)\n",
    "\n",
    "    holidays = holidays.rename(columns={'DATE':'Fecha_Prestamo_htruncate'})\n",
    "    holidays_count = pd.merge(df,holidays,on='Fecha_Prestamo_htruncate')\n",
    "    \n",
    "    fig, ax = plt.subplots(figsize=fig_dim)\n",
    "    sns.lineplot(data=df, x=\"Fecha_Prestamo_htruncate\", y=\"count\", ax=ax, label=\"Number of loads per day\")\n",
    "    sns.regplot(data=holidays_count, x=\"Fecha_Prestamo_htruncate\", y=\"count\", fit_reg=False, \n",
    "                scatter_kws={\"color\":\"black\",\"alpha\":1,\"s\":200}, ax=ax, label='Holidays')\n",
    "    plt.show()\n",
    "\n",
    "active_stations_per_day(dfNodesDay, holidays)"
   ]
  },
  {
   "cell_type": "markdown",
   "metadata": {},
   "source": [
    "Analyzing the figure, we can note again that on the days when there is a holiday, most of the stations, if not all, are closed, hence the number of bicycle usage is quite low."
   ]
  },
  {
   "cell_type": "markdown",
   "metadata": {},
   "source": [
    "[??] Meter o nome dos eixos nas figuras\n",
    "fig, ax = plt.subplots(figsize=fig_dim)\n",
    "sns.lineplot(data=df, x=\"Fecha_Prestamo_htruncate\", y=\"count\", ax=ax, label=\"Number of loads per day\")"
   ]
  },
  {
   "cell_type": "markdown",
   "metadata": {},
   "source": [
    "Isto dá-nos a data com mais nós associados mas não garante que os 85 nós tem 4 entradas antes"
   ]
  },
  {
   "cell_type": "code",
   "execution_count": null,
   "metadata": {},
   "outputs": [],
   "source": [
    "def loans_per_day_per_station(_df, station):\n",
    "    df = _df.copy()\n",
    "    df = df[df[\"ID start station\"]==station]\n",
    "    df = df[[\"Fecha_Prestamo_htruncate\", \"Count\"]]\n",
    "    \n",
    "    fig = plt.figure(figsize=fig_dim)\n",
    "    plt.plot(df[\"Fecha_Prestamo_htruncate\"], df[\"Count\"])\n",
    "\n",
    "loans_per_day_per_station(dfOrigemDayCount, 1)"
   ]
  },
  {
   "cell_type": "code",
   "execution_count": null,
   "metadata": {},
   "outputs": [],
   "source": [
    "loans_per_day_per_station(dfOrigemDayCount, 70)"
   ]
  },
  {
   "cell_type": "markdown",
   "metadata": {},
   "source": [
    "The graphs shown above are for two different stations, hence the trend for loans per day is so different. In the first station there is a growing trend, in contrast, in the second station the trend is constant with a great decrease in the months of December and January.\n",
    "\n",
    "This is just a demonstration of how completely different is the bike usage behavior from station to station."
   ]
  },
  {
   "cell_type": "markdown",
   "metadata": {},
   "source": [
    "**Loans per station per hour**"
   ]
  },
  {
   "cell_type": "code",
   "execution_count": null,
   "metadata": {},
   "outputs": [],
   "source": [
    "def get_loans_or_returns_per_station_per_time(_df, field_date, field_station, field_position, time):\n",
    "    df = _df.copy()\n",
    "    df = df[[field_date, field_station, field_position]]\n",
    "    df[field_position] = [1]*len(df.index)\n",
    "    #df[field_date] = df[field_date].dt.round(time)\n",
    "    \n",
    "    if time == 'd':\n",
    "        df[field_date] = df[field_date].dt.date\n",
    "    elif time == 'h':\n",
    "        df[field_date] = df[field_date].dt.floor('h')\n",
    "\n",
    "    df = df.rename(columns={field_date:'Date', field_station:'Station'})\n",
    "    df = df.groupby(['Station', 'Date']).size().to_frame()\n",
    "    \n",
    "    if(field_date=='Start loan'):\n",
    "        df = df.rename(columns={0:'N Loans'})\n",
    "    else:\n",
    "        df = df.rename(columns={0:'N Returns'})\n",
    "        \n",
    "    return df\n",
    "\n",
    "def get_loans_and_returns_info_per_time(_df, time):\n",
    "    loans = get_loans_or_returns_per_station_per_time(_df, \\\n",
    "                    'Start loan', 'ID start station', 'Position start', time)\n",
    "        \n",
    "    returns = get_loans_or_returns_per_station_per_time(_df, \\\n",
    "                    'End loan', 'ID end station', 'Position end', time)\n",
    "        \n",
    "    df = pd.concat([loans, returns], axis=1)\n",
    "    df = df.fillna(0)\n",
    "    df['balance_per_' + time] = df['N Returns'] - df['N Loans']\n",
    "    \n",
    "    return df"
   ]
  },
  {
   "cell_type": "code",
   "execution_count": null,
   "metadata": {},
   "outputs": [],
   "source": [
    "loans_and_returns = get_loans_and_returns_info_per_time(df, \"h\")\n",
    "loans_and_returns.head(5)"
   ]
  },
  {
   "cell_type": "markdown",
   "metadata": {},
   "source": [
    "Above we calculate the balance of each station per hour per day. The balance is calculated by subtracting the number of loans from the number of returns. When there is a negative balance means that the number of loans was greater than the number of returns in that station, at that day, at that hour. When the balance is positive means that the number of returns is greater than the number of loans and when equals to zero, the number of loans is equal to the number of returns."
   ]
  },
  {
   "cell_type": "code",
   "execution_count": null,
   "metadata": {},
   "outputs": [],
   "source": [
    "# Given a station, this function calculates the number of bikes through time using the loans and the returns\n",
    "def get_balance_for_station(_df, station):\n",
    "    df = _df.copy()\n",
    "    df = df.reset_index()\n",
    "    df = df.loc[df['Station']==station]\n",
    "    df['N Loans cumsum'] = df['N Loans'].cumsum()\n",
    "    df['N Returns cumsum'] = df['N Returns'].cumsum() # returns\n",
    "    df['Balance'] = df['N Returns cumsum'] - df['N Loans cumsum']\n",
    "    \n",
    "    return df"
   ]
  },
  {
   "cell_type": "code",
   "execution_count": null,
   "metadata": {},
   "outputs": [],
   "source": [
    "def plot_balance_over_multiple_stations(loans_and_returns, stations):\n",
    "    \n",
    "    fig, axs = plt.subplots(4, 2, figsize=(15,24))\n",
    "    axis = [ axs[0, 0], axs[0, 1], axs[1, 0], axs[1, 1],\n",
    "             axs[2, 0], axs[2, 1], axs[3, 0], axs[3, 1]]\n",
    "    colors = ['tab:blue', 'tab:orange', 'tab:green', 'tab:red', 'tab:blue', 'tab:orange', 'tab:green', 'tab:red']\n",
    "    \n",
    "    for i in range(8):\n",
    "        station = stations[i]\n",
    "    \n",
    "        balance_st = get_balance_for_station(loans_and_returns, station)\n",
    "        \n",
    "        axis[i].plot(balance_st['Date'], balance_st['Balance'], colors[i])\n",
    "        axis[i].set_title('Station ' + str(station))\n",
    "        axis[i].tick_params(labelrotation=30)\n",
    "\n",
    "    plt.plot()\n",
    "\n",
    "plot_balance_over_multiple_stations(loans_and_returns, stations=[1, 70, 54, 45, 12, 70, 2, 21])"
   ]
  },
  {
   "cell_type": "markdown",
   "metadata": {},
   "source": [
    "From the above graphs, there are some stations that receive more than they lend (station 1, 70, 54, 45, 12 and 70), that lend more than they receive (station 2 between 2016-07 and 2018-07) and that receive and lend in the same proportion (station 21 between 2017-07 and 2018-07).\n",
    "\n",
    "Through the balance it is not possible to understand the initial number of bicycles in the station, because there are several manual changes that are not reported."
   ]
  },
  {
   "cell_type": "markdown",
   "metadata": {},
   "source": [
    "[????]"
   ]
  },
  {
   "cell_type": "code",
   "execution_count": null,
   "metadata": {},
   "outputs": [],
   "source": [
    "# TO-DO\n",
    "# gráfico\n",
    "# após a previsão encontrar o dia com mais nós em que foi realizada a previsão"
   ]
  },
  {
   "cell_type": "markdown",
   "metadata": {},
   "source": [
    "**Obtaining the initial number of bicycles per station**"
   ]
  },
  {
   "cell_type": "code",
   "execution_count": null,
   "metadata": {},
   "outputs": [],
   "source": [
    "# ver o primeiro mês em que a estação abre, e fazer a contagens por aí\n",
    "\n",
    "def get_init_number_of_bikes_per_station(_df):\n",
    "    df = _df.copy()\n",
    "    df = df[[\"Tag ID\", \"Start loan\", \"ID start station\"]]\n",
    "    df[\"Start loan\"] = pd.to_datetime(df[\"Start loan\"], format='%Y-%m-%d %H:%M:%S.%f')\n",
    "    df = df.sort_values(by=\"Start loan\")\n",
    "    # for each tag get first station\n",
    "    df = df.groupby(\"Tag ID\").first() \\\n",
    "            .reset_index() \\\n",
    "            [[\"Tag ID\", \"ID start station\"]]\n",
    "    # for each station get initial number of bikes \n",
    "    df = df.groupby(\"ID start station\").count()\n",
    "    df = df.rename(columns={'Tag ID':'Count'})\n",
    "    df = df.sort_values(by=['Count'])\n",
    "    df = df.reset_index()\n",
    "    df[\"ID start station\"] = df[\"ID start station\"].astype(str)\n",
    "    return df\n",
    "    \n",
    "init_n_bikes = get_init_number_of_bikes_per_station(df)\n",
    "init_n_bikes.head()"
   ]
  },
  {
   "cell_type": "code",
   "execution_count": null,
   "metadata": {},
   "outputs": [],
   "source": [
    "init_n_bikes.tail()"
   ]
  },
  {
   "cell_type": "markdown",
   "metadata": {},
   "source": [
    "We tried to understand what the initial number of bicycles would be per season, however the tag changes should be quite frequent and due to the values obtained, it is not possible to understand the initial number of bicycles of the season. In addition, changes in station bicycles made by workers contribute to this problem, making it impossible to track bicycles over time."
   ]
  },
  {
   "cell_type": "code",
   "execution_count": null,
   "metadata": {},
   "outputs": [],
   "source": [
    "fig, axs = plt.subplots(figsize=fig_dim)\n",
    "axs = sns.barplot(x=\"ID start station\", y=\"Count\", data=init_n_bikes)\n",
    "plt.xticks(rotation=90)\n",
    "plt.draw()"
   ]
  },
  {
   "cell_type": "markdown",
   "metadata": {},
   "source": [
    "[dúvida]"
   ]
  },
  {
   "cell_type": "markdown",
   "metadata": {},
   "source": [
    "The figure above represents the number of bikes that appear for the first time in each station"
   ]
  },
  {
   "cell_type": "markdown",
   "metadata": {},
   "source": [
    "A estação 9 está associada ao aparecimento pela primeira vez de 400 bicicletas (do ID de uma bicicleta)."
   ]
  },
  {
   "cell_type": "markdown",
   "metadata": {},
   "source": [
    "[BRUNO] Qual é a localização das estações com mais de 100 contagens? "
   ]
  },
  {
   "cell_type": "code",
   "execution_count": null,
   "metadata": {},
   "outputs": [],
   "source": []
  },
  {
   "cell_type": "code",
   "execution_count": null,
   "metadata": {},
   "outputs": [],
   "source": []
  },
  {
   "cell_type": "code",
   "execution_count": null,
   "metadata": {},
   "outputs": [],
   "source": []
  },
  {
   "cell_type": "markdown",
   "metadata": {},
   "source": [
    "Verificar quando as estações automáticas cheias. -> ver para cada estação qual o nº máximo de posições diferentes e depois tentar perceber qnd é que elas estão cheias (elas estão cheias se num dado intervalo de tempo todas as positions estão ocupadas) ---> taxa de ocupação"
   ]
  },
  {
   "cell_type": "markdown",
   "metadata": {},
   "source": [
    "Há posições que nunca são ocupadas!!!!"
   ]
  },
  {
   "cell_type": "code",
   "execution_count": null,
   "metadata": {},
   "outputs": [],
   "source": []
  },
  {
   "cell_type": "code",
   "execution_count": null,
   "metadata": {},
   "outputs": [],
   "source": []
  },
  {
   "cell_type": "markdown",
   "metadata": {},
   "source": [
    "Ver a taxa de ocupação a cada hora"
   ]
  },
  {
   "cell_type": "markdown",
   "metadata": {},
   "source": [
    "# Forecasting the ?field?"
   ]
  },
  {
   "cell_type": "code",
   "execution_count": null,
   "metadata": {},
   "outputs": [],
   "source": [
    "#loans_and_returns_per_day = get_loans_and_returns_info_per_time(df, \"d\")\n",
    "#loans_and_returns_per_day.head(25)"
   ]
  },
  {
   "cell_type": "code",
   "execution_count": null,
   "metadata": {},
   "outputs": [],
   "source": [
    "def get_max_balance_per_day(_df):\n",
    "    df = _df.copy()\n",
    "    df = get_loans_and_returns_info_per_time(df, \"h\")\n",
    "    df = df.reset_index()\n",
    "    df[\"Date\"] = df[\"Date\"].dt.date\n",
    "    df = df.groupby(['Station', 'Date']).max().rename(\n",
    "        columns={\"N Loans\": \"max_n_loans\", \"N Returns\": \"max_n_returns\", \"balance_per_h\": \"max_balance_per_h\"})\n",
    "    df['max_balance_per_h'] = [0 if x<0 else x for x in df['max_balance_per_h']]\n",
    "    return df\n",
    "    \n",
    "loans_and_returns_max_per_day = get_max_balance_per_day(df).reset_index()\n",
    "loans_and_returns_max_per_day.head()"
   ]
  },
  {
   "cell_type": "markdown",
   "metadata": {},
   "source": [
    "The data that is selected for each day is the maximum balance per hour, without considering negative values."
   ]
  },
  {
   "cell_type": "code",
   "execution_count": null,
   "metadata": {},
   "outputs": [],
   "source": [
    "#clean the previous dataset\n",
    "loans_and_returns_max_per_day = loans_and_returns_max_per_day[['Station', 'Date', 'max_balance_per_h']]\n",
    "loans_and_returns_max_per_day.Station = loans_and_returns_max_per_day.Station.astype(int)\n",
    "loans_and_returns_max_per_day.max_balance_per_h = loans_and_returns_max_per_day.max_balance_per_h.astype(int)\n",
    "loans_and_returns_max_per_day = loans_and_returns_max_per_day.rename(columns={'max_balance_per_h': 'max_balance'})\n",
    "loans_and_returns_max_per_day"
   ]
  },
  {
   "cell_type": "code",
   "execution_count": null,
   "metadata": {},
   "outputs": [],
   "source": [
    "# ver parâmetros para melhorar, \n",
    "# se o count_before for 8 ele dá 8 entradas antes\n",
    "# offset é o nº de dias antes do atual\n",
    "# distância entre cada uma das entradas\n",
    "# distance=1, count_before=3, offset=0 ---> considera os 3 dias antes\n",
    "# distance=7, count_before=4, offset=7 ---> 4 entradas com a diferença de 7 dias entre elas \n",
    "#                                              e começo a contar na semana anterior"
   ]
  },
  {
   "cell_type": "code",
   "execution_count": null,
   "metadata": {},
   "outputs": [],
   "source": [
    "# Auxiliar functions\n",
    "def generate_features(df, cols, distance=1, count_before=3, offset=0):\n",
    "    # Filter rows in which we cannot trace back history\n",
    "    periodDf = df[df.index-(count_before*distance+offset)>=0].copy()\n",
    "    # Number of removed elements is the offset for the new df\n",
    "    n_removed=df.shape[0]-periodDf.shape[0]\n",
    "    # Add new features based on traced history\n",
    "    for col in cols:\n",
    "        for i in range(0, count_before):\n",
    "            diff=(i+1)*distance+offset\n",
    "            periodDf[col+\"_minus_\" + str(diff)]=periodDf.apply(lambda row: df.iloc[int(row.name)-diff][col], \\\n",
    "                                                               axis=1) \n",
    "        \n",
    "    return periodDf\n",
    "\n",
    "def prepare_inputs(X_train, X_test):\n",
    "    ohe = OneHotEncoder()\n",
    "    ohe.fit(X_train)\n",
    "    X_train_enc = ohe.transform(X_train)\n",
    "    X_test_enc = ohe.transform(X_test)\n",
    "    return X_train_enc, X_test_enc\n",
    "\n",
    "\n",
    "def split_df(df, train_size=0.8):\n",
    "    train_size = floor(df.shape[0]*train_size)\n",
    "\n",
    "    train = df[:train_size]\n",
    "    test = df[train_size:]\n",
    "    \n",
    "    return train, test\n",
    "\n",
    "def process_df(train, test, dfFeatures, col_name):\n",
    "    trainX = train[dfFeatures.columns[4:]]\n",
    "    trainX = trainX.to_numpy().reshape(trainX.shape[0], trainX.shape[1], 1)\n",
    "    trainY = train[[col_name]]\n",
    "    trainY = trainY.to_numpy().reshape(trainY.shape[0])\n",
    "    testX = test[dfFeatures.columns[4:]]\n",
    "    testX = testX.to_numpy().reshape(testX.shape[0], testX.shape[1], 1)\n",
    "    testY = test[[col_name]]\n",
    "    testY = testY.to_numpy().reshape(testY.shape[0])\n",
    "    \n",
    "    \n",
    "    return trainX, trainY, testX, testY\n",
    "\n",
    "# fit and evaluate a model\n",
    "def evaluate_model(trainX, trainy, testX, testy):\n",
    "    verbose, epochs, batch_size = 0, 10, 32\n",
    "    n_timesteps, n_features, n_outputs = trainX.shape[0], trainX.shape[1], trainX.shape[2]\n",
    "    model = Sequential()\n",
    "    model.add(Conv1D(filters=6, kernel_size=2, activation='relu', input_shape=(n_features, n_outputs)))\n",
    "    model.add(Conv1D(filters=6, kernel_size=2, activation='relu'))\n",
    "    #model.add(MaxPooling1D(pool_size=2))\n",
    "    model.add(Flatten())\n",
    "    #model.add(Dense(100, activation='relu'))\n",
    "    model.add(Dense(1, activation='relu')) \n",
    "    model.compile(loss='mse', optimizer='adam', metrics=['mean_squared_error'])\n",
    "    # fit network\n",
    "    model.fit(trainX, trainy, epochs=epochs, batch_size=batch_size, verbose=verbose)\n",
    "    # evaluate model\n",
    "    _, accuracy = model.evaluate(testX, testy, batch_size=batch_size, verbose=0)\n",
    "    return model, accuracy\n",
    "\n",
    "\n",
    "def run_experiment(trainX, trainy, testX, testy, repeats=10):\n",
    "    min_score=-1\n",
    "    min_model=None\n",
    "    # repeat experiment\n",
    "    scores = list()\n",
    "    for r in range(repeats):\n",
    "        print(\"Train #{}....\".format(r))\n",
    "        model, score = evaluate_model(trainX, trainy, testX, testy)\n",
    "        if min_score==-1 or score<min_score:\n",
    "            min_score=score\n",
    "            min_model=model\n",
    "        scores.append(score)\n",
    "    return min_model, scores"
   ]
  },
  {
   "cell_type": "code",
   "execution_count": null,
   "metadata": {},
   "outputs": [],
   "source": [
    "def perform_forecasting_all_nodes(_df, parks):\n",
    "    \n",
    "    df = _df.copy()\n",
    "\n",
    "    allNodesDf=pd.DataFrame()\n",
    "    # CREATE MODEL PER NODE AND PREDICT TEST SET BASED ON EACH INDIVIDUAL MODEL\n",
    "    for park in parks:\n",
    "        # FILTERING ENTRIES TO PARK ID\n",
    "        print (\"Filtering entries by park id {}...\".format(park))\n",
    "        dfParkId = df[df[\"Station\"]==park]\n",
    "        dfParkId=dfParkId.reset_index()\n",
    "        if len(dfParkId.index) <= 35:  #not enough data for training \n",
    "            continue\n",
    "\n",
    "        # GENERATE FEATURES (4 ENTRIES 7 DAYS APPART FROM EACH OTHER FROM THE PREVIOUS 4 WEEKS)\n",
    "        print (\"Generating park {} features...\".format(park))\n",
    "        dfFeatures=generate_features(dfParkId, [\"max_balance\"], distance=7, count_before=4, offset=7)\n",
    "        dfFeatures=dfFeatures.reset_index(drop=True)\n",
    "\n",
    "        # SPLITTING DF INTO TRAIN AND TEST SETS\n",
    "        print (\"Splitting train/test dataset for park id {}...\".format(park))\n",
    "        train, test = split_df(dfFeatures)\n",
    "        trainX, trainy, testX, testy = process_df(train, test, dfFeatures, 'max_balance')\n",
    "\n",
    "        # TRAIN CNN\n",
    "        print (\"Traning model for park id {}...\".format(park))\n",
    "        model, scores = run_experiment(trainX, trainy, testX, testy, repeats=3)\n",
    "\n",
    "        # PREDICT TEST SET SAMPLES\n",
    "        print (\"Predicting samples for park id {}...\".format(park))\n",
    "        predict = model.predict(testX)\n",
    "        dfPredict=pd.DataFrame(data=predict.flatten()[:], columns=[\"predict\"])\n",
    "        truth=pd.DataFrame(data=testy[:], columns=[\"truth\"])\n",
    "        testDf=pd.concat([dfPredict, truth, test.reset_index()[[\"Station\", \"Date\"]]], \\\n",
    "                         axis=1)\n",
    "        testDf.set_index([\"Station\", \"Date\"], inplace = True)\n",
    "        allNodesDf=pd.concat([allNodesDf, testDf])\n",
    "        print(allNodesDf)\n",
    "        \n",
    "    return allNodesDf\n",
    "\n",
    "\n",
    "#allNodesDf = perform_forecasting_all_nodes(loans_and_returns_max_per_day, [8, 56])\n",
    "allNodesDf = perform_forecasting_all_nodes(loans_and_returns_max_per_day, unique_parks) #<<---- demora muito tempo (~20 mins)"
   ]
  },
  {
   "cell_type": "markdown",
   "metadata": {},
   "source": [
    "## Overall results"
   ]
  },
  {
   "cell_type": "code",
   "execution_count": null,
   "metadata": {
    "scrolled": false
   },
   "outputs": [],
   "source": [
    "rms = np.sqrt(mean_squared_error(allNodesDf[\"truth\"], allNodesDf[\"predict\"]))\n",
    "print (\"OVERALL ROOT MEAN SQUARED ERROR >> \" + str(rms))\n",
    "max_charts = 4\n",
    "i = 0\n",
    "for node in unique_parks:\n",
    "    i+=1\n",
    "    print (\" ------------------ NODE {} TRUTH VS PREDICTED CHECK INS ------------------ \".format(node))\n",
    "    ax=allNodesDf.loc[node].plot(figsize=fig_dim, title='Predicted vs ground truth max loans/returns of bicycles per day and station (for test set)')\n",
    "    \n",
    "    ax.set_xlabel(\"Date\")\n",
    "    ax.set_ylabel(\"Max loans/returns of bicycles\")\n",
    "    plt.show()\n",
    "    if i == max_charts:\n",
    "        break"
   ]
  },
  {
   "cell_type": "markdown",
   "metadata": {},
   "source": [
    "These results are not great but are sufficient for the next step: Load balancing.\n",
    "One way to improve these results would be explore feature generation and perform hyperparameter tuning, which we did not explore to focus on other spects of this work.\n",
    "(elaborar mais..)"
   ]
  },
  {
   "cell_type": "markdown",
   "metadata": {},
   "source": [
    "# Load Balancing"
   ]
  },
  {
   "cell_type": "markdown",
   "metadata": {},
   "source": [
    "We will use a graph to perform load balacing between nodes. Our method is the following:\n",
    " - Compute the distance in km between every station\n",
    " - Build a graph where the nodes are stations and edges have the distance between the stations\n",
    " - Check if, for a given station, it can fulfill the maximum demand for bicycles for the day, if it cannot than do the following:\n",
    "     - Perform Breadth First Search in order to find nodes from which we can extract nodes without compromising the demand capacity for that station\n",
    "     - When we find a node from which we can take some, or all necessary bicycles to the needed station we extract what bicycles we can\n",
    "     - Continue visiting other nodes until we have allocated all needed bicycles for the needed station"
   ]
  },
  {
   "cell_type": "markdown",
   "metadata": {},
   "source": [
    "Because we were not able to correctly calculate the number of bicycles per stations with the given data we had to use another metric to use load balacing. Our idea was to search for the balace between the loaned bikes and returned and consider the maximum value. For instance, if a station had a maximum balance of bikes of 30, but its capacity is only 20, that station requires 10 more bicycles. In other words, we try to look at maximum peak value in a given hour of the day where the most bicycles are needed and ensure that a given station can fulfill that demand."
   ]
  },
  {
   "cell_type": "markdown",
   "metadata": {},
   "source": [
    "First, we will prepare the data for the load balacing. The previous predicted nodes have previsions for distinct days. We will select a day for which we have more previsions and consider only the nodes that have predicted data for that day for the load balacing"
   ]
  },
  {
   "cell_type": "code",
   "execution_count": null,
   "metadata": {},
   "outputs": [],
   "source": [
    "allNodesDf = allNodesDf.reset_index()\n",
    "allNodesDf.predict = allNodesDf.predict.round().astype(int) #round up predictions\n",
    "allNodesDf.head()"
   ]
  },
  {
   "cell_type": "code",
   "execution_count": null,
   "metadata": {},
   "outputs": [],
   "source": [
    "dfNodesDay = allNodesDf.groupby(\"Date\").size().reset_index() \\\n",
    "    .rename(columns={0:'count'}).sort_values(by=['count'])\n",
    "\n",
    "dfNodesDay.tail()"
   ]
  },
  {
   "cell_type": "markdown",
   "metadata": {},
   "source": [
    "2019-12-30 is the date where we have more predicted nodes, so we will do load balacing for that day"
   ]
  },
  {
   "cell_type": "markdown",
   "metadata": {},
   "source": [
    "Now, for the construction of the graph"
   ]
  },
  {
   "cell_type": "code",
   "execution_count": null,
   "metadata": {},
   "outputs": [],
   "source": [
    "## Auxiliar functions to prepare the data for the load balancing\n",
    "\n",
    "def get_coord_by_station_id(station_id):\n",
    "    lat = df_info.loc[df_info['ID'] == station_id, \"Lat\"].iloc[0]\n",
    "    lon = df_info.loc[df_info['ID'] == station_id, \"Lon\"].iloc[0]\n",
    "    return [lat,lon]\n",
    "\n",
    "def get_station_capacity_by_id(station_id):\n",
    "    return df_info.loc[df_info['ID'] == station_id, \"numSlots\"].iloc[0][0]\n",
    "\n",
    "def get_station_demand_by_id(date, station_id):\n",
    "    return allNodesDf.loc[(allNodesDf['Station'] == station_id and allNodesDf['Date'] == date),\\\n",
    "                          \"predict\"].iloc[0]\n",
    "\n",
    "def get_demand_prediction_on_station_and_day(day, station_id):\n",
    "    return allNodesDf.loc[(allNodesDf['Station'] == station_id) & (allNodesDf['Date'] == day),\\\n",
    "                          \"predict\"].iloc[0]\n",
    "\n",
    "#calculate distance between 2 geographic points having into account a round globe\n",
    "#code adapted from: https://stackoverflow.com/a/4913653\n",
    "def haversine(p1, p2):\n",
    "    \"\"\"\n",
    "    Calculate the great circle distance between two points \n",
    "    on the earth (specified in decimal degrees)\n",
    "    \"\"\"\n",
    "    # convert decimal degrees to radians \n",
    "    lon1, lat1, lon2, lat2 = map(radians, [p1[1], p1[0], p2[1], p2[0]]) #long, lat CONFIRM ORDER!!!!\n",
    "    # haversine formula \n",
    "    dlon = lon2 - lon1 \n",
    "    dlat = lat2 - lat1 \n",
    "    a = sin(dlat/2)**2 + cos(lat1) * cos(lat2) * sin(dlon/2)**2\n",
    "    c = 2 * asin(sqrt(a)) \n",
    "    # Radius of earth in kilometers is 6371\n",
    "    km = 6371* c\n",
    "    return km"
   ]
  },
  {
   "cell_type": "code",
   "execution_count": null,
   "metadata": {},
   "outputs": [],
   "source": [
    "\n",
    "#Compute the distance in KM for each pair of stations (e.g.: station id 1 and station \n",
    "#id 2 have a distance of 0.82km)\n",
    "def compute_distances(station_list):\n",
    "    for comb in combinations(station_list, 2):\n",
    "        p1_coordinates = get_coord_by_station_id(comb[0])\n",
    "        p2_coordinates = get_coord_by_station_id(comb[1])\n",
    "        station_dist[comb] = haversine(p1_coordinates, p2_coordinates)\n",
    "    return station_dist\n",
    "\n",
    "\n",
    "#Create a graph where the nodes are the stations and the edge contains the distance in km between stations.\n",
    "#We only create a connection (edge) between two stations if their distance is below a certain threshold.\n",
    "def create_graph_for_load_balancing(station_list, station_dist, date, distance_treshold=1.5):\n",
    "    G = nx.Graph()\n",
    "    #create nodes for each station id, with information regarding its predicted demand for the day, and ....\n",
    "    for station in station_list:\n",
    "        G.add_node(station, max_balance=get_demand_prediction_on_station_and_day(date,station),\\\n",
    "                        capacity=get_station_capacity_by_id(station))\n",
    "\n",
    "    for stations, distance_km in station_dist.items():\n",
    "        if distance_km <= distance_treshold:\n",
    "            G.add_edge(stations[0], stations[1], distance=distance_km)\n",
    "    return G\n",
    "\n",
    "def create_graph(station_list, day_for_balancing, distance_treshold=1.5, print_graph=True):\n",
    "    station_dist = compute_distances(station_list)\n",
    "    G = create_graph_for_load_balancing(station_list, station_dist, day_for_balancing, distance_treshold)\n",
    "    if print_graph:\n",
    "        #Visualize the graph (although may be very dense as there may be several stations)\n",
    "        #Note: will probably throw an error. To fix it, downgrade \"decorator\" version by doing: pip install decorator==4.3\n",
    "        nx.draw(G, node_size=30, with_labels=False)\n",
    "    return G\n",
    "\n",
    "\n",
    "#code adapted from: https://www.educative.io/edpresso/how-to-implement-a-breadth-first-search-in-python?fbclid=IwAR1ilvYjxbiM87oikNNzymT-9jrOLsDGlISOuFv2DgFH9wjLsLv4vqtiqBo\n",
    "#perform breadth first search from a starting node. Visit nodes until we can allocate bicycles to the original station\n",
    "def bfs_load_balancing(graph, station):\n",
    "    \n",
    "    if G.nodes[station]['capacity'] >= G.nodes[station]['max_balance']:\n",
    "        print(\"Station has enough bicycles to fulfill demand. No load balancing needed.\")\n",
    "        return\n",
    "    \n",
    "    visited = [] # List to keep track of visited nodes.\n",
    "    queue = []     #Initialize a queue\n",
    "    \n",
    "    bycicles_needed = G.nodes[station]['max_balance'] - G.nodes[station]['capacity']\n",
    "    print(str(station) +\" has a predicted maximum balance of \"+str(G.nodes[station]['max_balance'])+\\\n",
    "          \" but only a capacity of \"+str(G.nodes[station]['capacity']) + \". \"+str(bycicles_needed)+' needed.')\n",
    "    visited.append(station)\n",
    "    queue.append(station)\n",
    "\n",
    "    while queue:\n",
    "        s = queue.pop(0) \n",
    "        #check if this node has enough capacity\n",
    "        if s != station and G.nodes[s]['capacity'] > G.nodes[s]['max_balance']:\n",
    "            #take all or some bicycles from this station such that it does not surpass\n",
    "            available_bics = G.nodes[s]['capacity'] - G.nodes[s]['max_balance']\n",
    "            if bycicles_needed > available_bics:\n",
    "                bics_taken = available_bics\n",
    "                #update node info on the original station and station from which we took bics from   \n",
    "                nx.set_node_attributes(G, {s:{'capacity':G.nodes[s]['capacity']-bics_taken}})\n",
    "                nx.set_node_attributes(G, {station:{'capacity':G.nodes[station]['capacity']+bics_taken}})\n",
    "                #update bics needed\n",
    "                bycicles_needed = bycicles_needed - bics_taken\n",
    "                print(\"Taken \"+str(bics_taken)+\" bicycles from \"+str(s)+\". Need more \"+str(bycicles_needed)+\" for \"+str(station))\n",
    "                #visit other nodes\n",
    "            else:\n",
    "                #We can take all needed bics from this station\n",
    "                #update node info on the original station and station from which we took bics from   \n",
    "                nx.set_node_attributes(G, {s:{'capacity':G.nodes[s]['capacity']-bycicles_needed}})\n",
    "                nx.set_node_attributes(G, {station:{'capacity':G.nodes[station]['capacity']+bycicles_needed}})\n",
    "                print(\"Taken \"+str(bycicles_needed)+\" bicycles from \"+str(s)+\". All necessary bics given to \"+str(station)+\". \\n Complete.\")\n",
    "                #end here\n",
    "                return\n",
    "                \n",
    "        #get neighbour nodes\n",
    "        neighbour_nodes = [n for n in G.neighbors(s)]\n",
    "        \n",
    "        for neighbour in neighbour_nodes:\n",
    "            if neighbour not in visited:\n",
    "                visited.append(neighbour)\n",
    "                queue.append(neighbour)\n"
   ]
  },
  {
   "cell_type": "markdown",
   "metadata": {},
   "source": [
    "Previous functions offer an implementation for out load balancing. We choose to use a graph because we find it to be the most suitable data structure to keep track of connections between stations. Our algorithm attempts to visit the closest stations first and take bicycles from those visited stations that will not be needed and such that each station can still answer to their own demand. We believe that it would be much easier for the company to visit the nearest stations, which is why we do breadh first search, instead of depth first search. \n"
   ]
  },
  {
   "cell_type": "code",
   "execution_count": null,
   "metadata": {},
   "outputs": [],
   "source": [
    "day_for_balancing = '2019-12-30'\n",
    "#get all nodes with prediction for that day\n",
    "station_list = list(allNodesDf[allNodesDf['Date'] == day_for_balancing].Station.unique())\n",
    "#not all nodes in the loans dataset are present in stations id. Consider only the stations that are present in both\n",
    "station_list = list(set(station_list).intersection(df_info.ID.unique()))\n",
    "\n",
    "G = create_graph(station_list, day_for_balancing, distance_treshold=1.5, print_graph=True)"
   ]
  },
  {
   "cell_type": "markdown",
   "metadata": {},
   "source": [
    "This is a representation of the graph that will be used for load balacing. There are some stations that were too far away from each other, hence load balancing will consider fewer stations to balance. However, the _distance_treshold_ can be increased if needed in order to create edges between far away stations.  \n",
    "The stations we will consider for load balacing belong to the densest forest (REVER TERMO), or in other words, were most stations are connected."
   ]
  },
  {
   "cell_type": "code",
   "execution_count": null,
   "metadata": {},
   "outputs": [],
   "source": [
    "def print_stations_status():\n",
    "    for k,v in G.nodes(data=True):\n",
    "        print(\"station: {0} - capacity={1}, max_balance={2}\".format(k, v['capacity'], v['max_balance']))\n",
    "print_stations_status()"
   ]
  },
  {
   "cell_type": "markdown",
   "metadata": {},
   "source": [
    "This represents the original status of each station before the load balancing. "
   ]
  },
  {
   "cell_type": "code",
   "execution_count": null,
   "metadata": {},
   "outputs": [],
   "source": [
    "bfs_load_balancing(G, 1)"
   ]
  },
  {
   "cell_type": "code",
   "execution_count": null,
   "metadata": {},
   "outputs": [],
   "source": [
    "print_stations_status()"
   ]
  },
  {
   "cell_type": "markdown",
   "metadata": {},
   "source": [
    "We can see the diference in capacity in station 1 and the other stations were the balacing occured.  \n",
    "Lets see another example"
   ]
  },
  {
   "cell_type": "code",
   "execution_count": null,
   "metadata": {},
   "outputs": [],
   "source": [
    "bfs_load_balancing(G, 10)"
   ]
  },
  {
   "cell_type": "code",
   "execution_count": null,
   "metadata": {},
   "outputs": [],
   "source": [
    "print_stations_status()"
   ]
  },
  {
   "cell_type": "markdown",
   "metadata": {},
   "source": [
    "### ADICIONAR O BLOCO DE TEXTO EM BAIXO POIS NAO O COLOQUEI LA AINDA"
   ]
  },
  {
   "cell_type": "markdown",
   "metadata": {},
   "source": [
    "There are of course several improvements that our solution could benefit from. Consider this as a base solution made possible at the best our technical skills and knowldge that can be expanded in several ways. Here are a few limitations/improvements:\n",
    "- Load balancing is performed, by taking as much bicycles as we can from nearby stations until we have all needed bicycles for a station in need. However, in some cases, the best approach could be to visit a station that is more distant but that can supply all needed bicycles at once.\n",
    "- Distance between stations is currently calculated using distance between two points, however using street route information to determine their distance would be more accurate.\n",
    "- ..."
   ]
  },
  {
   "cell_type": "markdown",
   "metadata": {},
   "source": [
    "# Conclusions\n",
    "\n",
    "## Scalability and Impact\n",
    "\n",
    "The data provided was quite extensive and with a large amount of information and although not all of them were analyzed, it was possible to draw some conclusions.\n",
    "\n",
    "First, from the map with the location of the stations, it was possible to detect two main and distinct zones. Most of the stations are located in the largest city in the Valle de aburrá, the city Medellín, which is the city with the largest number of services, infrastructures, among others, and the most touristic city in the Valle, thus justifying the fact that it has more stations. In addition, it was highlighted that there are some cities in the Valle de aburrá without shared bicycle stations (Caldas, La Estrella, Bello, Copacabana, Girardota, and Barbosa) where there may be a need to create new stations.\n",
    "\n",
    "Regarding the daily use of bicycles, it was found that in recent years there has been an increasing demand for this type of systems, which is according to what was read in the literature, and that there are months that stand out, August, September, and October, which coincide with the times when there is a greater number of tourists, which suggests that tourists are the biggest users of these systems at these times. Analyzing the number of uses per hour throughout the day, there are two noticeable peak usage corresponding to rush hours, which suggests that users are regular citizens traveling home-work, work-home.\n",
    "\n",
    "When analyzing the stations separately, it was found that the use of bicycles is totally different, which may be related to the location of the station itself.\n",
    "\n",
    "Finally, from the analysis with external data (holidays) it was found that in most cases the low number of loans and the open season is due to the fact that it is a holiday.\n",
    "\n",
    "Regarding the proposed solution, (...)\n",
    "\n",
    "The data obtained from our solution can benefit station administrators as they become aware of which stations they should move bicycles on, thus making the system more efficient and less hassle for users who had to wait until they find an available dock .\n",
    "\n",
    "Improving bicycle managing efficieny leads to less people waiting in line to rent/return a bicycle, which makes citizens more willingly to rent a bike, thus reducing traffic flow, contributing for people's wealth, reducing their travelling expenses and finally by reducing air pollution!"
   ]
  },
  {
   "cell_type": "markdown",
   "metadata": {},
   "source": [
    "## Future Work"
   ]
  },
  {
   "cell_type": "markdown",
   "metadata": {},
   "source": [
    "Following are some suggestions of analysis that we either could not do with the current data our we did not have enough time to do so:\n",
    "\n",
    "- We assume that it would be extremely helpful to profile people that use this service in order to better understand their habits and patterns of bicycle usage. Students and workers should be identified as they most likely will loan a bicycle at the start of the day and return it to the same station at the end. Knowing what type of person is renting a bicycly could be extremely helpfull.\n",
    "- Analyze the impact of nearby public transportations or other services and their impact near close stations. Do these stations have a higher number os bicycle loans?"
   ]
  },
  {
   "cell_type": "markdown",
   "metadata": {
    "heading_collapsed": true
   },
   "source": [
    "# References"
   ]
  },
  {
   "cell_type": "markdown",
   "metadata": {
    "hidden": true
   },
   "source": [
    "[1]\t“The global bike sharing boom – why cities love a cycling scheme.” https://theconversation.com/the-global-bike-sharing-boom-why-cities-love-a-cycling-scheme-53895.\n",
    "\n",
    "[2]\tN. Boufidis, A. Nikiforiadis, K. Chrysostomou, and G. Aifadopoulou, “Development of a station-level demand prediction and visualization tool to support bike-sharing systems’ operators,” Transp. Res. Procedia, vol. 47, no. 2019, pp. 51–58, 2020, doi: 10.1016/j.trpro.2020.03.072.\n",
    "\n",
    "[3]\tÁ. Lozano, J. F. De Paz, G. V. González, D. H. De La Iglesia, and J. Bajo, “Multi-agent system for demand prediction and trip visualization in bike sharing systems,” Appl. Sci., vol. 8, no. 1, 2018, doi: 10.3390/app8010067.\n",
    "\n",
    "[4]\tY.-H. Seo, S. Yoon, D.-K. Kim, S.-Y. Kho, and J. Hwang, “Predicting demand for a bike-sharing system with station activity based on random forest,” Proc. Inst. Civ. Eng. - Munic. Eng., pp. 1–11, 2020, doi: 10.1680/jmuen.20.00001.\n",
    "\n",
    "[5]\tY. Pan, R. C. Zheng, J. Zhang, and X. Yao, “Predicting bike sharing demand using recurrent neural networks,” Procedia Comput. Sci., vol. 147, pp. 562–566, 2019, doi: 10.1016/j.procs.2019.01.217."
   ]
  }
 ],
 "metadata": {
  "kernelspec": {
   "display_name": "Python 3",
   "language": "python",
   "name": "python3"
  },
  "language_info": {
   "codemirror_mode": {
    "name": "ipython",
    "version": 3
   },
   "file_extension": ".py",
   "mimetype": "text/x-python",
   "name": "python",
   "nbconvert_exporter": "python",
   "pygments_lexer": "ipython3",
   "version": "3.7.5"
  },
  "toc": {
   "base_numbering": 1,
   "nav_menu": {},
   "number_sections": true,
   "sideBar": true,
   "skip_h1_title": false,
   "title_cell": "Table of Contents",
   "title_sidebar": "Contents",
   "toc_cell": false,
   "toc_position": {},
   "toc_section_display": true,
   "toc_window_display": true
  },
  "varInspector": {
   "cols": {
    "lenName": 16,
    "lenType": 16,
    "lenVar": 40
   },
   "kernels_config": {
    "python": {
     "delete_cmd_postfix": "",
     "delete_cmd_prefix": "del ",
     "library": "var_list.py",
     "varRefreshCmd": "print(var_dic_list())"
    },
    "r": {
     "delete_cmd_postfix": ") ",
     "delete_cmd_prefix": "rm(",
     "library": "var_list.r",
     "varRefreshCmd": "cat(var_dic_list()) "
    }
   },
   "types_to_exclude": [
    "module",
    "function",
    "builtin_function_or_method",
    "instance",
    "_Feature"
   ],
   "window_display": false
  }
 },
 "nbformat": 4,
 "nbformat_minor": 2
}
