{
 "cells": [
  {
   "cell_type": "code",
   "execution_count": 67,
   "metadata": {},
   "outputs": [],
   "source": [
    "import pandas as pd\n",
    "import numpy as np\n",
    "import datetime\n",
    "import pickle\n",
    "import matplotlib.pyplot as plt\n",
    "import seaborn as sns\n",
    "\n",
    "sns.set_theme(style=\"whitegrid\")\n",
    "fig_dim = (15,12)"
   ]
  },
  {
   "cell_type": "markdown",
   "metadata": {},
   "source": [
    "Notas: A nossa solução inicial assumia que era possível fazer o tracing das bicicletas, mas após ser fornecido o dicionário, percebemos que tal não era possível dado que \"The same bike can have multiple tags over the year\"."
   ]
  },
  {
   "cell_type": "code",
   "execution_count": 2,
   "metadata": {},
   "outputs": [],
   "source": [
    "base = '/home/ana/Downloads/'"
   ]
  },
  {
   "cell_type": "code",
   "execution_count": 3,
   "metadata": {},
   "outputs": [
    {
     "data": {
      "text/html": [
       "<div>\n",
       "<style scoped>\n",
       "    .dataframe tbody tr th:only-of-type {\n",
       "        vertical-align: middle;\n",
       "    }\n",
       "\n",
       "    .dataframe tbody tr th {\n",
       "        vertical-align: top;\n",
       "    }\n",
       "\n",
       "    .dataframe thead th {\n",
       "        text-align: right;\n",
       "    }\n",
       "</style>\n",
       "<table border=\"1\" class=\"dataframe\">\n",
       "  <thead>\n",
       "    <tr style=\"text-align: right;\">\n",
       "      <th></th>\n",
       "      <th>Loan ID</th>\n",
       "      <th>User ID</th>\n",
       "      <th>Tag ID</th>\n",
       "      <th>Start loan</th>\n",
       "      <th>End loan</th>\n",
       "      <th>ID start station</th>\n",
       "      <th>Position start</th>\n",
       "      <th>ID end station</th>\n",
       "      <th>Position end</th>\n",
       "    </tr>\n",
       "  </thead>\n",
       "  <tbody>\n",
       "    <tr>\n",
       "      <th>0</th>\n",
       "      <td>6501462</td>\n",
       "      <td>18701</td>\n",
       "      <td>1164</td>\n",
       "      <td>2017-06-21 14:22:11.000</td>\n",
       "      <td>2017-06-21 14:38:29.000</td>\n",
       "      <td>8</td>\n",
       "      <td>1</td>\n",
       "      <td>43.0</td>\n",
       "      <td>1.0</td>\n",
       "    </tr>\n",
       "    <tr>\n",
       "      <th>1</th>\n",
       "      <td>6501318</td>\n",
       "      <td>41811</td>\n",
       "      <td>1089</td>\n",
       "      <td>2017-06-21 14:07:18.000</td>\n",
       "      <td>2017-06-21 14:39:06.000</td>\n",
       "      <td>56</td>\n",
       "      <td>6</td>\n",
       "      <td>54.0</td>\n",
       "      <td>NaN</td>\n",
       "    </tr>\n",
       "    <tr>\n",
       "      <th>2</th>\n",
       "      <td>6501489</td>\n",
       "      <td>96620</td>\n",
       "      <td>1110</td>\n",
       "      <td>2017-06-21 14:25:11.000</td>\n",
       "      <td>2017-06-21 14:39:07.000</td>\n",
       "      <td>36</td>\n",
       "      <td>25</td>\n",
       "      <td>9.0</td>\n",
       "      <td>13.0</td>\n",
       "    </tr>\n",
       "    <tr>\n",
       "      <th>3</th>\n",
       "      <td>6501001</td>\n",
       "      <td>16055</td>\n",
       "      <td>1465</td>\n",
       "      <td>2017-06-21 13:35:52.000</td>\n",
       "      <td>2017-06-21 14:39:22.000</td>\n",
       "      <td>8</td>\n",
       "      <td>1</td>\n",
       "      <td>9.0</td>\n",
       "      <td>6.0</td>\n",
       "    </tr>\n",
       "    <tr>\n",
       "      <th>4</th>\n",
       "      <td>6501421</td>\n",
       "      <td>6431</td>\n",
       "      <td>996</td>\n",
       "      <td>2017-06-21 14:17:56.000</td>\n",
       "      <td>2017-06-21 14:39:26.000</td>\n",
       "      <td>56</td>\n",
       "      <td>14</td>\n",
       "      <td>54.0</td>\n",
       "      <td>NaN</td>\n",
       "    </tr>\n",
       "    <tr>\n",
       "      <th>...</th>\n",
       "      <td>...</td>\n",
       "      <td>...</td>\n",
       "      <td>...</td>\n",
       "      <td>...</td>\n",
       "      <td>...</td>\n",
       "      <td>...</td>\n",
       "      <td>...</td>\n",
       "      <td>...</td>\n",
       "      <td>...</td>\n",
       "    </tr>\n",
       "    <tr>\n",
       "      <th>10387747</th>\n",
       "      <td>14454800</td>\n",
       "      <td>27944</td>\n",
       "      <td>2369</td>\n",
       "      <td>2019-12-31 13:58:55.000</td>\n",
       "      <td>2019-12-31 14:25:38.000</td>\n",
       "      <td>40</td>\n",
       "      <td>1</td>\n",
       "      <td>50.0</td>\n",
       "      <td>1.0</td>\n",
       "    </tr>\n",
       "    <tr>\n",
       "      <th>10387748</th>\n",
       "      <td>14454778</td>\n",
       "      <td>108800</td>\n",
       "      <td>2393</td>\n",
       "      <td>2019-12-31 13:52:48.000</td>\n",
       "      <td>2019-12-31 14:40:52.000</td>\n",
       "      <td>28</td>\n",
       "      <td>1</td>\n",
       "      <td>50.0</td>\n",
       "      <td>1.0</td>\n",
       "    </tr>\n",
       "    <tr>\n",
       "      <th>10387749</th>\n",
       "      <td>14454793</td>\n",
       "      <td>98449</td>\n",
       "      <td>60</td>\n",
       "      <td>2019-12-31 13:55:47.000</td>\n",
       "      <td>2019-12-31 14:41:39.000</td>\n",
       "      <td>113</td>\n",
       "      <td>1</td>\n",
       "      <td>28.0</td>\n",
       "      <td>1.0</td>\n",
       "    </tr>\n",
       "    <tr>\n",
       "      <th>10387750</th>\n",
       "      <td>14454774</td>\n",
       "      <td>129665</td>\n",
       "      <td>1829</td>\n",
       "      <td>2019-12-31 13:51:28.000</td>\n",
       "      <td>2019-12-31 16:27:12.000</td>\n",
       "      <td>39</td>\n",
       "      <td>15</td>\n",
       "      <td>41.0</td>\n",
       "      <td>15.0</td>\n",
       "    </tr>\n",
       "    <tr>\n",
       "      <th>10387751</th>\n",
       "      <td>14454588</td>\n",
       "      <td>121316</td>\n",
       "      <td>1803</td>\n",
       "      <td>2019-12-31 13:15:55.000</td>\n",
       "      <td>2019-12-31 15:01:31.000</td>\n",
       "      <td>103</td>\n",
       "      <td>4</td>\n",
       "      <td>118.0</td>\n",
       "      <td>4.0</td>\n",
       "    </tr>\n",
       "  </tbody>\n",
       "</table>\n",
       "<p>10387752 rows × 9 columns</p>\n",
       "</div>"
      ],
      "text/plain": [
       "           Loan ID  User ID  Tag ID               Start loan  \\\n",
       "0          6501462    18701    1164  2017-06-21 14:22:11.000   \n",
       "1          6501318    41811    1089  2017-06-21 14:07:18.000   \n",
       "2          6501489    96620    1110  2017-06-21 14:25:11.000   \n",
       "3          6501001    16055    1465  2017-06-21 13:35:52.000   \n",
       "4          6501421     6431     996  2017-06-21 14:17:56.000   \n",
       "...            ...      ...     ...                      ...   \n",
       "10387747  14454800    27944    2369  2019-12-31 13:58:55.000   \n",
       "10387748  14454778   108800    2393  2019-12-31 13:52:48.000   \n",
       "10387749  14454793    98449      60  2019-12-31 13:55:47.000   \n",
       "10387750  14454774   129665    1829  2019-12-31 13:51:28.000   \n",
       "10387751  14454588   121316    1803  2019-12-31 13:15:55.000   \n",
       "\n",
       "                         End loan  ID start station  Position start  \\\n",
       "0         2017-06-21 14:38:29.000                 8               1   \n",
       "1         2017-06-21 14:39:06.000                56               6   \n",
       "2         2017-06-21 14:39:07.000                36              25   \n",
       "3         2017-06-21 14:39:22.000                 8               1   \n",
       "4         2017-06-21 14:39:26.000                56              14   \n",
       "...                           ...               ...             ...   \n",
       "10387747  2019-12-31 14:25:38.000                40               1   \n",
       "10387748  2019-12-31 14:40:52.000                28               1   \n",
       "10387749  2019-12-31 14:41:39.000               113               1   \n",
       "10387750  2019-12-31 16:27:12.000                39              15   \n",
       "10387751  2019-12-31 15:01:31.000               103               4   \n",
       "\n",
       "          ID end station  Position end  \n",
       "0                   43.0           1.0  \n",
       "1                   54.0           NaN  \n",
       "2                    9.0          13.0  \n",
       "3                    9.0           6.0  \n",
       "4                   54.0           NaN  \n",
       "...                  ...           ...  \n",
       "10387747            50.0           1.0  \n",
       "10387748            50.0           1.0  \n",
       "10387749            28.0           1.0  \n",
       "10387750            41.0          15.0  \n",
       "10387751           118.0           4.0  \n",
       "\n",
       "[10387752 rows x 9 columns]"
      ]
     },
     "execution_count": 3,
     "metadata": {},
     "output_type": "execute_result"
    }
   ],
   "source": [
    "def get_loans_clean(base):\n",
    "\n",
    "    df = pd.read_pickle(base + 'df_clean')[[\"Id_Historico_Prestamo\", \"Id_Usuario\", \"Id_Tag_Bicicleta\", \\\n",
    "            \"Fecha_Prestamo\", \"Fecha_Devolucion\", \"Id_Aparcamiento_Origen\", \"Posicion_Origen\", \\\n",
    "            \"Id_Aparcamiento_Destino\", \"Posicion_Destino\"]]\n",
    "    \n",
    "    # Rename columns\n",
    "    # The same bike can have multiple tags over the year.\n",
    "    df = df.rename(columns={\n",
    "        \"Id_Historico_Prestamo\": \"Loan ID\",\n",
    "        \"Id_Usuario\": \"User ID\",\n",
    "        \"Id_Tag_Bicicleta\": \"Tag ID\",\n",
    "        \"Fecha_Prestamo\": \"Start loan\",\n",
    "        \"Fecha_Devolucion\": \"End loan\",\n",
    "        \"Id_Aparcamiento_Origen\": \"ID start station\",\n",
    "        \"Posicion_Origen\": \"Position start\",\n",
    "        \"Id_Aparcamiento_Destino\": \"ID end station\",\n",
    "        \"Posicion_Destino\": \"Position end\"\n",
    "    })\n",
    "    \n",
    "    return df\n",
    "\n",
    "df = get_loans_clean(base)\n",
    "df"
   ]
  },
  {
   "cell_type": "markdown",
   "metadata": {},
   "source": [
    "Stations information"
   ]
  },
  {
   "cell_type": "code",
   "execution_count": 5,
   "metadata": {},
   "outputs": [
    {
     "data": {
      "text/html": [
       "<div>\n",
       "<style scoped>\n",
       "    .dataframe tbody tr th:only-of-type {\n",
       "        vertical-align: middle;\n",
       "    }\n",
       "\n",
       "    .dataframe tbody tr th {\n",
       "        vertical-align: top;\n",
       "    }\n",
       "\n",
       "    .dataframe thead th {\n",
       "        text-align: right;\n",
       "    }\n",
       "</style>\n",
       "<table border=\"1\" class=\"dataframe\">\n",
       "  <thead>\n",
       "    <tr style=\"text-align: right;\">\n",
       "      <th></th>\n",
       "      <th>ID</th>\n",
       "      <th>numSlots</th>\n",
       "      <th>isManual</th>\n",
       "    </tr>\n",
       "  </thead>\n",
       "  <tbody>\n",
       "    <tr>\n",
       "      <th>0</th>\n",
       "      <td>1</td>\n",
       "      <td>15</td>\n",
       "      <td>1</td>\n",
       "    </tr>\n",
       "    <tr>\n",
       "      <th>1</th>\n",
       "      <td>2</td>\n",
       "      <td>33</td>\n",
       "      <td>1</td>\n",
       "    </tr>\n",
       "    <tr>\n",
       "      <th>2</th>\n",
       "      <td>3</td>\n",
       "      <td>40</td>\n",
       "      <td>0</td>\n",
       "    </tr>\n",
       "    <tr>\n",
       "      <th>3</th>\n",
       "      <td>4</td>\n",
       "      <td>10</td>\n",
       "      <td>1</td>\n",
       "    </tr>\n",
       "    <tr>\n",
       "      <th>4</th>\n",
       "      <td>5</td>\n",
       "      <td>33</td>\n",
       "      <td>1</td>\n",
       "    </tr>\n",
       "  </tbody>\n",
       "</table>\n",
       "</div>"
      ],
      "text/plain": [
       "   ID  numSlots  isManual\n",
       "0   1        15         1\n",
       "1   2        33         1\n",
       "2   3        40         0\n",
       "3   4        10         1\n",
       "4   5        33         1"
      ]
     },
     "execution_count": 5,
     "metadata": {},
     "output_type": "execute_result"
    }
   ],
   "source": [
    "df_info = pd.read_csv(\"station_location_with_id.csv\", sep=';')[['ID','numSlots','isManual']]\n",
    "df_info.head()"
   ]
  },
  {
   "cell_type": "markdown",
   "metadata": {},
   "source": [
    "Loans per station per hour"
   ]
  },
  {
   "cell_type": "code",
   "execution_count": 6,
   "metadata": {},
   "outputs": [
    {
     "data": {
      "text/html": [
       "<div>\n",
       "<style scoped>\n",
       "    .dataframe tbody tr th:only-of-type {\n",
       "        vertical-align: middle;\n",
       "    }\n",
       "\n",
       "    .dataframe tbody tr th {\n",
       "        vertical-align: top;\n",
       "    }\n",
       "\n",
       "    .dataframe thead th {\n",
       "        text-align: right;\n",
       "    }\n",
       "</style>\n",
       "<table border=\"1\" class=\"dataframe\">\n",
       "  <thead>\n",
       "    <tr style=\"text-align: right;\">\n",
       "      <th></th>\n",
       "      <th></th>\n",
       "      <th>N Loans</th>\n",
       "      <th>N Devolutions</th>\n",
       "    </tr>\n",
       "    <tr>\n",
       "      <th>Station</th>\n",
       "      <th>Date</th>\n",
       "      <th></th>\n",
       "      <th></th>\n",
       "    </tr>\n",
       "  </thead>\n",
       "  <tbody>\n",
       "    <tr>\n",
       "      <th rowspan=\"3\" valign=\"top\">0.0</th>\n",
       "      <th>2017-10-03 22:00:00</th>\n",
       "      <td>0.0</td>\n",
       "      <td>1.0</td>\n",
       "    </tr>\n",
       "    <tr>\n",
       "      <th>2018-03-21 11:00:00</th>\n",
       "      <td>0.0</td>\n",
       "      <td>1.0</td>\n",
       "    </tr>\n",
       "    <tr>\n",
       "      <th>2018-03-21 18:00:00</th>\n",
       "      <td>0.0</td>\n",
       "      <td>1.0</td>\n",
       "    </tr>\n",
       "    <tr>\n",
       "      <th rowspan=\"2\" valign=\"top\">1.0</th>\n",
       "      <th>2016-01-04 06:00:00</th>\n",
       "      <td>5.0</td>\n",
       "      <td>1.0</td>\n",
       "    </tr>\n",
       "    <tr>\n",
       "      <th>2016-01-04 07:00:00</th>\n",
       "      <td>11.0</td>\n",
       "      <td>2.0</td>\n",
       "    </tr>\n",
       "  </tbody>\n",
       "</table>\n",
       "</div>"
      ],
      "text/plain": [
       "                             N Loans  N Devolutions\n",
       "Station Date                                       \n",
       "0.0     2017-10-03 22:00:00      0.0            1.0\n",
       "        2018-03-21 11:00:00      0.0            1.0\n",
       "        2018-03-21 18:00:00      0.0            1.0\n",
       "1.0     2016-01-04 06:00:00      5.0            1.0\n",
       "        2016-01-04 07:00:00     11.0            2.0"
      ]
     },
     "execution_count": 6,
     "metadata": {},
     "output_type": "execute_result"
    }
   ],
   "source": [
    "def get_loans_or_devolutions_per_station_per_hour(_df, field_date, field_station, field_position):\n",
    "    df = _df.copy()\n",
    "    df = df[[field_date, field_station, field_position]]\n",
    "    df[field_position] = [1]*len(df.index)\n",
    "    df[field_date] = pd.to_datetime(df[field_date], format='%Y-%m-%d %H:%M:%S.%f')\n",
    "    df[field_date] = df[field_date].dt.round(\"1H\")\n",
    "    df = df.rename(columns={field_date:'Date', field_station:'Station'})\n",
    "    df = df.groupby(['Station', 'Date']).count()\n",
    "    \n",
    "    if(field_date=='Start loan'):\n",
    "        df = df.rename(columns={field_position:'N Loans'})\n",
    "    else:\n",
    "        df = df.rename(columns={field_position:'N Devolutions'})\n",
    "        \n",
    "    return df\n",
    "\n",
    "def get_loans_and_devolutions_info(_df):\n",
    "    loans = get_loans_or_devolutions_per_station_per_hour(_df, \\\n",
    "                    'Start loan', 'ID start station', 'Position start')\n",
    "    \n",
    "    devolutions = get_loans_or_devolutions_per_station_per_hour(_df, \\\n",
    "                    'End loan', 'ID end station', 'Position end')\n",
    "    \n",
    "    df = pd.concat([loans, devolutions], axis=1)\n",
    "    df = df.fillna(0)\n",
    "    \n",
    "    return df\n",
    "\n",
    "loans_and_devolutions = get_loans_and_devolutions_info(df)\n",
    "loans_and_devolutions.head(5)"
   ]
  },
  {
   "cell_type": "code",
   "execution_count": 7,
   "metadata": {},
   "outputs": [],
   "source": [
    "# Given a station, this function calculates the number of bikes through time using the loans and the returns\n",
    "def get_balance_for_station(_df, station):\n",
    "    df = _df.copy()\n",
    "    df = df.reset_index()\n",
    "    df = df.loc[df['Station']==station]\n",
    "    df['N Loans cumsum'] = df['N Loans'].cumsum()\n",
    "    df['N Devolutions cumsum'] = df['N Devolutions'].cumsum() # returns\n",
    "    df['Balance'] = df['N Devolutions cumsum'] - df['N Loans cumsum']\n",
    "    \n",
    "    return df"
   ]
  },
  {
   "cell_type": "code",
   "execution_count": 38,
   "metadata": {},
   "outputs": [
    {
     "data": {
      "image/png": "[encoded data removed]",
      "text/plain": [
       "<Figure size 1080x864 with 4 Axes>"
      ]
     },
     "metadata": {
      "needs_background": "light"
     },
     "output_type": "display_data"
    }
   ],
   "source": [
    "def plot_balance_over_multiple_stations(stations):\n",
    "    \n",
    "    fig, axs = plt.subplots(2, 2, figsize=fig_dim)\n",
    "    axis = [ axs[0, 0], axs[0, 1], axs[1, 0], axs[1, 1] ]\n",
    "    colors = ['tab:blue', 'tab:orange', 'tab:green', 'tab:red']\n",
    "    \n",
    "    for i in range(4):\n",
    "        station = stations[i]\n",
    "    \n",
    "        balance_st = get_balance_for_station(loans_and_devolutions, station)\n",
    "        \n",
    "        axis[i].plot(balance_st['Date'], balance_st['Balance'], colors[i])\n",
    "        axis[i].set_title('Station ' + str(station))\n",
    "\n",
    "    plt.plot()\n",
    "\n",
    "plot_balance_over_multiple_stations(stations=[1, 70, 21, 45])"
   ]
  },
  {
   "cell_type": "code",
   "execution_count": null,
   "metadata": {},
   "outputs": [],
   "source": []
  },
  {
   "cell_type": "code",
   "execution_count": null,
   "metadata": {},
   "outputs": [],
   "source": []
  },
  {
   "cell_type": "code",
   "execution_count": null,
   "metadata": {},
   "outputs": [],
   "source": []
  },
  {
   "cell_type": "code",
   "execution_count": null,
   "metadata": {},
   "outputs": [],
   "source": []
  },
  {
   "cell_type": "markdown",
   "metadata": {},
   "source": [
    "Obter o número inicial de bicicletas por estação"
   ]
  },
  {
   "cell_type": "code",
   "execution_count": 56,
   "metadata": {},
   "outputs": [
    {
     "data": {
      "text/html": [
       "<div>\n",
       "<style scoped>\n",
       "    .dataframe tbody tr th:only-of-type {\n",
       "        vertical-align: middle;\n",
       "    }\n",
       "\n",
       "    .dataframe tbody tr th {\n",
       "        vertical-align: top;\n",
       "    }\n",
       "\n",
       "    .dataframe thead th {\n",
       "        text-align: right;\n",
       "    }\n",
       "</style>\n",
       "<table border=\"1\" class=\"dataframe\">\n",
       "  <thead>\n",
       "    <tr style=\"text-align: right;\">\n",
       "      <th></th>\n",
       "      <th>ID start station</th>\n",
       "      <th>Count</th>\n",
       "    </tr>\n",
       "  </thead>\n",
       "  <tbody>\n",
       "    <tr>\n",
       "      <th>0</th>\n",
       "      <td>89</td>\n",
       "      <td>1</td>\n",
       "    </tr>\n",
       "    <tr>\n",
       "      <th>1</th>\n",
       "      <td>96</td>\n",
       "      <td>1</td>\n",
       "    </tr>\n",
       "    <tr>\n",
       "      <th>2</th>\n",
       "      <td>99</td>\n",
       "      <td>1</td>\n",
       "    </tr>\n",
       "    <tr>\n",
       "      <th>3</th>\n",
       "      <td>25</td>\n",
       "      <td>1</td>\n",
       "    </tr>\n",
       "    <tr>\n",
       "      <th>4</th>\n",
       "      <td>106</td>\n",
       "      <td>1</td>\n",
       "    </tr>\n",
       "  </tbody>\n",
       "</table>\n",
       "</div>"
      ],
      "text/plain": [
       "  ID start station  Count\n",
       "0               89      1\n",
       "1               96      1\n",
       "2               99      1\n",
       "3               25      1\n",
       "4              106      1"
      ]
     },
     "execution_count": 56,
     "metadata": {},
     "output_type": "execute_result"
    }
   ],
   "source": [
    "# ver o primeiro mês em que a estação abre, e fazer a contagens por aí\n",
    "\n",
    "def get_init_number_of_bikes_per_station(_df):\n",
    "    df = _df.copy()\n",
    "    df = df[[\"Tag ID\", \"Start loan\", \"ID start station\"]]\n",
    "    df[\"Start loan\"] = pd.to_datetime(df[\"Start loan\"], format='%Y-%m-%d %H:%M:%S.%f')\n",
    "    df = df.sort_values(by=\"Start loan\")\n",
    "    # for each tag get first station\n",
    "    df = df.groupby(\"Tag ID\").first() \\\n",
    "            .reset_index() \\\n",
    "            [[\"Tag ID\", \"ID start station\"]]\n",
    "    # for each station get initial number of bikes \n",
    "    df = df.groupby(\"ID start station\").count()\n",
    "    df = df.rename(columns={'Tag ID':'Count'})\n",
    "    df = df.sort_values(by=['Count'])\n",
    "    df = df.reset_index()\n",
    "    df[\"ID start station\"] = df[\"ID start station\"].astype(str)\n",
    "    return df\n",
    "    \n",
    "init_n_bikes = get_init_number_of_bikes_per_station(df)\n",
    "init_n_bikes.head()"
   ]
  },
  {
   "cell_type": "code",
   "execution_count": 70,
   "metadata": {},
   "outputs": [
    {
     "data": {
      "image/png": "[encoded data removed]",
      "text/plain": [
       "<Figure size 1080x864 with 1 Axes>"
      ]
     },
     "metadata": {},
     "output_type": "display_data"
    }
   ],
   "source": [
    "fig, axs = plt.subplots(figsize=fig_dim)\n",
    "axs = sns.barplot(x=\"ID start station\", y=\"Count\", data=init_n_bikes)\n",
    "plt.xticks(rotation=90)\n",
    "plt.draw()"
   ]
  },
  {
   "cell_type": "markdown",
   "metadata": {},
   "source": [
    "The figure above represents the number of bikes that appear for the first time in each station"
   ]
  },
  {
   "cell_type": "code",
   "execution_count": null,
   "metadata": {},
   "outputs": [],
   "source": []
  },
  {
   "cell_type": "code",
   "execution_count": null,
   "metadata": {},
   "outputs": [],
   "source": []
  },
  {
   "cell_type": "code",
   "execution_count": null,
   "metadata": {},
   "outputs": [],
   "source": []
  },
  {
   "cell_type": "code",
   "execution_count": null,
   "metadata": {},
   "outputs": [],
   "source": []
  },
  {
   "cell_type": "code",
   "execution_count": null,
   "metadata": {},
   "outputs": [],
   "source": []
  },
  {
   "cell_type": "markdown",
   "metadata": {},
   "source": [
    "Verificar quando as estações automáticas cheias. -> ver para cada estação qual o nº máximo de posições diferentes e depois tentar perceber qnd é que elas estão cheias (elas estão cheias se num dado intervalo de tempo todas as positions estão ocupadas) ---> taxa de ocupação"
   ]
  },
  {
   "cell_type": "markdown",
   "metadata": {},
   "source": [
    "Há posições que nunca são ocupadas!!!!"
   ]
  },
  {
   "cell_type": "code",
   "execution_count": null,
   "metadata": {},
   "outputs": [],
   "source": [
    "def occupation_tax(nPos, maxPos):\n",
    "    return (nPos*100)/maxPos"
   ]
  },
  {
   "cell_type": "code",
   "execution_count": null,
   "metadata": {},
   "outputs": [],
   "source": [
    "df.columns"
   ]
  },
  {
   "cell_type": "code",
   "execution_count": null,
   "metadata": {},
   "outputs": [],
   "source": []
  },
  {
   "cell_type": "code",
   "execution_count": null,
   "metadata": {},
   "outputs": [],
   "source": []
  },
  {
   "cell_type": "markdown",
   "metadata": {},
   "source": [
    "Ver a taxa de ocupação a cada hora"
   ]
  },
  {
   "cell_type": "code",
   "execution_count": 77,
   "metadata": {},
   "outputs": [
    {
     "data": {
      "text/html": [
       "<div>\n",
       "<style scoped>\n",
       "    .dataframe tbody tr th:only-of-type {\n",
       "        vertical-align: middle;\n",
       "    }\n",
       "\n",
       "    .dataframe tbody tr th {\n",
       "        vertical-align: top;\n",
       "    }\n",
       "\n",
       "    .dataframe thead th {\n",
       "        text-align: right;\n",
       "    }\n",
       "</style>\n",
       "<table border=\"1\" class=\"dataframe\">\n",
       "  <thead>\n",
       "    <tr style=\"text-align: right;\">\n",
       "      <th></th>\n",
       "      <th>ID</th>\n",
       "      <th>numSlots</th>\n",
       "      <th>isManual</th>\n",
       "    </tr>\n",
       "  </thead>\n",
       "  <tbody>\n",
       "    <tr>\n",
       "      <th>0</th>\n",
       "      <td>1</td>\n",
       "      <td>15</td>\n",
       "      <td>1</td>\n",
       "    </tr>\n",
       "    <tr>\n",
       "      <th>1</th>\n",
       "      <td>2</td>\n",
       "      <td>33</td>\n",
       "      <td>1</td>\n",
       "    </tr>\n",
       "    <tr>\n",
       "      <th>2</th>\n",
       "      <td>3</td>\n",
       "      <td>40</td>\n",
       "      <td>0</td>\n",
       "    </tr>\n",
       "    <tr>\n",
       "      <th>3</th>\n",
       "      <td>4</td>\n",
       "      <td>10</td>\n",
       "      <td>1</td>\n",
       "    </tr>\n",
       "    <tr>\n",
       "      <th>4</th>\n",
       "      <td>5</td>\n",
       "      <td>33</td>\n",
       "      <td>1</td>\n",
       "    </tr>\n",
       "    <tr>\n",
       "      <th>...</th>\n",
       "      <td>...</td>\n",
       "      <td>...</td>\n",
       "      <td>...</td>\n",
       "    </tr>\n",
       "    <tr>\n",
       "      <th>102</th>\n",
       "      <td>138</td>\n",
       "      <td>36</td>\n",
       "      <td>0</td>\n",
       "    </tr>\n",
       "    <tr>\n",
       "      <th>103</th>\n",
       "      <td>139</td>\n",
       "      <td>40</td>\n",
       "      <td>0</td>\n",
       "    </tr>\n",
       "    <tr>\n",
       "      <th>104</th>\n",
       "      <td>140</td>\n",
       "      <td>40</td>\n",
       "      <td>0</td>\n",
       "    </tr>\n",
       "    <tr>\n",
       "      <th>105</th>\n",
       "      <td>141</td>\n",
       "      <td>52</td>\n",
       "      <td>0</td>\n",
       "    </tr>\n",
       "    <tr>\n",
       "      <th>106</th>\n",
       "      <td>142</td>\n",
       "      <td>40</td>\n",
       "      <td>0</td>\n",
       "    </tr>\n",
       "  </tbody>\n",
       "</table>\n",
       "<p>107 rows × 3 columns</p>\n",
       "</div>"
      ],
      "text/plain": [
       "      ID  numSlots  isManual\n",
       "0      1        15         1\n",
       "1      2        33         1\n",
       "2      3        40         0\n",
       "3      4        10         1\n",
       "4      5        33         1\n",
       "..   ...       ...       ...\n",
       "102  138        36         0\n",
       "103  139        40         0\n",
       "104  140        40         0\n",
       "105  141        52         0\n",
       "106  142        40         0\n",
       "\n",
       "[107 rows x 3 columns]"
      ]
     },
     "execution_count": 77,
     "metadata": {},
     "output_type": "execute_result"
    }
   ],
   "source": [
    "df_info"
   ]
  },
  {
   "cell_type": "markdown",
   "metadata": {},
   "source": [
    "Ver a capacidade de armazenamento das estações automáticas. Quais são as estações automáticas com maior capacidade de armazenamento? Quais as com menor?"
   ]
  },
  {
   "cell_type": "code",
   "execution_count": 78,
   "metadata": {},
   "outputs": [
    {
     "data": {
      "image/png": "[encoded data removed]",
      "text/plain": [
       "<Figure size 1080x864 with 1 Axes>"
      ]
     },
     "metadata": {},
     "output_type": "display_data"
    }
   ],
   "source": [
    "def capacity_per_station(_df):\n",
    "    df = _df.copy()\n",
    "    df[\"ID\"] = df[\"ID\"].astype(str)\n",
    "    df = df.sort_values(by=['numSlots'])\n",
    "    \n",
    "    fig, axs = plt.subplots(figsize=(15,12))\n",
    "    axs = sns.barplot(x=\"ID\", y=\"numSlots\", hue=\"isManual\", data=df)\n",
    "    plt.xticks(rotation=90)\n",
    "    plt.tight_layout()\n",
    "    plt.draw()\n",
    "    \n",
    "capacity_per_station(df_info)"
   ]
  },
  {
   "cell_type": "code",
   "execution_count": null,
   "metadata": {},
   "outputs": [],
   "source": []
  },
  {
   "cell_type": "code",
   "execution_count": null,
   "metadata": {},
   "outputs": [],
   "source": []
  },
  {
   "cell_type": "code",
   "execution_count": null,
   "metadata": {},
   "outputs": [],
   "source": []
  },
  {
   "cell_type": "code",
   "execution_count": null,
   "metadata": {},
   "outputs": [],
   "source": []
  }
 ],
 "metadata": {
  "kernelspec": {
   "display_name": "Python 3",
   "language": "python",
   "name": "python3"
  },
  "language_info": {
   "codemirror_mode": {
    "name": "ipython",
    "version": 3
   },
   "file_extension": ".py",
   "mimetype": "text/x-python",
   "name": "python",
   "nbconvert_exporter": "python",
   "pygments_lexer": "ipython3",
   "version": "3.7.5"
  }
 },
 "nbformat": 4,
 "nbformat_minor": 2
}
