{
 "cells": [
  {
   "cell_type": "markdown",
   "id": "hundred-emerald",
   "metadata": {},
   "source": [
    "# EDA for the second challenge "
   ]
  },
  {
   "cell_type": "code",
   "execution_count": 55,
   "id": "successful-amendment",
   "metadata": {},
   "outputs": [
    {
     "name": "stdout",
     "output_type": "stream",
     "text": [
      "Number of Routes >> 48312\n"
     ]
    }
   ],
   "source": [
    "#Import Libraries\n",
    "import numpy as np\n",
    "import pandas as pd\n",
    "import matplotlib.pylab as plt\n",
    "import seaborn as sns\n",
    "import requests\n",
    "\n",
    "df = pd.read_csv('BusRoutes.txt', sep='|')\n",
    "print(\"Number of Routes >> \" + str(df.shape[0]))"
   ]
  },
  {
   "cell_type": "markdown",
   "id": "conservative-audio",
   "metadata": {},
   "source": [
    "# Bus routes"
   ]
  },
  {
   "cell_type": "code",
   "execution_count": 56,
   "id": "planned-typing",
   "metadata": {},
   "outputs": [
    {
     "data": {
      "text/plain": [
       "Index(['IDRoute', 'linkid'], dtype='object')"
      ]
     },
     "execution_count": 56,
     "metadata": {},
     "output_type": "execute_result"
    }
   ],
   "source": [
    "df.columns"
   ]
  },
  {
   "cell_type": "code",
   "execution_count": 57,
   "id": "amended-circulation",
   "metadata": {
    "scrolled": true
   },
   "outputs": [
    {
     "data": {
      "text/html": [
       "<div>\n",
       "<style scoped>\n",
       "    .dataframe tbody tr th:only-of-type {\n",
       "        vertical-align: middle;\n",
       "    }\n",
       "\n",
       "    .dataframe tbody tr th {\n",
       "        vertical-align: top;\n",
       "    }\n",
       "\n",
       "    .dataframe thead th {\n",
       "        text-align: right;\n",
       "    }\n",
       "</style>\n",
       "<table border=\"1\" class=\"dataframe\">\n",
       "  <thead>\n",
       "    <tr style=\"text-align: right;\">\n",
       "      <th></th>\n",
       "      <th>IDRoute</th>\n",
       "      <th>linkid</th>\n",
       "    </tr>\n",
       "  </thead>\n",
       "  <tbody>\n",
       "    <tr>\n",
       "      <th>0</th>\n",
       "      <td>1</td>\n",
       "      <td>537277300</td>\n",
       "    </tr>\n",
       "    <tr>\n",
       "      <th>1</th>\n",
       "      <td>1</td>\n",
       "      <td>537277673</td>\n",
       "    </tr>\n",
       "    <tr>\n",
       "      <th>2</th>\n",
       "      <td>1</td>\n",
       "      <td>537277754</td>\n",
       "    </tr>\n",
       "    <tr>\n",
       "      <th>3</th>\n",
       "      <td>1</td>\n",
       "      <td>537277777</td>\n",
       "    </tr>\n",
       "    <tr>\n",
       "      <th>4</th>\n",
       "      <td>1</td>\n",
       "      <td>537277795</td>\n",
       "    </tr>\n",
       "    <tr>\n",
       "      <th>5</th>\n",
       "      <td>1</td>\n",
       "      <td>537277954</td>\n",
       "    </tr>\n",
       "    <tr>\n",
       "      <th>6</th>\n",
       "      <td>1</td>\n",
       "      <td>537277980</td>\n",
       "    </tr>\n",
       "    <tr>\n",
       "      <th>7</th>\n",
       "      <td>1</td>\n",
       "      <td>537278408</td>\n",
       "    </tr>\n",
       "    <tr>\n",
       "      <th>8</th>\n",
       "      <td>1</td>\n",
       "      <td>537278623</td>\n",
       "    </tr>\n",
       "    <tr>\n",
       "      <th>9</th>\n",
       "      <td>1</td>\n",
       "      <td>537278860</td>\n",
       "    </tr>\n",
       "  </tbody>\n",
       "</table>\n",
       "</div>"
      ],
      "text/plain": [
       "   IDRoute     linkid\n",
       "0        1  537277300\n",
       "1        1  537277673\n",
       "2        1  537277754\n",
       "3        1  537277777\n",
       "4        1  537277795\n",
       "5        1  537277954\n",
       "6        1  537277980\n",
       "7        1  537278408\n",
       "8        1  537278623\n",
       "9        1  537278860"
      ]
     },
     "execution_count": 57,
     "metadata": {},
     "output_type": "execute_result"
    }
   ],
   "source": [
    "df.head(10)"
   ]
  },
  {
   "cell_type": "markdown",
   "id": "nervous-norway",
   "metadata": {},
   "source": [
    "## Unique Routes and Links"
   ]
  },
  {
   "cell_type": "code",
   "execution_count": 58,
   "id": "female-rover",
   "metadata": {},
   "outputs": [
    {
     "data": {
      "text/plain": [
       "IDRoute      166\n",
       "linkid     19277\n",
       "dtype: int64"
      ]
     },
     "execution_count": 58,
     "metadata": {},
     "output_type": "execute_result"
    }
   ],
   "source": [
    "df.nunique(axis=0)"
   ]
  },
  {
   "cell_type": "markdown",
   "id": "comic-agenda",
   "metadata": {},
   "source": [
    "## Links per Bus Route (e.g, road)"
   ]
  },
  {
   "cell_type": "code",
   "execution_count": 59,
   "id": "floppy-reflection",
   "metadata": {
    "scrolled": false
   },
   "outputs": [
    {
     "data": {
      "text/html": [
       "<div>\n",
       "<style scoped>\n",
       "    .dataframe tbody tr th:only-of-type {\n",
       "        vertical-align: middle;\n",
       "    }\n",
       "\n",
       "    .dataframe tbody tr th {\n",
       "        vertical-align: top;\n",
       "    }\n",
       "\n",
       "    .dataframe thead th {\n",
       "        text-align: right;\n",
       "    }\n",
       "</style>\n",
       "<table border=\"1\" class=\"dataframe\">\n",
       "  <thead>\n",
       "    <tr style=\"text-align: right;\">\n",
       "      <th></th>\n",
       "      <th>IDRoute</th>\n",
       "      <th>Number of Links</th>\n",
       "    </tr>\n",
       "  </thead>\n",
       "  <tbody>\n",
       "    <tr>\n",
       "      <th>52</th>\n",
       "      <td>53</td>\n",
       "      <td>613</td>\n",
       "    </tr>\n",
       "    <tr>\n",
       "      <th>7</th>\n",
       "      <td>8</td>\n",
       "      <td>608</td>\n",
       "    </tr>\n",
       "    <tr>\n",
       "      <th>135</th>\n",
       "      <td>136</td>\n",
       "      <td>585</td>\n",
       "    </tr>\n",
       "    <tr>\n",
       "      <th>127</th>\n",
       "      <td>128</td>\n",
       "      <td>572</td>\n",
       "    </tr>\n",
       "    <tr>\n",
       "      <th>62</th>\n",
       "      <td>63</td>\n",
       "      <td>565</td>\n",
       "    </tr>\n",
       "    <tr>\n",
       "      <th>...</th>\n",
       "      <td>...</td>\n",
       "      <td>...</td>\n",
       "    </tr>\n",
       "    <tr>\n",
       "      <th>96</th>\n",
       "      <td>97</td>\n",
       "      <td>41</td>\n",
       "    </tr>\n",
       "    <tr>\n",
       "      <th>22</th>\n",
       "      <td>23</td>\n",
       "      <td>6</td>\n",
       "    </tr>\n",
       "    <tr>\n",
       "      <th>20</th>\n",
       "      <td>21</td>\n",
       "      <td>5</td>\n",
       "    </tr>\n",
       "    <tr>\n",
       "      <th>21</th>\n",
       "      <td>22</td>\n",
       "      <td>2</td>\n",
       "    </tr>\n",
       "    <tr>\n",
       "      <th>23</th>\n",
       "      <td>24</td>\n",
       "      <td>1</td>\n",
       "    </tr>\n",
       "  </tbody>\n",
       "</table>\n",
       "<p>166 rows × 2 columns</p>\n",
       "</div>"
      ],
      "text/plain": [
       "     IDRoute  Number of Links\n",
       "52        53              613\n",
       "7          8              608\n",
       "135      136              585\n",
       "127      128              572\n",
       "62        63              565\n",
       "..       ...              ...\n",
       "96        97               41\n",
       "22        23                6\n",
       "20        21                5\n",
       "21        22                2\n",
       "23        24                1\n",
       "\n",
       "[166 rows x 2 columns]"
      ]
     },
     "execution_count": 59,
     "metadata": {},
     "output_type": "execute_result"
    }
   ],
   "source": [
    "df.groupby('IDRoute', as_index=False)['linkid'].count() \\\n",
    "                                               .rename(columns={'linkid':'Number of Links'}) \\\n",
    "                                               .sort_values(\"Number of Links\", ascending=False) "
   ]
  },
  {
   "cell_type": "markdown",
   "id": "blocked-variable",
   "metadata": {},
   "source": [
    "## Bus Routes per Link  "
   ]
  },
  {
   "cell_type": "code",
   "execution_count": 60,
   "id": "specified-comment",
   "metadata": {
    "scrolled": false
   },
   "outputs": [
    {
     "data": {
      "text/html": [
       "<div>\n",
       "<style scoped>\n",
       "    .dataframe tbody tr th:only-of-type {\n",
       "        vertical-align: middle;\n",
       "    }\n",
       "\n",
       "    .dataframe tbody tr th {\n",
       "        vertical-align: top;\n",
       "    }\n",
       "\n",
       "    .dataframe thead th {\n",
       "        text-align: right;\n",
       "    }\n",
       "</style>\n",
       "<table border=\"1\" class=\"dataframe\">\n",
       "  <thead>\n",
       "    <tr style=\"text-align: right;\">\n",
       "      <th></th>\n",
       "      <th>linkid</th>\n",
       "      <th>RoutesNumber</th>\n",
       "    </tr>\n",
       "  </thead>\n",
       "  <tbody>\n",
       "    <tr>\n",
       "      <th>6679</th>\n",
       "      <td>724627591</td>\n",
       "      <td>20</td>\n",
       "    </tr>\n",
       "    <tr>\n",
       "      <th>15464</th>\n",
       "      <td>1172432839</td>\n",
       "      <td>20</td>\n",
       "    </tr>\n",
       "    <tr>\n",
       "      <th>6678</th>\n",
       "      <td>724627590</td>\n",
       "      <td>20</td>\n",
       "    </tr>\n",
       "    <tr>\n",
       "      <th>9401</th>\n",
       "      <td>836110932</td>\n",
       "      <td>20</td>\n",
       "    </tr>\n",
       "    <tr>\n",
       "      <th>6676</th>\n",
       "      <td>724627588</td>\n",
       "      <td>20</td>\n",
       "    </tr>\n",
       "    <tr>\n",
       "      <th>...</th>\n",
       "      <td>...</td>\n",
       "      <td>...</td>\n",
       "    </tr>\n",
       "    <tr>\n",
       "      <th>8991</th>\n",
       "      <td>812148656</td>\n",
       "      <td>1</td>\n",
       "    </tr>\n",
       "    <tr>\n",
       "      <th>8993</th>\n",
       "      <td>812148837</td>\n",
       "      <td>1</td>\n",
       "    </tr>\n",
       "    <tr>\n",
       "      <th>8995</th>\n",
       "      <td>812149330</td>\n",
       "      <td>1</td>\n",
       "    </tr>\n",
       "    <tr>\n",
       "      <th>9000</th>\n",
       "      <td>812234969</td>\n",
       "      <td>1</td>\n",
       "    </tr>\n",
       "    <tr>\n",
       "      <th>9638</th>\n",
       "      <td>851509758</td>\n",
       "      <td>1</td>\n",
       "    </tr>\n",
       "  </tbody>\n",
       "</table>\n",
       "<p>19277 rows × 2 columns</p>\n",
       "</div>"
      ],
      "text/plain": [
       "           linkid  RoutesNumber\n",
       "6679    724627591            20\n",
       "15464  1172432839            20\n",
       "6678    724627590            20\n",
       "9401    836110932            20\n",
       "6676    724627588            20\n",
       "...           ...           ...\n",
       "8991    812148656             1\n",
       "8993    812148837             1\n",
       "8995    812149330             1\n",
       "9000    812234969             1\n",
       "9638    851509758             1\n",
       "\n",
       "[19277 rows x 2 columns]"
      ]
     },
     "execution_count": 60,
     "metadata": {},
     "output_type": "execute_result"
    }
   ],
   "source": [
    "dfLinkRoutesCount = df.groupby('linkid', as_index=False)['IDRoute'].count() \\\n",
    "                                               .rename(columns={'IDRoute':'RoutesNumber'}) \\\n",
    "                                               .sort_values(\"RoutesNumber\", ascending=False) \n",
    "\n",
    "\n",
    "dfLinkRoutesCount"
   ]
  },
  {
   "cell_type": "markdown",
   "id": "proof-luther",
   "metadata": {},
   "source": [
    "## Most links are used by few routes "
   ]
  },
  {
   "cell_type": "code",
   "execution_count": 61,
   "id": "delayed-navigator",
   "metadata": {
    "scrolled": true
   },
   "outputs": [
    {
     "data": {
      "image/png": "[encoded data removed]",
      "text/plain": [
       "<Figure size 432x288 with 1 Axes>"
      ]
     },
     "metadata": {
      "needs_background": "light"
     },
     "output_type": "display_data"
    }
   ],
   "source": [
    "dfLinkRoutesCount.RoutesNumber.plot.hist(bins=20);"
   ]
  },
  {
   "cell_type": "markdown",
   "id": "fleet-rebound",
   "metadata": {},
   "source": [
    "## Possible \"stroke\" points (Links with too many routes going through them)"
   ]
  },
  {
   "cell_type": "code",
   "execution_count": 62,
   "id": "handled-coral",
   "metadata": {},
   "outputs": [
    {
     "name": "stdout",
     "output_type": "stream",
     "text": [
      "Number of Routes >> 121053\n"
     ]
    }
   ],
   "source": [
    "dfSenior = pd.read_csv('Senior_TIM_v1.txt', sep='|', encoding= 'unicode_escape')\n",
    "print(\"Number of Routes >> \" + str(dfSenior.shape[0]))"
   ]
  },
  {
   "cell_type": "code",
   "execution_count": 63,
   "id": "short-mobility",
   "metadata": {},
   "outputs": [
    {
     "data": {
      "text/plain": [
       "Index(['linkid', 'Region_of_Origin', 'District_of_Origin', 'County_of_Origin',\n",
       "       'Average_Daily_SeniorPopulation_Travelling'],\n",
       "      dtype='object')"
      ]
     },
     "execution_count": 63,
     "metadata": {},
     "output_type": "execute_result"
    }
   ],
   "source": [
    "dfSenior.columns\n"
   ]
  },
  {
   "cell_type": "code",
   "execution_count": 64,
   "id": "gentle-tolerance",
   "metadata": {
    "scrolled": true
   },
   "outputs": [
    {
     "data": {
      "text/html": [
       "<div>\n",
       "<style scoped>\n",
       "    .dataframe tbody tr th:only-of-type {\n",
       "        vertical-align: middle;\n",
       "    }\n",
       "\n",
       "    .dataframe tbody tr th {\n",
       "        vertical-align: top;\n",
       "    }\n",
       "\n",
       "    .dataframe thead th {\n",
       "        text-align: right;\n",
       "    }\n",
       "</style>\n",
       "<table border=\"1\" class=\"dataframe\">\n",
       "  <thead>\n",
       "    <tr style=\"text-align: right;\">\n",
       "      <th></th>\n",
       "      <th>linkid</th>\n",
       "      <th>Region_of_Origin</th>\n",
       "      <th>District_of_Origin</th>\n",
       "      <th>County_of_Origin</th>\n",
       "      <th>Average_Daily_SeniorPopulation_Travelling</th>\n",
       "    </tr>\n",
       "  </thead>\n",
       "  <tbody>\n",
       "    <tr>\n",
       "      <th>0</th>\n",
       "      <td>80216810</td>\n",
       "      <td>R1 - AM Lisboa</td>\n",
       "      <td>Lisboa</td>\n",
       "      <td>Lisboa</td>\n",
       "      <td>2013.681187</td>\n",
       "    </tr>\n",
       "    <tr>\n",
       "      <th>1</th>\n",
       "      <td>80216810</td>\n",
       "      <td>R1 - AM Lisboa</td>\n",
       "      <td>Setúbal</td>\n",
       "      <td>Palmela</td>\n",
       "      <td>7688.296396</td>\n",
       "    </tr>\n",
       "    <tr>\n",
       "      <th>2</th>\n",
       "      <td>80216810</td>\n",
       "      <td>R1 - AM Lisboa</td>\n",
       "      <td>Lisboa</td>\n",
       "      <td>Oeiras</td>\n",
       "      <td>220.647248</td>\n",
       "    </tr>\n",
       "    <tr>\n",
       "      <th>3</th>\n",
       "      <td>80216810</td>\n",
       "      <td>R1 - AM Lisboa</td>\n",
       "      <td>Lisboa</td>\n",
       "      <td>Vila Franca de Xira</td>\n",
       "      <td>233.203075</td>\n",
       "    </tr>\n",
       "    <tr>\n",
       "      <th>4</th>\n",
       "      <td>80216812</td>\n",
       "      <td>R1 - AM Lisboa</td>\n",
       "      <td>Lisboa</td>\n",
       "      <td>Lisboa</td>\n",
       "      <td>261.606014</td>\n",
       "    </tr>\n",
       "  </tbody>\n",
       "</table>\n",
       "</div>"
      ],
      "text/plain": [
       "     linkid Region_of_Origin District_of_Origin     County_of_Origin  \\\n",
       "0  80216810   R1 - AM Lisboa             Lisboa               Lisboa   \n",
       "1  80216810   R1 - AM Lisboa            Setúbal              Palmela   \n",
       "2  80216810   R1 - AM Lisboa             Lisboa               Oeiras   \n",
       "3  80216810   R1 - AM Lisboa             Lisboa  Vila Franca de Xira   \n",
       "4  80216812   R1 - AM Lisboa             Lisboa               Lisboa   \n",
       "\n",
       "   Average_Daily_SeniorPopulation_Travelling  \n",
       "0                                2013.681187  \n",
       "1                                7688.296396  \n",
       "2                                 220.647248  \n",
       "3                                 233.203075  \n",
       "4                                 261.606014  "
      ]
     },
     "execution_count": 64,
     "metadata": {},
     "output_type": "execute_result"
    }
   ],
   "source": [
    "dfSenior.head()"
   ]
  },
  {
   "cell_type": "code",
   "execution_count": 65,
   "id": "considered-brother",
   "metadata": {},
   "outputs": [
    {
     "data": {
      "text/html": [
       "<div>\n",
       "<style scoped>\n",
       "    .dataframe tbody tr th:only-of-type {\n",
       "        vertical-align: middle;\n",
       "    }\n",
       "\n",
       "    .dataframe tbody tr th {\n",
       "        vertical-align: top;\n",
       "    }\n",
       "\n",
       "    .dataframe thead th {\n",
       "        text-align: right;\n",
       "    }\n",
       "</style>\n",
       "<table border=\"1\" class=\"dataframe\">\n",
       "  <thead>\n",
       "    <tr style=\"text-align: right;\">\n",
       "      <th></th>\n",
       "      <th>linkid</th>\n",
       "      <th>Region_of_Origin</th>\n",
       "      <th>District_of_Origin</th>\n",
       "      <th>County_of_Origin</th>\n",
       "      <th>Average_Daily_SeniorPopulation_Travelling</th>\n",
       "      <th>IDRoute</th>\n",
       "    </tr>\n",
       "  </thead>\n",
       "  <tbody>\n",
       "    <tr>\n",
       "      <th>0</th>\n",
       "      <td>80216810</td>\n",
       "      <td>R1 - AM Lisboa</td>\n",
       "      <td>Lisboa</td>\n",
       "      <td>Lisboa</td>\n",
       "      <td>2013.681187</td>\n",
       "      <td>8</td>\n",
       "    </tr>\n",
       "    <tr>\n",
       "      <th>1</th>\n",
       "      <td>80216810</td>\n",
       "      <td>R1 - AM Lisboa</td>\n",
       "      <td>Lisboa</td>\n",
       "      <td>Lisboa</td>\n",
       "      <td>2013.681187</td>\n",
       "      <td>85</td>\n",
       "    </tr>\n",
       "    <tr>\n",
       "      <th>2</th>\n",
       "      <td>80216810</td>\n",
       "      <td>R1 - AM Lisboa</td>\n",
       "      <td>Setúbal</td>\n",
       "      <td>Palmela</td>\n",
       "      <td>7688.296396</td>\n",
       "      <td>8</td>\n",
       "    </tr>\n",
       "    <tr>\n",
       "      <th>3</th>\n",
       "      <td>80216810</td>\n",
       "      <td>R1 - AM Lisboa</td>\n",
       "      <td>Setúbal</td>\n",
       "      <td>Palmela</td>\n",
       "      <td>7688.296396</td>\n",
       "      <td>85</td>\n",
       "    </tr>\n",
       "    <tr>\n",
       "      <th>4</th>\n",
       "      <td>80216810</td>\n",
       "      <td>R1 - AM Lisboa</td>\n",
       "      <td>Lisboa</td>\n",
       "      <td>Oeiras</td>\n",
       "      <td>220.647248</td>\n",
       "      <td>8</td>\n",
       "    </tr>\n",
       "  </tbody>\n",
       "</table>\n",
       "</div>"
      ],
      "text/plain": [
       "     linkid Region_of_Origin District_of_Origin County_of_Origin  \\\n",
       "0  80216810   R1 - AM Lisboa             Lisboa           Lisboa   \n",
       "1  80216810   R1 - AM Lisboa             Lisboa           Lisboa   \n",
       "2  80216810   R1 - AM Lisboa            Setúbal          Palmela   \n",
       "3  80216810   R1 - AM Lisboa            Setúbal          Palmela   \n",
       "4  80216810   R1 - AM Lisboa             Lisboa           Oeiras   \n",
       "\n",
       "   Average_Daily_SeniorPopulation_Travelling  IDRoute  \n",
       "0                                2013.681187        8  \n",
       "1                                2013.681187       85  \n",
       "2                                7688.296396        8  \n",
       "3                                7688.296396       85  \n",
       "4                                 220.647248        8  "
      ]
     },
     "execution_count": 65,
     "metadata": {},
     "output_type": "execute_result"
    }
   ],
   "source": [
    "joinedDf=dfSenior.merge(df)\n",
    "joinedDf.head()"
   ]
  },
  {
   "cell_type": "markdown",
   "id": "actual-candidate",
   "metadata": {},
   "source": [
    "# Links/Routes per Region, District and County"
   ]
  },
  {
   "cell_type": "code",
   "execution_count": 66,
   "id": "damaged-entertainment",
   "metadata": {},
   "outputs": [
    {
     "data": {
      "text/html": [
       "<div>\n",
       "<style scoped>\n",
       "    .dataframe tbody tr th:only-of-type {\n",
       "        vertical-align: middle;\n",
       "    }\n",
       "\n",
       "    .dataframe tbody tr th {\n",
       "        vertical-align: top;\n",
       "    }\n",
       "\n",
       "    .dataframe thead th {\n",
       "        text-align: right;\n",
       "    }\n",
       "</style>\n",
       "<table border=\"1\" class=\"dataframe\">\n",
       "  <thead>\n",
       "    <tr style=\"text-align: right;\">\n",
       "      <th></th>\n",
       "      <th>NumberOfLinks</th>\n",
       "      <th>NumberOfRoutes</th>\n",
       "      <th>AvgDailyPopulation</th>\n",
       "    </tr>\n",
       "    <tr>\n",
       "      <th>Region_of_Origin</th>\n",
       "      <th></th>\n",
       "      <th></th>\n",
       "      <th></th>\n",
       "    </tr>\n",
       "  </thead>\n",
       "  <tbody>\n",
       "    <tr>\n",
       "      <th>R1 - AM Lisboa</th>\n",
       "      <td>6184</td>\n",
       "      <td>160</td>\n",
       "      <td>576.977871</td>\n",
       "    </tr>\n",
       "    <tr>\n",
       "      <th>R2 - AM Porto</th>\n",
       "      <td>3803</td>\n",
       "      <td>133</td>\n",
       "      <td>2435.724436</td>\n",
       "    </tr>\n",
       "  </tbody>\n",
       "</table>\n",
       "</div>"
      ],
      "text/plain": [
       "                  NumberOfLinks  NumberOfRoutes  AvgDailyPopulation\n",
       "Region_of_Origin                                                   \n",
       "R1 - AM Lisboa             6184             160          576.977871\n",
       "R2 - AM Porto              3803             133         2435.724436"
      ]
     },
     "execution_count": 66,
     "metadata": {},
     "output_type": "execute_result"
    }
   ],
   "source": [
    "joinedDf.groupby(\"Region_of_Origin\").agg({'linkid': 'nunique', 'IDRoute': 'nunique', 'Average_Daily_SeniorPopulation_Travelling': 'mean'}) \\\n",
    "                                   .rename(columns={'linkid':'NumberOfLinks', 'IDRoute':'NumberOfRoutes', 'Average_Daily_SeniorPopulation_Travelling': 'AvgDailyPopulation'}) \\\n",
    "                                   .sort_values(\"NumberOfLinks\", ascending=False) "
   ]
  },
  {
   "cell_type": "code",
   "execution_count": 67,
   "id": "special-violin",
   "metadata": {},
   "outputs": [
    {
     "data": {
      "text/html": [
       "<div>\n",
       "<style scoped>\n",
       "    .dataframe tbody tr th:only-of-type {\n",
       "        vertical-align: middle;\n",
       "    }\n",
       "\n",
       "    .dataframe tbody tr th {\n",
       "        vertical-align: top;\n",
       "    }\n",
       "\n",
       "    .dataframe thead th {\n",
       "        text-align: right;\n",
       "    }\n",
       "</style>\n",
       "<table border=\"1\" class=\"dataframe\">\n",
       "  <thead>\n",
       "    <tr style=\"text-align: right;\">\n",
       "      <th></th>\n",
       "      <th>NumberOfLinks</th>\n",
       "      <th>NumberOfRoutes</th>\n",
       "      <th>AvgDailyPopulation</th>\n",
       "    </tr>\n",
       "    <tr>\n",
       "      <th>District_of_Origin</th>\n",
       "      <th></th>\n",
       "      <th></th>\n",
       "      <th></th>\n",
       "    </tr>\n",
       "  </thead>\n",
       "  <tbody>\n",
       "    <tr>\n",
       "      <th>Lisboa</th>\n",
       "      <td>5916</td>\n",
       "      <td>158</td>\n",
       "      <td>628.158972</td>\n",
       "    </tr>\n",
       "    <tr>\n",
       "      <th>Porto</th>\n",
       "      <td>3777</td>\n",
       "      <td>133</td>\n",
       "      <td>2451.672828</td>\n",
       "    </tr>\n",
       "    <tr>\n",
       "      <th>Setúbal</th>\n",
       "      <td>2368</td>\n",
       "      <td>141</td>\n",
       "      <td>365.034285</td>\n",
       "    </tr>\n",
       "    <tr>\n",
       "      <th>Aveiro</th>\n",
       "      <td>32</td>\n",
       "      <td>16</td>\n",
       "      <td>272.407024</td>\n",
       "    </tr>\n",
       "  </tbody>\n",
       "</table>\n",
       "</div>"
      ],
      "text/plain": [
       "                    NumberOfLinks  NumberOfRoutes  AvgDailyPopulation\n",
       "District_of_Origin                                                   \n",
       "Lisboa                       5916             158          628.158972\n",
       "Porto                        3777             133         2451.672828\n",
       "Setúbal                      2368             141          365.034285\n",
       "Aveiro                         32              16          272.407024"
      ]
     },
     "execution_count": 67,
     "metadata": {},
     "output_type": "execute_result"
    }
   ],
   "source": [
    "joinedDf.groupby(\"District_of_Origin\").agg({'linkid': 'nunique', 'IDRoute': 'nunique', 'Average_Daily_SeniorPopulation_Travelling': 'mean'}) \\\n",
    "                                   .rename(columns={'linkid':'NumberOfLinks', 'IDRoute':'NumberOfRoutes', 'Average_Daily_SeniorPopulation_Travelling': 'AvgDailyPopulation'}) \\\n",
    "                                   .sort_values(\"NumberOfLinks\", ascending=False) "
   ]
  },
  {
   "cell_type": "code",
   "execution_count": 128,
   "id": "received-tenant",
   "metadata": {
    "scrolled": false
   },
   "outputs": [
    {
     "data": {
      "text/html": [
       "<div>\n",
       "<style scoped>\n",
       "    .dataframe tbody tr th:only-of-type {\n",
       "        vertical-align: middle;\n",
       "    }\n",
       "\n",
       "    .dataframe tbody tr th {\n",
       "        vertical-align: top;\n",
       "    }\n",
       "\n",
       "    .dataframe thead th {\n",
       "        text-align: right;\n",
       "    }\n",
       "</style>\n",
       "<table border=\"1\" class=\"dataframe\">\n",
       "  <thead>\n",
       "    <tr style=\"text-align: right;\">\n",
       "      <th></th>\n",
       "      <th></th>\n",
       "      <th>NumberOfLinks</th>\n",
       "      <th>NumberOfRoutes</th>\n",
       "      <th>AvgDailyPopulation</th>\n",
       "    </tr>\n",
       "    <tr>\n",
       "      <th>District_of_Origin</th>\n",
       "      <th>County_of_Origin</th>\n",
       "      <th></th>\n",
       "      <th></th>\n",
       "      <th></th>\n",
       "    </tr>\n",
       "  </thead>\n",
       "  <tbody>\n",
       "    <tr>\n",
       "      <th>Aveiro</th>\n",
       "      <th>Santa Maria da Feira</th>\n",
       "      <td>32</td>\n",
       "      <td>16</td>\n",
       "      <td>272.407024</td>\n",
       "    </tr>\n",
       "    <tr>\n",
       "      <th rowspan=\"9\" valign=\"top\">Lisboa</th>\n",
       "      <th>Lisboa</th>\n",
       "      <td>3832</td>\n",
       "      <td>132</td>\n",
       "      <td>1176.641628</td>\n",
       "    </tr>\n",
       "    <tr>\n",
       "      <th>Odivelas</th>\n",
       "      <td>1255</td>\n",
       "      <td>120</td>\n",
       "      <td>715.200512</td>\n",
       "    </tr>\n",
       "    <tr>\n",
       "      <th>Oeiras</th>\n",
       "      <td>2824</td>\n",
       "      <td>152</td>\n",
       "      <td>394.144009</td>\n",
       "    </tr>\n",
       "    <tr>\n",
       "      <th>Vila Franca de Xira</th>\n",
       "      <td>1929</td>\n",
       "      <td>100</td>\n",
       "      <td>364.993711</td>\n",
       "    </tr>\n",
       "    <tr>\n",
       "      <th>Sintra</th>\n",
       "      <td>1226</td>\n",
       "      <td>107</td>\n",
       "      <td>351.236967</td>\n",
       "    </tr>\n",
       "    <tr>\n",
       "      <th>Cascais</th>\n",
       "      <td>472</td>\n",
       "      <td>98</td>\n",
       "      <td>285.334270</td>\n",
       "    </tr>\n",
       "    <tr>\n",
       "      <th>Amadora</th>\n",
       "      <td>613</td>\n",
       "      <td>92</td>\n",
       "      <td>155.706508</td>\n",
       "    </tr>\n",
       "    <tr>\n",
       "      <th>Mafra</th>\n",
       "      <td>283</td>\n",
       "      <td>81</td>\n",
       "      <td>144.367737</td>\n",
       "    </tr>\n",
       "    <tr>\n",
       "      <th>Loures</th>\n",
       "      <td>141</td>\n",
       "      <td>51</td>\n",
       "      <td>141.271239</td>\n",
       "    </tr>\n",
       "    <tr>\n",
       "      <th rowspan=\"4\" valign=\"top\">Porto</th>\n",
       "      <th>Maia</th>\n",
       "      <td>2670</td>\n",
       "      <td>99</td>\n",
       "      <td>3400.213919</td>\n",
       "    </tr>\n",
       "    <tr>\n",
       "      <th>Porto</th>\n",
       "      <td>1478</td>\n",
       "      <td>110</td>\n",
       "      <td>2213.490123</td>\n",
       "    </tr>\n",
       "    <tr>\n",
       "      <th>Gondomar</th>\n",
       "      <td>1076</td>\n",
       "      <td>95</td>\n",
       "      <td>1084.179459</td>\n",
       "    </tr>\n",
       "    <tr>\n",
       "      <th>Matosinhos</th>\n",
       "      <td>195</td>\n",
       "      <td>33</td>\n",
       "      <td>823.843490</td>\n",
       "    </tr>\n",
       "    <tr>\n",
       "      <th rowspan=\"8\" valign=\"top\">Setúbal</th>\n",
       "      <th>Palmela</th>\n",
       "      <td>240</td>\n",
       "      <td>68</td>\n",
       "      <td>889.849297</td>\n",
       "    </tr>\n",
       "    <tr>\n",
       "      <th>Alcochete</th>\n",
       "      <td>6</td>\n",
       "      <td>8</td>\n",
       "      <td>544.140508</td>\n",
       "    </tr>\n",
       "    <tr>\n",
       "      <th>Montijo</th>\n",
       "      <td>55</td>\n",
       "      <td>15</td>\n",
       "      <td>441.206994</td>\n",
       "    </tr>\n",
       "    <tr>\n",
       "      <th>Barreiro</th>\n",
       "      <td>1285</td>\n",
       "      <td>119</td>\n",
       "      <td>346.062201</td>\n",
       "    </tr>\n",
       "    <tr>\n",
       "      <th>Seixal</th>\n",
       "      <td>942</td>\n",
       "      <td>110</td>\n",
       "      <td>329.882526</td>\n",
       "    </tr>\n",
       "    <tr>\n",
       "      <th>Setúbal</th>\n",
       "      <td>113</td>\n",
       "      <td>29</td>\n",
       "      <td>138.546544</td>\n",
       "    </tr>\n",
       "    <tr>\n",
       "      <th>Sesimbra</th>\n",
       "      <td>49</td>\n",
       "      <td>24</td>\n",
       "      <td>116.808277</td>\n",
       "    </tr>\n",
       "    <tr>\n",
       "      <th>Almada</th>\n",
       "      <td>131</td>\n",
       "      <td>44</td>\n",
       "      <td>40.539317</td>\n",
       "    </tr>\n",
       "  </tbody>\n",
       "</table>\n",
       "</div>"
      ],
      "text/plain": [
       "                                         NumberOfLinks  NumberOfRoutes  \\\n",
       "District_of_Origin County_of_Origin                                      \n",
       "Aveiro             Santa Maria da Feira             32              16   \n",
       "Lisboa             Lisboa                         3832             132   \n",
       "                   Odivelas                       1255             120   \n",
       "                   Oeiras                         2824             152   \n",
       "                   Vila Franca de Xira            1929             100   \n",
       "                   Sintra                         1226             107   \n",
       "                   Cascais                         472              98   \n",
       "                   Amadora                         613              92   \n",
       "                   Mafra                           283              81   \n",
       "                   Loures                          141              51   \n",
       "Porto              Maia                           2670              99   \n",
       "                   Porto                          1478             110   \n",
       "                   Gondomar                       1076              95   \n",
       "                   Matosinhos                      195              33   \n",
       "Setúbal            Palmela                         240              68   \n",
       "                   Alcochete                         6               8   \n",
       "                   Montijo                          55              15   \n",
       "                   Barreiro                       1285             119   \n",
       "                   Seixal                          942             110   \n",
       "                   Setúbal                         113              29   \n",
       "                   Sesimbra                         49              24   \n",
       "                   Almada                          131              44   \n",
       "\n",
       "                                         AvgDailyPopulation  \n",
       "District_of_Origin County_of_Origin                          \n",
       "Aveiro             Santa Maria da Feira          272.407024  \n",
       "Lisboa             Lisboa                       1176.641628  \n",
       "                   Odivelas                      715.200512  \n",
       "                   Oeiras                        394.144009  \n",
       "                   Vila Franca de Xira           364.993711  \n",
       "                   Sintra                        351.236967  \n",
       "                   Cascais                       285.334270  \n",
       "                   Amadora                       155.706508  \n",
       "                   Mafra                         144.367737  \n",
       "                   Loures                        141.271239  \n",
       "Porto              Maia                         3400.213919  \n",
       "                   Porto                        2213.490123  \n",
       "                   Gondomar                     1084.179459  \n",
       "                   Matosinhos                    823.843490  \n",
       "Setúbal            Palmela                       889.849297  \n",
       "                   Alcochete                     544.140508  \n",
       "                   Montijo                       441.206994  \n",
       "                   Barreiro                      346.062201  \n",
       "                   Seixal                        329.882526  \n",
       "                   Setúbal                       138.546544  \n",
       "                   Sesimbra                      116.808277  \n",
       "                   Almada                         40.539317  "
      ]
     },
     "execution_count": 128,
     "metadata": {},
     "output_type": "execute_result"
    }
   ],
   "source": [
    "linksRoutesPerOrigin=joinedDf.groupby([\"District_of_Origin\", \"County_of_Origin\"]).agg({'linkid': 'nunique', 'IDRoute': 'nunique', 'Average_Daily_SeniorPopulation_Travelling': 'mean'}) \\\n",
    "                                   .rename(columns={'linkid':'NumberOfLinks', 'IDRoute':'NumberOfRoutes', 'Average_Daily_SeniorPopulation_Travelling': 'AvgDailyPopulation'}) \\\n",
    "                                   .sort_values([\"District_of_Origin\", \"AvgDailyPopulation\"], ascending=[True,  False]) \n",
    "\n",
    "linksRoutesPerOrigin"
   ]
  },
  {
   "cell_type": "markdown",
   "id": "considered-dutch",
   "metadata": {},
   "source": [
    "## Open Weather Analysis"
   ]
  },
  {
   "cell_type": "code",
   "execution_count": 129,
   "id": "alpine-giant",
   "metadata": {
    "scrolled": false
   },
   "outputs": [],
   "source": [
    "conversion_dic= {\n",
    "    \"Porto\": \"Porto\",\n",
    "    \"Aveiro\": \"Aveiro\",\n",
    "    \"Lisboa\": \"Lisbon\",\n",
    "    \"Setúbal\": \"Setubal\"\n",
    "}\n",
    "    \n",
    "def get_history(district_name, city_name):\n",
    "    print(\"Retrieving {0} ({1}) history...\".format(city_name, district_name))\n",
    "\n",
    "    # If no city name is available then use district instead\n",
    "    if city_name in conversion_dic:\n",
    "        city_name=conversion_dic[city_name]\n",
    "    \n",
    "    url = \"http://history.openweathermap.org/data/2.5/aggregated/year?q=\" + city_name + \",PT&appid=\" + \"155b4d6acbf49ae8044c54f654953578\" \\\n",
    "                + \"&start=2019-04-01\" \\\n",
    "                + \"&end=2020-03-31\" \\\n",
    "\n",
    "    request_json=requests.get(url).json()\n",
    "    if \"result\" not in request_json:\n",
    "        return get_history(district_name, district_name)\n",
    "        \n",
    "    return pd.json_normalize(request_json[\"result\"])\n",
    "\n",
    "def get_agg_metric(district, city, col, agg_metric):\n",
    "    df=get_history(district, city)\n",
    "    return df.agg({col: agg_metric})[0] "
   ]
  },
  {
   "cell_type": "code",
   "execution_count": 130,
   "id": "df7679ff",
   "metadata": {
    "scrolled": false
   },
   "outputs": [
    {
     "name": "stdout",
     "output_type": "stream",
     "text": [
      "Retrieving Aveiro (Aveiro) history...\n",
      "Index(['month', 'day', 'temp.record_min', 'temp.record_max',\n",
      "       'temp.average_min', 'temp.average_max', 'temp.median', 'temp.mean',\n",
      "       'temp.p25', 'temp.p75', 'temp.st_dev', 'temp.num', 'pressure.min',\n",
      "       'pressure.max', 'pressure.median', 'pressure.mean', 'pressure.p25',\n",
      "       'pressure.p75', 'pressure.st_dev', 'pressure.num', 'humidity.min',\n",
      "       'humidity.max', 'humidity.median', 'humidity.mean', 'humidity.p25',\n",
      "       'humidity.p75', 'humidity.st_dev', 'humidity.num', 'wind.min',\n",
      "       'wind.max', 'wind.median', 'wind.mean', 'wind.p25', 'wind.p75',\n",
      "       'wind.st_dev', 'wind.num', 'precipitation.min', 'precipitation.max',\n",
      "       'precipitation.median', 'precipitation.mean', 'precipitation.p25',\n",
      "       'precipitation.p75', 'precipitation.st_dev', 'precipitation.num',\n",
      "       'clouds.min', 'clouds.max', 'clouds.median', 'clouds.mean',\n",
      "       'clouds.p25', 'clouds.p75', 'clouds.st_dev', 'clouds.num'],\n",
      "      dtype='object')\n"
     ]
    },
    {
     "data": {
      "text/html": [
       "<div>\n",
       "<style scoped>\n",
       "    .dataframe tbody tr th:only-of-type {\n",
       "        vertical-align: middle;\n",
       "    }\n",
       "\n",
       "    .dataframe tbody tr th {\n",
       "        vertical-align: top;\n",
       "    }\n",
       "\n",
       "    .dataframe thead th {\n",
       "        text-align: right;\n",
       "    }\n",
       "</style>\n",
       "<table border=\"1\" class=\"dataframe\">\n",
       "  <thead>\n",
       "    <tr style=\"text-align: right;\">\n",
       "      <th></th>\n",
       "      <th>month</th>\n",
       "      <th>day</th>\n",
       "      <th>temp.record_min</th>\n",
       "      <th>temp.record_max</th>\n",
       "      <th>temp.average_min</th>\n",
       "      <th>temp.average_max</th>\n",
       "      <th>temp.median</th>\n",
       "      <th>temp.mean</th>\n",
       "      <th>temp.p25</th>\n",
       "      <th>temp.p75</th>\n",
       "      <th>...</th>\n",
       "      <th>precipitation.st_dev</th>\n",
       "      <th>precipitation.num</th>\n",
       "      <th>clouds.min</th>\n",
       "      <th>clouds.max</th>\n",
       "      <th>clouds.median</th>\n",
       "      <th>clouds.mean</th>\n",
       "      <th>clouds.p25</th>\n",
       "      <th>clouds.p75</th>\n",
       "      <th>clouds.st_dev</th>\n",
       "      <th>clouds.num</th>\n",
       "    </tr>\n",
       "  </thead>\n",
       "  <tbody>\n",
       "    <tr>\n",
       "      <th>0</th>\n",
       "      <td>1</td>\n",
       "      <td>1</td>\n",
       "      <td>271.36</td>\n",
       "      <td>291.04</td>\n",
       "      <td>278.82</td>\n",
       "      <td>286.79</td>\n",
       "      <td>282.10</td>\n",
       "      <td>282.38</td>\n",
       "      <td>278.64</td>\n",
       "      <td>285.19</td>\n",
       "      <td>...</td>\n",
       "      <td>0.24</td>\n",
       "      <td>216</td>\n",
       "      <td>0</td>\n",
       "      <td>100</td>\n",
       "      <td>40.0</td>\n",
       "      <td>46.73</td>\n",
       "      <td>0.0</td>\n",
       "      <td>88.0</td>\n",
       "      <td>37.92</td>\n",
       "      <td>216</td>\n",
       "    </tr>\n",
       "    <tr>\n",
       "      <th>1</th>\n",
       "      <td>1</td>\n",
       "      <td>2</td>\n",
       "      <td>272.32</td>\n",
       "      <td>291.04</td>\n",
       "      <td>279.75</td>\n",
       "      <td>286.46</td>\n",
       "      <td>283.09</td>\n",
       "      <td>282.77</td>\n",
       "      <td>278.95</td>\n",
       "      <td>286.15</td>\n",
       "      <td>...</td>\n",
       "      <td>0.21</td>\n",
       "      <td>216</td>\n",
       "      <td>0</td>\n",
       "      <td>100</td>\n",
       "      <td>75.0</td>\n",
       "      <td>51.17</td>\n",
       "      <td>11.0</td>\n",
       "      <td>88.0</td>\n",
       "      <td>37.36</td>\n",
       "      <td>216</td>\n",
       "    </tr>\n",
       "    <tr>\n",
       "      <th>2</th>\n",
       "      <td>1</td>\n",
       "      <td>3</td>\n",
       "      <td>272.59</td>\n",
       "      <td>291.04</td>\n",
       "      <td>280.87</td>\n",
       "      <td>287.68</td>\n",
       "      <td>285.15</td>\n",
       "      <td>283.64</td>\n",
       "      <td>279.89</td>\n",
       "      <td>287.72</td>\n",
       "      <td>...</td>\n",
       "      <td>1.01</td>\n",
       "      <td>216</td>\n",
       "      <td>0</td>\n",
       "      <td>100</td>\n",
       "      <td>75.0</td>\n",
       "      <td>56.78</td>\n",
       "      <td>0.0</td>\n",
       "      <td>89.0</td>\n",
       "      <td>37.99</td>\n",
       "      <td>216</td>\n",
       "    </tr>\n",
       "    <tr>\n",
       "      <th>3</th>\n",
       "      <td>1</td>\n",
       "      <td>4</td>\n",
       "      <td>271.37</td>\n",
       "      <td>291.04</td>\n",
       "      <td>280.78</td>\n",
       "      <td>287.74</td>\n",
       "      <td>285.05</td>\n",
       "      <td>283.69</td>\n",
       "      <td>280.27</td>\n",
       "      <td>287.15</td>\n",
       "      <td>...</td>\n",
       "      <td>0.92</td>\n",
       "      <td>216</td>\n",
       "      <td>0</td>\n",
       "      <td>100</td>\n",
       "      <td>75.0</td>\n",
       "      <td>49.32</td>\n",
       "      <td>0.0</td>\n",
       "      <td>88.0</td>\n",
       "      <td>38.64</td>\n",
       "      <td>216</td>\n",
       "    </tr>\n",
       "    <tr>\n",
       "      <th>4</th>\n",
       "      <td>1</td>\n",
       "      <td>5</td>\n",
       "      <td>272.59</td>\n",
       "      <td>291.15</td>\n",
       "      <td>278.30</td>\n",
       "      <td>286.84</td>\n",
       "      <td>281.01</td>\n",
       "      <td>281.97</td>\n",
       "      <td>278.58</td>\n",
       "      <td>285.94</td>\n",
       "      <td>...</td>\n",
       "      <td>0.26</td>\n",
       "      <td>216</td>\n",
       "      <td>0</td>\n",
       "      <td>92</td>\n",
       "      <td>14.0</td>\n",
       "      <td>32.30</td>\n",
       "      <td>0.0</td>\n",
       "      <td>75.0</td>\n",
       "      <td>38.52</td>\n",
       "      <td>216</td>\n",
       "    </tr>\n",
       "  </tbody>\n",
       "</table>\n",
       "<p>5 rows × 52 columns</p>\n",
       "</div>"
      ],
      "text/plain": [
       "   month  day  temp.record_min  temp.record_max  temp.average_min  \\\n",
       "0      1    1           271.36           291.04            278.82   \n",
       "1      1    2           272.32           291.04            279.75   \n",
       "2      1    3           272.59           291.04            280.87   \n",
       "3      1    4           271.37           291.04            280.78   \n",
       "4      1    5           272.59           291.15            278.30   \n",
       "\n",
       "   temp.average_max  temp.median  temp.mean  temp.p25  temp.p75  ...  \\\n",
       "0            286.79       282.10     282.38    278.64    285.19  ...   \n",
       "1            286.46       283.09     282.77    278.95    286.15  ...   \n",
       "2            287.68       285.15     283.64    279.89    287.72  ...   \n",
       "3            287.74       285.05     283.69    280.27    287.15  ...   \n",
       "4            286.84       281.01     281.97    278.58    285.94  ...   \n",
       "\n",
       "   precipitation.st_dev  precipitation.num  clouds.min  clouds.max  \\\n",
       "0                  0.24                216           0         100   \n",
       "1                  0.21                216           0         100   \n",
       "2                  1.01                216           0         100   \n",
       "3                  0.92                216           0         100   \n",
       "4                  0.26                216           0          92   \n",
       "\n",
       "   clouds.median  clouds.mean  clouds.p25  clouds.p75  clouds.st_dev  \\\n",
       "0           40.0        46.73         0.0        88.0          37.92   \n",
       "1           75.0        51.17        11.0        88.0          37.36   \n",
       "2           75.0        56.78         0.0        89.0          37.99   \n",
       "3           75.0        49.32         0.0        88.0          38.64   \n",
       "4           14.0        32.30         0.0        75.0          38.52   \n",
       "\n",
       "   clouds.num  \n",
       "0         216  \n",
       "1         216  \n",
       "2         216  \n",
       "3         216  \n",
       "4         216  \n",
       "\n",
       "[5 rows x 52 columns]"
      ]
     },
     "execution_count": 130,
     "metadata": {},
     "output_type": "execute_result"
    }
   ],
   "source": [
    "aveiro_weather=get_history(\"Aveiro\", \"Aveiro\")\n",
    "print(aveiro_weather.columns)\n",
    "aveiro_weather.head()"
   ]
  },
  {
   "cell_type": "markdown",
   "id": "e506d7d3",
   "metadata": {},
   "source": [
    "## Weather City Averages"
   ]
  },
  {
   "cell_type": "markdown",
   "id": "28bee9e6",
   "metadata": {},
   "source": [
    "## Aveiro"
   ]
  },
  {
   "cell_type": "code",
   "execution_count": 131,
   "id": "81538202",
   "metadata": {
    "scrolled": false
   },
   "outputs": [
    {
     "name": "stdout",
     "output_type": "stream",
     "text": [
      "Retrieving Aveiro (Aveiro) history...\n",
      "Temp Year Mean >> 287.9760655737705\n",
      "Retrieving Aveiro (Aveiro) history...\n",
      "Precipitation Year Mean >> 0.14245901639344263\n"
     ]
    }
   ],
   "source": [
    "print(\"Temp Year Mean >> \" + str(get_agg_metric(\"Aveiro\", \"Aveiro\", \"temp.mean\", \"mean\")))\n",
    "print(\"Precipitation Year Mean >> \" + str(get_agg_metric(\"Aveiro\", \"Aveiro\", \"precipitation.mean\", \"mean\")))"
   ]
  },
  {
   "cell_type": "markdown",
   "id": "25c8f6b3",
   "metadata": {},
   "source": [
    "## Porto"
   ]
  },
  {
   "cell_type": "code",
   "execution_count": 132,
   "id": "d4383e53",
   "metadata": {},
   "outputs": [
    {
     "name": "stdout",
     "output_type": "stream",
     "text": [
      "Retrieving Porto (Porto) history...\n",
      "Temp Year Mean >> 288.39592896174867\n",
      "Retrieving Porto (Porto) history...\n",
      "Precipitation Year Mean >> 0.12601092896174865\n"
     ]
    }
   ],
   "source": [
    "print(\"Temp Year Mean >> \" + str(get_agg_metric(\"Porto\", \"Porto\", \"temp.mean\", \"mean\")))\n",
    "print(\"Precipitation Year Mean >> \" + str(get_agg_metric(\"Porto\", \"Porto\", \"precipitation.mean\", \"mean\")))"
   ]
  },
  {
   "cell_type": "markdown",
   "id": "3a25bf14",
   "metadata": {},
   "source": [
    "## Lisbon"
   ]
  },
  {
   "cell_type": "code",
   "execution_count": 133,
   "id": "5e6d0710",
   "metadata": {
    "scrolled": true
   },
   "outputs": [
    {
     "name": "stdout",
     "output_type": "stream",
     "text": [
      "Retrieving Lisboa (Lisboa) history...\n",
      "Temp Year Mean >> 289.20767759562847\n",
      "Retrieving Lisboa (Lisboa) history...\n",
      "Precipitation Year Mean >> 0.10491803278688525\n"
     ]
    }
   ],
   "source": [
    "print(\"Temp Year Mean >> \" + str(get_agg_metric(\"Lisboa\", \"Lisboa\", \"temp.mean\", \"mean\")))\n",
    "print(\"Precipitation Year Mean >> \" + str(get_agg_metric(\"Lisboa\", \"Lisboa\", \"precipitation.mean\", \"mean\")))"
   ]
  },
  {
   "cell_type": "markdown",
   "id": "650eb78f",
   "metadata": {},
   "source": [
    "## Join Weather Cols"
   ]
  },
  {
   "cell_type": "code",
   "execution_count": 134,
   "id": "67320f88",
   "metadata": {
    "scrolled": false
   },
   "outputs": [
    {
     "name": "stdout",
     "output_type": "stream",
     "text": [
      "Retrieving Santa Maria da Feira (Aveiro) history...\n",
      "Retrieving Aveiro (Aveiro) history...\n",
      "Retrieving Lisboa (Lisboa) history...\n",
      "Retrieving Odivelas (Lisboa) history...\n",
      "Retrieving Oeiras (Lisboa) history...\n",
      "Retrieving Lisboa (Lisboa) history...\n",
      "Retrieving Vila Franca de Xira (Lisboa) history...\n",
      "Retrieving Sintra (Lisboa) history...\n",
      "Retrieving Cascais (Lisboa) history...\n",
      "Retrieving Amadora (Lisboa) history...\n",
      "Retrieving Mafra (Lisboa) history...\n",
      "Retrieving Loures (Lisboa) history...\n",
      "Retrieving Maia (Porto) history...\n",
      "Retrieving Porto (Porto) history...\n",
      "Retrieving Gondomar (Porto) history...\n",
      "Retrieving Matosinhos (Porto) history...\n",
      "Retrieving Palmela (Setúbal) history...\n",
      "Retrieving Alcochete (Setúbal) history...\n",
      "Retrieving Montijo (Setúbal) history...\n",
      "Retrieving Barreiro (Setúbal) history...\n",
      "Retrieving Seixal (Setúbal) history...\n",
      "Retrieving Setúbal (Setúbal) history...\n",
      "Retrieving Setúbal (Setúbal) history...\n",
      "Retrieving Sesimbra (Setúbal) history...\n",
      "Retrieving Almada (Setúbal) history...\n",
      "Retrieving Santa Maria da Feira (Aveiro) history...\n",
      "Retrieving Aveiro (Aveiro) history...\n",
      "Retrieving Lisboa (Lisboa) history...\n",
      "Retrieving Odivelas (Lisboa) history...\n",
      "Retrieving Oeiras (Lisboa) history...\n",
      "Retrieving Lisboa (Lisboa) history...\n",
      "Retrieving Vila Franca de Xira (Lisboa) history...\n",
      "Retrieving Sintra (Lisboa) history...\n",
      "Retrieving Cascais (Lisboa) history...\n",
      "Retrieving Amadora (Lisboa) history...\n",
      "Retrieving Mafra (Lisboa) history...\n",
      "Retrieving Loures (Lisboa) history...\n",
      "Retrieving Maia (Porto) history...\n",
      "Retrieving Porto (Porto) history...\n",
      "Retrieving Gondomar (Porto) history...\n",
      "Retrieving Matosinhos (Porto) history...\n",
      "Retrieving Palmela (Setúbal) history...\n",
      "Retrieving Alcochete (Setúbal) history...\n",
      "Retrieving Montijo (Setúbal) history...\n",
      "Retrieving Barreiro (Setúbal) history...\n",
      "Retrieving Seixal (Setúbal) history...\n",
      "Retrieving Setúbal (Setúbal) history...\n",
      "Retrieving Setúbal (Setúbal) history...\n",
      "Retrieving Sesimbra (Setúbal) history...\n",
      "Retrieving Almada (Setúbal) history...\n"
     ]
    },
    {
     "data": {
      "text/html": [
       "<div>\n",
       "<style scoped>\n",
       "    .dataframe tbody tr th:only-of-type {\n",
       "        vertical-align: middle;\n",
       "    }\n",
       "\n",
       "    .dataframe tbody tr th {\n",
       "        vertical-align: top;\n",
       "    }\n",
       "\n",
       "    .dataframe thead th {\n",
       "        text-align: right;\n",
       "    }\n",
       "</style>\n",
       "<table border=\"1\" class=\"dataframe\">\n",
       "  <thead>\n",
       "    <tr style=\"text-align: right;\">\n",
       "      <th></th>\n",
       "      <th></th>\n",
       "      <th>NumberOfLinks</th>\n",
       "      <th>NumberOfRoutes</th>\n",
       "      <th>AvgDailyPopulation</th>\n",
       "      <th>AvgYearTemp</th>\n",
       "      <th>AvgYearPrecipitation</th>\n",
       "    </tr>\n",
       "    <tr>\n",
       "      <th>District_of_Origin</th>\n",
       "      <th>County_of_Origin</th>\n",
       "      <th></th>\n",
       "      <th></th>\n",
       "      <th></th>\n",
       "      <th></th>\n",
       "      <th></th>\n",
       "    </tr>\n",
       "  </thead>\n",
       "  <tbody>\n",
       "    <tr>\n",
       "      <th>Aveiro</th>\n",
       "      <th>Santa Maria da Feira</th>\n",
       "      <td>32</td>\n",
       "      <td>16</td>\n",
       "      <td>272.407024</td>\n",
       "      <td>287.976066</td>\n",
       "      <td>0.142459</td>\n",
       "    </tr>\n",
       "    <tr>\n",
       "      <th rowspan=\"9\" valign=\"top\">Lisboa</th>\n",
       "      <th>Lisboa</th>\n",
       "      <td>3832</td>\n",
       "      <td>132</td>\n",
       "      <td>1176.641628</td>\n",
       "      <td>289.207678</td>\n",
       "      <td>0.104918</td>\n",
       "    </tr>\n",
       "    <tr>\n",
       "      <th>Odivelas</th>\n",
       "      <td>1255</td>\n",
       "      <td>120</td>\n",
       "      <td>715.200512</td>\n",
       "      <td>289.080137</td>\n",
       "      <td>0.080273</td>\n",
       "    </tr>\n",
       "    <tr>\n",
       "      <th>Oeiras</th>\n",
       "      <td>2824</td>\n",
       "      <td>152</td>\n",
       "      <td>394.144009</td>\n",
       "      <td>289.207678</td>\n",
       "      <td>0.104918</td>\n",
       "    </tr>\n",
       "    <tr>\n",
       "      <th>Vila Franca de Xira</th>\n",
       "      <td>1929</td>\n",
       "      <td>100</td>\n",
       "      <td>364.993711</td>\n",
       "      <td>289.160929</td>\n",
       "      <td>0.090000</td>\n",
       "    </tr>\n",
       "    <tr>\n",
       "      <th>Sintra</th>\n",
       "      <td>1226</td>\n",
       "      <td>107</td>\n",
       "      <td>351.236967</td>\n",
       "      <td>289.181366</td>\n",
       "      <td>0.080656</td>\n",
       "    </tr>\n",
       "    <tr>\n",
       "      <th>Cascais</th>\n",
       "      <td>472</td>\n",
       "      <td>98</td>\n",
       "      <td>285.334270</td>\n",
       "      <td>289.449617</td>\n",
       "      <td>0.082732</td>\n",
       "    </tr>\n",
       "    <tr>\n",
       "      <th>Amadora</th>\n",
       "      <td>613</td>\n",
       "      <td>92</td>\n",
       "      <td>155.706508</td>\n",
       "      <td>289.140355</td>\n",
       "      <td>0.063306</td>\n",
       "    </tr>\n",
       "    <tr>\n",
       "      <th>Mafra</th>\n",
       "      <td>283</td>\n",
       "      <td>81</td>\n",
       "      <td>144.367737</td>\n",
       "      <td>289.375546</td>\n",
       "      <td>0.089071</td>\n",
       "    </tr>\n",
       "    <tr>\n",
       "      <th>Loures</th>\n",
       "      <td>141</td>\n",
       "      <td>51</td>\n",
       "      <td>141.271239</td>\n",
       "      <td>289.097404</td>\n",
       "      <td>0.070683</td>\n",
       "    </tr>\n",
       "    <tr>\n",
       "      <th rowspan=\"4\" valign=\"top\">Porto</th>\n",
       "      <th>Maia</th>\n",
       "      <td>2670</td>\n",
       "      <td>99</td>\n",
       "      <td>3400.213919</td>\n",
       "      <td>288.905246</td>\n",
       "      <td>0.140273</td>\n",
       "    </tr>\n",
       "    <tr>\n",
       "      <th>Porto</th>\n",
       "      <td>1478</td>\n",
       "      <td>110</td>\n",
       "      <td>2213.490123</td>\n",
       "      <td>288.395929</td>\n",
       "      <td>0.126011</td>\n",
       "    </tr>\n",
       "    <tr>\n",
       "      <th>Gondomar</th>\n",
       "      <td>1076</td>\n",
       "      <td>95</td>\n",
       "      <td>1084.179459</td>\n",
       "      <td>288.931339</td>\n",
       "      <td>0.140492</td>\n",
       "    </tr>\n",
       "    <tr>\n",
       "      <th>Matosinhos</th>\n",
       "      <td>195</td>\n",
       "      <td>33</td>\n",
       "      <td>823.843490</td>\n",
       "      <td>288.423197</td>\n",
       "      <td>0.143743</td>\n",
       "    </tr>\n",
       "    <tr>\n",
       "      <th rowspan=\"8\" valign=\"top\">Setúbal</th>\n",
       "      <th>Palmela</th>\n",
       "      <td>240</td>\n",
       "      <td>68</td>\n",
       "      <td>889.849297</td>\n",
       "      <td>289.347240</td>\n",
       "      <td>0.091885</td>\n",
       "    </tr>\n",
       "    <tr>\n",
       "      <th>Alcochete</th>\n",
       "      <td>6</td>\n",
       "      <td>8</td>\n",
       "      <td>544.140508</td>\n",
       "      <td>289.324891</td>\n",
       "      <td>0.095355</td>\n",
       "    </tr>\n",
       "    <tr>\n",
       "      <th>Montijo</th>\n",
       "      <td>55</td>\n",
       "      <td>15</td>\n",
       "      <td>441.206994</td>\n",
       "      <td>289.161311</td>\n",
       "      <td>0.097104</td>\n",
       "    </tr>\n",
       "    <tr>\n",
       "      <th>Barreiro</th>\n",
       "      <td>1285</td>\n",
       "      <td>119</td>\n",
       "      <td>346.062201</td>\n",
       "      <td>289.211612</td>\n",
       "      <td>0.058306</td>\n",
       "    </tr>\n",
       "    <tr>\n",
       "      <th>Seixal</th>\n",
       "      <td>942</td>\n",
       "      <td>110</td>\n",
       "      <td>329.882526</td>\n",
       "      <td>289.313279</td>\n",
       "      <td>0.053142</td>\n",
       "    </tr>\n",
       "    <tr>\n",
       "      <th>Setúbal</th>\n",
       "      <td>113</td>\n",
       "      <td>29</td>\n",
       "      <td>138.546544</td>\n",
       "      <td>289.313279</td>\n",
       "      <td>0.053142</td>\n",
       "    </tr>\n",
       "    <tr>\n",
       "      <th>Sesimbra</th>\n",
       "      <td>49</td>\n",
       "      <td>24</td>\n",
       "      <td>116.808277</td>\n",
       "      <td>289.426612</td>\n",
       "      <td>0.090082</td>\n",
       "    </tr>\n",
       "    <tr>\n",
       "      <th>Almada</th>\n",
       "      <td>131</td>\n",
       "      <td>44</td>\n",
       "      <td>40.539317</td>\n",
       "      <td>289.329481</td>\n",
       "      <td>0.079426</td>\n",
       "    </tr>\n",
       "  </tbody>\n",
       "</table>\n",
       "</div>"
      ],
      "text/plain": [
       "                                         NumberOfLinks  NumberOfRoutes  \\\n",
       "District_of_Origin County_of_Origin                                      \n",
       "Aveiro             Santa Maria da Feira             32              16   \n",
       "Lisboa             Lisboa                         3832             132   \n",
       "                   Odivelas                       1255             120   \n",
       "                   Oeiras                         2824             152   \n",
       "                   Vila Franca de Xira            1929             100   \n",
       "                   Sintra                         1226             107   \n",
       "                   Cascais                         472              98   \n",
       "                   Amadora                         613              92   \n",
       "                   Mafra                           283              81   \n",
       "                   Loures                          141              51   \n",
       "Porto              Maia                           2670              99   \n",
       "                   Porto                          1478             110   \n",
       "                   Gondomar                       1076              95   \n",
       "                   Matosinhos                      195              33   \n",
       "Setúbal            Palmela                         240              68   \n",
       "                   Alcochete                         6               8   \n",
       "                   Montijo                          55              15   \n",
       "                   Barreiro                       1285             119   \n",
       "                   Seixal                          942             110   \n",
       "                   Setúbal                         113              29   \n",
       "                   Sesimbra                         49              24   \n",
       "                   Almada                          131              44   \n",
       "\n",
       "                                         AvgDailyPopulation  AvgYearTemp  \\\n",
       "District_of_Origin County_of_Origin                                        \n",
       "Aveiro             Santa Maria da Feira          272.407024   287.976066   \n",
       "Lisboa             Lisboa                       1176.641628   289.207678   \n",
       "                   Odivelas                      715.200512   289.080137   \n",
       "                   Oeiras                        394.144009   289.207678   \n",
       "                   Vila Franca de Xira           364.993711   289.160929   \n",
       "                   Sintra                        351.236967   289.181366   \n",
       "                   Cascais                       285.334270   289.449617   \n",
       "                   Amadora                       155.706508   289.140355   \n",
       "                   Mafra                         144.367737   289.375546   \n",
       "                   Loures                        141.271239   289.097404   \n",
       "Porto              Maia                         3400.213919   288.905246   \n",
       "                   Porto                        2213.490123   288.395929   \n",
       "                   Gondomar                     1084.179459   288.931339   \n",
       "                   Matosinhos                    823.843490   288.423197   \n",
       "Setúbal            Palmela                       889.849297   289.347240   \n",
       "                   Alcochete                     544.140508   289.324891   \n",
       "                   Montijo                       441.206994   289.161311   \n",
       "                   Barreiro                      346.062201   289.211612   \n",
       "                   Seixal                        329.882526   289.313279   \n",
       "                   Setúbal                       138.546544   289.313279   \n",
       "                   Sesimbra                      116.808277   289.426612   \n",
       "                   Almada                         40.539317   289.329481   \n",
       "\n",
       "                                         AvgYearPrecipitation  \n",
       "District_of_Origin County_of_Origin                            \n",
       "Aveiro             Santa Maria da Feira              0.142459  \n",
       "Lisboa             Lisboa                            0.104918  \n",
       "                   Odivelas                          0.080273  \n",
       "                   Oeiras                            0.104918  \n",
       "                   Vila Franca de Xira               0.090000  \n",
       "                   Sintra                            0.080656  \n",
       "                   Cascais                           0.082732  \n",
       "                   Amadora                           0.063306  \n",
       "                   Mafra                             0.089071  \n",
       "                   Loures                            0.070683  \n",
       "Porto              Maia                              0.140273  \n",
       "                   Porto                             0.126011  \n",
       "                   Gondomar                          0.140492  \n",
       "                   Matosinhos                        0.143743  \n",
       "Setúbal            Palmela                           0.091885  \n",
       "                   Alcochete                         0.095355  \n",
       "                   Montijo                           0.097104  \n",
       "                   Barreiro                          0.058306  \n",
       "                   Seixal                            0.053142  \n",
       "                   Setúbal                           0.053142  \n",
       "                   Sesimbra                          0.090082  \n",
       "                   Almada                            0.079426  "
      ]
     },
     "execution_count": 134,
     "metadata": {},
     "output_type": "execute_result"
    }
   ],
   "source": [
    "linksRoutesPerOrigin['AvgYearTemp'] = linksRoutesPerOrigin.apply(lambda row: get_agg_metric(row.name[0], row.name[1], \"temp.mean\", \"mean\"), axis=1)\n",
    "linksRoutesPerOrigin['AvgYearPrecipitation'] = linksRoutesPerOrigin.apply(lambda row: get_agg_metric(row.name[0], row.name[1], \"precipitation.mean\", \"mean\"), axis=1)\n",
    "\n",
    "linksRoutesPerOrigin"
   ]
  },
  {
   "cell_type": "markdown",
   "id": "played-satin",
   "metadata": {},
   "source": [
    "## Distribution of links"
   ]
  },
  {
   "cell_type": "code",
   "execution_count": 92,
   "id": "threatened-mother",
   "metadata": {
    "scrolled": true
   },
   "outputs": [
    {
     "data": {
      "text/plain": [
       "<AxesSubplot:>"
      ]
     },
     "execution_count": 92,
     "metadata": {},
     "output_type": "execute_result"
    },
    {
     "data": {
      "image/png": "[encoded data removed]",
      "text/plain": [
       "<Figure size 432x288 with 1 Axes>"
      ]
     },
     "metadata": {
      "needs_background": "light"
     },
     "output_type": "display_data"
    }
   ],
   "source": [
    "linksRoutesPerOrigin.boxplot('NumberOfLinks')"
   ]
  },
  {
   "cell_type": "code",
   "execution_count": 99,
   "id": "least-chest",
   "metadata": {},
   "outputs": [
    {
     "data": {
      "text/plain": [
       "<AxesSubplot:ylabel='Frequency'>"
      ]
     },
     "execution_count": 99,
     "metadata": {},
     "output_type": "execute_result"
    },
    {
     "data": {
      "image/png": "[encoded data removed]",
      "text/plain": [
       "<Figure size 864x432 with 1 Axes>"
      ]
     },
     "metadata": {
      "needs_background": "light"
     },
     "output_type": "display_data"
    }
   ],
   "source": [
    "linksRoutesPerOrigin['NumberOfLinks'].plot(kind='hist', bins=10, figsize=(12,6), facecolor='grey',edgecolor='black')"
   ]
  },
  {
   "cell_type": "markdown",
   "id": "supreme-senator",
   "metadata": {},
   "source": [
    "## Distribution of routes"
   ]
  },
  {
   "cell_type": "code",
   "execution_count": 94,
   "id": "cardiac-personal",
   "metadata": {},
   "outputs": [
    {
     "data": {
      "text/plain": [
       "<AxesSubplot:>"
      ]
     },
     "execution_count": 94,
     "metadata": {},
     "output_type": "execute_result"
    },
    {
     "data": {
      "image/png": "[encoded data removed]",
      "text/plain": [
       "<Figure size 432x288 with 1 Axes>"
      ]
     },
     "metadata": {
      "needs_background": "light"
     },
     "output_type": "display_data"
    }
   ],
   "source": [
    "linksRoutesPerOrigin.boxplot('NumberOfRoutes')"
   ]
  },
  {
   "cell_type": "code",
   "execution_count": 100,
   "id": "charged-smell",
   "metadata": {
    "scrolled": false
   },
   "outputs": [
    {
     "data": {
      "text/plain": [
       "<AxesSubplot:ylabel='Frequency'>"
      ]
     },
     "execution_count": 100,
     "metadata": {},
     "output_type": "execute_result"
    },
    {
     "data": {
      "image/png": "[encoded data removed]",
      "text/plain": [
       "<Figure size 864x432 with 1 Axes>"
      ]
     },
     "metadata": {
      "needs_background": "light"
     },
     "output_type": "display_data"
    }
   ],
   "source": [
    "linksRoutesPerOrigin['NumberOfRoutes'].plot(kind='hist', bins=10, figsize=(12,6), facecolor='grey',edgecolor='black')"
   ]
  },
  {
   "cell_type": "markdown",
   "id": "reliable-companion",
   "metadata": {},
   "source": [
    "## Distribution of Average Daily Senior Population"
   ]
  },
  {
   "cell_type": "code",
   "execution_count": 95,
   "id": "hearing-address",
   "metadata": {},
   "outputs": [
    {
     "data": {
      "text/plain": [
       "<AxesSubplot:>"
      ]
     },
     "execution_count": 95,
     "metadata": {},
     "output_type": "execute_result"
    },
    {
     "data": {
      "image/png": "[encoded data removed]",
      "text/plain": [
       "<Figure size 432x288 with 1 Axes>"
      ]
     },
     "metadata": {
      "needs_background": "light"
     },
     "output_type": "display_data"
    }
   ],
   "source": [
    "linksRoutesPerOrigin.boxplot('AvgDailyPopulation')"
   ]
  },
  {
   "cell_type": "code",
   "execution_count": 101,
   "id": "interim-trainer",
   "metadata": {},
   "outputs": [
    {
     "data": {
      "text/plain": [
       "<AxesSubplot:ylabel='Frequency'>"
      ]
     },
     "execution_count": 101,
     "metadata": {},
     "output_type": "execute_result"
    },
    {
     "data": {
      "image/png": "[encoded data removed]",
      "text/plain": [
       "<Figure size 864x432 with 1 Axes>"
      ]
     },
     "metadata": {
      "needs_background": "light"
     },
     "output_type": "display_data"
    }
   ],
   "source": [
    "linksRoutesPerOrigin['AvgDailyPopulation'].plot(kind='hist', bins=10, figsize=(12,6), facecolor='grey',edgecolor='black')"
   ]
  },
  {
   "cell_type": "markdown",
   "id": "6b614a6b",
   "metadata": {},
   "source": [
    "## Distribution of Yearly Temperatures"
   ]
  },
  {
   "cell_type": "code",
   "execution_count": 144,
   "id": "5eae7a34",
   "metadata": {
    "scrolled": true
   },
   "outputs": [
    {
     "data": {
      "text/plain": [
       "<AxesSubplot:>"
      ]
     },
     "execution_count": 144,
     "metadata": {},
     "output_type": "execute_result"
    },
    {
     "data": {
      "image/png": "[encoded data removed]",
      "text/plain": [
       "<Figure size 432x288 with 1 Axes>"
      ]
     },
     "metadata": {
      "needs_background": "light"
     },
     "output_type": "display_data"
    }
   ],
   "source": [
    "linksRoutesPerOrigin.boxplot('AvgYearTemp')"
   ]
  },
  {
   "cell_type": "code",
   "execution_count": 145,
   "id": "4f16e9e5",
   "metadata": {},
   "outputs": [
    {
     "data": {
      "text/plain": [
       "<AxesSubplot:ylabel='Frequency'>"
      ]
     },
     "execution_count": 145,
     "metadata": {},
     "output_type": "execute_result"
    },
    {
     "data": {
      "image/png": "[encoded data removed]",
      "text/plain": [
       "<Figure size 864x432 with 1 Axes>"
      ]
     },
     "metadata": {
      "needs_background": "light"
     },
     "output_type": "display_data"
    }
   ],
   "source": [
    "linksRoutesPerOrigin['AvgYearTemp'].plot(kind='hist', bins=10, figsize=(12,6), facecolor='grey',edgecolor='black')"
   ]
  },
  {
   "cell_type": "markdown",
   "id": "c4066f91",
   "metadata": {},
   "source": [
    "## Distribution of Yearly Precipitation"
   ]
  },
  {
   "cell_type": "code",
   "execution_count": 146,
   "id": "34387648",
   "metadata": {},
   "outputs": [
    {
     "data": {
      "text/plain": [
       "<AxesSubplot:>"
      ]
     },
     "execution_count": 146,
     "metadata": {},
     "output_type": "execute_result"
    },
    {
     "data": {
      "image/png": "[encoded data removed]",
      "text/plain": [
       "<Figure size 432x288 with 1 Axes>"
      ]
     },
     "metadata": {
      "needs_background": "light"
     },
     "output_type": "display_data"
    }
   ],
   "source": [
    "linksRoutesPerOrigin.boxplot('AvgYearPrecipitation')"
   ]
  },
  {
   "cell_type": "code",
   "execution_count": 147,
   "id": "8cb72362",
   "metadata": {},
   "outputs": [
    {
     "data": {
      "text/plain": [
       "<AxesSubplot:ylabel='Frequency'>"
      ]
     },
     "execution_count": 147,
     "metadata": {},
     "output_type": "execute_result"
    },
    {
     "data": {
      "image/png": "[encoded data removed]",
      "text/plain": [
       "<Figure size 864x432 with 1 Axes>"
      ]
     },
     "metadata": {
      "needs_background": "light"
     },
     "output_type": "display_data"
    }
   ],
   "source": [
    "linksRoutesPerOrigin['AvgYearPrecipitation'].plot(kind='hist', bins=10, figsize=(12,6), facecolor='grey',edgecolor='black')"
   ]
  },
  {
   "cell_type": "markdown",
   "id": "fiscal-acrylic",
   "metadata": {},
   "source": [
    "## Correlation Matrix (Globally)"
   ]
  },
  {
   "cell_type": "code",
   "execution_count": 135,
   "id": "attended-cutting",
   "metadata": {
    "scrolled": false
   },
   "outputs": [
    {
     "data": {
      "text/plain": [
       "<AxesSubplot:>"
      ]
     },
     "execution_count": 135,
     "metadata": {},
     "output_type": "execute_result"
    },
    {
     "data": {
      "image/png": "[encoded data removed]",
      "text/plain": [
       "<Figure size 432x288 with 2 Axes>"
      ]
     },
     "metadata": {
      "needs_background": "light"
     },
     "output_type": "display_data"
    }
   ],
   "source": [
    "# calculate correlation matrix\n",
    "corr = linksRoutesPerOrigin.corr()# plot the heatmap\n",
    "sns.heatmap(corr, xticklabels=corr.columns, yticklabels=corr.columns, annot=True, cmap=sns.diverging_palette(220, 20, as_cmap=True))"
   ]
  },
  {
   "cell_type": "code",
   "execution_count": 136,
   "id": "bright-documentary",
   "metadata": {
    "scrolled": false
   },
   "outputs": [
    {
     "data": {
      "text/plain": [
       "<seaborn.axisgrid.PairGrid at 0x7f9745ec98b0>"
      ]
     },
     "execution_count": 136,
     "metadata": {},
     "output_type": "execute_result"
    },
    {
     "data": {
      "image/png": "[encoded data removed]",
      "text/plain": [
       "<Figure size 900x900 with 30 Axes>"
      ]
     },
     "metadata": {
      "needs_background": "light"
     },
     "output_type": "display_data"
    }
   ],
   "source": [
    "sns.pairplot(linksRoutesPerOrigin)"
   ]
  },
  {
   "cell_type": "markdown",
   "id": "reflected-turkish",
   "metadata": {},
   "source": [
    "## Correlation Matrix (Porto)"
   ]
  },
  {
   "cell_type": "code",
   "execution_count": 137,
   "id": "split-cardiff",
   "metadata": {
    "scrolled": false
   },
   "outputs": [
    {
     "data": {
      "text/plain": [
       "<AxesSubplot:>"
      ]
     },
     "execution_count": 137,
     "metadata": {},
     "output_type": "execute_result"
    },
    {
     "data": {
      "image/png": "[encoded data removed]",
      "text/plain": [
       "<Figure size 432x288 with 2 Axes>"
      ]
     },
     "metadata": {
      "needs_background": "light"
     },
     "output_type": "display_data"
    }
   ],
   "source": [
    "# calculate correlation matrix\n",
    "corr = linksRoutesPerOrigin.filter(like = 'Porto', axis=0).corr()# plot the heatmap\n",
    "sns.heatmap(corr, xticklabels=corr.columns, yticklabels=corr.columns, annot=True, cmap=sns.diverging_palette(220, 20, as_cmap=True))"
   ]
  },
  {
   "cell_type": "code",
   "execution_count": 138,
   "id": "invisible-bridge",
   "metadata": {
    "scrolled": false
   },
   "outputs": [
    {
     "data": {
      "text/plain": [
       "<seaborn.axisgrid.PairGrid at 0x7f97454ba880>"
      ]
     },
     "execution_count": 138,
     "metadata": {},
     "output_type": "execute_result"
    },
    {
     "data": {
      "image/png": "[encoded data removed]",
      "text/plain": [
       "<Figure size 900x900 with 30 Axes>"
      ]
     },
     "metadata": {
      "needs_background": "light"
     },
     "output_type": "display_data"
    }
   ],
   "source": [
    "sns.pairplot(linksRoutesPerOrigin.filter(like = 'Porto', axis=0))"
   ]
  },
  {
   "cell_type": "markdown",
   "id": "greek-joshua",
   "metadata": {},
   "source": [
    "## Correlation Matrix (Lisbon)"
   ]
  },
  {
   "cell_type": "code",
   "execution_count": 141,
   "id": "infinite-tuning",
   "metadata": {
    "scrolled": false
   },
   "outputs": [
    {
     "data": {
      "text/plain": [
       "<AxesSubplot:>"
      ]
     },
     "execution_count": 141,
     "metadata": {},
     "output_type": "execute_result"
    },
    {
     "data": {
      "image/png": "[encoded data removed]",
      "text/plain": [
       "<Figure size 432x288 with 2 Axes>"
      ]
     },
     "metadata": {
      "needs_background": "light"
     },
     "output_type": "display_data"
    }
   ],
   "source": [
    "# calculate correlation matrix\n",
    "corr = linksRoutesPerOrigin.filter(like = 'Lisboa', axis=0).corr()# plot the heatmap\n",
    "sns.heatmap(corr, xticklabels=corr.columns, yticklabels=corr.columns, annot=True, cmap=sns.diverging_palette(220, 20, as_cmap=True))"
   ]
  },
  {
   "cell_type": "code",
   "execution_count": 142,
   "id": "victorian-contact",
   "metadata": {
    "scrolled": false
   },
   "outputs": [
    {
     "data": {
      "text/plain": [
       "<seaborn.axisgrid.PairGrid at 0x7f974406f670>"
      ]
     },
     "execution_count": 142,
     "metadata": {},
     "output_type": "execute_result"
    },
    {
     "data": {
      "image/png": "[encoded data removed]",
      "text/plain": [
       "<Figure size 900x900 with 30 Axes>"
      ]
     },
     "metadata": {
      "needs_background": "light"
     },
     "output_type": "display_data"
    }
   ],
   "source": [
    "sns.pairplot(linksRoutesPerOrigin.filter(like = 'Lisboa', axis=0))"
   ]
  },
  {
   "cell_type": "markdown",
   "id": "moderate-purpose",
   "metadata": {},
   "source": [
    "Some key takeways:\n",
    "- Obviously theres a positive correlation between the number of routes available and the number of links.\n",
    "- Perhaps more interesting is that there's an overall positive correlation between the number of links and the average daily population of senior citizens that use public transports.\n",
    "- Theres also a positive correlation between the number of routes available and the average daily population of senior citizens that use public transports. However, that correlation is not as big as the one related to links.\n",
    "- Theres a somewhat positive correlation between the precipitation and the number of senior citizens using public transports\n",
    "\n",
    "Based on this takeways we can possibly create a model that predicts daily population of public transports based on the number of links and routes available as well as the precipitation of a specific region."
   ]
  },
  {
   "cell_type": "code",
   "execution_count": null,
   "id": "1d715422",
   "metadata": {},
   "outputs": [],
   "source": []
  }
 ],
 "metadata": {
  "kernelspec": {
   "display_name": "Python 3",
   "language": "python",
   "name": "python3"
  },
  "language_info": {
   "codemirror_mode": {
    "name": "ipython",
    "version": 3
   },
   "file_extension": ".py",
   "mimetype": "text/x-python",
   "name": "python",
   "nbconvert_exporter": "python",
   "pygments_lexer": "ipython3",
   "version": "3.8.8"
  }
 },
 "nbformat": 4,
 "nbformat_minor": 5
}
