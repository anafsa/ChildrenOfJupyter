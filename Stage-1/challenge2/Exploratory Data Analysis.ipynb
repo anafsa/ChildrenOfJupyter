{
 "cells": [
  {
   "cell_type": "markdown",
   "id": "hundred-emerald",
   "metadata": {},
   "source": [
    "# EDA for the second challenge "
   ]
  },
  {
   "cell_type": "code",
   "execution_count": 7,
   "id": "successful-amendment",
   "metadata": {},
   "outputs": [
    {
     "name": "stdout",
     "output_type": "stream",
     "text": [
      "Number of Routes >> 48312\n"
     ]
    }
   ],
   "source": [
    "#Import Libraries\n",
    "import numpy as np\n",
    "import pandas as pd\n",
    "import matplotlib.pylab as plt\n",
    "import seaborn as sns\n",
    "\n",
    "\n",
    "df = pd.read_csv('BusRoutes.txt', sep='|')\n",
    "print(\"Number of Routes >> \" + str(df.shape[0]))"
   ]
  },
  {
   "cell_type": "markdown",
   "id": "conservative-audio",
   "metadata": {},
   "source": [
    "# Bus routes"
   ]
  },
  {
   "cell_type": "code",
   "execution_count": 8,
   "id": "planned-typing",
   "metadata": {},
   "outputs": [
    {
     "data": {
      "text/plain": [
       "Index(['IDRoute', 'linkid'], dtype='object')"
      ]
     },
     "execution_count": 8,
     "metadata": {},
     "output_type": "execute_result"
    }
   ],
   "source": [
    "df.columns"
   ]
  },
  {
   "cell_type": "code",
   "execution_count": 9,
   "id": "amended-circulation",
   "metadata": {
    "scrolled": true
   },
   "outputs": [
    {
     "data": {
      "text/html": [
       "<div>\n",
       "<style scoped>\n",
       "    .dataframe tbody tr th:only-of-type {\n",
       "        vertical-align: middle;\n",
       "    }\n",
       "\n",
       "    .dataframe tbody tr th {\n",
       "        vertical-align: top;\n",
       "    }\n",
       "\n",
       "    .dataframe thead th {\n",
       "        text-align: right;\n",
       "    }\n",
       "</style>\n",
       "<table border=\"1\" class=\"dataframe\">\n",
       "  <thead>\n",
       "    <tr style=\"text-align: right;\">\n",
       "      <th></th>\n",
       "      <th>IDRoute</th>\n",
       "      <th>linkid</th>\n",
       "    </tr>\n",
       "  </thead>\n",
       "  <tbody>\n",
       "    <tr>\n",
       "      <th>0</th>\n",
       "      <td>1</td>\n",
       "      <td>537277300</td>\n",
       "    </tr>\n",
       "    <tr>\n",
       "      <th>1</th>\n",
       "      <td>1</td>\n",
       "      <td>537277673</td>\n",
       "    </tr>\n",
       "    <tr>\n",
       "      <th>2</th>\n",
       "      <td>1</td>\n",
       "      <td>537277754</td>\n",
       "    </tr>\n",
       "    <tr>\n",
       "      <th>3</th>\n",
       "      <td>1</td>\n",
       "      <td>537277777</td>\n",
       "    </tr>\n",
       "    <tr>\n",
       "      <th>4</th>\n",
       "      <td>1</td>\n",
       "      <td>537277795</td>\n",
       "    </tr>\n",
       "    <tr>\n",
       "      <th>5</th>\n",
       "      <td>1</td>\n",
       "      <td>537277954</td>\n",
       "    </tr>\n",
       "    <tr>\n",
       "      <th>6</th>\n",
       "      <td>1</td>\n",
       "      <td>537277980</td>\n",
       "    </tr>\n",
       "    <tr>\n",
       "      <th>7</th>\n",
       "      <td>1</td>\n",
       "      <td>537278408</td>\n",
       "    </tr>\n",
       "    <tr>\n",
       "      <th>8</th>\n",
       "      <td>1</td>\n",
       "      <td>537278623</td>\n",
       "    </tr>\n",
       "    <tr>\n",
       "      <th>9</th>\n",
       "      <td>1</td>\n",
       "      <td>537278860</td>\n",
       "    </tr>\n",
       "  </tbody>\n",
       "</table>\n",
       "</div>"
      ],
      "text/plain": [
       "   IDRoute     linkid\n",
       "0        1  537277300\n",
       "1        1  537277673\n",
       "2        1  537277754\n",
       "3        1  537277777\n",
       "4        1  537277795\n",
       "5        1  537277954\n",
       "6        1  537277980\n",
       "7        1  537278408\n",
       "8        1  537278623\n",
       "9        1  537278860"
      ]
     },
     "execution_count": 9,
     "metadata": {},
     "output_type": "execute_result"
    }
   ],
   "source": [
    "df.head(10)"
   ]
  },
  {
   "cell_type": "markdown",
   "id": "nervous-norway",
   "metadata": {},
   "source": [
    "## Unique Routes and Links"
   ]
  },
  {
   "cell_type": "code",
   "execution_count": 10,
   "id": "female-rover",
   "metadata": {},
   "outputs": [
    {
     "data": {
      "text/plain": [
       "IDRoute      166\n",
       "linkid     19277\n",
       "dtype: int64"
      ]
     },
     "execution_count": 10,
     "metadata": {},
     "output_type": "execute_result"
    }
   ],
   "source": [
    "df.nunique(axis=0)"
   ]
  },
  {
   "cell_type": "markdown",
   "id": "comic-agenda",
   "metadata": {},
   "source": [
    "## Links per Bus Route (e.g, road)"
   ]
  },
  {
   "cell_type": "code",
   "execution_count": 11,
   "id": "floppy-reflection",
   "metadata": {
    "scrolled": false
   },
   "outputs": [
    {
     "data": {
      "text/html": [
       "<div>\n",
       "<style scoped>\n",
       "    .dataframe tbody tr th:only-of-type {\n",
       "        vertical-align: middle;\n",
       "    }\n",
       "\n",
       "    .dataframe tbody tr th {\n",
       "        vertical-align: top;\n",
       "    }\n",
       "\n",
       "    .dataframe thead th {\n",
       "        text-align: right;\n",
       "    }\n",
       "</style>\n",
       "<table border=\"1\" class=\"dataframe\">\n",
       "  <thead>\n",
       "    <tr style=\"text-align: right;\">\n",
       "      <th></th>\n",
       "      <th>IDRoute</th>\n",
       "      <th>Number of Links</th>\n",
       "    </tr>\n",
       "  </thead>\n",
       "  <tbody>\n",
       "    <tr>\n",
       "      <th>52</th>\n",
       "      <td>53</td>\n",
       "      <td>613</td>\n",
       "    </tr>\n",
       "    <tr>\n",
       "      <th>7</th>\n",
       "      <td>8</td>\n",
       "      <td>608</td>\n",
       "    </tr>\n",
       "    <tr>\n",
       "      <th>135</th>\n",
       "      <td>136</td>\n",
       "      <td>585</td>\n",
       "    </tr>\n",
       "    <tr>\n",
       "      <th>127</th>\n",
       "      <td>128</td>\n",
       "      <td>572</td>\n",
       "    </tr>\n",
       "    <tr>\n",
       "      <th>62</th>\n",
       "      <td>63</td>\n",
       "      <td>565</td>\n",
       "    </tr>\n",
       "    <tr>\n",
       "      <th>...</th>\n",
       "      <td>...</td>\n",
       "      <td>...</td>\n",
       "    </tr>\n",
       "    <tr>\n",
       "      <th>96</th>\n",
       "      <td>97</td>\n",
       "      <td>41</td>\n",
       "    </tr>\n",
       "    <tr>\n",
       "      <th>22</th>\n",
       "      <td>23</td>\n",
       "      <td>6</td>\n",
       "    </tr>\n",
       "    <tr>\n",
       "      <th>20</th>\n",
       "      <td>21</td>\n",
       "      <td>5</td>\n",
       "    </tr>\n",
       "    <tr>\n",
       "      <th>21</th>\n",
       "      <td>22</td>\n",
       "      <td>2</td>\n",
       "    </tr>\n",
       "    <tr>\n",
       "      <th>23</th>\n",
       "      <td>24</td>\n",
       "      <td>1</td>\n",
       "    </tr>\n",
       "  </tbody>\n",
       "</table>\n",
       "<p>166 rows × 2 columns</p>\n",
       "</div>"
      ],
      "text/plain": [
       "     IDRoute  Number of Links\n",
       "52        53              613\n",
       "7          8              608\n",
       "135      136              585\n",
       "127      128              572\n",
       "62        63              565\n",
       "..       ...              ...\n",
       "96        97               41\n",
       "22        23                6\n",
       "20        21                5\n",
       "21        22                2\n",
       "23        24                1\n",
       "\n",
       "[166 rows x 2 columns]"
      ]
     },
     "execution_count": 11,
     "metadata": {},
     "output_type": "execute_result"
    }
   ],
   "source": [
    "df.groupby('IDRoute', as_index=False)['linkid'].count() \\\n",
    "                                               .rename(columns={'linkid':'Number of Links'}) \\\n",
    "                                               .sort_values(\"Number of Links\", ascending=False) "
   ]
  },
  {
   "cell_type": "markdown",
   "id": "blocked-variable",
   "metadata": {},
   "source": [
    "## Bus Routes per Link  "
   ]
  },
  {
   "cell_type": "code",
   "execution_count": 12,
   "id": "specified-comment",
   "metadata": {
    "scrolled": false
   },
   "outputs": [
    {
     "data": {
      "text/html": [
       "<div>\n",
       "<style scoped>\n",
       "    .dataframe tbody tr th:only-of-type {\n",
       "        vertical-align: middle;\n",
       "    }\n",
       "\n",
       "    .dataframe tbody tr th {\n",
       "        vertical-align: top;\n",
       "    }\n",
       "\n",
       "    .dataframe thead th {\n",
       "        text-align: right;\n",
       "    }\n",
       "</style>\n",
       "<table border=\"1\" class=\"dataframe\">\n",
       "  <thead>\n",
       "    <tr style=\"text-align: right;\">\n",
       "      <th></th>\n",
       "      <th>linkid</th>\n",
       "      <th>RoutesNumber</th>\n",
       "    </tr>\n",
       "  </thead>\n",
       "  <tbody>\n",
       "    <tr>\n",
       "      <th>6679</th>\n",
       "      <td>724627591</td>\n",
       "      <td>20</td>\n",
       "    </tr>\n",
       "    <tr>\n",
       "      <th>15464</th>\n",
       "      <td>1172432839</td>\n",
       "      <td>20</td>\n",
       "    </tr>\n",
       "    <tr>\n",
       "      <th>6678</th>\n",
       "      <td>724627590</td>\n",
       "      <td>20</td>\n",
       "    </tr>\n",
       "    <tr>\n",
       "      <th>9401</th>\n",
       "      <td>836110932</td>\n",
       "      <td>20</td>\n",
       "    </tr>\n",
       "    <tr>\n",
       "      <th>6676</th>\n",
       "      <td>724627588</td>\n",
       "      <td>20</td>\n",
       "    </tr>\n",
       "    <tr>\n",
       "      <th>...</th>\n",
       "      <td>...</td>\n",
       "      <td>...</td>\n",
       "    </tr>\n",
       "    <tr>\n",
       "      <th>8991</th>\n",
       "      <td>812148656</td>\n",
       "      <td>1</td>\n",
       "    </tr>\n",
       "    <tr>\n",
       "      <th>8993</th>\n",
       "      <td>812148837</td>\n",
       "      <td>1</td>\n",
       "    </tr>\n",
       "    <tr>\n",
       "      <th>8995</th>\n",
       "      <td>812149330</td>\n",
       "      <td>1</td>\n",
       "    </tr>\n",
       "    <tr>\n",
       "      <th>9000</th>\n",
       "      <td>812234969</td>\n",
       "      <td>1</td>\n",
       "    </tr>\n",
       "    <tr>\n",
       "      <th>9638</th>\n",
       "      <td>851509758</td>\n",
       "      <td>1</td>\n",
       "    </tr>\n",
       "  </tbody>\n",
       "</table>\n",
       "<p>19277 rows × 2 columns</p>\n",
       "</div>"
      ],
      "text/plain": [
       "           linkid  RoutesNumber\n",
       "6679    724627591            20\n",
       "15464  1172432839            20\n",
       "6678    724627590            20\n",
       "9401    836110932            20\n",
       "6676    724627588            20\n",
       "...           ...           ...\n",
       "8991    812148656             1\n",
       "8993    812148837             1\n",
       "8995    812149330             1\n",
       "9000    812234969             1\n",
       "9638    851509758             1\n",
       "\n",
       "[19277 rows x 2 columns]"
      ]
     },
     "execution_count": 12,
     "metadata": {},
     "output_type": "execute_result"
    }
   ],
   "source": [
    "dfLinkRoutesCount = df.groupby('linkid', as_index=False)['IDRoute'].count() \\\n",
    "                                               .rename(columns={'IDRoute':'RoutesNumber'}) \\\n",
    "                                               .sort_values(\"RoutesNumber\", ascending=False) \n",
    "\n",
    "\n",
    "dfLinkRoutesCount"
   ]
  },
  {
   "cell_type": "markdown",
   "id": "proof-luther",
   "metadata": {},
   "source": [
    "## Most links are used by few routes "
   ]
  },
  {
   "cell_type": "code",
   "execution_count": 63,
   "id": "delayed-navigator",
   "metadata": {
    "scrolled": true
   },
   "outputs": [
    {
     "data": {
      "image/png": "[encoded data removed]",
      "text/plain": [
       "<Figure size 432x288 with 1 Axes>"
      ]
     },
     "metadata": {
      "needs_background": "light"
     },
     "output_type": "display_data"
    }
   ],
   "source": [
    "dfLinkRoutesCount.RoutesNumber.plot.hist(bins=20);"
   ]
  },
  {
   "cell_type": "markdown",
   "id": "fleet-rebound",
   "metadata": {},
   "source": [
    "## Possible \"stroke\" points (Links with too many routes going through them)"
   ]
  },
  {
   "cell_type": "code",
   "execution_count": null,
   "id": "theoretical-majority",
   "metadata": {},
   "outputs": [],
   "source": []
  },
  {
   "cell_type": "code",
   "execution_count": 3,
   "id": "handled-coral",
   "metadata": {},
   "outputs": [
    {
     "name": "stdout",
     "output_type": "stream",
     "text": [
      "Number of Routes >> 121053\n"
     ]
    }
   ],
   "source": [
    "dfSenior = pd.read_csv('Senior_TIM_v1.txt', sep='|', encoding= 'unicode_escape')\n",
    "print(\"Number of Routes >> \" + str(dfSenior.shape[0]))"
   ]
  },
  {
   "cell_type": "code",
   "execution_count": 5,
   "id": "short-mobility",
   "metadata": {},
   "outputs": [
    {
     "data": {
      "text/plain": [
       "Index(['linkid', 'Region_of_Origin', 'District_of_Origin', 'County_of_Origin',\n",
       "       'Average_Daily_SeniorPopulation_Travelling'],\n",
       "      dtype='object')"
      ]
     },
     "execution_count": 5,
     "metadata": {},
     "output_type": "execute_result"
    }
   ],
   "source": [
    "dfSenior.columns\n"
   ]
  },
  {
   "cell_type": "code",
   "execution_count": 4,
   "id": "gentle-tolerance",
   "metadata": {
    "scrolled": true
   },
   "outputs": [
    {
     "data": {
      "text/html": [
       "<div>\n",
       "<style scoped>\n",
       "    .dataframe tbody tr th:only-of-type {\n",
       "        vertical-align: middle;\n",
       "    }\n",
       "\n",
       "    .dataframe tbody tr th {\n",
       "        vertical-align: top;\n",
       "    }\n",
       "\n",
       "    .dataframe thead th {\n",
       "        text-align: right;\n",
       "    }\n",
       "</style>\n",
       "<table border=\"1\" class=\"dataframe\">\n",
       "  <thead>\n",
       "    <tr style=\"text-align: right;\">\n",
       "      <th></th>\n",
       "      <th>linkid</th>\n",
       "      <th>Region_of_Origin</th>\n",
       "      <th>District_of_Origin</th>\n",
       "      <th>County_of_Origin</th>\n",
       "      <th>Average_Daily_SeniorPopulation_Travelling</th>\n",
       "    </tr>\n",
       "  </thead>\n",
       "  <tbody>\n",
       "    <tr>\n",
       "      <th>0</th>\n",
       "      <td>80216810</td>\n",
       "      <td>R1 - AM Lisboa</td>\n",
       "      <td>Lisboa</td>\n",
       "      <td>Lisboa</td>\n",
       "      <td>2013.681187</td>\n",
       "    </tr>\n",
       "    <tr>\n",
       "      <th>1</th>\n",
       "      <td>80216810</td>\n",
       "      <td>R1 - AM Lisboa</td>\n",
       "      <td>Setúbal</td>\n",
       "      <td>Palmela</td>\n",
       "      <td>7688.296396</td>\n",
       "    </tr>\n",
       "    <tr>\n",
       "      <th>2</th>\n",
       "      <td>80216810</td>\n",
       "      <td>R1 - AM Lisboa</td>\n",
       "      <td>Lisboa</td>\n",
       "      <td>Oeiras</td>\n",
       "      <td>220.647248</td>\n",
       "    </tr>\n",
       "    <tr>\n",
       "      <th>3</th>\n",
       "      <td>80216810</td>\n",
       "      <td>R1 - AM Lisboa</td>\n",
       "      <td>Lisboa</td>\n",
       "      <td>Vila Franca de Xira</td>\n",
       "      <td>233.203075</td>\n",
       "    </tr>\n",
       "    <tr>\n",
       "      <th>4</th>\n",
       "      <td>80216812</td>\n",
       "      <td>R1 - AM Lisboa</td>\n",
       "      <td>Lisboa</td>\n",
       "      <td>Lisboa</td>\n",
       "      <td>261.606014</td>\n",
       "    </tr>\n",
       "  </tbody>\n",
       "</table>\n",
       "</div>"
      ],
      "text/plain": [
       "     linkid Region_of_Origin District_of_Origin     County_of_Origin  \\\n",
       "0  80216810   R1 - AM Lisboa             Lisboa               Lisboa   \n",
       "1  80216810   R1 - AM Lisboa            Setúbal              Palmela   \n",
       "2  80216810   R1 - AM Lisboa             Lisboa               Oeiras   \n",
       "3  80216810   R1 - AM Lisboa             Lisboa  Vila Franca de Xira   \n",
       "4  80216812   R1 - AM Lisboa             Lisboa               Lisboa   \n",
       "\n",
       "   Average_Daily_SeniorPopulation_Travelling  \n",
       "0                                2013.681187  \n",
       "1                                7688.296396  \n",
       "2                                 220.647248  \n",
       "3                                 233.203075  \n",
       "4                                 261.606014  "
      ]
     },
     "execution_count": 4,
     "metadata": {},
     "output_type": "execute_result"
    }
   ],
   "source": [
    "dfSenior.head()"
   ]
  },
  {
   "cell_type": "code",
   "execution_count": 28,
   "id": "considered-brother",
   "metadata": {},
   "outputs": [
    {
     "data": {
      "text/html": [
       "<div>\n",
       "<style scoped>\n",
       "    .dataframe tbody tr th:only-of-type {\n",
       "        vertical-align: middle;\n",
       "    }\n",
       "\n",
       "    .dataframe tbody tr th {\n",
       "        vertical-align: top;\n",
       "    }\n",
       "\n",
       "    .dataframe thead th {\n",
       "        text-align: right;\n",
       "    }\n",
       "</style>\n",
       "<table border=\"1\" class=\"dataframe\">\n",
       "  <thead>\n",
       "    <tr style=\"text-align: right;\">\n",
       "      <th></th>\n",
       "      <th>linkid</th>\n",
       "      <th>Region_of_Origin</th>\n",
       "      <th>District_of_Origin</th>\n",
       "      <th>County_of_Origin</th>\n",
       "      <th>Average_Daily_SeniorPopulation_Travelling</th>\n",
       "      <th>IDRoute</th>\n",
       "    </tr>\n",
       "  </thead>\n",
       "  <tbody>\n",
       "    <tr>\n",
       "      <th>0</th>\n",
       "      <td>80216810</td>\n",
       "      <td>R1 - AM Lisboa</td>\n",
       "      <td>Lisboa</td>\n",
       "      <td>Lisboa</td>\n",
       "      <td>2013.681187</td>\n",
       "      <td>8</td>\n",
       "    </tr>\n",
       "    <tr>\n",
       "      <th>1</th>\n",
       "      <td>80216810</td>\n",
       "      <td>R1 - AM Lisboa</td>\n",
       "      <td>Lisboa</td>\n",
       "      <td>Lisboa</td>\n",
       "      <td>2013.681187</td>\n",
       "      <td>85</td>\n",
       "    </tr>\n",
       "    <tr>\n",
       "      <th>2</th>\n",
       "      <td>80216810</td>\n",
       "      <td>R1 - AM Lisboa</td>\n",
       "      <td>Setúbal</td>\n",
       "      <td>Palmela</td>\n",
       "      <td>7688.296396</td>\n",
       "      <td>8</td>\n",
       "    </tr>\n",
       "    <tr>\n",
       "      <th>3</th>\n",
       "      <td>80216810</td>\n",
       "      <td>R1 - AM Lisboa</td>\n",
       "      <td>Setúbal</td>\n",
       "      <td>Palmela</td>\n",
       "      <td>7688.296396</td>\n",
       "      <td>85</td>\n",
       "    </tr>\n",
       "    <tr>\n",
       "      <th>4</th>\n",
       "      <td>80216810</td>\n",
       "      <td>R1 - AM Lisboa</td>\n",
       "      <td>Lisboa</td>\n",
       "      <td>Oeiras</td>\n",
       "      <td>220.647248</td>\n",
       "      <td>8</td>\n",
       "    </tr>\n",
       "  </tbody>\n",
       "</table>\n",
       "</div>"
      ],
      "text/plain": [
       "     linkid Region_of_Origin District_of_Origin County_of_Origin  \\\n",
       "0  80216810   R1 - AM Lisboa             Lisboa           Lisboa   \n",
       "1  80216810   R1 - AM Lisboa             Lisboa           Lisboa   \n",
       "2  80216810   R1 - AM Lisboa            Setúbal          Palmela   \n",
       "3  80216810   R1 - AM Lisboa            Setúbal          Palmela   \n",
       "4  80216810   R1 - AM Lisboa             Lisboa           Oeiras   \n",
       "\n",
       "   Average_Daily_SeniorPopulation_Travelling  IDRoute  \n",
       "0                                2013.681187        8  \n",
       "1                                2013.681187       85  \n",
       "2                                7688.296396        8  \n",
       "3                                7688.296396       85  \n",
       "4                                 220.647248        8  "
      ]
     },
     "execution_count": 28,
     "metadata": {},
     "output_type": "execute_result"
    }
   ],
   "source": [
    "joinedDf=dfSenior.merge(df)\n",
    "joinedDf.head()"
   ]
  },
  {
   "cell_type": "markdown",
   "id": "actual-candidate",
   "metadata": {},
   "source": [
    "# Links/Routes per Region, District and County"
   ]
  },
  {
   "cell_type": "code",
   "execution_count": 48,
   "id": "damaged-entertainment",
   "metadata": {},
   "outputs": [
    {
     "data": {
      "text/html": [
       "<div>\n",
       "<style scoped>\n",
       "    .dataframe tbody tr th:only-of-type {\n",
       "        vertical-align: middle;\n",
       "    }\n",
       "\n",
       "    .dataframe tbody tr th {\n",
       "        vertical-align: top;\n",
       "    }\n",
       "\n",
       "    .dataframe thead th {\n",
       "        text-align: right;\n",
       "    }\n",
       "</style>\n",
       "<table border=\"1\" class=\"dataframe\">\n",
       "  <thead>\n",
       "    <tr style=\"text-align: right;\">\n",
       "      <th></th>\n",
       "      <th>NumberOfLinks</th>\n",
       "      <th>NumberOfRoutes</th>\n",
       "      <th>AvgDailyPopulation</th>\n",
       "    </tr>\n",
       "    <tr>\n",
       "      <th>Region_of_Origin</th>\n",
       "      <th></th>\n",
       "      <th></th>\n",
       "      <th></th>\n",
       "    </tr>\n",
       "  </thead>\n",
       "  <tbody>\n",
       "    <tr>\n",
       "      <th>R1 - AM Lisboa</th>\n",
       "      <td>6184</td>\n",
       "      <td>160</td>\n",
       "      <td>576.977871</td>\n",
       "    </tr>\n",
       "    <tr>\n",
       "      <th>R2 - AM Porto</th>\n",
       "      <td>3803</td>\n",
       "      <td>133</td>\n",
       "      <td>2435.724436</td>\n",
       "    </tr>\n",
       "  </tbody>\n",
       "</table>\n",
       "</div>"
      ],
      "text/plain": [
       "                  NumberOfLinks  NumberOfRoutes  AvgDailyPopulation\n",
       "Region_of_Origin                                                   \n",
       "R1 - AM Lisboa             6184             160          576.977871\n",
       "R2 - AM Porto              3803             133         2435.724436"
      ]
     },
     "execution_count": 48,
     "metadata": {},
     "output_type": "execute_result"
    }
   ],
   "source": [
    "joinedDf.groupby(\"Region_of_Origin\").agg({'linkid': 'nunique', 'IDRoute': 'nunique', 'Average_Daily_SeniorPopulation_Travelling': 'mean'}) \\\n",
    "                                   .rename(columns={'linkid':'NumberOfLinks', 'IDRoute':'NumberOfRoutes', 'Average_Daily_SeniorPopulation_Travelling': 'AvgDailyPopulation'}) \\\n",
    "                                   .sort_values(\"NumberOfLinks\", ascending=False) "
   ]
  },
  {
   "cell_type": "code",
   "execution_count": 50,
   "id": "special-violin",
   "metadata": {},
   "outputs": [
    {
     "data": {
      "text/html": [
       "<div>\n",
       "<style scoped>\n",
       "    .dataframe tbody tr th:only-of-type {\n",
       "        vertical-align: middle;\n",
       "    }\n",
       "\n",
       "    .dataframe tbody tr th {\n",
       "        vertical-align: top;\n",
       "    }\n",
       "\n",
       "    .dataframe thead th {\n",
       "        text-align: right;\n",
       "    }\n",
       "</style>\n",
       "<table border=\"1\" class=\"dataframe\">\n",
       "  <thead>\n",
       "    <tr style=\"text-align: right;\">\n",
       "      <th></th>\n",
       "      <th>NumberOfLinks</th>\n",
       "      <th>NumberOfRoutes</th>\n",
       "      <th>AvgDailyPopulation</th>\n",
       "    </tr>\n",
       "    <tr>\n",
       "      <th>District_of_Origin</th>\n",
       "      <th></th>\n",
       "      <th></th>\n",
       "      <th></th>\n",
       "    </tr>\n",
       "  </thead>\n",
       "  <tbody>\n",
       "    <tr>\n",
       "      <th>Lisboa</th>\n",
       "      <td>5916</td>\n",
       "      <td>158</td>\n",
       "      <td>628.158972</td>\n",
       "    </tr>\n",
       "    <tr>\n",
       "      <th>Porto</th>\n",
       "      <td>3777</td>\n",
       "      <td>133</td>\n",
       "      <td>2451.672828</td>\n",
       "    </tr>\n",
       "    <tr>\n",
       "      <th>Setúbal</th>\n",
       "      <td>2368</td>\n",
       "      <td>141</td>\n",
       "      <td>365.034285</td>\n",
       "    </tr>\n",
       "    <tr>\n",
       "      <th>Aveiro</th>\n",
       "      <td>32</td>\n",
       "      <td>16</td>\n",
       "      <td>272.407024</td>\n",
       "    </tr>\n",
       "  </tbody>\n",
       "</table>\n",
       "</div>"
      ],
      "text/plain": [
       "                    NumberOfLinks  NumberOfRoutes  AvgDailyPopulation\n",
       "District_of_Origin                                                   \n",
       "Lisboa                       5916             158          628.158972\n",
       "Porto                        3777             133         2451.672828\n",
       "Setúbal                      2368             141          365.034285\n",
       "Aveiro                         32              16          272.407024"
      ]
     },
     "execution_count": 50,
     "metadata": {},
     "output_type": "execute_result"
    }
   ],
   "source": [
    "joinedDf.groupby(\"District_of_Origin\").agg({'linkid': 'nunique', 'IDRoute': 'nunique', 'Average_Daily_SeniorPopulation_Travelling': 'mean'}) \\\n",
    "                                   .rename(columns={'linkid':'NumberOfLinks', 'IDRoute':'NumberOfRoutes', 'Average_Daily_SeniorPopulation_Travelling': 'AvgDailyPopulation'}) \\\n",
    "                                   .sort_values(\"NumberOfLinks\", ascending=False) "
   ]
  },
  {
   "cell_type": "code",
   "execution_count": 63,
   "id": "received-tenant",
   "metadata": {
    "scrolled": false
   },
   "outputs": [
    {
     "data": {
      "text/html": [
       "<div>\n",
       "<style scoped>\n",
       "    .dataframe tbody tr th:only-of-type {\n",
       "        vertical-align: middle;\n",
       "    }\n",
       "\n",
       "    .dataframe tbody tr th {\n",
       "        vertical-align: top;\n",
       "    }\n",
       "\n",
       "    .dataframe thead th {\n",
       "        text-align: right;\n",
       "    }\n",
       "</style>\n",
       "<table border=\"1\" class=\"dataframe\">\n",
       "  <thead>\n",
       "    <tr style=\"text-align: right;\">\n",
       "      <th></th>\n",
       "      <th></th>\n",
       "      <th>NumberOfLinks</th>\n",
       "      <th>NumberOfRoutes</th>\n",
       "      <th>AvgDailyPopulation</th>\n",
       "    </tr>\n",
       "    <tr>\n",
       "      <th>District_of_Origin</th>\n",
       "      <th>County_of_Origin</th>\n",
       "      <th></th>\n",
       "      <th></th>\n",
       "      <th></th>\n",
       "    </tr>\n",
       "  </thead>\n",
       "  <tbody>\n",
       "    <tr>\n",
       "      <th>Aveiro</th>\n",
       "      <th>Santa Maria da Feira</th>\n",
       "      <td>32</td>\n",
       "      <td>16</td>\n",
       "      <td>272.407024</td>\n",
       "    </tr>\n",
       "    <tr>\n",
       "      <th rowspan=\"9\" valign=\"top\">Lisboa</th>\n",
       "      <th>Lisboa</th>\n",
       "      <td>3832</td>\n",
       "      <td>132</td>\n",
       "      <td>1176.641628</td>\n",
       "    </tr>\n",
       "    <tr>\n",
       "      <th>Odivelas</th>\n",
       "      <td>1255</td>\n",
       "      <td>120</td>\n",
       "      <td>715.200512</td>\n",
       "    </tr>\n",
       "    <tr>\n",
       "      <th>Oeiras</th>\n",
       "      <td>2824</td>\n",
       "      <td>152</td>\n",
       "      <td>394.144009</td>\n",
       "    </tr>\n",
       "    <tr>\n",
       "      <th>Vila Franca de Xira</th>\n",
       "      <td>1929</td>\n",
       "      <td>100</td>\n",
       "      <td>364.993711</td>\n",
       "    </tr>\n",
       "    <tr>\n",
       "      <th>Sintra</th>\n",
       "      <td>1226</td>\n",
       "      <td>107</td>\n",
       "      <td>351.236967</td>\n",
       "    </tr>\n",
       "    <tr>\n",
       "      <th>Cascais</th>\n",
       "      <td>472</td>\n",
       "      <td>98</td>\n",
       "      <td>285.334270</td>\n",
       "    </tr>\n",
       "    <tr>\n",
       "      <th>Amadora</th>\n",
       "      <td>613</td>\n",
       "      <td>92</td>\n",
       "      <td>155.706508</td>\n",
       "    </tr>\n",
       "    <tr>\n",
       "      <th>Mafra</th>\n",
       "      <td>283</td>\n",
       "      <td>81</td>\n",
       "      <td>144.367737</td>\n",
       "    </tr>\n",
       "    <tr>\n",
       "      <th>Loures</th>\n",
       "      <td>141</td>\n",
       "      <td>51</td>\n",
       "      <td>141.271239</td>\n",
       "    </tr>\n",
       "    <tr>\n",
       "      <th rowspan=\"4\" valign=\"top\">Porto</th>\n",
       "      <th>Maia</th>\n",
       "      <td>2670</td>\n",
       "      <td>99</td>\n",
       "      <td>3400.213919</td>\n",
       "    </tr>\n",
       "    <tr>\n",
       "      <th>Porto</th>\n",
       "      <td>1478</td>\n",
       "      <td>110</td>\n",
       "      <td>2213.490123</td>\n",
       "    </tr>\n",
       "    <tr>\n",
       "      <th>Gondomar</th>\n",
       "      <td>1076</td>\n",
       "      <td>95</td>\n",
       "      <td>1084.179459</td>\n",
       "    </tr>\n",
       "    <tr>\n",
       "      <th>Matosinhos</th>\n",
       "      <td>195</td>\n",
       "      <td>33</td>\n",
       "      <td>823.843490</td>\n",
       "    </tr>\n",
       "    <tr>\n",
       "      <th rowspan=\"8\" valign=\"top\">Setúbal</th>\n",
       "      <th>Palmela</th>\n",
       "      <td>240</td>\n",
       "      <td>68</td>\n",
       "      <td>889.849297</td>\n",
       "    </tr>\n",
       "    <tr>\n",
       "      <th>Alcochete</th>\n",
       "      <td>6</td>\n",
       "      <td>8</td>\n",
       "      <td>544.140508</td>\n",
       "    </tr>\n",
       "    <tr>\n",
       "      <th>Montijo</th>\n",
       "      <td>55</td>\n",
       "      <td>15</td>\n",
       "      <td>441.206994</td>\n",
       "    </tr>\n",
       "    <tr>\n",
       "      <th>Barreiro</th>\n",
       "      <td>1285</td>\n",
       "      <td>119</td>\n",
       "      <td>346.062201</td>\n",
       "    </tr>\n",
       "    <tr>\n",
       "      <th>Seixal</th>\n",
       "      <td>942</td>\n",
       "      <td>110</td>\n",
       "      <td>329.882526</td>\n",
       "    </tr>\n",
       "    <tr>\n",
       "      <th>Setúbal</th>\n",
       "      <td>113</td>\n",
       "      <td>29</td>\n",
       "      <td>138.546544</td>\n",
       "    </tr>\n",
       "    <tr>\n",
       "      <th>Sesimbra</th>\n",
       "      <td>49</td>\n",
       "      <td>24</td>\n",
       "      <td>116.808277</td>\n",
       "    </tr>\n",
       "    <tr>\n",
       "      <th>Almada</th>\n",
       "      <td>131</td>\n",
       "      <td>44</td>\n",
       "      <td>40.539317</td>\n",
       "    </tr>\n",
       "  </tbody>\n",
       "</table>\n",
       "</div>"
      ],
      "text/plain": [
       "                                         NumberOfLinks  NumberOfRoutes  \\\n",
       "District_of_Origin County_of_Origin                                      \n",
       "Aveiro             Santa Maria da Feira             32              16   \n",
       "Lisboa             Lisboa                         3832             132   \n",
       "                   Odivelas                       1255             120   \n",
       "                   Oeiras                         2824             152   \n",
       "                   Vila Franca de Xira            1929             100   \n",
       "                   Sintra                         1226             107   \n",
       "                   Cascais                         472              98   \n",
       "                   Amadora                         613              92   \n",
       "                   Mafra                           283              81   \n",
       "                   Loures                          141              51   \n",
       "Porto              Maia                           2670              99   \n",
       "                   Porto                          1478             110   \n",
       "                   Gondomar                       1076              95   \n",
       "                   Matosinhos                      195              33   \n",
       "Setúbal            Palmela                         240              68   \n",
       "                   Alcochete                         6               8   \n",
       "                   Montijo                          55              15   \n",
       "                   Barreiro                       1285             119   \n",
       "                   Seixal                          942             110   \n",
       "                   Setúbal                         113              29   \n",
       "                   Sesimbra                         49              24   \n",
       "                   Almada                          131              44   \n",
       "\n",
       "                                         AvgDailyPopulation  \n",
       "District_of_Origin County_of_Origin                          \n",
       "Aveiro             Santa Maria da Feira          272.407024  \n",
       "Lisboa             Lisboa                       1176.641628  \n",
       "                   Odivelas                      715.200512  \n",
       "                   Oeiras                        394.144009  \n",
       "                   Vila Franca de Xira           364.993711  \n",
       "                   Sintra                        351.236967  \n",
       "                   Cascais                       285.334270  \n",
       "                   Amadora                       155.706508  \n",
       "                   Mafra                         144.367737  \n",
       "                   Loures                        141.271239  \n",
       "Porto              Maia                         3400.213919  \n",
       "                   Porto                        2213.490123  \n",
       "                   Gondomar                     1084.179459  \n",
       "                   Matosinhos                    823.843490  \n",
       "Setúbal            Palmela                       889.849297  \n",
       "                   Alcochete                     544.140508  \n",
       "                   Montijo                       441.206994  \n",
       "                   Barreiro                      346.062201  \n",
       "                   Seixal                        329.882526  \n",
       "                   Setúbal                       138.546544  \n",
       "                   Sesimbra                      116.808277  \n",
       "                   Almada                         40.539317  "
      ]
     },
     "execution_count": 63,
     "metadata": {},
     "output_type": "execute_result"
    }
   ],
   "source": [
    "linksRoutesPerOrigin=joinedDf.groupby([\"District_of_Origin\", \"County_of_Origin\"]).agg({'linkid': 'nunique', 'IDRoute': 'nunique', 'Average_Daily_SeniorPopulation_Travelling': 'mean'}) \\\n",
    "                                   .rename(columns={'linkid':'NumberOfLinks', 'IDRoute':'NumberOfRoutes', 'Average_Daily_SeniorPopulation_Travelling': 'AvgDailyPopulation'}) \\\n",
    "                                   .sort_values([\"District_of_Origin\", \"AvgDailyPopulation\"], ascending=[True,  False]) \n",
    "\n",
    "linksRoutesPerOrigin"
   ]
  },
  {
   "cell_type": "code",
   "execution_count": 64,
   "id": "attended-cutting",
   "metadata": {},
   "outputs": [
    {
     "data": {
      "text/plain": [
       "<AxesSubplot:>"
      ]
     },
     "execution_count": 64,
     "metadata": {},
     "output_type": "execute_result"
    },
    {
     "data": {
      "image/png": "[encoded data removed]",
      "text/plain": [
       "<Figure size 432x288 with 2 Axes>"
      ]
     },
     "metadata": {
      "needs_background": "light"
     },
     "output_type": "display_data"
    }
   ],
   "source": [
    "# calculate correlation matrix\n",
    "corr = linksRoutesPerOrigin.corr()# plot the heatmap\n",
    "sns.heatmap(corr, xticklabels=corr.columns, yticklabels=corr.columns, annot=True, cmap=sns.diverging_palette(220, 20, as_cmap=True))"
   ]
  },
  {
   "cell_type": "markdown",
   "id": "moderate-purpose",
   "metadata": {},
   "source": [
    "Some key takeways:\n",
    "- Obviously more theres a positive correlation between the number of routes available and the number of links.\n",
    "- Perhaps more interesting is that there's an overall positive correlation between the number of links and the average daily population of senior citizens that use public transports.\n",
    "- Theres also a positive correlation between the number of routes available and the average daily population of senior citizens that use public transports. However, that correlation is not as big as the one related to links.\n",
    "\n",
    "Based on this takeways we can possibly create a model that predicts daily population based on the number of links and routes available in a specific region."
   ]
  }
 ],
 "metadata": {
  "kernelspec": {
   "display_name": "Python 3",
   "language": "python",
   "name": "python3"
  },
  "language_info": {
   "codemirror_mode": {
    "name": "ipython",
    "version": 3
   },
   "file_extension": ".py",
   "mimetype": "text/x-python",
   "name": "python",
   "nbconvert_exporter": "python",
   "pygments_lexer": "ipython3",
   "version": "3.8.5"
  }
 },
 "nbformat": 4,
 "nbformat_minor": 5
}
