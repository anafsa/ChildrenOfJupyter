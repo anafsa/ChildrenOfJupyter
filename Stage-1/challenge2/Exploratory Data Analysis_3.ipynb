{
 "cells": [
  {
   "cell_type": "markdown",
   "metadata": {},
   "source": [
    "# EDA for the second challenge "
   ]
  },
  {
   "cell_type": "code",
   "execution_count": 1,
   "metadata": {},
   "outputs": [
    {
     "name": "stdout",
     "output_type": "stream",
     "text": [
      "Number of Routes >> 48312\n"
     ]
    }
   ],
   "source": [
    "#Import Libraries\n",
    "import numpy as np\n",
    "import pandas as pd\n",
    "import matplotlib.pylab as plt\n",
    "import seaborn as sns\n",
    "import requests\n",
    "\n",
    "df = pd.read_csv('BusRoutes.txt', sep='|')\n",
    "print(\"Number of Routes >> \" + str(df.shape[0]))"
   ]
  },
  {
   "cell_type": "code",
   "execution_count": 2,
   "metadata": {},
   "outputs": [
    {
     "data": {
      "text/html": [
       "<div>\n",
       "<style scoped>\n",
       "    .dataframe tbody tr th:only-of-type {\n",
       "        vertical-align: middle;\n",
       "    }\n",
       "\n",
       "    .dataframe tbody tr th {\n",
       "        vertical-align: top;\n",
       "    }\n",
       "\n",
       "    .dataframe thead th {\n",
       "        text-align: right;\n",
       "    }\n",
       "</style>\n",
       "<table border=\"1\" class=\"dataframe\">\n",
       "  <thead>\n",
       "    <tr style=\"text-align: right;\">\n",
       "      <th></th>\n",
       "      <th>local</th>\n",
       "      <th>2017</th>\n",
       "    </tr>\n",
       "  </thead>\n",
       "  <tbody>\n",
       "    <tr>\n",
       "      <th>0</th>\n",
       "      <td>Arcos de Valdevez</td>\n",
       "      <td>67,8</td>\n",
       "    </tr>\n",
       "    <tr>\n",
       "      <th>1</th>\n",
       "      <td>Caminha</td>\n",
       "      <td>78,9</td>\n",
       "    </tr>\n",
       "    <tr>\n",
       "      <th>2</th>\n",
       "      <td>Melgaço</td>\n",
       "      <td>62,0</td>\n",
       "    </tr>\n",
       "    <tr>\n",
       "      <th>3</th>\n",
       "      <td>Monção</td>\n",
       "      <td>70,2</td>\n",
       "    </tr>\n",
       "    <tr>\n",
       "      <th>4</th>\n",
       "      <td>Paredes de Coura</td>\n",
       "      <td>66,4</td>\n",
       "    </tr>\n",
       "    <tr>\n",
       "      <th>...</th>\n",
       "      <td>...</td>\n",
       "      <td>...</td>\n",
       "    </tr>\n",
       "    <tr>\n",
       "      <th>303</th>\n",
       "      <td>Ribeira Brava</td>\n",
       "      <td>68,4</td>\n",
       "    </tr>\n",
       "    <tr>\n",
       "      <th>304</th>\n",
       "      <td>Santa Cruz</td>\n",
       "      <td>71,5</td>\n",
       "    </tr>\n",
       "    <tr>\n",
       "      <th>305</th>\n",
       "      <td>Santana</td>\n",
       "      <td>58,3</td>\n",
       "    </tr>\n",
       "    <tr>\n",
       "      <th>306</th>\n",
       "      <td>São Vicente</td>\n",
       "      <td>61,0</td>\n",
       "    </tr>\n",
       "    <tr>\n",
       "      <th>307</th>\n",
       "      <td>Porto Santo</td>\n",
       "      <td>93,5</td>\n",
       "    </tr>\n",
       "  </tbody>\n",
       "</table>\n",
       "<p>308 rows × 2 columns</p>\n",
       "</div>"
      ],
      "text/plain": [
       "                 local  2017\n",
       "0    Arcos de Valdevez  67,8\n",
       "1              Caminha  78,9\n",
       "2              Melgaço  62,0\n",
       "3               Monção  70,2\n",
       "4     Paredes de Coura  66,4\n",
       "..                 ...   ...\n",
       "303      Ribeira Brava  68,4\n",
       "304         Santa Cruz  71,5\n",
       "305            Santana  58,3\n",
       "306        São Vicente  61,0\n",
       "307        Porto Santo  93,5\n",
       "\n",
       "[308 rows x 2 columns]"
      ]
     },
     "execution_count": 2,
     "metadata": {},
     "output_type": "execute_result"
    }
   ],
   "source": [
    "dfLPP = pd.read_csv('local_purchasing_power.csv')\n",
    "dfLPP_2017 = dfLPP[['local', '2017']]\n",
    "dfLPP_2017"
   ]
  },
  {
   "cell_type": "markdown",
   "metadata": {},
   "source": [
    "# Bus routes"
   ]
  },
  {
   "cell_type": "code",
   "execution_count": 3,
   "metadata": {},
   "outputs": [
    {
     "data": {
      "text/plain": [
       "Index(['IDRoute', 'linkid'], dtype='object')"
      ]
     },
     "execution_count": 3,
     "metadata": {},
     "output_type": "execute_result"
    }
   ],
   "source": [
    "df.columns"
   ]
  },
  {
   "cell_type": "code",
   "execution_count": 4,
   "metadata": {
    "scrolled": true
   },
   "outputs": [
    {
     "data": {
      "text/html": [
       "<div>\n",
       "<style scoped>\n",
       "    .dataframe tbody tr th:only-of-type {\n",
       "        vertical-align: middle;\n",
       "    }\n",
       "\n",
       "    .dataframe tbody tr th {\n",
       "        vertical-align: top;\n",
       "    }\n",
       "\n",
       "    .dataframe thead th {\n",
       "        text-align: right;\n",
       "    }\n",
       "</style>\n",
       "<table border=\"1\" class=\"dataframe\">\n",
       "  <thead>\n",
       "    <tr style=\"text-align: right;\">\n",
       "      <th></th>\n",
       "      <th>IDRoute</th>\n",
       "      <th>linkid</th>\n",
       "    </tr>\n",
       "  </thead>\n",
       "  <tbody>\n",
       "    <tr>\n",
       "      <th>0</th>\n",
       "      <td>1</td>\n",
       "      <td>537277300</td>\n",
       "    </tr>\n",
       "    <tr>\n",
       "      <th>1</th>\n",
       "      <td>1</td>\n",
       "      <td>537277673</td>\n",
       "    </tr>\n",
       "    <tr>\n",
       "      <th>2</th>\n",
       "      <td>1</td>\n",
       "      <td>537277754</td>\n",
       "    </tr>\n",
       "    <tr>\n",
       "      <th>3</th>\n",
       "      <td>1</td>\n",
       "      <td>537277777</td>\n",
       "    </tr>\n",
       "    <tr>\n",
       "      <th>4</th>\n",
       "      <td>1</td>\n",
       "      <td>537277795</td>\n",
       "    </tr>\n",
       "    <tr>\n",
       "      <th>5</th>\n",
       "      <td>1</td>\n",
       "      <td>537277954</td>\n",
       "    </tr>\n",
       "    <tr>\n",
       "      <th>6</th>\n",
       "      <td>1</td>\n",
       "      <td>537277980</td>\n",
       "    </tr>\n",
       "    <tr>\n",
       "      <th>7</th>\n",
       "      <td>1</td>\n",
       "      <td>537278408</td>\n",
       "    </tr>\n",
       "    <tr>\n",
       "      <th>8</th>\n",
       "      <td>1</td>\n",
       "      <td>537278623</td>\n",
       "    </tr>\n",
       "    <tr>\n",
       "      <th>9</th>\n",
       "      <td>1</td>\n",
       "      <td>537278860</td>\n",
       "    </tr>\n",
       "  </tbody>\n",
       "</table>\n",
       "</div>"
      ],
      "text/plain": [
       "   IDRoute     linkid\n",
       "0        1  537277300\n",
       "1        1  537277673\n",
       "2        1  537277754\n",
       "3        1  537277777\n",
       "4        1  537277795\n",
       "5        1  537277954\n",
       "6        1  537277980\n",
       "7        1  537278408\n",
       "8        1  537278623\n",
       "9        1  537278860"
      ]
     },
     "execution_count": 4,
     "metadata": {},
     "output_type": "execute_result"
    }
   ],
   "source": [
    "df.head(10)"
   ]
  },
  {
   "cell_type": "markdown",
   "metadata": {},
   "source": [
    "## Unique Routes and Links"
   ]
  },
  {
   "cell_type": "code",
   "execution_count": 5,
   "metadata": {},
   "outputs": [
    {
     "data": {
      "text/plain": [
       "IDRoute      166\n",
       "linkid     19277\n",
       "dtype: int64"
      ]
     },
     "execution_count": 5,
     "metadata": {},
     "output_type": "execute_result"
    }
   ],
   "source": [
    "df.nunique(axis=0)"
   ]
  },
  {
   "cell_type": "markdown",
   "metadata": {},
   "source": [
    "## Links per Bus Route (e.g, road)"
   ]
  },
  {
   "cell_type": "code",
   "execution_count": 7,
   "metadata": {
    "scrolled": false
   },
   "outputs": [
    {
     "data": {
      "text/html": [
       "<div>\n",
       "<style scoped>\n",
       "    .dataframe tbody tr th:only-of-type {\n",
       "        vertical-align: middle;\n",
       "    }\n",
       "\n",
       "    .dataframe tbody tr th {\n",
       "        vertical-align: top;\n",
       "    }\n",
       "\n",
       "    .dataframe thead th {\n",
       "        text-align: right;\n",
       "    }\n",
       "</style>\n",
       "<table border=\"1\" class=\"dataframe\">\n",
       "  <thead>\n",
       "    <tr style=\"text-align: right;\">\n",
       "      <th></th>\n",
       "      <th>IDRoute</th>\n",
       "      <th>Number of Links</th>\n",
       "    </tr>\n",
       "  </thead>\n",
       "  <tbody>\n",
       "    <tr>\n",
       "      <th>52</th>\n",
       "      <td>53</td>\n",
       "      <td>613</td>\n",
       "    </tr>\n",
       "    <tr>\n",
       "      <th>7</th>\n",
       "      <td>8</td>\n",
       "      <td>608</td>\n",
       "    </tr>\n",
       "    <tr>\n",
       "      <th>135</th>\n",
       "      <td>136</td>\n",
       "      <td>585</td>\n",
       "    </tr>\n",
       "    <tr>\n",
       "      <th>127</th>\n",
       "      <td>128</td>\n",
       "      <td>572</td>\n",
       "    </tr>\n",
       "    <tr>\n",
       "      <th>62</th>\n",
       "      <td>63</td>\n",
       "      <td>565</td>\n",
       "    </tr>\n",
       "    <tr>\n",
       "      <th>...</th>\n",
       "      <td>...</td>\n",
       "      <td>...</td>\n",
       "    </tr>\n",
       "    <tr>\n",
       "      <th>96</th>\n",
       "      <td>97</td>\n",
       "      <td>41</td>\n",
       "    </tr>\n",
       "    <tr>\n",
       "      <th>22</th>\n",
       "      <td>23</td>\n",
       "      <td>6</td>\n",
       "    </tr>\n",
       "    <tr>\n",
       "      <th>20</th>\n",
       "      <td>21</td>\n",
       "      <td>5</td>\n",
       "    </tr>\n",
       "    <tr>\n",
       "      <th>21</th>\n",
       "      <td>22</td>\n",
       "      <td>2</td>\n",
       "    </tr>\n",
       "    <tr>\n",
       "      <th>23</th>\n",
       "      <td>24</td>\n",
       "      <td>1</td>\n",
       "    </tr>\n",
       "  </tbody>\n",
       "</table>\n",
       "<p>166 rows × 2 columns</p>\n",
       "</div>"
      ],
      "text/plain": [
       "     IDRoute  Number of Links\n",
       "52        53              613\n",
       "7          8              608\n",
       "135      136              585\n",
       "127      128              572\n",
       "62        63              565\n",
       "..       ...              ...\n",
       "96        97               41\n",
       "22        23                6\n",
       "20        21                5\n",
       "21        22                2\n",
       "23        24                1\n",
       "\n",
       "[166 rows x 2 columns]"
      ]
     },
     "execution_count": 7,
     "metadata": {},
     "output_type": "execute_result"
    }
   ],
   "source": [
    "dfRoutesLinkCount = df.groupby('IDRoute', as_index=False)['linkid'].count() \\\n",
    "                                               .rename(columns={'linkid':'Number of Links'}) \\\n",
    "                                               .sort_values(\"Number of Links\", ascending=False) \n",
    "dfRoutesLinkCount"
   ]
  },
  {
   "cell_type": "markdown",
   "metadata": {},
   "source": [
    "## Bus Routes per Link  "
   ]
  },
  {
   "cell_type": "code",
   "execution_count": 20,
   "metadata": {
    "scrolled": false
   },
   "outputs": [
    {
     "data": {
      "text/html": [
       "<div>\n",
       "<style scoped>\n",
       "    .dataframe tbody tr th:only-of-type {\n",
       "        vertical-align: middle;\n",
       "    }\n",
       "\n",
       "    .dataframe tbody tr th {\n",
       "        vertical-align: top;\n",
       "    }\n",
       "\n",
       "    .dataframe thead th {\n",
       "        text-align: right;\n",
       "    }\n",
       "</style>\n",
       "<table border=\"1\" class=\"dataframe\">\n",
       "  <thead>\n",
       "    <tr style=\"text-align: right;\">\n",
       "      <th></th>\n",
       "      <th>linkid</th>\n",
       "      <th>RoutesNumber</th>\n",
       "    </tr>\n",
       "  </thead>\n",
       "  <tbody>\n",
       "    <tr>\n",
       "      <th>6679</th>\n",
       "      <td>724627591</td>\n",
       "      <td>20</td>\n",
       "    </tr>\n",
       "    <tr>\n",
       "      <th>15464</th>\n",
       "      <td>1172432839</td>\n",
       "      <td>20</td>\n",
       "    </tr>\n",
       "    <tr>\n",
       "      <th>6678</th>\n",
       "      <td>724627590</td>\n",
       "      <td>20</td>\n",
       "    </tr>\n",
       "    <tr>\n",
       "      <th>9401</th>\n",
       "      <td>836110932</td>\n",
       "      <td>20</td>\n",
       "    </tr>\n",
       "    <tr>\n",
       "      <th>6676</th>\n",
       "      <td>724627588</td>\n",
       "      <td>20</td>\n",
       "    </tr>\n",
       "    <tr>\n",
       "      <th>...</th>\n",
       "      <td>...</td>\n",
       "      <td>...</td>\n",
       "    </tr>\n",
       "    <tr>\n",
       "      <th>8991</th>\n",
       "      <td>812148656</td>\n",
       "      <td>1</td>\n",
       "    </tr>\n",
       "    <tr>\n",
       "      <th>8993</th>\n",
       "      <td>812148837</td>\n",
       "      <td>1</td>\n",
       "    </tr>\n",
       "    <tr>\n",
       "      <th>8995</th>\n",
       "      <td>812149330</td>\n",
       "      <td>1</td>\n",
       "    </tr>\n",
       "    <tr>\n",
       "      <th>9000</th>\n",
       "      <td>812234969</td>\n",
       "      <td>1</td>\n",
       "    </tr>\n",
       "    <tr>\n",
       "      <th>9638</th>\n",
       "      <td>851509758</td>\n",
       "      <td>1</td>\n",
       "    </tr>\n",
       "  </tbody>\n",
       "</table>\n",
       "<p>19277 rows × 2 columns</p>\n",
       "</div>"
      ],
      "text/plain": [
       "           linkid  RoutesNumber\n",
       "6679    724627591            20\n",
       "15464  1172432839            20\n",
       "6678    724627590            20\n",
       "9401    836110932            20\n",
       "6676    724627588            20\n",
       "...           ...           ...\n",
       "8991    812148656             1\n",
       "8993    812148837             1\n",
       "8995    812149330             1\n",
       "9000    812234969             1\n",
       "9638    851509758             1\n",
       "\n",
       "[19277 rows x 2 columns]"
      ]
     },
     "execution_count": 20,
     "metadata": {},
     "output_type": "execute_result"
    }
   ],
   "source": [
    "dfLinkRoutesCount = df.groupby('linkid', as_index=False)['IDRoute'].count() \\\n",
    "                                               .rename(columns={'IDRoute':'RoutesNumber'}) \\\n",
    "                                               .sort_values(\"RoutesNumber\", ascending=False) \n",
    "\n",
    "\n",
    "dfLinkRoutesCount"
   ]
  },
  {
   "cell_type": "markdown",
   "metadata": {},
   "source": [
    "## Most links are used by few routes "
   ]
  },
  {
   "cell_type": "code",
   "execution_count": 8,
   "metadata": {
    "scrolled": true
   },
   "outputs": [
    {
     "data": {
      "image/png": "[encoded data removed]",
      "text/plain": [
       "<Figure size 432x288 with 1 Axes>"
      ]
     },
     "metadata": {
      "needs_background": "light"
     },
     "output_type": "display_data"
    }
   ],
   "source": [
    "dfLinkRoutesCount.RoutesNumber.plot.hist(bins=20);"
   ]
  },
  {
   "cell_type": "markdown",
   "metadata": {},
   "source": [
    "## Possible \"stroke\" points (Links with too many routes going through them)"
   ]
  },
  {
   "cell_type": "code",
   "execution_count": 21,
   "metadata": {},
   "outputs": [
    {
     "name": "stdout",
     "output_type": "stream",
     "text": [
      "Number of Routes >> 121053\n"
     ]
    }
   ],
   "source": [
    "dfSenior = pd.read_csv('Senior_TIM_v1.txt', sep='|', encoding= 'unicode_escape')\n",
    "print(\"Number of Routes >> \" + str(dfSenior.shape[0]))"
   ]
  },
  {
   "cell_type": "code",
   "execution_count": 22,
   "metadata": {},
   "outputs": [
    {
     "data": {
      "text/plain": [
       "Index(['linkid', 'Region_of_Origin', 'District_of_Origin', 'County_of_Origin',\n",
       "       'Average_Daily_SeniorPopulation_Travelling'],\n",
       "      dtype='object')"
      ]
     },
     "execution_count": 22,
     "metadata": {},
     "output_type": "execute_result"
    }
   ],
   "source": [
    "dfSenior.columns\n"
   ]
  },
  {
   "cell_type": "code",
   "execution_count": 23,
   "metadata": {
    "scrolled": true
   },
   "outputs": [
    {
     "data": {
      "text/html": [
       "<div>\n",
       "<style scoped>\n",
       "    .dataframe tbody tr th:only-of-type {\n",
       "        vertical-align: middle;\n",
       "    }\n",
       "\n",
       "    .dataframe tbody tr th {\n",
       "        vertical-align: top;\n",
       "    }\n",
       "\n",
       "    .dataframe thead th {\n",
       "        text-align: right;\n",
       "    }\n",
       "</style>\n",
       "<table border=\"1\" class=\"dataframe\">\n",
       "  <thead>\n",
       "    <tr style=\"text-align: right;\">\n",
       "      <th></th>\n",
       "      <th>linkid</th>\n",
       "      <th>Region_of_Origin</th>\n",
       "      <th>District_of_Origin</th>\n",
       "      <th>County_of_Origin</th>\n",
       "      <th>Average_Daily_SeniorPopulation_Travelling</th>\n",
       "    </tr>\n",
       "  </thead>\n",
       "  <tbody>\n",
       "    <tr>\n",
       "      <th>0</th>\n",
       "      <td>80216810</td>\n",
       "      <td>R1 - AM Lisboa</td>\n",
       "      <td>Lisboa</td>\n",
       "      <td>Lisboa</td>\n",
       "      <td>2013.681187</td>\n",
       "    </tr>\n",
       "    <tr>\n",
       "      <th>1</th>\n",
       "      <td>80216810</td>\n",
       "      <td>R1 - AM Lisboa</td>\n",
       "      <td>Setúbal</td>\n",
       "      <td>Palmela</td>\n",
       "      <td>7688.296396</td>\n",
       "    </tr>\n",
       "    <tr>\n",
       "      <th>2</th>\n",
       "      <td>80216810</td>\n",
       "      <td>R1 - AM Lisboa</td>\n",
       "      <td>Lisboa</td>\n",
       "      <td>Oeiras</td>\n",
       "      <td>220.647248</td>\n",
       "    </tr>\n",
       "    <tr>\n",
       "      <th>3</th>\n",
       "      <td>80216810</td>\n",
       "      <td>R1 - AM Lisboa</td>\n",
       "      <td>Lisboa</td>\n",
       "      <td>Vila Franca de Xira</td>\n",
       "      <td>233.203075</td>\n",
       "    </tr>\n",
       "    <tr>\n",
       "      <th>4</th>\n",
       "      <td>80216812</td>\n",
       "      <td>R1 - AM Lisboa</td>\n",
       "      <td>Lisboa</td>\n",
       "      <td>Lisboa</td>\n",
       "      <td>261.606014</td>\n",
       "    </tr>\n",
       "  </tbody>\n",
       "</table>\n",
       "</div>"
      ],
      "text/plain": [
       "     linkid Region_of_Origin District_of_Origin     County_of_Origin  \\\n",
       "0  80216810   R1 - AM Lisboa             Lisboa               Lisboa   \n",
       "1  80216810   R1 - AM Lisboa            Setúbal              Palmela   \n",
       "2  80216810   R1 - AM Lisboa             Lisboa               Oeiras   \n",
       "3  80216810   R1 - AM Lisboa             Lisboa  Vila Franca de Xira   \n",
       "4  80216812   R1 - AM Lisboa             Lisboa               Lisboa   \n",
       "\n",
       "   Average_Daily_SeniorPopulation_Travelling  \n",
       "0                                2013.681187  \n",
       "1                                7688.296396  \n",
       "2                                 220.647248  \n",
       "3                                 233.203075  \n",
       "4                                 261.606014  "
      ]
     },
     "execution_count": 23,
     "metadata": {},
     "output_type": "execute_result"
    }
   ],
   "source": [
    "dfSenior.head()"
   ]
  },
  {
   "cell_type": "code",
   "execution_count": 24,
   "metadata": {},
   "outputs": [
    {
     "data": {
      "text/html": [
       "<div>\n",
       "<style scoped>\n",
       "    .dataframe tbody tr th:only-of-type {\n",
       "        vertical-align: middle;\n",
       "    }\n",
       "\n",
       "    .dataframe tbody tr th {\n",
       "        vertical-align: top;\n",
       "    }\n",
       "\n",
       "    .dataframe thead th {\n",
       "        text-align: right;\n",
       "    }\n",
       "</style>\n",
       "<table border=\"1\" class=\"dataframe\">\n",
       "  <thead>\n",
       "    <tr style=\"text-align: right;\">\n",
       "      <th></th>\n",
       "      <th>linkid</th>\n",
       "      <th>Region_of_Origin</th>\n",
       "      <th>District_of_Origin</th>\n",
       "      <th>County_of_Origin</th>\n",
       "      <th>Average_Daily_SeniorPopulation_Travelling</th>\n",
       "      <th>IDRoute</th>\n",
       "    </tr>\n",
       "  </thead>\n",
       "  <tbody>\n",
       "    <tr>\n",
       "      <th>0</th>\n",
       "      <td>80216810</td>\n",
       "      <td>R1 - AM Lisboa</td>\n",
       "      <td>Lisboa</td>\n",
       "      <td>Lisboa</td>\n",
       "      <td>2013.681187</td>\n",
       "      <td>8</td>\n",
       "    </tr>\n",
       "    <tr>\n",
       "      <th>1</th>\n",
       "      <td>80216810</td>\n",
       "      <td>R1 - AM Lisboa</td>\n",
       "      <td>Lisboa</td>\n",
       "      <td>Lisboa</td>\n",
       "      <td>2013.681187</td>\n",
       "      <td>85</td>\n",
       "    </tr>\n",
       "    <tr>\n",
       "      <th>2</th>\n",
       "      <td>80216810</td>\n",
       "      <td>R1 - AM Lisboa</td>\n",
       "      <td>Setúbal</td>\n",
       "      <td>Palmela</td>\n",
       "      <td>7688.296396</td>\n",
       "      <td>8</td>\n",
       "    </tr>\n",
       "    <tr>\n",
       "      <th>3</th>\n",
       "      <td>80216810</td>\n",
       "      <td>R1 - AM Lisboa</td>\n",
       "      <td>Setúbal</td>\n",
       "      <td>Palmela</td>\n",
       "      <td>7688.296396</td>\n",
       "      <td>85</td>\n",
       "    </tr>\n",
       "    <tr>\n",
       "      <th>4</th>\n",
       "      <td>80216810</td>\n",
       "      <td>R1 - AM Lisboa</td>\n",
       "      <td>Lisboa</td>\n",
       "      <td>Oeiras</td>\n",
       "      <td>220.647248</td>\n",
       "      <td>8</td>\n",
       "    </tr>\n",
       "  </tbody>\n",
       "</table>\n",
       "</div>"
      ],
      "text/plain": [
       "     linkid Region_of_Origin District_of_Origin County_of_Origin  \\\n",
       "0  80216810   R1 - AM Lisboa             Lisboa           Lisboa   \n",
       "1  80216810   R1 - AM Lisboa             Lisboa           Lisboa   \n",
       "2  80216810   R1 - AM Lisboa            Setúbal          Palmela   \n",
       "3  80216810   R1 - AM Lisboa            Setúbal          Palmela   \n",
       "4  80216810   R1 - AM Lisboa             Lisboa           Oeiras   \n",
       "\n",
       "   Average_Daily_SeniorPopulation_Travelling  IDRoute  \n",
       "0                                2013.681187        8  \n",
       "1                                2013.681187       85  \n",
       "2                                7688.296396        8  \n",
       "3                                7688.296396       85  \n",
       "4                                 220.647248        8  "
      ]
     },
     "execution_count": 24,
     "metadata": {},
     "output_type": "execute_result"
    }
   ],
   "source": [
    "joinedDf=dfSenior.merge(df)\n",
    "joinedDf.head()"
   ]
  },
  {
   "cell_type": "markdown",
   "metadata": {},
   "source": [
    "# Links/Routes per Region, District and County"
   ]
  },
  {
   "cell_type": "code",
   "execution_count": 25,
   "metadata": {},
   "outputs": [
    {
     "data": {
      "text/html": [
       "<div>\n",
       "<style scoped>\n",
       "    .dataframe tbody tr th:only-of-type {\n",
       "        vertical-align: middle;\n",
       "    }\n",
       "\n",
       "    .dataframe tbody tr th {\n",
       "        vertical-align: top;\n",
       "    }\n",
       "\n",
       "    .dataframe thead th {\n",
       "        text-align: right;\n",
       "    }\n",
       "</style>\n",
       "<table border=\"1\" class=\"dataframe\">\n",
       "  <thead>\n",
       "    <tr style=\"text-align: right;\">\n",
       "      <th></th>\n",
       "      <th>NumberOfLinks</th>\n",
       "      <th>NumberOfRoutes</th>\n",
       "      <th>AvgDailyPopulation</th>\n",
       "    </tr>\n",
       "    <tr>\n",
       "      <th>Region_of_Origin</th>\n",
       "      <th></th>\n",
       "      <th></th>\n",
       "      <th></th>\n",
       "    </tr>\n",
       "  </thead>\n",
       "  <tbody>\n",
       "    <tr>\n",
       "      <th>R1 - AM Lisboa</th>\n",
       "      <td>6184</td>\n",
       "      <td>160</td>\n",
       "      <td>576.977871</td>\n",
       "    </tr>\n",
       "    <tr>\n",
       "      <th>R2 - AM Porto</th>\n",
       "      <td>3803</td>\n",
       "      <td>133</td>\n",
       "      <td>2435.724436</td>\n",
       "    </tr>\n",
       "  </tbody>\n",
       "</table>\n",
       "</div>"
      ],
      "text/plain": [
       "                  NumberOfLinks  NumberOfRoutes  AvgDailyPopulation\n",
       "Region_of_Origin                                                   \n",
       "R1 - AM Lisboa             6184             160          576.977871\n",
       "R2 - AM Porto              3803             133         2435.724436"
      ]
     },
     "execution_count": 25,
     "metadata": {},
     "output_type": "execute_result"
    }
   ],
   "source": [
    "joinedDf.groupby(\"Region_of_Origin\").agg({'linkid': 'nunique', 'IDRoute': 'nunique', 'Average_Daily_SeniorPopulation_Travelling': 'mean'}) \\\n",
    "                                   .rename(columns={'linkid':'NumberOfLinks', 'IDRoute':'NumberOfRoutes', 'Average_Daily_SeniorPopulation_Travelling': 'AvgDailyPopulation'}) \\\n",
    "                                   .sort_values(\"NumberOfLinks\", ascending=False) "
   ]
  },
  {
   "cell_type": "code",
   "execution_count": 26,
   "metadata": {},
   "outputs": [
    {
     "data": {
      "text/html": [
       "<div>\n",
       "<style scoped>\n",
       "    .dataframe tbody tr th:only-of-type {\n",
       "        vertical-align: middle;\n",
       "    }\n",
       "\n",
       "    .dataframe tbody tr th {\n",
       "        vertical-align: top;\n",
       "    }\n",
       "\n",
       "    .dataframe thead th {\n",
       "        text-align: right;\n",
       "    }\n",
       "</style>\n",
       "<table border=\"1\" class=\"dataframe\">\n",
       "  <thead>\n",
       "    <tr style=\"text-align: right;\">\n",
       "      <th></th>\n",
       "      <th>NumberOfLinks</th>\n",
       "      <th>NumberOfRoutes</th>\n",
       "      <th>AvgDailyPopulation</th>\n",
       "    </tr>\n",
       "    <tr>\n",
       "      <th>District_of_Origin</th>\n",
       "      <th></th>\n",
       "      <th></th>\n",
       "      <th></th>\n",
       "    </tr>\n",
       "  </thead>\n",
       "  <tbody>\n",
       "    <tr>\n",
       "      <th>Lisboa</th>\n",
       "      <td>5916</td>\n",
       "      <td>158</td>\n",
       "      <td>628.158972</td>\n",
       "    </tr>\n",
       "    <tr>\n",
       "      <th>Porto</th>\n",
       "      <td>3777</td>\n",
       "      <td>133</td>\n",
       "      <td>2451.672828</td>\n",
       "    </tr>\n",
       "    <tr>\n",
       "      <th>Setúbal</th>\n",
       "      <td>2368</td>\n",
       "      <td>141</td>\n",
       "      <td>365.034285</td>\n",
       "    </tr>\n",
       "    <tr>\n",
       "      <th>Aveiro</th>\n",
       "      <td>32</td>\n",
       "      <td>16</td>\n",
       "      <td>272.407024</td>\n",
       "    </tr>\n",
       "  </tbody>\n",
       "</table>\n",
       "</div>"
      ],
      "text/plain": [
       "                    NumberOfLinks  NumberOfRoutes  AvgDailyPopulation\n",
       "District_of_Origin                                                   \n",
       "Lisboa                       5916             158          628.158972\n",
       "Porto                        3777             133         2451.672828\n",
       "Setúbal                      2368             141          365.034285\n",
       "Aveiro                         32              16          272.407024"
      ]
     },
     "execution_count": 26,
     "metadata": {},
     "output_type": "execute_result"
    }
   ],
   "source": [
    "joinedDf.groupby(\"District_of_Origin\").agg({'linkid': 'nunique', 'IDRoute': 'nunique', 'Average_Daily_SeniorPopulation_Travelling': 'mean'}) \\\n",
    "                                   .rename(columns={'linkid':'NumberOfLinks', 'IDRoute':'NumberOfRoutes', 'Average_Daily_SeniorPopulation_Travelling': 'AvgDailyPopulation'}) \\\n",
    "                                   .sort_values(\"NumberOfLinks\", ascending=False) "
   ]
  },
  {
   "cell_type": "code",
   "execution_count": 27,
   "metadata": {
    "scrolled": false
   },
   "outputs": [
    {
     "data": {
      "text/html": [
       "<div>\n",
       "<style scoped>\n",
       "    .dataframe tbody tr th:only-of-type {\n",
       "        vertical-align: middle;\n",
       "    }\n",
       "\n",
       "    .dataframe tbody tr th {\n",
       "        vertical-align: top;\n",
       "    }\n",
       "\n",
       "    .dataframe thead th {\n",
       "        text-align: right;\n",
       "    }\n",
       "</style>\n",
       "<table border=\"1\" class=\"dataframe\">\n",
       "  <thead>\n",
       "    <tr style=\"text-align: right;\">\n",
       "      <th></th>\n",
       "      <th></th>\n",
       "      <th>NumberOfLinks</th>\n",
       "      <th>NumberOfRoutes</th>\n",
       "      <th>AvgDailyPopulation</th>\n",
       "    </tr>\n",
       "    <tr>\n",
       "      <th>District_of_Origin</th>\n",
       "      <th>County_of_Origin</th>\n",
       "      <th></th>\n",
       "      <th></th>\n",
       "      <th></th>\n",
       "    </tr>\n",
       "  </thead>\n",
       "  <tbody>\n",
       "    <tr>\n",
       "      <th>Aveiro</th>\n",
       "      <th>Santa Maria da Feira</th>\n",
       "      <td>32</td>\n",
       "      <td>16</td>\n",
       "      <td>272.407024</td>\n",
       "    </tr>\n",
       "    <tr>\n",
       "      <th rowspan=\"9\" valign=\"top\">Lisboa</th>\n",
       "      <th>Lisboa</th>\n",
       "      <td>3832</td>\n",
       "      <td>132</td>\n",
       "      <td>1176.641628</td>\n",
       "    </tr>\n",
       "    <tr>\n",
       "      <th>Odivelas</th>\n",
       "      <td>1255</td>\n",
       "      <td>120</td>\n",
       "      <td>715.200512</td>\n",
       "    </tr>\n",
       "    <tr>\n",
       "      <th>Oeiras</th>\n",
       "      <td>2824</td>\n",
       "      <td>152</td>\n",
       "      <td>394.144009</td>\n",
       "    </tr>\n",
       "    <tr>\n",
       "      <th>Vila Franca de Xira</th>\n",
       "      <td>1929</td>\n",
       "      <td>100</td>\n",
       "      <td>364.993711</td>\n",
       "    </tr>\n",
       "    <tr>\n",
       "      <th>Sintra</th>\n",
       "      <td>1226</td>\n",
       "      <td>107</td>\n",
       "      <td>351.236967</td>\n",
       "    </tr>\n",
       "    <tr>\n",
       "      <th>Cascais</th>\n",
       "      <td>472</td>\n",
       "      <td>98</td>\n",
       "      <td>285.334270</td>\n",
       "    </tr>\n",
       "    <tr>\n",
       "      <th>Amadora</th>\n",
       "      <td>613</td>\n",
       "      <td>92</td>\n",
       "      <td>155.706508</td>\n",
       "    </tr>\n",
       "    <tr>\n",
       "      <th>Mafra</th>\n",
       "      <td>283</td>\n",
       "      <td>81</td>\n",
       "      <td>144.367737</td>\n",
       "    </tr>\n",
       "    <tr>\n",
       "      <th>Loures</th>\n",
       "      <td>141</td>\n",
       "      <td>51</td>\n",
       "      <td>141.271239</td>\n",
       "    </tr>\n",
       "    <tr>\n",
       "      <th rowspan=\"4\" valign=\"top\">Porto</th>\n",
       "      <th>Maia</th>\n",
       "      <td>2670</td>\n",
       "      <td>99</td>\n",
       "      <td>3400.213919</td>\n",
       "    </tr>\n",
       "    <tr>\n",
       "      <th>Porto</th>\n",
       "      <td>1478</td>\n",
       "      <td>110</td>\n",
       "      <td>2213.490123</td>\n",
       "    </tr>\n",
       "    <tr>\n",
       "      <th>Gondomar</th>\n",
       "      <td>1076</td>\n",
       "      <td>95</td>\n",
       "      <td>1084.179459</td>\n",
       "    </tr>\n",
       "    <tr>\n",
       "      <th>Matosinhos</th>\n",
       "      <td>195</td>\n",
       "      <td>33</td>\n",
       "      <td>823.843490</td>\n",
       "    </tr>\n",
       "    <tr>\n",
       "      <th rowspan=\"8\" valign=\"top\">Setúbal</th>\n",
       "      <th>Palmela</th>\n",
       "      <td>240</td>\n",
       "      <td>68</td>\n",
       "      <td>889.849297</td>\n",
       "    </tr>\n",
       "    <tr>\n",
       "      <th>Alcochete</th>\n",
       "      <td>6</td>\n",
       "      <td>8</td>\n",
       "      <td>544.140508</td>\n",
       "    </tr>\n",
       "    <tr>\n",
       "      <th>Montijo</th>\n",
       "      <td>55</td>\n",
       "      <td>15</td>\n",
       "      <td>441.206994</td>\n",
       "    </tr>\n",
       "    <tr>\n",
       "      <th>Barreiro</th>\n",
       "      <td>1285</td>\n",
       "      <td>119</td>\n",
       "      <td>346.062201</td>\n",
       "    </tr>\n",
       "    <tr>\n",
       "      <th>Seixal</th>\n",
       "      <td>942</td>\n",
       "      <td>110</td>\n",
       "      <td>329.882526</td>\n",
       "    </tr>\n",
       "    <tr>\n",
       "      <th>Setúbal</th>\n",
       "      <td>113</td>\n",
       "      <td>29</td>\n",
       "      <td>138.546544</td>\n",
       "    </tr>\n",
       "    <tr>\n",
       "      <th>Sesimbra</th>\n",
       "      <td>49</td>\n",
       "      <td>24</td>\n",
       "      <td>116.808277</td>\n",
       "    </tr>\n",
       "    <tr>\n",
       "      <th>Almada</th>\n",
       "      <td>131</td>\n",
       "      <td>44</td>\n",
       "      <td>40.539317</td>\n",
       "    </tr>\n",
       "  </tbody>\n",
       "</table>\n",
       "</div>"
      ],
      "text/plain": [
       "                                         NumberOfLinks  NumberOfRoutes  \\\n",
       "District_of_Origin County_of_Origin                                      \n",
       "Aveiro             Santa Maria da Feira             32              16   \n",
       "Lisboa             Lisboa                         3832             132   \n",
       "                   Odivelas                       1255             120   \n",
       "                   Oeiras                         2824             152   \n",
       "                   Vila Franca de Xira            1929             100   \n",
       "                   Sintra                         1226             107   \n",
       "                   Cascais                         472              98   \n",
       "                   Amadora                         613              92   \n",
       "                   Mafra                           283              81   \n",
       "                   Loures                          141              51   \n",
       "Porto              Maia                           2670              99   \n",
       "                   Porto                          1478             110   \n",
       "                   Gondomar                       1076              95   \n",
       "                   Matosinhos                      195              33   \n",
       "Setúbal            Palmela                         240              68   \n",
       "                   Alcochete                         6               8   \n",
       "                   Montijo                          55              15   \n",
       "                   Barreiro                       1285             119   \n",
       "                   Seixal                          942             110   \n",
       "                   Setúbal                         113              29   \n",
       "                   Sesimbra                         49              24   \n",
       "                   Almada                          131              44   \n",
       "\n",
       "                                         AvgDailyPopulation  \n",
       "District_of_Origin County_of_Origin                          \n",
       "Aveiro             Santa Maria da Feira          272.407024  \n",
       "Lisboa             Lisboa                       1176.641628  \n",
       "                   Odivelas                      715.200512  \n",
       "                   Oeiras                        394.144009  \n",
       "                   Vila Franca de Xira           364.993711  \n",
       "                   Sintra                        351.236967  \n",
       "                   Cascais                       285.334270  \n",
       "                   Amadora                       155.706508  \n",
       "                   Mafra                         144.367737  \n",
       "                   Loures                        141.271239  \n",
       "Porto              Maia                         3400.213919  \n",
       "                   Porto                        2213.490123  \n",
       "                   Gondomar                     1084.179459  \n",
       "                   Matosinhos                    823.843490  \n",
       "Setúbal            Palmela                       889.849297  \n",
       "                   Alcochete                     544.140508  \n",
       "                   Montijo                       441.206994  \n",
       "                   Barreiro                      346.062201  \n",
       "                   Seixal                        329.882526  \n",
       "                   Setúbal                       138.546544  \n",
       "                   Sesimbra                      116.808277  \n",
       "                   Almada                         40.539317  "
      ]
     },
     "execution_count": 27,
     "metadata": {},
     "output_type": "execute_result"
    }
   ],
   "source": [
    "linksRoutesPerOrigin=joinedDf.groupby([\"District_of_Origin\", \"County_of_Origin\"]).agg({'linkid': 'nunique', 'IDRoute': 'nunique', 'Average_Daily_SeniorPopulation_Travelling': 'mean'}) \\\n",
    "                                   .rename(columns={'linkid':'NumberOfLinks', 'IDRoute':'NumberOfRoutes', 'Average_Daily_SeniorPopulation_Travelling': 'AvgDailyPopulation'}) \\\n",
    "                                   .sort_values([\"District_of_Origin\", \"AvgDailyPopulation\"], ascending=[True,  False]) \n",
    "\n",
    "linksRoutesPerOrigin"
   ]
  },
  {
   "cell_type": "markdown",
   "metadata": {},
   "source": [
    "## Open Weather Analysis"
   ]
  },
  {
   "cell_type": "code",
   "execution_count": 16,
   "metadata": {
    "scrolled": false
   },
   "outputs": [],
   "source": [
    "conversion_dic= {\n",
    "    \"Porto\": \"Porto\",\n",
    "    \"Aveiro\": \"Aveiro\",\n",
    "    \"Lisboa\": \"Lisbon\",\n",
    "    \"Setúbal\": \"Setubal\"\n",
    "}\n",
    "\n",
    "def get_lat_lon(district_name, city_name):\n",
    "    print(\"Retrieving Lat and Long of {0} ({1})...\".format(city_name, district_name))\n",
    "\n",
    "    # If no city name is available then use district instead\n",
    "    if city_name in conversion_dic:\n",
    "        city_name=conversion_dic[city_name]\n",
    "    \n",
    "    url = \"http://api.openweathermap.org/geo/1.0/direct?q=\" + city_name + \"&appid=155b4d6acbf49ae8044c54f654953578\"\n",
    "\n",
    "    request_json=requests.get(url).json()\n",
    "    if len(request_json)==0:\n",
    "        return get_history(district_name, district_name)\n",
    "        \n",
    "    return (request_json[0][\"lat\"], request_json[0][\"lon\"])\n",
    "\n",
    "\n",
    "def get_air_polution(lat, lon, metric):\n",
    "    print(\"Retrieving {0} ({1}) air polution...\".format(lat, lon))\n",
    "    \n",
    "    url = \"http://api.openweathermap.org/data/2.5/air_pollution?lat={0}&lon={1}&appid=155b4d6acbf49ae8044c54f654953578\".format(lat, lon)\n",
    "\n",
    "    request_json=requests.get(url).json()\n",
    "        \n",
    "    if metric==None:\n",
    "        return request_json[\"list\"][0][\"main\"][\"aqi\"]\n",
    "    else:\n",
    "        return request_json[\"list\"][0][\"components\"][metric]\n",
    "    \n",
    "def get_history(district_name, city_name):\n",
    "    print(\"Retrieving {0} ({1}) history...\".format(city_name, district_name))\n",
    "\n",
    "    # If no city name is available then use district instead\n",
    "    if city_name in conversion_dic:\n",
    "        city_name=conversion_dic[city_name]\n",
    "    \n",
    "    url = \"http://history.openweathermap.org/data/2.5/aggregated/year?q=\" + city_name + \",PT&appid=\" + \"155b4d6acbf49ae8044c54f654953578\" \\\n",
    "                + \"&start=2019-04-01\" \\\n",
    "                + \"&end=2020-03-31\" \\\n",
    "\n",
    "    request_json=requests.get(url).json()\n",
    "    if \"result\" not in request_json:\n",
    "        return get_history(district_name, district_name)\n",
    "        \n",
    "    return pd.json_normalize(request_json[\"result\"])\n",
    "\n",
    "def get_agg_metric(district, city, col, agg_metric):\n",
    "    df=get_history(district, city)\n",
    "    return df.agg({col: agg_metric})[0] "
   ]
  },
  {
   "cell_type": "code",
   "execution_count": null,
   "metadata": {
    "scrolled": false
   },
   "outputs": [],
   "source": [
    "aveiro_weather=get_history(\"Aveiro\", \"Aveiro\")\n",
    "print(aveiro_weather.columns)\n",
    "aveiro_weather.head()"
   ]
  },
  {
   "cell_type": "markdown",
   "metadata": {},
   "source": [
    "## Weather City Averages"
   ]
  },
  {
   "cell_type": "markdown",
   "metadata": {},
   "source": [
    "## Aveiro"
   ]
  },
  {
   "cell_type": "code",
   "execution_count": null,
   "metadata": {
    "scrolled": false
   },
   "outputs": [],
   "source": [
    "print(\"Temp Year Mean >> \" + str(get_agg_metric(\"Aveiro\", \"Aveiro\", \"temp.mean\", \"mean\")))\n",
    "print(\"Precipitation Year Mean >> \" + str(get_agg_metric(\"Aveiro\", \"Aveiro\", \"precipitation.mean\", \"mean\")))"
   ]
  },
  {
   "cell_type": "markdown",
   "metadata": {},
   "source": [
    "## Porto"
   ]
  },
  {
   "cell_type": "code",
   "execution_count": null,
   "metadata": {},
   "outputs": [],
   "source": [
    "print(\"Temp Year Mean >> \" + str(get_agg_metric(\"Porto\", \"Porto\", \"temp.mean\", \"mean\")))\n",
    "print(\"Precipitation Year Mean >> \" + str(get_agg_metric(\"Porto\", \"Porto\", \"precipitation.mean\", \"mean\")))"
   ]
  },
  {
   "cell_type": "markdown",
   "metadata": {},
   "source": [
    "## Lisbon"
   ]
  },
  {
   "cell_type": "code",
   "execution_count": null,
   "metadata": {
    "scrolled": true
   },
   "outputs": [],
   "source": [
    "print(\"Temp Year Mean >> \" + str(get_agg_metric(\"Lisboa\", \"Lisboa\", \"temp.mean\", \"mean\")))\n",
    "print(\"Precipitation Year Mean >> \" + str(get_agg_metric(\"Lisboa\", \"Lisboa\", \"precipitation.mean\", \"mean\")))"
   ]
  },
  {
   "cell_type": "markdown",
   "metadata": {},
   "source": [
    "## Join Weather Cols"
   ]
  },
  {
   "cell_type": "code",
   "execution_count": null,
   "metadata": {
    "scrolled": false
   },
   "outputs": [],
   "source": [
    "def apply_func(district_name, city_name, metric):\n",
    "    lat_lon = get_lat_lon(district_name, city_name)\n",
    "    return get_air_polution(lat_lon[0], lat_lon[1], metric)\n",
    "\n",
    "#linksRoutesPerOrigin['AvgYearTemp'] = linksRoutesPerOrigin.apply(lambda row: get_agg_metric(row.name[0], row.name[1], \"temp.mean\", \"mean\"), axis=1)\n",
    "#linksRoutesPerOrigin['AvgYearPrecipitation'] = linksRoutesPerOrigin.apply(lambda row: get_agg_metric(row.name[0], row.name[1], \"precipitation.mean\", \"mean\"), axis=1)\n",
    "#linksRoutesPerOrigin['CO2Concentration'] = linksRoutesPerOrigin.apply(lambda row: apply_func(row.name[0], row.name[1], \"co\"), axis=1)\n",
    "#linksRoutesPerOrigin['pm2_5Concentration'] = linksRoutesPerOrigin.apply(lambda row: apply_func(row.name[0], row.name[1], \"pm2_5\"), axis=1)\n",
    "#linksRoutesPerOrigin['pm10Concentration'] = linksRoutesPerOrigin.apply(lambda row: apply_func(row.name[0], row.name[1], \"pm10\"), axis=1)\n",
    "\n",
    "#linksRoutesPerOrigin['AirQuality'] = linksRoutesPerOrigin.apply(lambda row: apply_func(row.name[0], row.name[1], None), axis=1)\n",
    "\n",
    "#linksRoutesPerOrigin.join(dfLPP, linksRoutesPerOrigin.name.County_of_Origin==dfLPP.local)"
   ]
  },
  {
   "cell_type": "markdown",
   "metadata": {},
   "source": [
    "## Distribution of links"
   ]
  },
  {
   "cell_type": "code",
   "execution_count": 28,
   "metadata": {
    "scrolled": true
   },
   "outputs": [
    {
     "data": {
      "text/plain": [
       "<AxesSubplot:>"
      ]
     },
     "execution_count": 28,
     "metadata": {},
     "output_type": "execute_result"
    },
    {
     "data": {
      "image/png": "[encoded data removed]",
      "text/plain": [
       "<Figure size 432x288 with 1 Axes>"
      ]
     },
     "metadata": {
      "needs_background": "light"
     },
     "output_type": "display_data"
    }
   ],
   "source": [
    "linksRoutesPerOrigin.boxplot('NumberOfLinks')"
   ]
  },
  {
   "cell_type": "code",
   "execution_count": 29,
   "metadata": {},
   "outputs": [
    {
     "data": {
      "text/plain": [
       "<AxesSubplot:ylabel='Frequency'>"
      ]
     },
     "execution_count": 29,
     "metadata": {},
     "output_type": "execute_result"
    },
    {
     "data": {
      "image/png": "[encoded data removed]",
      "text/plain": [
       "<Figure size 864x432 with 1 Axes>"
      ]
     },
     "metadata": {
      "needs_background": "light"
     },
     "output_type": "display_data"
    }
   ],
   "source": [
    "linksRoutesPerOrigin['NumberOfLinks'].plot(kind='hist', bins=10, figsize=(12,6), facecolor='grey',edgecolor='black')"
   ]
  },
  {
   "cell_type": "markdown",
   "metadata": {},
   "source": [
    "## Distribution of routes"
   ]
  },
  {
   "cell_type": "code",
   "execution_count": 30,
   "metadata": {},
   "outputs": [
    {
     "data": {
      "text/plain": [
       "<AxesSubplot:>"
      ]
     },
     "execution_count": 30,
     "metadata": {},
     "output_type": "execute_result"
    },
    {
     "data": {
      "image/png": "[encoded data removed]",
      "text/plain": [
       "<Figure size 432x288 with 1 Axes>"
      ]
     },
     "metadata": {
      "needs_background": "light"
     },
     "output_type": "display_data"
    }
   ],
   "source": [
    "linksRoutesPerOrigin.boxplot('NumberOfRoutes')"
   ]
  },
  {
   "cell_type": "code",
   "execution_count": 31,
   "metadata": {
    "scrolled": false
   },
   "outputs": [
    {
     "data": {
      "text/plain": [
       "<AxesSubplot:ylabel='Frequency'>"
      ]
     },
     "execution_count": 31,
     "metadata": {},
     "output_type": "execute_result"
    },
    {
     "data": {
      "image/png": "[encoded data removed]",
      "text/plain": [
       "<Figure size 864x432 with 1 Axes>"
      ]
     },
     "metadata": {
      "needs_background": "light"
     },
     "output_type": "display_data"
    }
   ],
   "source": [
    "linksRoutesPerOrigin['NumberOfRoutes'].plot(kind='hist', bins=10, figsize=(12,6), facecolor='grey',edgecolor='black')"
   ]
  },
  {
   "cell_type": "markdown",
   "metadata": {},
   "source": [
    "## Distribution of Average Daily Senior Population"
   ]
  },
  {
   "cell_type": "code",
   "execution_count": 32,
   "metadata": {},
   "outputs": [
    {
     "data": {
      "text/plain": [
       "<AxesSubplot:>"
      ]
     },
     "execution_count": 32,
     "metadata": {},
     "output_type": "execute_result"
    },
    {
     "data": {
      "image/png": "[encoded data removed]",
      "text/plain": [
       "<Figure size 432x288 with 1 Axes>"
      ]
     },
     "metadata": {
      "needs_background": "light"
     },
     "output_type": "display_data"
    }
   ],
   "source": [
    "linksRoutesPerOrigin.boxplot('AvgDailyPopulation')"
   ]
  },
  {
   "cell_type": "code",
   "execution_count": 33,
   "metadata": {},
   "outputs": [
    {
     "data": {
      "text/plain": [
       "<AxesSubplot:ylabel='Frequency'>"
      ]
     },
     "execution_count": 33,
     "metadata": {},
     "output_type": "execute_result"
    },
    {
     "data": {
      "image/png": "[encoded data removed]",
      "text/plain": [
       "<Figure size 864x432 with 1 Axes>"
      ]
     },
     "metadata": {
      "needs_background": "light"
     },
     "output_type": "display_data"
    }
   ],
   "source": [
    "linksRoutesPerOrigin['AvgDailyPopulation'].plot(kind='hist', bins=10, figsize=(12,6), facecolor='grey',edgecolor='black')"
   ]
  },
  {
   "cell_type": "markdown",
   "metadata": {},
   "source": [
    "## Distribution of Yearly Temperatures"
   ]
  },
  {
   "cell_type": "code",
   "execution_count": null,
   "metadata": {
    "scrolled": true
   },
   "outputs": [],
   "source": [
    "linksRoutesPerOrigin.boxplot('AvgYearTemp')"
   ]
  },
  {
   "cell_type": "code",
   "execution_count": null,
   "metadata": {},
   "outputs": [],
   "source": [
    "linksRoutesPerOrigin['AvgYearTemp'].plot(kind='hist', bins=10, figsize=(12,6), facecolor='grey',edgecolor='black')"
   ]
  },
  {
   "cell_type": "markdown",
   "metadata": {},
   "source": [
    "## Distribution of Yearly Precipitation"
   ]
  },
  {
   "cell_type": "code",
   "execution_count": null,
   "metadata": {},
   "outputs": [],
   "source": [
    "linksRoutesPerOrigin.boxplot('AvgYearPrecipitation')"
   ]
  },
  {
   "cell_type": "code",
   "execution_count": null,
   "metadata": {},
   "outputs": [],
   "source": [
    "linksRoutesPerOrigin['AvgYearPrecipitation'].plot(kind='hist', bins=10, figsize=(12,6), facecolor='grey',edgecolor='black')"
   ]
  },
  {
   "cell_type": "markdown",
   "metadata": {},
   "source": [
    "## Correlation Matrix (Globally)"
   ]
  },
  {
   "cell_type": "code",
   "execution_count": null,
   "metadata": {
    "scrolled": false
   },
   "outputs": [],
   "source": [
    "# calculate correlation matrix\n",
    "corr = linksRoutesPerOrigin.corr()# plot the heatmap\n",
    "sns.heatmap(corr, xticklabels=corr.columns, yticklabels=corr.columns, annot=True, cmap=sns.diverging_palette(220, 20, as_cmap=True))"
   ]
  },
  {
   "cell_type": "code",
   "execution_count": null,
   "metadata": {
    "scrolled": false
   },
   "outputs": [],
   "source": [
    "sns.pairplot(linksRoutesPerOrigin)"
   ]
  },
  {
   "cell_type": "markdown",
   "metadata": {},
   "source": [
    "## Correlation Matrix (Porto)"
   ]
  },
  {
   "cell_type": "code",
   "execution_count": null,
   "metadata": {
    "scrolled": false
   },
   "outputs": [],
   "source": [
    "# calculate correlation matrix\n",
    "corr = linksRoutesPerOrigin.filter(like = 'Porto', axis=0).corr()# plot the heatmap\n",
    "sns.heatmap(corr, xticklabels=corr.columns, yticklabels=corr.columns, annot=True, cmap=sns.diverging_palette(220, 20, as_cmap=True))"
   ]
  },
  {
   "cell_type": "code",
   "execution_count": null,
   "metadata": {
    "scrolled": false
   },
   "outputs": [],
   "source": [
    "sns.pairplot(linksRoutesPerOrigin.filter(like = 'Porto', axis=0))"
   ]
  },
  {
   "cell_type": "markdown",
   "metadata": {},
   "source": [
    "## Correlation Matrix (Lisbon)"
   ]
  },
  {
   "cell_type": "code",
   "execution_count": null,
   "metadata": {
    "scrolled": false
   },
   "outputs": [],
   "source": [
    "# calculate correlation matrix\n",
    "corr = linksRoutesPerOrigin.filter(like = 'Lisboa', axis=0).corr()# plot the heatmap\n",
    "sns.heatmap(corr, xticklabels=corr.columns, yticklabels=corr.columns, annot=True, cmap=sns.diverging_palette(220, 20, as_cmap=True))"
   ]
  },
  {
   "cell_type": "code",
   "execution_count": null,
   "metadata": {
    "scrolled": true
   },
   "outputs": [],
   "source": [
    "sns.pairplot(linksRoutesPerOrigin.filter(like = 'Lisboa', axis=0))"
   ]
  },
  {
   "cell_type": "markdown",
   "metadata": {},
   "source": [
    "## Local purchasing power correlation"
   ]
  },
  {
   "cell_type": "code",
   "execution_count": 34,
   "metadata": {},
   "outputs": [
    {
     "ename": "NameError",
     "evalue": "name 'lppDf' is not defined",
     "output_type": "error",
     "traceback": [
      "\u001b[1;31m---------------------------------------------------------------------------\u001b[0m",
      "\u001b[1;31mNameError\u001b[0m                                 Traceback (most recent call last)",
      "\u001b[1;32m<ipython-input-34-8ad88ec144dd>\u001b[0m in \u001b[0;36m<module>\u001b[1;34m\u001b[0m\n\u001b[0;32m      1\u001b[0m \u001b[1;31m# calculate correlation matrix\u001b[0m\u001b[1;33m\u001b[0m\u001b[1;33m\u001b[0m\u001b[1;33m\u001b[0m\u001b[0m\n\u001b[1;32m----> 2\u001b[1;33m \u001b[0mcorr\u001b[0m \u001b[1;33m=\u001b[0m \u001b[0mlppDf\u001b[0m\u001b[1;33m.\u001b[0m\u001b[0mcorr\u001b[0m\u001b[1;33m(\u001b[0m\u001b[1;33m)\u001b[0m\u001b[1;31m# plot the heatmap\u001b[0m\u001b[1;33m\u001b[0m\u001b[1;33m\u001b[0m\u001b[0m\n\u001b[0m\u001b[0;32m      3\u001b[0m \u001b[0msns\u001b[0m\u001b[1;33m.\u001b[0m\u001b[0mheatmap\u001b[0m\u001b[1;33m(\u001b[0m\u001b[0mcorr\u001b[0m\u001b[1;33m,\u001b[0m \u001b[0mxticklabels\u001b[0m\u001b[1;33m=\u001b[0m\u001b[0mcorr\u001b[0m\u001b[1;33m.\u001b[0m\u001b[0mcolumns\u001b[0m\u001b[1;33m,\u001b[0m \u001b[0myticklabels\u001b[0m\u001b[1;33m=\u001b[0m\u001b[0mcorr\u001b[0m\u001b[1;33m.\u001b[0m\u001b[0mcolumns\u001b[0m\u001b[1;33m,\u001b[0m \u001b[0mannot\u001b[0m\u001b[1;33m=\u001b[0m\u001b[1;32mTrue\u001b[0m\u001b[1;33m,\u001b[0m \u001b[0mcmap\u001b[0m\u001b[1;33m=\u001b[0m\u001b[0msns\u001b[0m\u001b[1;33m.\u001b[0m\u001b[0mdiverging_palette\u001b[0m\u001b[1;33m(\u001b[0m\u001b[1;36m220\u001b[0m\u001b[1;33m,\u001b[0m \u001b[1;36m20\u001b[0m\u001b[1;33m,\u001b[0m \u001b[0mas_cmap\u001b[0m\u001b[1;33m=\u001b[0m\u001b[1;32mTrue\u001b[0m\u001b[1;33m)\u001b[0m\u001b[1;33m)\u001b[0m\u001b[1;33m\u001b[0m\u001b[1;33m\u001b[0m\u001b[0m\n",
      "\u001b[1;31mNameError\u001b[0m: name 'lppDf' is not defined"
     ]
    }
   ],
   "source": [
    "# calculate correlation matrix\n",
    "corr = lppDf.corr()# plot the heatmap\n",
    "sns.heatmap(corr, xticklabels=corr.columns, yticklabels=corr.columns, annot=True, cmap=sns.diverging_palette(220, 20, as_cmap=True))"
   ]
  },
  {
   "cell_type": "code",
   "execution_count": null,
   "metadata": {},
   "outputs": [],
   "source": [
    "sns.pairplot(lppDf)"
   ]
  },
  {
   "cell_type": "markdown",
   "metadata": {},
   "source": [
    "## Population density correlation"
   ]
  },
  {
   "cell_type": "code",
   "execution_count": 45,
   "metadata": {},
   "outputs": [
    {
     "data": {
      "text/html": [
       "<div>\n",
       "<style scoped>\n",
       "    .dataframe tbody tr th:only-of-type {\n",
       "        vertical-align: middle;\n",
       "    }\n",
       "\n",
       "    .dataframe tbody tr th {\n",
       "        vertical-align: top;\n",
       "    }\n",
       "\n",
       "    .dataframe thead th {\n",
       "        text-align: right;\n",
       "    }\n",
       "</style>\n",
       "<table border=\"1\" class=\"dataframe\">\n",
       "  <thead>\n",
       "    <tr style=\"text-align: right;\">\n",
       "      <th></th>\n",
       "      <th>local</th>\n",
       "      <th>2017</th>\n",
       "    </tr>\n",
       "  </thead>\n",
       "  <tbody>\n",
       "    <tr>\n",
       "      <th>0</th>\n",
       "      <td>Arcos de Valdevez</td>\n",
       "      <td>47,4</td>\n",
       "    </tr>\n",
       "    <tr>\n",
       "      <th>1</th>\n",
       "      <td>Caminha</td>\n",
       "      <td>116,7</td>\n",
       "    </tr>\n",
       "    <tr>\n",
       "      <th>2</th>\n",
       "      <td>Melgaço</td>\n",
       "      <td>34,9</td>\n",
       "    </tr>\n",
       "    <tr>\n",
       "      <th>3</th>\n",
       "      <td>Monção</td>\n",
       "      <td>85,7</td>\n",
       "    </tr>\n",
       "    <tr>\n",
       "      <th>4</th>\n",
       "      <td>Paredes de Coura</td>\n",
       "      <td>62,7</td>\n",
       "    </tr>\n",
       "    <tr>\n",
       "      <th>...</th>\n",
       "      <td>...</td>\n",
       "      <td>...</td>\n",
       "    </tr>\n",
       "    <tr>\n",
       "      <th>304</th>\n",
       "      <td>Santa Cruz</td>\n",
       "      <td>542,6</td>\n",
       "    </tr>\n",
       "    <tr>\n",
       "      <th>305</th>\n",
       "      <td>Santana</td>\n",
       "      <td>71,7</td>\n",
       "    </tr>\n",
       "    <tr>\n",
       "      <th>306</th>\n",
       "      <td>São Vicente</td>\n",
       "      <td>65,4</td>\n",
       "    </tr>\n",
       "    <tr>\n",
       "      <th>307</th>\n",
       "      <td>Porto Santo</td>\n",
       "      <td>120,1</td>\n",
       "    </tr>\n",
       "    <tr>\n",
       "      <th>308</th>\n",
       "      <td></td>\n",
       "      <td></td>\n",
       "    </tr>\n",
       "  </tbody>\n",
       "</table>\n",
       "<p>309 rows × 2 columns</p>\n",
       "</div>"
      ],
      "text/plain": [
       "                 local   2017\n",
       "0    Arcos de Valdevez   47,4\n",
       "1              Caminha  116,7\n",
       "2              Melgaço   34,9\n",
       "3               Monção   85,7\n",
       "4     Paredes de Coura   62,7\n",
       "..                 ...    ...\n",
       "304         Santa Cruz  542,6\n",
       "305            Santana   71,7\n",
       "306        São Vicente   65,4\n",
       "307        Porto Santo  120,1\n",
       "308                          \n",
       "\n",
       "[309 rows x 2 columns]"
      ]
     },
     "execution_count": 45,
     "metadata": {},
     "output_type": "execute_result"
    }
   ],
   "source": [
    "popDf = pd.read_csv('pop_density.csv')\n",
    "\n",
    "popDf[['local', '2017']]"
   ]
  },
  {
   "cell_type": "code",
   "execution_count": 46,
   "metadata": {},
   "outputs": [
    {
     "data": {
      "text/html": [
       "<div>\n",
       "<style scoped>\n",
       "    .dataframe tbody tr th:only-of-type {\n",
       "        vertical-align: middle;\n",
       "    }\n",
       "\n",
       "    .dataframe tbody tr th {\n",
       "        vertical-align: top;\n",
       "    }\n",
       "\n",
       "    .dataframe thead th {\n",
       "        text-align: right;\n",
       "    }\n",
       "</style>\n",
       "<table border=\"1\" class=\"dataframe\">\n",
       "  <thead>\n",
       "    <tr style=\"text-align: right;\">\n",
       "      <th></th>\n",
       "      <th>NumberOfLinks</th>\n",
       "      <th>NumberOfRoutes</th>\n",
       "      <th>AvgDailyPopulation</th>\n",
       "      <th>local</th>\n",
       "      <th>2017</th>\n",
       "    </tr>\n",
       "  </thead>\n",
       "  <tbody>\n",
       "    <tr>\n",
       "      <th>0</th>\n",
       "      <td>32</td>\n",
       "      <td>16</td>\n",
       "      <td>272.407024</td>\n",
       "      <td>Santa Maria da Feira</td>\n",
       "      <td>642.7</td>\n",
       "    </tr>\n",
       "    <tr>\n",
       "      <th>1</th>\n",
       "      <td>3832</td>\n",
       "      <td>132</td>\n",
       "      <td>1176.641628</td>\n",
       "      <td>Lisboa</td>\n",
       "      <td>5052.7</td>\n",
       "    </tr>\n",
       "    <tr>\n",
       "      <th>2</th>\n",
       "      <td>1255</td>\n",
       "      <td>120</td>\n",
       "      <td>715.200512</td>\n",
       "      <td>Odivelas</td>\n",
       "      <td>5913.9</td>\n",
       "    </tr>\n",
       "    <tr>\n",
       "      <th>3</th>\n",
       "      <td>2824</td>\n",
       "      <td>152</td>\n",
       "      <td>394.144009</td>\n",
       "      <td>Oeiras</td>\n",
       "      <td>3808.6</td>\n",
       "    </tr>\n",
       "    <tr>\n",
       "      <th>4</th>\n",
       "      <td>1929</td>\n",
       "      <td>100</td>\n",
       "      <td>364.993711</td>\n",
       "      <td>Vila Franca de Xira</td>\n",
       "      <td>443.2</td>\n",
       "    </tr>\n",
       "    <tr>\n",
       "      <th>5</th>\n",
       "      <td>1226</td>\n",
       "      <td>107</td>\n",
       "      <td>351.236967</td>\n",
       "      <td>Sintra</td>\n",
       "      <td>1206.0</td>\n",
       "    </tr>\n",
       "    <tr>\n",
       "      <th>6</th>\n",
       "      <td>472</td>\n",
       "      <td>98</td>\n",
       "      <td>285.334270</td>\n",
       "      <td>Cascais</td>\n",
       "      <td>2169.4</td>\n",
       "    </tr>\n",
       "    <tr>\n",
       "      <th>7</th>\n",
       "      <td>613</td>\n",
       "      <td>92</td>\n",
       "      <td>155.706508</td>\n",
       "      <td>Amadora</td>\n",
       "      <td>7529.7</td>\n",
       "    </tr>\n",
       "    <tr>\n",
       "      <th>8</th>\n",
       "      <td>283</td>\n",
       "      <td>81</td>\n",
       "      <td>144.367737</td>\n",
       "      <td>Mafra</td>\n",
       "      <td>284.4</td>\n",
       "    </tr>\n",
       "    <tr>\n",
       "      <th>9</th>\n",
       "      <td>141</td>\n",
       "      <td>51</td>\n",
       "      <td>141.271239</td>\n",
       "      <td>Loures</td>\n",
       "      <td>1246.7</td>\n",
       "    </tr>\n",
       "    <tr>\n",
       "      <th>10</th>\n",
       "      <td>2670</td>\n",
       "      <td>99</td>\n",
       "      <td>3400.213919</td>\n",
       "      <td>Maia</td>\n",
       "      <td>1644.4</td>\n",
       "    </tr>\n",
       "    <tr>\n",
       "      <th>11</th>\n",
       "      <td>1478</td>\n",
       "      <td>110</td>\n",
       "      <td>2213.490123</td>\n",
       "      <td>Porto</td>\n",
       "      <td>5175.1</td>\n",
       "    </tr>\n",
       "    <tr>\n",
       "      <th>12</th>\n",
       "      <td>1076</td>\n",
       "      <td>95</td>\n",
       "      <td>1084.179459</td>\n",
       "      <td>Gondomar</td>\n",
       "      <td>1255.9</td>\n",
       "    </tr>\n",
       "    <tr>\n",
       "      <th>13</th>\n",
       "      <td>195</td>\n",
       "      <td>33</td>\n",
       "      <td>823.843490</td>\n",
       "      <td>Matosinhos</td>\n",
       "      <td>2780.3</td>\n",
       "    </tr>\n",
       "    <tr>\n",
       "      <th>14</th>\n",
       "      <td>240</td>\n",
       "      <td>68</td>\n",
       "      <td>889.849297</td>\n",
       "      <td>Palmela</td>\n",
       "      <td>138.0</td>\n",
       "    </tr>\n",
       "    <tr>\n",
       "      <th>15</th>\n",
       "      <td>6</td>\n",
       "      <td>8</td>\n",
       "      <td>544.140508</td>\n",
       "      <td>Alcochete</td>\n",
       "      <td>149.2</td>\n",
       "    </tr>\n",
       "    <tr>\n",
       "      <th>16</th>\n",
       "      <td>55</td>\n",
       "      <td>15</td>\n",
       "      <td>441.206994</td>\n",
       "      <td>Montijo</td>\n",
       "      <td>160.7</td>\n",
       "    </tr>\n",
       "    <tr>\n",
       "      <th>17</th>\n",
       "      <td>1285</td>\n",
       "      <td>119</td>\n",
       "      <td>346.062201</td>\n",
       "      <td>Barreiro</td>\n",
       "      <td>2084.3</td>\n",
       "    </tr>\n",
       "    <tr>\n",
       "      <th>18</th>\n",
       "      <td>942</td>\n",
       "      <td>110</td>\n",
       "      <td>329.882526</td>\n",
       "      <td>Seixal</td>\n",
       "      <td>1734.4</td>\n",
       "    </tr>\n",
       "    <tr>\n",
       "      <th>19</th>\n",
       "      <td>113</td>\n",
       "      <td>29</td>\n",
       "      <td>138.546544</td>\n",
       "      <td>Setúbal</td>\n",
       "      <td>506.5</td>\n",
       "    </tr>\n",
       "    <tr>\n",
       "      <th>20</th>\n",
       "      <td>49</td>\n",
       "      <td>24</td>\n",
       "      <td>116.808277</td>\n",
       "      <td>Sesimbra</td>\n",
       "      <td>261.2</td>\n",
       "    </tr>\n",
       "    <tr>\n",
       "      <th>21</th>\n",
       "      <td>131</td>\n",
       "      <td>44</td>\n",
       "      <td>40.539317</td>\n",
       "      <td>Almada</td>\n",
       "      <td>2417.4</td>\n",
       "    </tr>\n",
       "  </tbody>\n",
       "</table>\n",
       "</div>"
      ],
      "text/plain": [
       "    NumberOfLinks  NumberOfRoutes  AvgDailyPopulation                 local  \\\n",
       "0              32              16          272.407024  Santa Maria da Feira   \n",
       "1            3832             132         1176.641628                Lisboa   \n",
       "2            1255             120          715.200512              Odivelas   \n",
       "3            2824             152          394.144009                Oeiras   \n",
       "4            1929             100          364.993711   Vila Franca de Xira   \n",
       "5            1226             107          351.236967                Sintra   \n",
       "6             472              98          285.334270               Cascais   \n",
       "7             613              92          155.706508               Amadora   \n",
       "8             283              81          144.367737                 Mafra   \n",
       "9             141              51          141.271239                Loures   \n",
       "10           2670              99         3400.213919                  Maia   \n",
       "11           1478             110         2213.490123                 Porto   \n",
       "12           1076              95         1084.179459              Gondomar   \n",
       "13            195              33          823.843490            Matosinhos   \n",
       "14            240              68          889.849297               Palmela   \n",
       "15              6               8          544.140508             Alcochete   \n",
       "16             55              15          441.206994               Montijo   \n",
       "17           1285             119          346.062201              Barreiro   \n",
       "18            942             110          329.882526                Seixal   \n",
       "19            113              29          138.546544               Setúbal   \n",
       "20             49              24          116.808277              Sesimbra   \n",
       "21            131              44           40.539317                Almada   \n",
       "\n",
       "      2017  \n",
       "0    642.7  \n",
       "1   5052.7  \n",
       "2   5913.9  \n",
       "3   3808.6  \n",
       "4    443.2  \n",
       "5   1206.0  \n",
       "6   2169.4  \n",
       "7   7529.7  \n",
       "8    284.4  \n",
       "9   1246.7  \n",
       "10  1644.4  \n",
       "11  5175.1  \n",
       "12  1255.9  \n",
       "13  2780.3  \n",
       "14   138.0  \n",
       "15   149.2  \n",
       "16   160.7  \n",
       "17  2084.3  \n",
       "18  1734.4  \n",
       "19   506.5  \n",
       "20   261.2  \n",
       "21  2417.4  "
      ]
     },
     "execution_count": 46,
     "metadata": {},
     "output_type": "execute_result"
    }
   ],
   "source": [
    "popDf=pd.merge(linksRoutesPerOrigin, popDf, left_on=\"County_of_Origin\", right_on='local')[['NumberOfLinks', 'NumberOfRoutes', \"AvgDailyPopulation\", \"local\", \"2017\"]]\n",
    "popDf[\"2017\"]=popDf[\"2017\"].apply(lambda row: float(row.replace(\",\", \".\")))\n",
    "\n",
    "popDf"
   ]
  },
  {
   "cell_type": "code",
   "execution_count": 47,
   "metadata": {},
   "outputs": [
    {
     "data": {
      "text/plain": [
       "<AxesSubplot:>"
      ]
     },
     "execution_count": 47,
     "metadata": {},
     "output_type": "execute_result"
    },
    {
     "data": {
      "image/png": "[encoded data removed]",
      "text/plain": [
       "<Figure size 432x288 with 2 Axes>"
      ]
     },
     "metadata": {
      "needs_background": "light"
     },
     "output_type": "display_data"
    }
   ],
   "source": [
    "# calculate correlation matrix\n",
    "corr = popDf.corr()# plot the heatmap\n",
    "sns.heatmap(corr, xticklabels=corr.columns, yticklabels=corr.columns, annot=True, cmap=sns.diverging_palette(220, 20, as_cmap=True))"
   ]
  },
  {
   "cell_type": "code",
   "execution_count": 48,
   "metadata": {},
   "outputs": [
    {
     "data": {
      "text/plain": [
       "<seaborn.axisgrid.PairGrid at 0x20a16637490>"
      ]
     },
     "execution_count": 48,
     "metadata": {},
     "output_type": "execute_result"
    },
    {
     "data": {
      "image/png": "[encoded data removed]",
      "text/plain": [
       "<Figure size 720x720 with 20 Axes>"
      ]
     },
     "metadata": {
      "needs_background": "light"
     },
     "output_type": "display_data"
    }
   ],
   "source": [
    "sns.pairplot(popDf)"
   ]
  },
  {
   "cell_type": "markdown",
   "metadata": {},
   "source": [
    "## Senior citizen dependency correlation"
   ]
  },
  {
   "cell_type": "code",
   "execution_count": 49,
   "metadata": {},
   "outputs": [
    {
     "data": {
      "text/html": [
       "<div>\n",
       "<style scoped>\n",
       "    .dataframe tbody tr th:only-of-type {\n",
       "        vertical-align: middle;\n",
       "    }\n",
       "\n",
       "    .dataframe tbody tr th {\n",
       "        vertical-align: top;\n",
       "    }\n",
       "\n",
       "    .dataframe thead th {\n",
       "        text-align: right;\n",
       "    }\n",
       "</style>\n",
       "<table border=\"1\" class=\"dataframe\">\n",
       "  <thead>\n",
       "    <tr style=\"text-align: right;\">\n",
       "      <th></th>\n",
       "      <th>local</th>\n",
       "      <th>2019</th>\n",
       "    </tr>\n",
       "  </thead>\n",
       "  <tbody>\n",
       "    <tr>\n",
       "      <th>0</th>\n",
       "      <td>Arcos de Valdevez</td>\n",
       "      <td>56.3</td>\n",
       "    </tr>\n",
       "    <tr>\n",
       "      <th>1</th>\n",
       "      <td>Caminha</td>\n",
       "      <td>41.0</td>\n",
       "    </tr>\n",
       "    <tr>\n",
       "      <th>2</th>\n",
       "      <td>Melgaço</td>\n",
       "      <td>65.3</td>\n",
       "    </tr>\n",
       "    <tr>\n",
       "      <th>3</th>\n",
       "      <td>Monção</td>\n",
       "      <td>48.5</td>\n",
       "    </tr>\n",
       "    <tr>\n",
       "      <th>4</th>\n",
       "      <td>Paredes de Coura</td>\n",
       "      <td>45.8</td>\n",
       "    </tr>\n",
       "    <tr>\n",
       "      <th>...</th>\n",
       "      <td>...</td>\n",
       "      <td>...</td>\n",
       "    </tr>\n",
       "    <tr>\n",
       "      <th>303</th>\n",
       "      <td>Ribeira Brava</td>\n",
       "      <td>25.0</td>\n",
       "    </tr>\n",
       "    <tr>\n",
       "      <th>304</th>\n",
       "      <td>Santa Cruz</td>\n",
       "      <td>15.9</td>\n",
       "    </tr>\n",
       "    <tr>\n",
       "      <th>305</th>\n",
       "      <td>Santana</td>\n",
       "      <td>37.9</td>\n",
       "    </tr>\n",
       "    <tr>\n",
       "      <th>306</th>\n",
       "      <td>São Vicente</td>\n",
       "      <td>39.7</td>\n",
       "    </tr>\n",
       "    <tr>\n",
       "      <th>307</th>\n",
       "      <td>Porto Santo</td>\n",
       "      <td>18.3</td>\n",
       "    </tr>\n",
       "  </tbody>\n",
       "</table>\n",
       "<p>308 rows × 2 columns</p>\n",
       "</div>"
      ],
      "text/plain": [
       "                 local  2019\n",
       "0    Arcos de Valdevez  56.3\n",
       "1              Caminha  41.0\n",
       "2              Melgaço  65.3\n",
       "3               Monção  48.5\n",
       "4     Paredes de Coura  45.8\n",
       "..                 ...   ...\n",
       "303      Ribeira Brava  25.0\n",
       "304         Santa Cruz  15.9\n",
       "305            Santana  37.9\n",
       "306        São Vicente  39.7\n",
       "307        Porto Santo  18.3\n",
       "\n",
       "[308 rows x 2 columns]"
      ]
     },
     "execution_count": 49,
     "metadata": {},
     "output_type": "execute_result"
    }
   ],
   "source": [
    "depDf = pd.read_csv('senior_citizen_dependency.csv')\n",
    "depDf[['local', '2019']]"
   ]
  },
  {
   "cell_type": "code",
   "execution_count": 50,
   "metadata": {},
   "outputs": [
    {
     "data": {
      "text/html": [
       "<div>\n",
       "<style scoped>\n",
       "    .dataframe tbody tr th:only-of-type {\n",
       "        vertical-align: middle;\n",
       "    }\n",
       "\n",
       "    .dataframe tbody tr th {\n",
       "        vertical-align: top;\n",
       "    }\n",
       "\n",
       "    .dataframe thead th {\n",
       "        text-align: right;\n",
       "    }\n",
       "</style>\n",
       "<table border=\"1\" class=\"dataframe\">\n",
       "  <thead>\n",
       "    <tr style=\"text-align: right;\">\n",
       "      <th></th>\n",
       "      <th>NumberOfLinks</th>\n",
       "      <th>NumberOfRoutes</th>\n",
       "      <th>AvgDailyPopulation</th>\n",
       "      <th>local</th>\n",
       "      <th>2019</th>\n",
       "    </tr>\n",
       "  </thead>\n",
       "  <tbody>\n",
       "    <tr>\n",
       "      <th>0</th>\n",
       "      <td>32</td>\n",
       "      <td>16</td>\n",
       "      <td>272.407024</td>\n",
       "      <td>Santa Maria da Feira</td>\n",
       "      <td>27.7</td>\n",
       "    </tr>\n",
       "    <tr>\n",
       "      <th>1</th>\n",
       "      <td>3832</td>\n",
       "      <td>132</td>\n",
       "      <td>1176.641628</td>\n",
       "      <td>Lisboa</td>\n",
       "      <td>51.2</td>\n",
       "    </tr>\n",
       "    <tr>\n",
       "      <th>2</th>\n",
       "      <td>1255</td>\n",
       "      <td>120</td>\n",
       "      <td>715.200512</td>\n",
       "      <td>Odivelas</td>\n",
       "      <td>33.4</td>\n",
       "    </tr>\n",
       "    <tr>\n",
       "      <th>3</th>\n",
       "      <td>2824</td>\n",
       "      <td>152</td>\n",
       "      <td>394.144009</td>\n",
       "      <td>Oeiras</td>\n",
       "      <td>40.8</td>\n",
       "    </tr>\n",
       "    <tr>\n",
       "      <th>4</th>\n",
       "      <td>1929</td>\n",
       "      <td>100</td>\n",
       "      <td>364.993711</td>\n",
       "      <td>Vila Franca de Xira</td>\n",
       "      <td>27.4</td>\n",
       "    </tr>\n",
       "    <tr>\n",
       "      <th>5</th>\n",
       "      <td>1226</td>\n",
       "      <td>107</td>\n",
       "      <td>351.236967</td>\n",
       "      <td>Sintra</td>\n",
       "      <td>26.2</td>\n",
       "    </tr>\n",
       "    <tr>\n",
       "      <th>6</th>\n",
       "      <td>472</td>\n",
       "      <td>98</td>\n",
       "      <td>285.334270</td>\n",
       "      <td>Cascais</td>\n",
       "      <td>32.2</td>\n",
       "    </tr>\n",
       "    <tr>\n",
       "      <th>7</th>\n",
       "      <td>613</td>\n",
       "      <td>92</td>\n",
       "      <td>155.706508</td>\n",
       "      <td>Amadora</td>\n",
       "      <td>38.5</td>\n",
       "    </tr>\n",
       "    <tr>\n",
       "      <th>8</th>\n",
       "      <td>283</td>\n",
       "      <td>81</td>\n",
       "      <td>144.367737</td>\n",
       "      <td>Mafra</td>\n",
       "      <td>24.1</td>\n",
       "    </tr>\n",
       "    <tr>\n",
       "      <th>9</th>\n",
       "      <td>141</td>\n",
       "      <td>51</td>\n",
       "      <td>141.271239</td>\n",
       "      <td>Loures</td>\n",
       "      <td>35.0</td>\n",
       "    </tr>\n",
       "    <tr>\n",
       "      <th>10</th>\n",
       "      <td>2670</td>\n",
       "      <td>99</td>\n",
       "      <td>3400.213919</td>\n",
       "      <td>Maia</td>\n",
       "      <td>26.1</td>\n",
       "    </tr>\n",
       "    <tr>\n",
       "      <th>11</th>\n",
       "      <td>1478</td>\n",
       "      <td>110</td>\n",
       "      <td>2213.490123</td>\n",
       "      <td>Porto</td>\n",
       "      <td>48.5</td>\n",
       "    </tr>\n",
       "    <tr>\n",
       "      <th>12</th>\n",
       "      <td>1076</td>\n",
       "      <td>95</td>\n",
       "      <td>1084.179459</td>\n",
       "      <td>Gondomar</td>\n",
       "      <td>29.4</td>\n",
       "    </tr>\n",
       "    <tr>\n",
       "      <th>13</th>\n",
       "      <td>195</td>\n",
       "      <td>33</td>\n",
       "      <td>823.843490</td>\n",
       "      <td>Matosinhos</td>\n",
       "      <td>32.4</td>\n",
       "    </tr>\n",
       "    <tr>\n",
       "      <th>14</th>\n",
       "      <td>240</td>\n",
       "      <td>68</td>\n",
       "      <td>889.849297</td>\n",
       "      <td>Palmela</td>\n",
       "      <td>29.6</td>\n",
       "    </tr>\n",
       "    <tr>\n",
       "      <th>15</th>\n",
       "      <td>6</td>\n",
       "      <td>8</td>\n",
       "      <td>544.140508</td>\n",
       "      <td>Alcochete</td>\n",
       "      <td>25.0</td>\n",
       "    </tr>\n",
       "    <tr>\n",
       "      <th>16</th>\n",
       "      <td>55</td>\n",
       "      <td>15</td>\n",
       "      <td>441.206994</td>\n",
       "      <td>Montijo</td>\n",
       "      <td>26.0</td>\n",
       "    </tr>\n",
       "    <tr>\n",
       "      <th>17</th>\n",
       "      <td>1285</td>\n",
       "      <td>119</td>\n",
       "      <td>346.062201</td>\n",
       "      <td>Barreiro</td>\n",
       "      <td>44.6</td>\n",
       "    </tr>\n",
       "    <tr>\n",
       "      <th>18</th>\n",
       "      <td>942</td>\n",
       "      <td>110</td>\n",
       "      <td>329.882526</td>\n",
       "      <td>Seixal</td>\n",
       "      <td>30.8</td>\n",
       "    </tr>\n",
       "    <tr>\n",
       "      <th>19</th>\n",
       "      <td>113</td>\n",
       "      <td>29</td>\n",
       "      <td>138.546544</td>\n",
       "      <td>Setúbal</td>\n",
       "      <td>35.7</td>\n",
       "    </tr>\n",
       "    <tr>\n",
       "      <th>20</th>\n",
       "      <td>49</td>\n",
       "      <td>24</td>\n",
       "      <td>116.808277</td>\n",
       "      <td>Sesimbra</td>\n",
       "      <td>25.7</td>\n",
       "    </tr>\n",
       "    <tr>\n",
       "      <th>21</th>\n",
       "      <td>131</td>\n",
       "      <td>44</td>\n",
       "      <td>40.539317</td>\n",
       "      <td>Almada</td>\n",
       "      <td>37.5</td>\n",
       "    </tr>\n",
       "  </tbody>\n",
       "</table>\n",
       "</div>"
      ],
      "text/plain": [
       "    NumberOfLinks  NumberOfRoutes  AvgDailyPopulation                 local  \\\n",
       "0              32              16          272.407024  Santa Maria da Feira   \n",
       "1            3832             132         1176.641628                Lisboa   \n",
       "2            1255             120          715.200512              Odivelas   \n",
       "3            2824             152          394.144009                Oeiras   \n",
       "4            1929             100          364.993711   Vila Franca de Xira   \n",
       "5            1226             107          351.236967                Sintra   \n",
       "6             472              98          285.334270               Cascais   \n",
       "7             613              92          155.706508               Amadora   \n",
       "8             283              81          144.367737                 Mafra   \n",
       "9             141              51          141.271239                Loures   \n",
       "10           2670              99         3400.213919                  Maia   \n",
       "11           1478             110         2213.490123                 Porto   \n",
       "12           1076              95         1084.179459              Gondomar   \n",
       "13            195              33          823.843490            Matosinhos   \n",
       "14            240              68          889.849297               Palmela   \n",
       "15              6               8          544.140508             Alcochete   \n",
       "16             55              15          441.206994               Montijo   \n",
       "17           1285             119          346.062201              Barreiro   \n",
       "18            942             110          329.882526                Seixal   \n",
       "19            113              29          138.546544               Setúbal   \n",
       "20             49              24          116.808277              Sesimbra   \n",
       "21            131              44           40.539317                Almada   \n",
       "\n",
       "    2019  \n",
       "0   27.7  \n",
       "1   51.2  \n",
       "2   33.4  \n",
       "3   40.8  \n",
       "4   27.4  \n",
       "5   26.2  \n",
       "6   32.2  \n",
       "7   38.5  \n",
       "8   24.1  \n",
       "9   35.0  \n",
       "10  26.1  \n",
       "11  48.5  \n",
       "12  29.4  \n",
       "13  32.4  \n",
       "14  29.6  \n",
       "15  25.0  \n",
       "16  26.0  \n",
       "17  44.6  \n",
       "18  30.8  \n",
       "19  35.7  \n",
       "20  25.7  \n",
       "21  37.5  "
      ]
     },
     "execution_count": 50,
     "metadata": {},
     "output_type": "execute_result"
    }
   ],
   "source": [
    "linksRoutesPerOrigin\n",
    "\n",
    "depDf=pd.merge(linksRoutesPerOrigin, depDf, left_on=\"County_of_Origin\", right_on='local')[['NumberOfLinks', 'NumberOfRoutes', \"AvgDailyPopulation\", \"local\", \"2019\"]]\n",
    "depDf[\"2019\"]=depDf[\"2019\"].apply(lambda row: float(row))\n",
    "\n",
    "depDf"
   ]
  },
  {
   "cell_type": "code",
   "execution_count": 51,
   "metadata": {},
   "outputs": [
    {
     "data": {
      "text/plain": [
       "<AxesSubplot:>"
      ]
     },
     "execution_count": 51,
     "metadata": {},
     "output_type": "execute_result"
    },
    {
     "data": {
      "image/png": "[encoded data removed]",
      "text/plain": [
       "<Figure size 432x288 with 2 Axes>"
      ]
     },
     "metadata": {
      "needs_background": "light"
     },
     "output_type": "display_data"
    }
   ],
   "source": [
    "# calculate correlation matrix\n",
    "corr = depDf.corr()# plot the heatmap\n",
    "sns.heatmap(corr, xticklabels=corr.columns, yticklabels=corr.columns, annot=True, cmap=sns.diverging_palette(220, 20, as_cmap=True))"
   ]
  },
  {
   "cell_type": "code",
   "execution_count": 52,
   "metadata": {},
   "outputs": [
    {
     "data": {
      "text/plain": [
       "<seaborn.axisgrid.PairGrid at 0x20a17064ac0>"
      ]
     },
     "execution_count": 52,
     "metadata": {},
     "output_type": "execute_result"
    },
    {
     "data": {
      "image/png": "[encoded data removed]",
      "text/plain": [
       "<Figure size 720x720 with 20 Axes>"
      ]
     },
     "metadata": {
      "needs_background": "light"
     },
     "output_type": "display_data"
    }
   ],
   "source": [
    "sns.pairplot(depDf)"
   ]
  },
  {
   "cell_type": "markdown",
   "metadata": {},
   "source": [
    "## Old Age Index Correlation"
   ]
  },
  {
   "cell_type": "code",
   "execution_count": 53,
   "metadata": {},
   "outputs": [
    {
     "data": {
      "text/html": [
       "<div>\n",
       "<style scoped>\n",
       "    .dataframe tbody tr th:only-of-type {\n",
       "        vertical-align: middle;\n",
       "    }\n",
       "\n",
       "    .dataframe tbody tr th {\n",
       "        vertical-align: top;\n",
       "    }\n",
       "\n",
       "    .dataframe thead th {\n",
       "        text-align: right;\n",
       "    }\n",
       "</style>\n",
       "<table border=\"1\" class=\"dataframe\">\n",
       "  <thead>\n",
       "    <tr style=\"text-align: right;\">\n",
       "      <th></th>\n",
       "      <th>local</th>\n",
       "      <th>2017</th>\n",
       "    </tr>\n",
       "  </thead>\n",
       "  <tbody>\n",
       "    <tr>\n",
       "      <th>0</th>\n",
       "      <td>Arcos de Valdevez</td>\n",
       "      <td>321,3</td>\n",
       "    </tr>\n",
       "    <tr>\n",
       "      <th>1</th>\n",
       "      <td>Caminha</td>\n",
       "      <td>227,5</td>\n",
       "    </tr>\n",
       "    <tr>\n",
       "      <th>2</th>\n",
       "      <td>Melgaço</td>\n",
       "      <td>437,7</td>\n",
       "    </tr>\n",
       "    <tr>\n",
       "      <th>3</th>\n",
       "      <td>Monção</td>\n",
       "      <td>302,4</td>\n",
       "    </tr>\n",
       "    <tr>\n",
       "      <th>4</th>\n",
       "      <td>Paredes de Coura</td>\n",
       "      <td>240,1</td>\n",
       "    </tr>\n",
       "    <tr>\n",
       "      <th>...</th>\n",
       "      <td>...</td>\n",
       "      <td>...</td>\n",
       "    </tr>\n",
       "    <tr>\n",
       "      <th>303</th>\n",
       "      <td>Ribeira Brava</td>\n",
       "      <td>111,9</td>\n",
       "    </tr>\n",
       "    <tr>\n",
       "      <th>304</th>\n",
       "      <td>Santa Cruz</td>\n",
       "      <td>65</td>\n",
       "    </tr>\n",
       "    <tr>\n",
       "      <th>305</th>\n",
       "      <td>Santana</td>\n",
       "      <td>236,5</td>\n",
       "    </tr>\n",
       "    <tr>\n",
       "      <th>306</th>\n",
       "      <td>São Vicente</td>\n",
       "      <td>237,3</td>\n",
       "    </tr>\n",
       "    <tr>\n",
       "      <th>307</th>\n",
       "      <td>Porto Santo</td>\n",
       "      <td>92,8</td>\n",
       "    </tr>\n",
       "  </tbody>\n",
       "</table>\n",
       "<p>308 rows × 2 columns</p>\n",
       "</div>"
      ],
      "text/plain": [
       "                 local   2017\n",
       "0    Arcos de Valdevez  321,3\n",
       "1              Caminha  227,5\n",
       "2              Melgaço  437,7\n",
       "3               Monção  302,4\n",
       "4     Paredes de Coura  240,1\n",
       "..                 ...    ...\n",
       "303      Ribeira Brava  111,9\n",
       "304         Santa Cruz     65\n",
       "305            Santana  236,5\n",
       "306        São Vicente  237,3\n",
       "307        Porto Santo   92,8\n",
       "\n",
       "[308 rows x 2 columns]"
      ]
     },
     "execution_count": 53,
     "metadata": {},
     "output_type": "execute_result"
    }
   ],
   "source": [
    "ageDf = pd.read_csv('age_index.csv')\n",
    "\n",
    "ageDf[['local', '2017']]"
   ]
  },
  {
   "cell_type": "code",
   "execution_count": 54,
   "metadata": {},
   "outputs": [
    {
     "data": {
      "text/html": [
       "<div>\n",
       "<style scoped>\n",
       "    .dataframe tbody tr th:only-of-type {\n",
       "        vertical-align: middle;\n",
       "    }\n",
       "\n",
       "    .dataframe tbody tr th {\n",
       "        vertical-align: top;\n",
       "    }\n",
       "\n",
       "    .dataframe thead th {\n",
       "        text-align: right;\n",
       "    }\n",
       "</style>\n",
       "<table border=\"1\" class=\"dataframe\">\n",
       "  <thead>\n",
       "    <tr style=\"text-align: right;\">\n",
       "      <th></th>\n",
       "      <th>NumberOfLinks</th>\n",
       "      <th>NumberOfRoutes</th>\n",
       "      <th>AvgDailyPopulation</th>\n",
       "      <th>local</th>\n",
       "      <th>2017</th>\n",
       "    </tr>\n",
       "  </thead>\n",
       "  <tbody>\n",
       "    <tr>\n",
       "      <th>0</th>\n",
       "      <td>32</td>\n",
       "      <td>16</td>\n",
       "      <td>272.407024</td>\n",
       "      <td>Santa Maria da Feira</td>\n",
       "      <td>132.6</td>\n",
       "    </tr>\n",
       "    <tr>\n",
       "      <th>1</th>\n",
       "      <td>3832</td>\n",
       "      <td>132</td>\n",
       "      <td>1176.641628</td>\n",
       "      <td>Lisboa</td>\n",
       "      <td>179.8</td>\n",
       "    </tr>\n",
       "    <tr>\n",
       "      <th>2</th>\n",
       "      <td>1255</td>\n",
       "      <td>120</td>\n",
       "      <td>715.200512</td>\n",
       "      <td>Odivelas</td>\n",
       "      <td>124.7</td>\n",
       "    </tr>\n",
       "    <tr>\n",
       "      <th>3</th>\n",
       "      <td>2824</td>\n",
       "      <td>152</td>\n",
       "      <td>394.144009</td>\n",
       "      <td>Oeiras</td>\n",
       "      <td>152.0</td>\n",
       "    </tr>\n",
       "    <tr>\n",
       "      <th>4</th>\n",
       "      <td>1929</td>\n",
       "      <td>100</td>\n",
       "      <td>364.993711</td>\n",
       "      <td>Vila Franca de Xira</td>\n",
       "      <td>104.5</td>\n",
       "    </tr>\n",
       "    <tr>\n",
       "      <th>5</th>\n",
       "      <td>1226</td>\n",
       "      <td>107</td>\n",
       "      <td>351.236967</td>\n",
       "      <td>Sintra</td>\n",
       "      <td>101.6</td>\n",
       "    </tr>\n",
       "    <tr>\n",
       "      <th>6</th>\n",
       "      <td>472</td>\n",
       "      <td>98</td>\n",
       "      <td>285.334270</td>\n",
       "      <td>Cascais</td>\n",
       "      <td>123.9</td>\n",
       "    </tr>\n",
       "    <tr>\n",
       "      <th>7</th>\n",
       "      <td>613</td>\n",
       "      <td>92</td>\n",
       "      <td>155.706508</td>\n",
       "      <td>Amadora</td>\n",
       "      <td>149.0</td>\n",
       "    </tr>\n",
       "    <tr>\n",
       "      <th>8</th>\n",
       "      <td>283</td>\n",
       "      <td>81</td>\n",
       "      <td>144.367737</td>\n",
       "      <td>Mafra</td>\n",
       "      <td>90.6</td>\n",
       "    </tr>\n",
       "    <tr>\n",
       "      <th>9</th>\n",
       "      <td>141</td>\n",
       "      <td>51</td>\n",
       "      <td>141.271239</td>\n",
       "      <td>Loures</td>\n",
       "      <td>134.6</td>\n",
       "    </tr>\n",
       "    <tr>\n",
       "      <th>10</th>\n",
       "      <td>2670</td>\n",
       "      <td>99</td>\n",
       "      <td>3400.213919</td>\n",
       "      <td>Maia</td>\n",
       "      <td>112.1</td>\n",
       "    </tr>\n",
       "    <tr>\n",
       "      <th>11</th>\n",
       "      <td>1478</td>\n",
       "      <td>110</td>\n",
       "      <td>2213.490123</td>\n",
       "      <td>Porto</td>\n",
       "      <td>221.9</td>\n",
       "    </tr>\n",
       "    <tr>\n",
       "      <th>12</th>\n",
       "      <td>1076</td>\n",
       "      <td>95</td>\n",
       "      <td>1084.179459</td>\n",
       "      <td>Gondomar</td>\n",
       "      <td>139.8</td>\n",
       "    </tr>\n",
       "    <tr>\n",
       "      <th>13</th>\n",
       "      <td>195</td>\n",
       "      <td>33</td>\n",
       "      <td>823.843490</td>\n",
       "      <td>Matosinhos</td>\n",
       "      <td>149.3</td>\n",
       "    </tr>\n",
       "    <tr>\n",
       "      <th>14</th>\n",
       "      <td>240</td>\n",
       "      <td>68</td>\n",
       "      <td>889.849297</td>\n",
       "      <td>Palmela</td>\n",
       "      <td>120.6</td>\n",
       "    </tr>\n",
       "    <tr>\n",
       "      <th>15</th>\n",
       "      <td>6</td>\n",
       "      <td>8</td>\n",
       "      <td>544.140508</td>\n",
       "      <td>Alcochete</td>\n",
       "      <td>94.3</td>\n",
       "    </tr>\n",
       "    <tr>\n",
       "      <th>16</th>\n",
       "      <td>55</td>\n",
       "      <td>15</td>\n",
       "      <td>441.206994</td>\n",
       "      <td>Montijo</td>\n",
       "      <td>100.0</td>\n",
       "    </tr>\n",
       "    <tr>\n",
       "      <th>17</th>\n",
       "      <td>1285</td>\n",
       "      <td>119</td>\n",
       "      <td>346.062201</td>\n",
       "      <td>Barreiro</td>\n",
       "      <td>180.8</td>\n",
       "    </tr>\n",
       "    <tr>\n",
       "      <th>18</th>\n",
       "      <td>942</td>\n",
       "      <td>110</td>\n",
       "      <td>329.882526</td>\n",
       "      <td>Seixal</td>\n",
       "      <td>120.1</td>\n",
       "    </tr>\n",
       "    <tr>\n",
       "      <th>19</th>\n",
       "      <td>113</td>\n",
       "      <td>29</td>\n",
       "      <td>138.546544</td>\n",
       "      <td>Setúbal</td>\n",
       "      <td>136.1</td>\n",
       "    </tr>\n",
       "    <tr>\n",
       "      <th>20</th>\n",
       "      <td>49</td>\n",
       "      <td>24</td>\n",
       "      <td>116.808277</td>\n",
       "      <td>Sesimbra</td>\n",
       "      <td>101.1</td>\n",
       "    </tr>\n",
       "    <tr>\n",
       "      <th>21</th>\n",
       "      <td>131</td>\n",
       "      <td>44</td>\n",
       "      <td>40.539317</td>\n",
       "      <td>Almada</td>\n",
       "      <td>151.1</td>\n",
       "    </tr>\n",
       "  </tbody>\n",
       "</table>\n",
       "</div>"
      ],
      "text/plain": [
       "    NumberOfLinks  NumberOfRoutes  AvgDailyPopulation                 local  \\\n",
       "0              32              16          272.407024  Santa Maria da Feira   \n",
       "1            3832             132         1176.641628                Lisboa   \n",
       "2            1255             120          715.200512              Odivelas   \n",
       "3            2824             152          394.144009                Oeiras   \n",
       "4            1929             100          364.993711   Vila Franca de Xira   \n",
       "5            1226             107          351.236967                Sintra   \n",
       "6             472              98          285.334270               Cascais   \n",
       "7             613              92          155.706508               Amadora   \n",
       "8             283              81          144.367737                 Mafra   \n",
       "9             141              51          141.271239                Loures   \n",
       "10           2670              99         3400.213919                  Maia   \n",
       "11           1478             110         2213.490123                 Porto   \n",
       "12           1076              95         1084.179459              Gondomar   \n",
       "13            195              33          823.843490            Matosinhos   \n",
       "14            240              68          889.849297               Palmela   \n",
       "15              6               8          544.140508             Alcochete   \n",
       "16             55              15          441.206994               Montijo   \n",
       "17           1285             119          346.062201              Barreiro   \n",
       "18            942             110          329.882526                Seixal   \n",
       "19            113              29          138.546544               Setúbal   \n",
       "20             49              24          116.808277              Sesimbra   \n",
       "21            131              44           40.539317                Almada   \n",
       "\n",
       "     2017  \n",
       "0   132.6  \n",
       "1   179.8  \n",
       "2   124.7  \n",
       "3   152.0  \n",
       "4   104.5  \n",
       "5   101.6  \n",
       "6   123.9  \n",
       "7   149.0  \n",
       "8    90.6  \n",
       "9   134.6  \n",
       "10  112.1  \n",
       "11  221.9  \n",
       "12  139.8  \n",
       "13  149.3  \n",
       "14  120.6  \n",
       "15   94.3  \n",
       "16  100.0  \n",
       "17  180.8  \n",
       "18  120.1  \n",
       "19  136.1  \n",
       "20  101.1  \n",
       "21  151.1  "
      ]
     },
     "execution_count": 54,
     "metadata": {},
     "output_type": "execute_result"
    }
   ],
   "source": [
    "ageDf=pd.merge(linksRoutesPerOrigin, ageDf, left_on=\"County_of_Origin\", right_on='local')[['NumberOfLinks', 'NumberOfRoutes', \"AvgDailyPopulation\", \"local\", \"2017\"]]\n",
    "ageDf[\"2017\"]=ageDf[\"2017\"].apply(lambda row: float(row.replace(\",\", \".\")))\n",
    "\n",
    "ageDf"
   ]
  },
  {
   "cell_type": "code",
   "execution_count": 55,
   "metadata": {},
   "outputs": [
    {
     "data": {
      "text/plain": [
       "<AxesSubplot:>"
      ]
     },
     "execution_count": 55,
     "metadata": {},
     "output_type": "execute_result"
    },
    {
     "data": {
      "image/png": "[encoded data removed]",
      "text/plain": [
       "<Figure size 432x288 with 2 Axes>"
      ]
     },
     "metadata": {
      "needs_background": "light"
     },
     "output_type": "display_data"
    }
   ],
   "source": [
    "# calculate correlation matrix\n",
    "corr = ageDf.corr()# plot the heatmap\n",
    "sns.heatmap(corr, xticklabels=corr.columns, yticklabels=corr.columns, annot=True, cmap=sns.diverging_palette(220, 20, as_cmap=True))"
   ]
  },
  {
   "cell_type": "code",
   "execution_count": 56,
   "metadata": {
    "scrolled": false
   },
   "outputs": [
    {
     "data": {
      "text/plain": [
       "<seaborn.axisgrid.PairGrid at 0x20a17845a30>"
      ]
     },
     "execution_count": 56,
     "metadata": {},
     "output_type": "execute_result"
    },
    {
     "data": {
      "image/png": "[encoded data removed]",
      "text/plain": [
       "<Figure size 720x720 with 20 Axes>"
      ]
     },
     "metadata": {
      "needs_background": "light"
     },
     "output_type": "display_data"
    }
   ],
   "source": [
    "sns.pairplot(ageDf)"
   ]
  },
  {
   "cell_type": "markdown",
   "metadata": {},
   "source": [
    "## Crimes per 1000 habitants"
   ]
  },
  {
   "cell_type": "code",
   "execution_count": 57,
   "metadata": {},
   "outputs": [
    {
     "data": {
      "text/html": [
       "<div>\n",
       "<style scoped>\n",
       "    .dataframe tbody tr th:only-of-type {\n",
       "        vertical-align: middle;\n",
       "    }\n",
       "\n",
       "    .dataframe tbody tr th {\n",
       "        vertical-align: top;\n",
       "    }\n",
       "\n",
       "    .dataframe thead th {\n",
       "        text-align: right;\n",
       "    }\n",
       "</style>\n",
       "<table border=\"1\" class=\"dataframe\">\n",
       "  <thead>\n",
       "    <tr style=\"text-align: right;\">\n",
       "      <th></th>\n",
       "      <th>local</th>\n",
       "      <th>2019</th>\n",
       "    </tr>\n",
       "  </thead>\n",
       "  <tbody>\n",
       "    <tr>\n",
       "      <th>0</th>\n",
       "      <td>Arcos de Valdevez</td>\n",
       "      <td>26,5</td>\n",
       "    </tr>\n",
       "    <tr>\n",
       "      <th>1</th>\n",
       "      <td>Caminha</td>\n",
       "      <td>32,7</td>\n",
       "    </tr>\n",
       "    <tr>\n",
       "      <th>2</th>\n",
       "      <td>Melgaço</td>\n",
       "      <td>25,5</td>\n",
       "    </tr>\n",
       "    <tr>\n",
       "      <th>3</th>\n",
       "      <td>Monção</td>\n",
       "      <td>18,3</td>\n",
       "    </tr>\n",
       "    <tr>\n",
       "      <th>4</th>\n",
       "      <td>Paredes de Coura</td>\n",
       "      <td>22,7</td>\n",
       "    </tr>\n",
       "    <tr>\n",
       "      <th>...</th>\n",
       "      <td>...</td>\n",
       "      <td>...</td>\n",
       "    </tr>\n",
       "    <tr>\n",
       "      <th>304</th>\n",
       "      <td>Santa Cruz</td>\n",
       "      <td>14,3</td>\n",
       "    </tr>\n",
       "    <tr>\n",
       "      <th>305</th>\n",
       "      <td>Santana</td>\n",
       "      <td>19,9</td>\n",
       "    </tr>\n",
       "    <tr>\n",
       "      <th>306</th>\n",
       "      <td>São Vicente</td>\n",
       "      <td>17,3</td>\n",
       "    </tr>\n",
       "    <tr>\n",
       "      <th>307</th>\n",
       "      <td>Porto Santo</td>\n",
       "      <td>31,8</td>\n",
       "    </tr>\n",
       "    <tr>\n",
       "      <th>308</th>\n",
       "      <td></td>\n",
       "      <td></td>\n",
       "    </tr>\n",
       "  </tbody>\n",
       "</table>\n",
       "<p>309 rows × 2 columns</p>\n",
       "</div>"
      ],
      "text/plain": [
       "                 local  2019\n",
       "0    Arcos de Valdevez  26,5\n",
       "1              Caminha  32,7\n",
       "2              Melgaço  25,5\n",
       "3               Monção  18,3\n",
       "4     Paredes de Coura  22,7\n",
       "..                 ...   ...\n",
       "304         Santa Cruz  14,3\n",
       "305            Santana  19,9\n",
       "306        São Vicente  17,3\n",
       "307        Porto Santo  31,8\n",
       "308                         \n",
       "\n",
       "[309 rows x 2 columns]"
      ]
     },
     "execution_count": 57,
     "metadata": {},
     "output_type": "execute_result"
    }
   ],
   "source": [
    "crimeDf = pd.read_csv('crimes_per_1000_people.csv')\n",
    "\n",
    "crimeDf[['local', '2019']]"
   ]
  },
  {
   "cell_type": "code",
   "execution_count": 58,
   "metadata": {},
   "outputs": [
    {
     "data": {
      "text/html": [
       "<div>\n",
       "<style scoped>\n",
       "    .dataframe tbody tr th:only-of-type {\n",
       "        vertical-align: middle;\n",
       "    }\n",
       "\n",
       "    .dataframe tbody tr th {\n",
       "        vertical-align: top;\n",
       "    }\n",
       "\n",
       "    .dataframe thead th {\n",
       "        text-align: right;\n",
       "    }\n",
       "</style>\n",
       "<table border=\"1\" class=\"dataframe\">\n",
       "  <thead>\n",
       "    <tr style=\"text-align: right;\">\n",
       "      <th></th>\n",
       "      <th>NumberOfLinks</th>\n",
       "      <th>NumberOfRoutes</th>\n",
       "      <th>AvgDailyPopulation</th>\n",
       "      <th>local</th>\n",
       "      <th>2019</th>\n",
       "    </tr>\n",
       "  </thead>\n",
       "  <tbody>\n",
       "    <tr>\n",
       "      <th>0</th>\n",
       "      <td>32</td>\n",
       "      <td>16</td>\n",
       "      <td>272.407024</td>\n",
       "      <td>Santa Maria da Feira</td>\n",
       "      <td>28.2</td>\n",
       "    </tr>\n",
       "    <tr>\n",
       "      <th>1</th>\n",
       "      <td>3832</td>\n",
       "      <td>132</td>\n",
       "      <td>1176.641628</td>\n",
       "      <td>Lisboa</td>\n",
       "      <td>69.1</td>\n",
       "    </tr>\n",
       "    <tr>\n",
       "      <th>2</th>\n",
       "      <td>1255</td>\n",
       "      <td>120</td>\n",
       "      <td>715.200512</td>\n",
       "      <td>Odivelas</td>\n",
       "      <td>21.2</td>\n",
       "    </tr>\n",
       "    <tr>\n",
       "      <th>3</th>\n",
       "      <td>2824</td>\n",
       "      <td>152</td>\n",
       "      <td>394.144009</td>\n",
       "      <td>Oeiras</td>\n",
       "      <td>22.8</td>\n",
       "    </tr>\n",
       "    <tr>\n",
       "      <th>4</th>\n",
       "      <td>1929</td>\n",
       "      <td>100</td>\n",
       "      <td>364.993711</td>\n",
       "      <td>Vila Franca de Xira</td>\n",
       "      <td>24.4</td>\n",
       "    </tr>\n",
       "    <tr>\n",
       "      <th>5</th>\n",
       "      <td>1226</td>\n",
       "      <td>107</td>\n",
       "      <td>351.236967</td>\n",
       "      <td>Sintra</td>\n",
       "      <td>29.6</td>\n",
       "    </tr>\n",
       "    <tr>\n",
       "      <th>6</th>\n",
       "      <td>472</td>\n",
       "      <td>98</td>\n",
       "      <td>285.334270</td>\n",
       "      <td>Cascais</td>\n",
       "      <td>30.3</td>\n",
       "    </tr>\n",
       "    <tr>\n",
       "      <th>7</th>\n",
       "      <td>613</td>\n",
       "      <td>92</td>\n",
       "      <td>155.706508</td>\n",
       "      <td>Amadora</td>\n",
       "      <td>31.6</td>\n",
       "    </tr>\n",
       "    <tr>\n",
       "      <th>8</th>\n",
       "      <td>283</td>\n",
       "      <td>81</td>\n",
       "      <td>144.367737</td>\n",
       "      <td>Mafra</td>\n",
       "      <td>24.2</td>\n",
       "    </tr>\n",
       "    <tr>\n",
       "      <th>9</th>\n",
       "      <td>141</td>\n",
       "      <td>51</td>\n",
       "      <td>141.271239</td>\n",
       "      <td>Loures</td>\n",
       "      <td>26.7</td>\n",
       "    </tr>\n",
       "    <tr>\n",
       "      <th>10</th>\n",
       "      <td>2670</td>\n",
       "      <td>99</td>\n",
       "      <td>3400.213919</td>\n",
       "      <td>Maia</td>\n",
       "      <td>30.9</td>\n",
       "    </tr>\n",
       "    <tr>\n",
       "      <th>11</th>\n",
       "      <td>1478</td>\n",
       "      <td>110</td>\n",
       "      <td>2213.490123</td>\n",
       "      <td>Porto</td>\n",
       "      <td>71.4</td>\n",
       "    </tr>\n",
       "    <tr>\n",
       "      <th>12</th>\n",
       "      <td>1076</td>\n",
       "      <td>95</td>\n",
       "      <td>1084.179459</td>\n",
       "      <td>Gondomar</td>\n",
       "      <td>22.8</td>\n",
       "    </tr>\n",
       "    <tr>\n",
       "      <th>13</th>\n",
       "      <td>195</td>\n",
       "      <td>33</td>\n",
       "      <td>823.843490</td>\n",
       "      <td>Matosinhos</td>\n",
       "      <td>33.6</td>\n",
       "    </tr>\n",
       "    <tr>\n",
       "      <th>14</th>\n",
       "      <td>240</td>\n",
       "      <td>68</td>\n",
       "      <td>889.849297</td>\n",
       "      <td>Palmela</td>\n",
       "      <td>34.9</td>\n",
       "    </tr>\n",
       "    <tr>\n",
       "      <th>15</th>\n",
       "      <td>6</td>\n",
       "      <td>8</td>\n",
       "      <td>544.140508</td>\n",
       "      <td>Alcochete</td>\n",
       "      <td>37.0</td>\n",
       "    </tr>\n",
       "    <tr>\n",
       "      <th>16</th>\n",
       "      <td>55</td>\n",
       "      <td>15</td>\n",
       "      <td>441.206994</td>\n",
       "      <td>Montijo</td>\n",
       "      <td>39.8</td>\n",
       "    </tr>\n",
       "    <tr>\n",
       "      <th>17</th>\n",
       "      <td>1285</td>\n",
       "      <td>119</td>\n",
       "      <td>346.062201</td>\n",
       "      <td>Barreiro</td>\n",
       "      <td>45.5</td>\n",
       "    </tr>\n",
       "    <tr>\n",
       "      <th>18</th>\n",
       "      <td>942</td>\n",
       "      <td>110</td>\n",
       "      <td>329.882526</td>\n",
       "      <td>Seixal</td>\n",
       "      <td>25.2</td>\n",
       "    </tr>\n",
       "    <tr>\n",
       "      <th>19</th>\n",
       "      <td>113</td>\n",
       "      <td>29</td>\n",
       "      <td>138.546544</td>\n",
       "      <td>Setúbal</td>\n",
       "      <td>37.2</td>\n",
       "    </tr>\n",
       "    <tr>\n",
       "      <th>20</th>\n",
       "      <td>49</td>\n",
       "      <td>24</td>\n",
       "      <td>116.808277</td>\n",
       "      <td>Sesimbra</td>\n",
       "      <td>39.8</td>\n",
       "    </tr>\n",
       "    <tr>\n",
       "      <th>21</th>\n",
       "      <td>131</td>\n",
       "      <td>44</td>\n",
       "      <td>40.539317</td>\n",
       "      <td>Almada</td>\n",
       "      <td>40.3</td>\n",
       "    </tr>\n",
       "  </tbody>\n",
       "</table>\n",
       "</div>"
      ],
      "text/plain": [
       "    NumberOfLinks  NumberOfRoutes  AvgDailyPopulation                 local  \\\n",
       "0              32              16          272.407024  Santa Maria da Feira   \n",
       "1            3832             132         1176.641628                Lisboa   \n",
       "2            1255             120          715.200512              Odivelas   \n",
       "3            2824             152          394.144009                Oeiras   \n",
       "4            1929             100          364.993711   Vila Franca de Xira   \n",
       "5            1226             107          351.236967                Sintra   \n",
       "6             472              98          285.334270               Cascais   \n",
       "7             613              92          155.706508               Amadora   \n",
       "8             283              81          144.367737                 Mafra   \n",
       "9             141              51          141.271239                Loures   \n",
       "10           2670              99         3400.213919                  Maia   \n",
       "11           1478             110         2213.490123                 Porto   \n",
       "12           1076              95         1084.179459              Gondomar   \n",
       "13            195              33          823.843490            Matosinhos   \n",
       "14            240              68          889.849297               Palmela   \n",
       "15              6               8          544.140508             Alcochete   \n",
       "16             55              15          441.206994               Montijo   \n",
       "17           1285             119          346.062201              Barreiro   \n",
       "18            942             110          329.882526                Seixal   \n",
       "19            113              29          138.546544               Setúbal   \n",
       "20             49              24          116.808277              Sesimbra   \n",
       "21            131              44           40.539317                Almada   \n",
       "\n",
       "    2019  \n",
       "0   28.2  \n",
       "1   69.1  \n",
       "2   21.2  \n",
       "3   22.8  \n",
       "4   24.4  \n",
       "5   29.6  \n",
       "6   30.3  \n",
       "7   31.6  \n",
       "8   24.2  \n",
       "9   26.7  \n",
       "10  30.9  \n",
       "11  71.4  \n",
       "12  22.8  \n",
       "13  33.6  \n",
       "14  34.9  \n",
       "15  37.0  \n",
       "16  39.8  \n",
       "17  45.5  \n",
       "18  25.2  \n",
       "19  37.2  \n",
       "20  39.8  \n",
       "21  40.3  "
      ]
     },
     "execution_count": 58,
     "metadata": {},
     "output_type": "execute_result"
    }
   ],
   "source": [
    "crimeDf=pd.merge(linksRoutesPerOrigin, crimeDf, left_on=\"County_of_Origin\", right_on='local')[['NumberOfLinks', 'NumberOfRoutes', \"AvgDailyPopulation\", \"local\", \"2019\"]]\n",
    "crimeDf[\"2019\"]=crimeDf[\"2019\"].apply(lambda row: float(row.replace(\",\", \".\")))\n",
    "\n",
    "crimeDf"
   ]
  },
  {
   "cell_type": "code",
   "execution_count": 59,
   "metadata": {},
   "outputs": [
    {
     "data": {
      "text/plain": [
       "<AxesSubplot:>"
      ]
     },
     "execution_count": 59,
     "metadata": {},
     "output_type": "execute_result"
    },
    {
     "data": {
      "image/png": "[encoded data removed]",
      "text/plain": [
       "<Figure size 432x288 with 2 Axes>"
      ]
     },
     "metadata": {
      "needs_background": "light"
     },
     "output_type": "display_data"
    }
   ],
   "source": [
    "# calculate correlation matrix\n",
    "corr = crimeDf.corr()# plot the heatmap\n",
    "sns.heatmap(corr, xticklabels=corr.columns, yticklabels=corr.columns, annot=True, cmap=sns.diverging_palette(220, 20, as_cmap=True))"
   ]
  },
  {
   "cell_type": "code",
   "execution_count": 60,
   "metadata": {
    "scrolled": false
   },
   "outputs": [
    {
     "data": {
      "text/plain": [
       "<seaborn.axisgrid.PairGrid at 0x20a19352bb0>"
      ]
     },
     "execution_count": 60,
     "metadata": {},
     "output_type": "execute_result"
    },
    {
     "data": {
      "image/png": "[encoded data removed]",
      "text/plain": [
       "<Figure size 720x720 with 20 Axes>"
      ]
     },
     "metadata": {
      "needs_background": "light"
     },
     "output_type": "display_data"
    }
   ],
   "source": [
    "sns.pairplot(crimeDf)"
   ]
  },
  {
   "cell_type": "markdown",
   "metadata": {},
   "source": [
    "Some key takeways:\n",
    "- Obviously theres a positive correlation between the number of routes available and the number of links.\n",
    "- Perhaps more interesting is that there's an overall positive correlation between the number of links and the average daily population of senior citizens that use public transports.\n",
    "- Theres also a positive correlation between the number of routes available and the average daily population of senior citizens that use public transports. However, that correlation is not as big as the one related to links.\n",
    "- Theres a somewhat positive correlation between the precipitation and the number of senior citizens using public transports\n",
    "\n",
    "Based on this takeways we can possibly create a model that predicts daily population of public transports based on the number of links and routes available as well as the precipitation of a specific region."
   ]
  },
  {
   "cell_type": "markdown",
   "metadata": {},
   "source": [
    "# Taking into account the presented variables what model should we create??"
   ]
  },
  {
   "cell_type": "markdown",
   "metadata": {},
   "source": [
    "Objectives:\n",
    "- Verify if zones with high senior population that do not use public transports is somewhat related to economic reasons, lack of links/routes, or dependency index of senior citizens. \n",
    "\n",
    "Important Variables:\n",
    "- Precipitation.\n",
    "- Number of links.\n",
    "- Number of routes.\n",
    "- Old Age Index\n",
    "- Local purchasing power\n",
    "\n",
    "Relevant ML algorithms:\n",
    "- "
   ]
  },
  {
   "cell_type": "code",
   "execution_count": 61,
   "metadata": {},
   "outputs": [
    {
     "data": {
      "text/html": [
       "<div>\n",
       "<style scoped>\n",
       "    .dataframe tbody tr th:only-of-type {\n",
       "        vertical-align: middle;\n",
       "    }\n",
       "\n",
       "    .dataframe tbody tr th {\n",
       "        vertical-align: top;\n",
       "    }\n",
       "\n",
       "    .dataframe thead th {\n",
       "        text-align: right;\n",
       "    }\n",
       "</style>\n",
       "<table border=\"1\" class=\"dataframe\">\n",
       "  <thead>\n",
       "    <tr style=\"text-align: right;\">\n",
       "      <th></th>\n",
       "      <th>NumberOfLinks</th>\n",
       "      <th>NumberOfRoutes</th>\n",
       "      <th>AvgDailyPopulation</th>\n",
       "      <th>local</th>\n",
       "      <th>2017</th>\n",
       "    </tr>\n",
       "  </thead>\n",
       "  <tbody>\n",
       "    <tr>\n",
       "      <th>0</th>\n",
       "      <td>32</td>\n",
       "      <td>16</td>\n",
       "      <td>272.407024</td>\n",
       "      <td>Santa Maria da Feira</td>\n",
       "      <td>642.7</td>\n",
       "    </tr>\n",
       "    <tr>\n",
       "      <th>1</th>\n",
       "      <td>3832</td>\n",
       "      <td>132</td>\n",
       "      <td>1176.641628</td>\n",
       "      <td>Lisboa</td>\n",
       "      <td>5052.7</td>\n",
       "    </tr>\n",
       "    <tr>\n",
       "      <th>2</th>\n",
       "      <td>1255</td>\n",
       "      <td>120</td>\n",
       "      <td>715.200512</td>\n",
       "      <td>Odivelas</td>\n",
       "      <td>5913.9</td>\n",
       "    </tr>\n",
       "    <tr>\n",
       "      <th>3</th>\n",
       "      <td>2824</td>\n",
       "      <td>152</td>\n",
       "      <td>394.144009</td>\n",
       "      <td>Oeiras</td>\n",
       "      <td>3808.6</td>\n",
       "    </tr>\n",
       "    <tr>\n",
       "      <th>4</th>\n",
       "      <td>1929</td>\n",
       "      <td>100</td>\n",
       "      <td>364.993711</td>\n",
       "      <td>Vila Franca de Xira</td>\n",
       "      <td>443.2</td>\n",
       "    </tr>\n",
       "  </tbody>\n",
       "</table>\n",
       "</div>"
      ],
      "text/plain": [
       "   NumberOfLinks  NumberOfRoutes  AvgDailyPopulation                 local  \\\n",
       "0             32              16          272.407024  Santa Maria da Feira   \n",
       "1           3832             132         1176.641628                Lisboa   \n",
       "2           1255             120          715.200512              Odivelas   \n",
       "3           2824             152          394.144009                Oeiras   \n",
       "4           1929             100          364.993711   Vila Franca de Xira   \n",
       "\n",
       "     2017  \n",
       "0   642.7  \n",
       "1  5052.7  \n",
       "2  5913.9  \n",
       "3  3808.6  \n",
       "4   443.2  "
      ]
     },
     "execution_count": 61,
     "metadata": {},
     "output_type": "execute_result"
    }
   ],
   "source": [
    "# dataframe: Average_Daily_SeniorPopulation_Travelling ---> % de população idosa a usar autocarros\n",
    "\n",
    "popDf.head() # Densidade populacional"
   ]
  },
  {
   "cell_type": "code",
   "execution_count": 62,
   "metadata": {},
   "outputs": [
    {
     "data": {
      "text/html": [
       "<div>\n",
       "<style scoped>\n",
       "    .dataframe tbody tr th:only-of-type {\n",
       "        vertical-align: middle;\n",
       "    }\n",
       "\n",
       "    .dataframe tbody tr th {\n",
       "        vertical-align: top;\n",
       "    }\n",
       "\n",
       "    .dataframe thead th {\n",
       "        text-align: right;\n",
       "    }\n",
       "</style>\n",
       "<table border=\"1\" class=\"dataframe\">\n",
       "  <thead>\n",
       "    <tr style=\"text-align: right;\">\n",
       "      <th></th>\n",
       "      <th>NumberOfLinks</th>\n",
       "      <th>NumberOfRoutes</th>\n",
       "      <th>AvgDailyPopulation</th>\n",
       "      <th>local</th>\n",
       "      <th>2019</th>\n",
       "    </tr>\n",
       "  </thead>\n",
       "  <tbody>\n",
       "    <tr>\n",
       "      <th>0</th>\n",
       "      <td>32</td>\n",
       "      <td>16</td>\n",
       "      <td>272.407024</td>\n",
       "      <td>Santa Maria da Feira</td>\n",
       "      <td>27.7</td>\n",
       "    </tr>\n",
       "    <tr>\n",
       "      <th>1</th>\n",
       "      <td>3832</td>\n",
       "      <td>132</td>\n",
       "      <td>1176.641628</td>\n",
       "      <td>Lisboa</td>\n",
       "      <td>51.2</td>\n",
       "    </tr>\n",
       "    <tr>\n",
       "      <th>2</th>\n",
       "      <td>1255</td>\n",
       "      <td>120</td>\n",
       "      <td>715.200512</td>\n",
       "      <td>Odivelas</td>\n",
       "      <td>33.4</td>\n",
       "    </tr>\n",
       "    <tr>\n",
       "      <th>3</th>\n",
       "      <td>2824</td>\n",
       "      <td>152</td>\n",
       "      <td>394.144009</td>\n",
       "      <td>Oeiras</td>\n",
       "      <td>40.8</td>\n",
       "    </tr>\n",
       "    <tr>\n",
       "      <th>4</th>\n",
       "      <td>1929</td>\n",
       "      <td>100</td>\n",
       "      <td>364.993711</td>\n",
       "      <td>Vila Franca de Xira</td>\n",
       "      <td>27.4</td>\n",
       "    </tr>\n",
       "  </tbody>\n",
       "</table>\n",
       "</div>"
      ],
      "text/plain": [
       "   NumberOfLinks  NumberOfRoutes  AvgDailyPopulation                 local  \\\n",
       "0             32              16          272.407024  Santa Maria da Feira   \n",
       "1           3832             132         1176.641628                Lisboa   \n",
       "2           1255             120          715.200512              Odivelas   \n",
       "3           2824             152          394.144009                Oeiras   \n",
       "4           1929             100          364.993711   Vila Franca de Xira   \n",
       "\n",
       "   2019  \n",
       "0  27.7  \n",
       "1  51.2  \n",
       "2  33.4  \n",
       "3  40.8  \n",
       "4  27.4  "
      ]
     },
     "execution_count": 62,
     "metadata": {},
     "output_type": "execute_result"
    }
   ],
   "source": [
    "depDf.head() # Senior citizen dependency correlation"
   ]
  },
  {
   "cell_type": "code",
   "execution_count": 63,
   "metadata": {},
   "outputs": [
    {
     "data": {
      "text/html": [
       "<div>\n",
       "<style scoped>\n",
       "    .dataframe tbody tr th:only-of-type {\n",
       "        vertical-align: middle;\n",
       "    }\n",
       "\n",
       "    .dataframe tbody tr th {\n",
       "        vertical-align: top;\n",
       "    }\n",
       "\n",
       "    .dataframe thead th {\n",
       "        text-align: right;\n",
       "    }\n",
       "</style>\n",
       "<table border=\"1\" class=\"dataframe\">\n",
       "  <thead>\n",
       "    <tr style=\"text-align: right;\">\n",
       "      <th></th>\n",
       "      <th>NumberOfLinks</th>\n",
       "      <th>NumberOfRoutes</th>\n",
       "      <th>AvgDailyPopulation</th>\n",
       "      <th>local</th>\n",
       "      <th>DensidadePopulacional2017</th>\n",
       "    </tr>\n",
       "  </thead>\n",
       "  <tbody>\n",
       "    <tr>\n",
       "      <th>0</th>\n",
       "      <td>32</td>\n",
       "      <td>16</td>\n",
       "      <td>272.407024</td>\n",
       "      <td>Santa Maria da Feira</td>\n",
       "      <td>642.7</td>\n",
       "    </tr>\n",
       "    <tr>\n",
       "      <th>1</th>\n",
       "      <td>3832</td>\n",
       "      <td>132</td>\n",
       "      <td>1176.641628</td>\n",
       "      <td>Lisboa</td>\n",
       "      <td>5052.7</td>\n",
       "    </tr>\n",
       "    <tr>\n",
       "      <th>2</th>\n",
       "      <td>1255</td>\n",
       "      <td>120</td>\n",
       "      <td>715.200512</td>\n",
       "      <td>Odivelas</td>\n",
       "      <td>5913.9</td>\n",
       "    </tr>\n",
       "    <tr>\n",
       "      <th>3</th>\n",
       "      <td>2824</td>\n",
       "      <td>152</td>\n",
       "      <td>394.144009</td>\n",
       "      <td>Oeiras</td>\n",
       "      <td>3808.6</td>\n",
       "    </tr>\n",
       "    <tr>\n",
       "      <th>4</th>\n",
       "      <td>1929</td>\n",
       "      <td>100</td>\n",
       "      <td>364.993711</td>\n",
       "      <td>Vila Franca de Xira</td>\n",
       "      <td>443.2</td>\n",
       "    </tr>\n",
       "  </tbody>\n",
       "</table>\n",
       "</div>"
      ],
      "text/plain": [
       "   NumberOfLinks  NumberOfRoutes  AvgDailyPopulation                 local  \\\n",
       "0             32              16          272.407024  Santa Maria da Feira   \n",
       "1           3832             132         1176.641628                Lisboa   \n",
       "2           1255             120          715.200512              Odivelas   \n",
       "3           2824             152          394.144009                Oeiras   \n",
       "4           1929             100          364.993711   Vila Franca de Xira   \n",
       "\n",
       "   DensidadePopulacional2017  \n",
       "0                      642.7  \n",
       "1                     5052.7  \n",
       "2                     5913.9  \n",
       "3                     3808.6  \n",
       "4                      443.2  "
      ]
     },
     "execution_count": 63,
     "metadata": {},
     "output_type": "execute_result"
    }
   ],
   "source": [
    "popAgg = popDf.rename(columns={\"2017\": \"DensidadePopulacional2017\"})\n",
    "popAgg.head()"
   ]
  },
  {
   "cell_type": "code",
   "execution_count": 64,
   "metadata": {},
   "outputs": [
    {
     "data": {
      "text/html": [
       "<div>\n",
       "<style scoped>\n",
       "    .dataframe tbody tr th:only-of-type {\n",
       "        vertical-align: middle;\n",
       "    }\n",
       "\n",
       "    .dataframe tbody tr th {\n",
       "        vertical-align: top;\n",
       "    }\n",
       "\n",
       "    .dataframe thead th {\n",
       "        text-align: right;\n",
       "    }\n",
       "</style>\n",
       "<table border=\"1\" class=\"dataframe\">\n",
       "  <thead>\n",
       "    <tr style=\"text-align: right;\">\n",
       "      <th></th>\n",
       "      <th>NumberOfLinks</th>\n",
       "      <th>NumberOfRoutes</th>\n",
       "      <th>AvgDailyPopulation</th>\n",
       "      <th>local</th>\n",
       "      <th>DensidadePopulacional2017</th>\n",
       "      <th>SeniorDependency2019</th>\n",
       "    </tr>\n",
       "  </thead>\n",
       "  <tbody>\n",
       "    <tr>\n",
       "      <th>0</th>\n",
       "      <td>32</td>\n",
       "      <td>16</td>\n",
       "      <td>272.407024</td>\n",
       "      <td>Santa Maria da Feira</td>\n",
       "      <td>642.7</td>\n",
       "      <td>27.7</td>\n",
       "    </tr>\n",
       "    <tr>\n",
       "      <th>1</th>\n",
       "      <td>3832</td>\n",
       "      <td>132</td>\n",
       "      <td>1176.641628</td>\n",
       "      <td>Lisboa</td>\n",
       "      <td>5052.7</td>\n",
       "      <td>51.2</td>\n",
       "    </tr>\n",
       "    <tr>\n",
       "      <th>2</th>\n",
       "      <td>1255</td>\n",
       "      <td>120</td>\n",
       "      <td>715.200512</td>\n",
       "      <td>Odivelas</td>\n",
       "      <td>5913.9</td>\n",
       "      <td>33.4</td>\n",
       "    </tr>\n",
       "    <tr>\n",
       "      <th>3</th>\n",
       "      <td>2824</td>\n",
       "      <td>152</td>\n",
       "      <td>394.144009</td>\n",
       "      <td>Oeiras</td>\n",
       "      <td>3808.6</td>\n",
       "      <td>40.8</td>\n",
       "    </tr>\n",
       "    <tr>\n",
       "      <th>4</th>\n",
       "      <td>1929</td>\n",
       "      <td>100</td>\n",
       "      <td>364.993711</td>\n",
       "      <td>Vila Franca de Xira</td>\n",
       "      <td>443.2</td>\n",
       "      <td>27.4</td>\n",
       "    </tr>\n",
       "  </tbody>\n",
       "</table>\n",
       "</div>"
      ],
      "text/plain": [
       "   NumberOfLinks  NumberOfRoutes  AvgDailyPopulation                 local  \\\n",
       "0             32              16          272.407024  Santa Maria da Feira   \n",
       "1           3832             132         1176.641628                Lisboa   \n",
       "2           1255             120          715.200512              Odivelas   \n",
       "3           2824             152          394.144009                Oeiras   \n",
       "4           1929             100          364.993711   Vila Franca de Xira   \n",
       "\n",
       "   DensidadePopulacional2017  SeniorDependency2019  \n",
       "0                      642.7                  27.7  \n",
       "1                     5052.7                  51.2  \n",
       "2                     5913.9                  33.4  \n",
       "3                     3808.6                  40.8  \n",
       "4                      443.2                  27.4  "
      ]
     },
     "execution_count": 64,
     "metadata": {},
     "output_type": "execute_result"
    }
   ],
   "source": [
    "popAgg= pd.merge(popAgg, depDf, left_on=\"local\", right_on='local')#[['NumberOfLinks', 'NumberOfRoutes', \"AvgDailyPopulation\", \"local\", \"DensidadePopulacional\", \"2019\"]]\n",
    "popAgg = popAgg[[\"NumberOfLinks_x\", \"NumberOfRoutes_x\", \"AvgDailyPopulation_x\", \"local\", \"DensidadePopulacional2017\", \"2019\"]] \n",
    "popAgg = popAgg.rename(columns={\"NumberOfLinks_x\": \"NumberOfLinks\", \"NumberOfRoutes_x\":\"NumberOfRoutes\",\n",
    "                               \"AvgDailyPopulation_x\":\"AvgDailyPopulation\", \"2019\": \"SeniorDependency2019\"})\n",
    "popAgg.head()"
   ]
  },
  {
   "cell_type": "code",
   "execution_count": 65,
   "metadata": {},
   "outputs": [
    {
     "data": {
      "text/html": [
       "<div>\n",
       "<style scoped>\n",
       "    .dataframe tbody tr th:only-of-type {\n",
       "        vertical-align: middle;\n",
       "    }\n",
       "\n",
       "    .dataframe tbody tr th {\n",
       "        vertical-align: top;\n",
       "    }\n",
       "\n",
       "    .dataframe thead th {\n",
       "        text-align: right;\n",
       "    }\n",
       "</style>\n",
       "<table border=\"1\" class=\"dataframe\">\n",
       "  <thead>\n",
       "    <tr style=\"text-align: right;\">\n",
       "      <th></th>\n",
       "      <th>local</th>\n",
       "      <th>&gt;65anos</th>\n",
       "    </tr>\n",
       "  </thead>\n",
       "  <tbody>\n",
       "    <tr>\n",
       "      <th>0</th>\n",
       "      <td>Arcos de Valdevez</td>\n",
       "      <td>6807</td>\n",
       "    </tr>\n",
       "    <tr>\n",
       "      <th>1</th>\n",
       "      <td>Caminha</td>\n",
       "      <td>4110</td>\n",
       "    </tr>\n",
       "    <tr>\n",
       "      <th>2</th>\n",
       "      <td>Melgaço</td>\n",
       "      <td>2941</td>\n",
       "    </tr>\n",
       "    <tr>\n",
       "      <th>3</th>\n",
       "      <td>Monção</td>\n",
       "      <td>5275</td>\n",
       "    </tr>\n",
       "    <tr>\n",
       "      <th>4</th>\n",
       "      <td>Paredes de Coura</td>\n",
       "      <td>2381</td>\n",
       "    </tr>\n",
       "    <tr>\n",
       "      <th>...</th>\n",
       "      <td>...</td>\n",
       "      <td>...</td>\n",
       "    </tr>\n",
       "    <tr>\n",
       "      <th>303</th>\n",
       "      <td>Ribeira Brava</td>\n",
       "      <td>2157</td>\n",
       "    </tr>\n",
       "    <tr>\n",
       "      <th>304</th>\n",
       "      <td>Santa Cruz</td>\n",
       "      <td>5331</td>\n",
       "    </tr>\n",
       "    <tr>\n",
       "      <th>305</th>\n",
       "      <td>Santana</td>\n",
       "      <td>1673</td>\n",
       "    </tr>\n",
       "    <tr>\n",
       "      <th>306</th>\n",
       "      <td>São Vicente</td>\n",
       "      <td>1307</td>\n",
       "    </tr>\n",
       "    <tr>\n",
       "      <th>307</th>\n",
       "      <td>Porto Santo</td>\n",
       "      <td>709</td>\n",
       "    </tr>\n",
       "  </tbody>\n",
       "</table>\n",
       "<p>308 rows × 2 columns</p>\n",
       "</div>"
      ],
      "text/plain": [
       "                 local  >65anos\n",
       "0    Arcos de Valdevez     6807\n",
       "1              Caminha     4110\n",
       "2              Melgaço     2941\n",
       "3               Monção     5275\n",
       "4     Paredes de Coura     2381\n",
       "..                 ...      ...\n",
       "303      Ribeira Brava     2157\n",
       "304         Santa Cruz     5331\n",
       "305            Santana     1673\n",
       "306        São Vicente     1307\n",
       "307        Porto Santo      709\n",
       "\n",
       "[308 rows x 2 columns]"
      ]
     },
     "execution_count": 65,
     "metadata": {},
     "output_type": "execute_result"
    }
   ],
   "source": [
    "dfPopSenior = pd.read_csv('pordata_residential_pop_2019.txt')\n",
    "dfPopSenior = dfPopSenior[['local', '>65anos']]\n",
    "dfPopSenior"
   ]
  },
  {
   "cell_type": "code",
   "execution_count": 66,
   "metadata": {},
   "outputs": [
    {
     "data": {
      "text/html": [
       "<div>\n",
       "<style scoped>\n",
       "    .dataframe tbody tr th:only-of-type {\n",
       "        vertical-align: middle;\n",
       "    }\n",
       "\n",
       "    .dataframe tbody tr th {\n",
       "        vertical-align: top;\n",
       "    }\n",
       "\n",
       "    .dataframe thead th {\n",
       "        text-align: right;\n",
       "    }\n",
       "</style>\n",
       "<table border=\"1\" class=\"dataframe\">\n",
       "  <thead>\n",
       "    <tr style=\"text-align: right;\">\n",
       "      <th></th>\n",
       "      <th>NumberOfLinks</th>\n",
       "      <th>NumberOfRoutes</th>\n",
       "      <th>AvgDailyPopulation</th>\n",
       "      <th>local</th>\n",
       "      <th>DensidadePopulacional2017</th>\n",
       "      <th>SeniorDependency2019</th>\n",
       "      <th>SeniorResidentPop2019</th>\n",
       "      <th>IndexEnvelh2019</th>\n",
       "    </tr>\n",
       "  </thead>\n",
       "  <tbody>\n",
       "    <tr>\n",
       "      <th>0</th>\n",
       "      <td>32</td>\n",
       "      <td>16</td>\n",
       "      <td>272.407024</td>\n",
       "      <td>Santa Maria da Feira</td>\n",
       "      <td>642.7</td>\n",
       "      <td>27.7</td>\n",
       "      <td>26631</td>\n",
       "      <td>148.0</td>\n",
       "    </tr>\n",
       "    <tr>\n",
       "      <th>1</th>\n",
       "      <td>3832</td>\n",
       "      <td>132</td>\n",
       "      <td>1176.641628</td>\n",
       "      <td>Lisboa</td>\n",
       "      <td>5052.7</td>\n",
       "      <td>51.2</td>\n",
       "      <td>144050</td>\n",
       "      <td>171.5</td>\n",
       "    </tr>\n",
       "    <tr>\n",
       "      <th>2</th>\n",
       "      <td>1255</td>\n",
       "      <td>120</td>\n",
       "      <td>715.200512</td>\n",
       "      <td>Odivelas</td>\n",
       "      <td>5913.9</td>\n",
       "      <td>33.4</td>\n",
       "      <td>34005</td>\n",
       "      <td>126.5</td>\n",
       "    </tr>\n",
       "    <tr>\n",
       "      <th>3</th>\n",
       "      <td>2824</td>\n",
       "      <td>152</td>\n",
       "      <td>394.144009</td>\n",
       "      <td>Oeiras</td>\n",
       "      <td>3808.6</td>\n",
       "      <td>40.8</td>\n",
       "      <td>43787</td>\n",
       "      <td>159.5</td>\n",
       "    </tr>\n",
       "    <tr>\n",
       "      <th>4</th>\n",
       "      <td>1929</td>\n",
       "      <td>100</td>\n",
       "      <td>364.993711</td>\n",
       "      <td>Vila Franca de Xira</td>\n",
       "      <td>443.2</td>\n",
       "      <td>27.4</td>\n",
       "      <td>26119</td>\n",
       "      <td>114.5</td>\n",
       "    </tr>\n",
       "  </tbody>\n",
       "</table>\n",
       "</div>"
      ],
      "text/plain": [
       "   NumberOfLinks  NumberOfRoutes  AvgDailyPopulation                 local  \\\n",
       "0             32              16          272.407024  Santa Maria da Feira   \n",
       "1           3832             132         1176.641628                Lisboa   \n",
       "2           1255             120          715.200512              Odivelas   \n",
       "3           2824             152          394.144009                Oeiras   \n",
       "4           1929             100          364.993711   Vila Franca de Xira   \n",
       "\n",
       "   DensidadePopulacional2017  SeniorDependency2019  SeniorResidentPop2019  \\\n",
       "0                      642.7                  27.7                  26631   \n",
       "1                     5052.7                  51.2                 144050   \n",
       "2                     5913.9                  33.4                  34005   \n",
       "3                     3808.6                  40.8                  43787   \n",
       "4                      443.2                  27.4                  26119   \n",
       "\n",
       "   IndexEnvelh2019  \n",
       "0            148.0  \n",
       "1            171.5  \n",
       "2            126.5  \n",
       "3            159.5  \n",
       "4            114.5  "
      ]
     },
     "execution_count": 66,
     "metadata": {},
     "output_type": "execute_result"
    }
   ],
   "source": [
    "ageDf2 = pd.read_csv('age_index.csv')\n",
    "ageDf2 = ageDf2[['local', '2019']]\n",
    "ageDf2[\"2019\"]=ageDf2[\"2019\"].apply(lambda row: float(row.replace(\",\", \".\")))\n",
    "\n",
    "popAgg= pd.merge(popAgg, dfPopSenior, left_on=\"local\", right_on='local')\n",
    "popAgg = popAgg.rename(columns={\">65anos\":\"SeniorResidentPop2019\"})\n",
    "popAgg= pd.merge(popAgg, ageDf2, left_on=\"local\", right_on='local')\n",
    "popAgg = popAgg.rename(columns={\"2019\":\"IndexEnvelh2019\"})\n",
    "\n",
    "popAgg.head()"
   ]
  },
  {
   "cell_type": "code",
   "execution_count": null,
   "metadata": {},
   "outputs": [],
   "source": []
  },
  {
   "cell_type": "code",
   "execution_count": 67,
   "metadata": {
    "scrolled": true
   },
   "outputs": [
    {
     "data": {
      "text/html": [
       "<div>\n",
       "<style scoped>\n",
       "    .dataframe tbody tr th:only-of-type {\n",
       "        vertical-align: middle;\n",
       "    }\n",
       "\n",
       "    .dataframe tbody tr th {\n",
       "        vertical-align: top;\n",
       "    }\n",
       "\n",
       "    .dataframe thead th {\n",
       "        text-align: right;\n",
       "    }\n",
       "</style>\n",
       "<table border=\"1\" class=\"dataframe\">\n",
       "  <thead>\n",
       "    <tr style=\"text-align: right;\">\n",
       "      <th></th>\n",
       "      <th>NumberOfLinks</th>\n",
       "      <th>NumberOfRoutes</th>\n",
       "      <th>AvgDailyPopulation</th>\n",
       "      <th>local</th>\n",
       "      <th>DensidadePopulacional2017</th>\n",
       "      <th>SeniorDependency2019</th>\n",
       "      <th>SeniorResidentPop2019</th>\n",
       "      <th>IndexEnvelh2019</th>\n",
       "      <th>PercSeniorAvgDailyPopulation</th>\n",
       "    </tr>\n",
       "  </thead>\n",
       "  <tbody>\n",
       "    <tr>\n",
       "      <th>0</th>\n",
       "      <td>32</td>\n",
       "      <td>16</td>\n",
       "      <td>272.407024</td>\n",
       "      <td>Santa Maria da Feira</td>\n",
       "      <td>642.7</td>\n",
       "      <td>27.7</td>\n",
       "      <td>26631</td>\n",
       "      <td>148.0</td>\n",
       "      <td>1.022894</td>\n",
       "    </tr>\n",
       "    <tr>\n",
       "      <th>1</th>\n",
       "      <td>3832</td>\n",
       "      <td>132</td>\n",
       "      <td>1176.641628</td>\n",
       "      <td>Lisboa</td>\n",
       "      <td>5052.7</td>\n",
       "      <td>51.2</td>\n",
       "      <td>144050</td>\n",
       "      <td>171.5</td>\n",
       "      <td>0.816829</td>\n",
       "    </tr>\n",
       "    <tr>\n",
       "      <th>2</th>\n",
       "      <td>1255</td>\n",
       "      <td>120</td>\n",
       "      <td>715.200512</td>\n",
       "      <td>Odivelas</td>\n",
       "      <td>5913.9</td>\n",
       "      <td>33.4</td>\n",
       "      <td>34005</td>\n",
       "      <td>126.5</td>\n",
       "      <td>2.103222</td>\n",
       "    </tr>\n",
       "    <tr>\n",
       "      <th>3</th>\n",
       "      <td>2824</td>\n",
       "      <td>152</td>\n",
       "      <td>394.144009</td>\n",
       "      <td>Oeiras</td>\n",
       "      <td>3808.6</td>\n",
       "      <td>40.8</td>\n",
       "      <td>43787</td>\n",
       "      <td>159.5</td>\n",
       "      <td>0.900139</td>\n",
       "    </tr>\n",
       "    <tr>\n",
       "      <th>4</th>\n",
       "      <td>1929</td>\n",
       "      <td>100</td>\n",
       "      <td>364.993711</td>\n",
       "      <td>Vila Franca de Xira</td>\n",
       "      <td>443.2</td>\n",
       "      <td>27.4</td>\n",
       "      <td>26119</td>\n",
       "      <td>114.5</td>\n",
       "      <td>1.397426</td>\n",
       "    </tr>\n",
       "  </tbody>\n",
       "</table>\n",
       "</div>"
      ],
      "text/plain": [
       "   NumberOfLinks  NumberOfRoutes  AvgDailyPopulation                 local  \\\n",
       "0             32              16          272.407024  Santa Maria da Feira   \n",
       "1           3832             132         1176.641628                Lisboa   \n",
       "2           1255             120          715.200512              Odivelas   \n",
       "3           2824             152          394.144009                Oeiras   \n",
       "4           1929             100          364.993711   Vila Franca de Xira   \n",
       "\n",
       "   DensidadePopulacional2017  SeniorDependency2019  SeniorResidentPop2019  \\\n",
       "0                      642.7                  27.7                  26631   \n",
       "1                     5052.7                  51.2                 144050   \n",
       "2                     5913.9                  33.4                  34005   \n",
       "3                     3808.6                  40.8                  43787   \n",
       "4                      443.2                  27.4                  26119   \n",
       "\n",
       "   IndexEnvelh2019  PercSeniorAvgDailyPopulation  \n",
       "0            148.0                      1.022894  \n",
       "1            171.5                      0.816829  \n",
       "2            126.5                      2.103222  \n",
       "3            159.5                      0.900139  \n",
       "4            114.5                      1.397426  "
      ]
     },
     "execution_count": 67,
     "metadata": {},
     "output_type": "execute_result"
    }
   ],
   "source": [
    "popAgg[\"PercSeniorAvgDailyPopulation\"] = \\\n",
    "    popAgg.apply(lambda x : x[\"AvgDailyPopulation\"]*100/x[\"SeniorResidentPop2019\"], axis=1)\n",
    "    \n",
    "popAgg.head()"
   ]
  },
  {
   "cell_type": "code",
   "execution_count": 68,
   "metadata": {},
   "outputs": [
    {
     "data": {
      "text/plain": [
       "<AxesSubplot:>"
      ]
     },
     "execution_count": 68,
     "metadata": {},
     "output_type": "execute_result"
    },
    {
     "data": {
      "image/png": "[encoded data removed]",
      "text/plain": [
       "<Figure size 432x288 with 2 Axes>"
      ]
     },
     "metadata": {
      "needs_background": "light"
     },
     "output_type": "display_data"
    }
   ],
   "source": [
    "corr = popAgg.corr()\n",
    "sns.heatmap(corr, xticklabels=corr.columns, yticklabels=corr.columns, annot=True, cmap=sns.diverging_palette(220, 20, as_cmap=True))"
   ]
  },
  {
   "cell_type": "markdown",
   "metadata": {},
   "source": [
    "#### Verifica-se que PercSeniorAvgDailyPopulation é inversamente proporcional ao SeniorDependency2019, o que significa que quanto maior é o número de idosos dependentes no município, menor é o número de utilizadores idosos"
   ]
  },
  {
   "cell_type": "code",
   "execution_count": 69,
   "metadata": {},
   "outputs": [
    {
     "data": {
      "text/plain": [
       "<seaborn.axisgrid.PairGrid at 0x20a1b055490>"
      ]
     },
     "execution_count": 69,
     "metadata": {},
     "output_type": "execute_result"
    },
    {
     "data": {
      "image/png": "[encoded data removed]",
      "text/plain": [
       "<Figure size 1440x1440 with 72 Axes>"
      ]
     },
     "metadata": {
      "needs_background": "light"
     },
     "output_type": "display_data"
    }
   ],
   "source": [
    "sns.pairplot(popAgg)"
   ]
  },
  {
   "cell_type": "code",
   "execution_count": 124,
   "metadata": {},
   "outputs": [],
   "source": [
    "import pickle \n",
    "#filename = 'aggregated_data'\n",
    "#file=open(filename,'wb')\n",
    "#pickle.dump(popAgg,file)\n",
    "#file.close()\n",
    "data = pickle.load(open('aggregated_data', 'rb'))"
   ]
  },
  {
   "cell_type": "code",
   "execution_count": 120,
   "metadata": {},
   "outputs": [],
   "source": [
    "import statsmodels.api as sm\n",
    "from sklearn.svm import SVR\n",
    "from sklearn.pipeline import make_pipeline\n",
    "from sklearn.preprocessing import StandardScaler\n",
    "import numpy as np\n",
    "from sklearn.model_selection import train_test_split\n",
    "from sklearn.metrics import confusion_matrix\n",
    "from sklearn.model_selection import cross_val_score\n",
    "from sklearn.metrics import classification_report"
   ]
  },
  {
   "cell_type": "code",
   "execution_count": 81,
   "metadata": {
    "collapsed": true
   },
   "outputs": [
    {
     "data": {
      "text/html": [
       "<div>\n",
       "<style scoped>\n",
       "    .dataframe tbody tr th:only-of-type {\n",
       "        vertical-align: middle;\n",
       "    }\n",
       "\n",
       "    .dataframe tbody tr th {\n",
       "        vertical-align: top;\n",
       "    }\n",
       "\n",
       "    .dataframe thead th {\n",
       "        text-align: right;\n",
       "    }\n",
       "</style>\n",
       "<table border=\"1\" class=\"dataframe\">\n",
       "  <thead>\n",
       "    <tr style=\"text-align: right;\">\n",
       "      <th></th>\n",
       "      <th>NumberOfLinks</th>\n",
       "      <th>NumberOfRoutes</th>\n",
       "      <th>AvgDailyPopulation</th>\n",
       "      <th>local</th>\n",
       "      <th>DensidadePopulacional2017</th>\n",
       "      <th>SeniorDependency2019</th>\n",
       "      <th>SeniorResidentPop2019</th>\n",
       "      <th>IndexEnvelh2019</th>\n",
       "      <th>PercSeniorAvgDailyPopulation</th>\n",
       "    </tr>\n",
       "  </thead>\n",
       "  <tbody>\n",
       "    <tr>\n",
       "      <th>0</th>\n",
       "      <td>32</td>\n",
       "      <td>16</td>\n",
       "      <td>272.407024</td>\n",
       "      <td>Santa Maria da Feira</td>\n",
       "      <td>642.7</td>\n",
       "      <td>27.7</td>\n",
       "      <td>26631</td>\n",
       "      <td>148.0</td>\n",
       "      <td>1.022894</td>\n",
       "    </tr>\n",
       "    <tr>\n",
       "      <th>1</th>\n",
       "      <td>3832</td>\n",
       "      <td>132</td>\n",
       "      <td>1176.641628</td>\n",
       "      <td>Lisboa</td>\n",
       "      <td>5052.7</td>\n",
       "      <td>51.2</td>\n",
       "      <td>144050</td>\n",
       "      <td>171.5</td>\n",
       "      <td>0.816829</td>\n",
       "    </tr>\n",
       "    <tr>\n",
       "      <th>2</th>\n",
       "      <td>1255</td>\n",
       "      <td>120</td>\n",
       "      <td>715.200512</td>\n",
       "      <td>Odivelas</td>\n",
       "      <td>5913.9</td>\n",
       "      <td>33.4</td>\n",
       "      <td>34005</td>\n",
       "      <td>126.5</td>\n",
       "      <td>2.103222</td>\n",
       "    </tr>\n",
       "    <tr>\n",
       "      <th>3</th>\n",
       "      <td>2824</td>\n",
       "      <td>152</td>\n",
       "      <td>394.144009</td>\n",
       "      <td>Oeiras</td>\n",
       "      <td>3808.6</td>\n",
       "      <td>40.8</td>\n",
       "      <td>43787</td>\n",
       "      <td>159.5</td>\n",
       "      <td>0.900139</td>\n",
       "    </tr>\n",
       "    <tr>\n",
       "      <th>4</th>\n",
       "      <td>1929</td>\n",
       "      <td>100</td>\n",
       "      <td>364.993711</td>\n",
       "      <td>Vila Franca de Xira</td>\n",
       "      <td>443.2</td>\n",
       "      <td>27.4</td>\n",
       "      <td>26119</td>\n",
       "      <td>114.5</td>\n",
       "      <td>1.397426</td>\n",
       "    </tr>\n",
       "    <tr>\n",
       "      <th>5</th>\n",
       "      <td>1226</td>\n",
       "      <td>107</td>\n",
       "      <td>351.236967</td>\n",
       "      <td>Sintra</td>\n",
       "      <td>1206.0</td>\n",
       "      <td>26.2</td>\n",
       "      <td>68772</td>\n",
       "      <td>107.9</td>\n",
       "      <td>0.510727</td>\n",
       "    </tr>\n",
       "    <tr>\n",
       "      <th>6</th>\n",
       "      <td>472</td>\n",
       "      <td>98</td>\n",
       "      <td>285.334270</td>\n",
       "      <td>Cascais</td>\n",
       "      <td>2169.4</td>\n",
       "      <td>32.2</td>\n",
       "      <td>43992</td>\n",
       "      <td>129.5</td>\n",
       "      <td>0.648605</td>\n",
       "    </tr>\n",
       "    <tr>\n",
       "      <th>7</th>\n",
       "      <td>613</td>\n",
       "      <td>92</td>\n",
       "      <td>155.706508</td>\n",
       "      <td>Amadora</td>\n",
       "      <td>7529.7</td>\n",
       "      <td>38.5</td>\n",
       "      <td>43252</td>\n",
       "      <td>149.7</td>\n",
       "      <td>0.359998</td>\n",
       "    </tr>\n",
       "    <tr>\n",
       "      <th>8</th>\n",
       "      <td>283</td>\n",
       "      <td>81</td>\n",
       "      <td>144.367737</td>\n",
       "      <td>Mafra</td>\n",
       "      <td>284.4</td>\n",
       "      <td>24.1</td>\n",
       "      <td>13774</td>\n",
       "      <td>96.4</td>\n",
       "      <td>1.048118</td>\n",
       "    </tr>\n",
       "    <tr>\n",
       "      <th>9</th>\n",
       "      <td>141</td>\n",
       "      <td>51</td>\n",
       "      <td>141.271239</td>\n",
       "      <td>Loures</td>\n",
       "      <td>1246.7</td>\n",
       "      <td>35.0</td>\n",
       "      <td>46886</td>\n",
       "      <td>137.9</td>\n",
       "      <td>0.301308</td>\n",
       "    </tr>\n",
       "    <tr>\n",
       "      <th>10</th>\n",
       "      <td>2670</td>\n",
       "      <td>99</td>\n",
       "      <td>3400.213919</td>\n",
       "      <td>Maia</td>\n",
       "      <td>1644.4</td>\n",
       "      <td>26.1</td>\n",
       "      <td>24900</td>\n",
       "      <td>122.4</td>\n",
       "      <td>13.655478</td>\n",
       "    </tr>\n",
       "    <tr>\n",
       "      <th>11</th>\n",
       "      <td>1478</td>\n",
       "      <td>110</td>\n",
       "      <td>2213.490123</td>\n",
       "      <td>Porto</td>\n",
       "      <td>5175.1</td>\n",
       "      <td>48.5</td>\n",
       "      <td>61716</td>\n",
       "      <td>218.8</td>\n",
       "      <td>3.586574</td>\n",
       "    </tr>\n",
       "    <tr>\n",
       "      <th>12</th>\n",
       "      <td>1076</td>\n",
       "      <td>95</td>\n",
       "      <td>1084.179459</td>\n",
       "      <td>Gondomar</td>\n",
       "      <td>1255.9</td>\n",
       "      <td>29.4</td>\n",
       "      <td>33346</td>\n",
       "      <td>154.2</td>\n",
       "      <td>3.251303</td>\n",
       "    </tr>\n",
       "    <tr>\n",
       "      <th>13</th>\n",
       "      <td>195</td>\n",
       "      <td>33</td>\n",
       "      <td>823.843490</td>\n",
       "      <td>Matosinhos</td>\n",
       "      <td>2780.3</td>\n",
       "      <td>32.4</td>\n",
       "      <td>37758</td>\n",
       "      <td>159.6</td>\n",
       "      <td>2.181904</td>\n",
       "    </tr>\n",
       "    <tr>\n",
       "      <th>14</th>\n",
       "      <td>240</td>\n",
       "      <td>68</td>\n",
       "      <td>889.849297</td>\n",
       "      <td>Palmela</td>\n",
       "      <td>138.0</td>\n",
       "      <td>29.6</td>\n",
       "      <td>12518</td>\n",
       "      <td>127.7</td>\n",
       "      <td>7.108558</td>\n",
       "    </tr>\n",
       "    <tr>\n",
       "      <th>15</th>\n",
       "      <td>6</td>\n",
       "      <td>8</td>\n",
       "      <td>544.140508</td>\n",
       "      <td>Alcochete</td>\n",
       "      <td>149.2</td>\n",
       "      <td>25.0</td>\n",
       "      <td>3305</td>\n",
       "      <td>100.4</td>\n",
       "      <td>16.464161</td>\n",
       "    </tr>\n",
       "    <tr>\n",
       "      <th>16</th>\n",
       "      <td>55</td>\n",
       "      <td>15</td>\n",
       "      <td>441.206994</td>\n",
       "      <td>Montijo</td>\n",
       "      <td>160.7</td>\n",
       "      <td>26.0</td>\n",
       "      <td>9865</td>\n",
       "      <td>101.2</td>\n",
       "      <td>4.472448</td>\n",
       "    </tr>\n",
       "    <tr>\n",
       "      <th>17</th>\n",
       "      <td>1285</td>\n",
       "      <td>119</td>\n",
       "      <td>346.062201</td>\n",
       "      <td>Barreiro</td>\n",
       "      <td>2084.3</td>\n",
       "      <td>44.6</td>\n",
       "      <td>20090</td>\n",
       "      <td>189.8</td>\n",
       "      <td>1.722559</td>\n",
       "    </tr>\n",
       "    <tr>\n",
       "      <th>18</th>\n",
       "      <td>942</td>\n",
       "      <td>110</td>\n",
       "      <td>329.882526</td>\n",
       "      <td>Seixal</td>\n",
       "      <td>1734.4</td>\n",
       "      <td>30.8</td>\n",
       "      <td>33838</td>\n",
       "      <td>128.6</td>\n",
       "      <td>0.974888</td>\n",
       "    </tr>\n",
       "    <tr>\n",
       "      <th>19</th>\n",
       "      <td>113</td>\n",
       "      <td>29</td>\n",
       "      <td>138.546544</td>\n",
       "      <td>Setúbal</td>\n",
       "      <td>506.5</td>\n",
       "      <td>35.7</td>\n",
       "      <td>25859</td>\n",
       "      <td>144.5</td>\n",
       "      <td>0.535777</td>\n",
       "    </tr>\n",
       "    <tr>\n",
       "      <th>20</th>\n",
       "      <td>49</td>\n",
       "      <td>24</td>\n",
       "      <td>116.808277</td>\n",
       "      <td>Sesimbra</td>\n",
       "      <td>261.2</td>\n",
       "      <td>25.7</td>\n",
       "      <td>8914</td>\n",
       "      <td>105.8</td>\n",
       "      <td>1.310391</td>\n",
       "    </tr>\n",
       "    <tr>\n",
       "      <th>21</th>\n",
       "      <td>131</td>\n",
       "      <td>44</td>\n",
       "      <td>40.539317</td>\n",
       "      <td>Almada</td>\n",
       "      <td>2417.4</td>\n",
       "      <td>37.5</td>\n",
       "      <td>39377</td>\n",
       "      <td>155.1</td>\n",
       "      <td>0.102952</td>\n",
       "    </tr>\n",
       "  </tbody>\n",
       "</table>\n",
       "</div>"
      ],
      "text/plain": [
       "    NumberOfLinks  NumberOfRoutes  AvgDailyPopulation                 local  \\\n",
       "0              32              16          272.407024  Santa Maria da Feira   \n",
       "1            3832             132         1176.641628                Lisboa   \n",
       "2            1255             120          715.200512              Odivelas   \n",
       "3            2824             152          394.144009                Oeiras   \n",
       "4            1929             100          364.993711   Vila Franca de Xira   \n",
       "5            1226             107          351.236967                Sintra   \n",
       "6             472              98          285.334270               Cascais   \n",
       "7             613              92          155.706508               Amadora   \n",
       "8             283              81          144.367737                 Mafra   \n",
       "9             141              51          141.271239                Loures   \n",
       "10           2670              99         3400.213919                  Maia   \n",
       "11           1478             110         2213.490123                 Porto   \n",
       "12           1076              95         1084.179459              Gondomar   \n",
       "13            195              33          823.843490            Matosinhos   \n",
       "14            240              68          889.849297               Palmela   \n",
       "15              6               8          544.140508             Alcochete   \n",
       "16             55              15          441.206994               Montijo   \n",
       "17           1285             119          346.062201              Barreiro   \n",
       "18            942             110          329.882526                Seixal   \n",
       "19            113              29          138.546544               Setúbal   \n",
       "20             49              24          116.808277              Sesimbra   \n",
       "21            131              44           40.539317                Almada   \n",
       "\n",
       "    DensidadePopulacional2017  SeniorDependency2019  SeniorResidentPop2019  \\\n",
       "0                       642.7                  27.7                  26631   \n",
       "1                      5052.7                  51.2                 144050   \n",
       "2                      5913.9                  33.4                  34005   \n",
       "3                      3808.6                  40.8                  43787   \n",
       "4                       443.2                  27.4                  26119   \n",
       "5                      1206.0                  26.2                  68772   \n",
       "6                      2169.4                  32.2                  43992   \n",
       "7                      7529.7                  38.5                  43252   \n",
       "8                       284.4                  24.1                  13774   \n",
       "9                      1246.7                  35.0                  46886   \n",
       "10                     1644.4                  26.1                  24900   \n",
       "11                     5175.1                  48.5                  61716   \n",
       "12                     1255.9                  29.4                  33346   \n",
       "13                     2780.3                  32.4                  37758   \n",
       "14                      138.0                  29.6                  12518   \n",
       "15                      149.2                  25.0                   3305   \n",
       "16                      160.7                  26.0                   9865   \n",
       "17                     2084.3                  44.6                  20090   \n",
       "18                     1734.4                  30.8                  33838   \n",
       "19                      506.5                  35.7                  25859   \n",
       "20                      261.2                  25.7                   8914   \n",
       "21                     2417.4                  37.5                  39377   \n",
       "\n",
       "    IndexEnvelh2019  PercSeniorAvgDailyPopulation  \n",
       "0             148.0                      1.022894  \n",
       "1             171.5                      0.816829  \n",
       "2             126.5                      2.103222  \n",
       "3             159.5                      0.900139  \n",
       "4             114.5                      1.397426  \n",
       "5             107.9                      0.510727  \n",
       "6             129.5                      0.648605  \n",
       "7             149.7                      0.359998  \n",
       "8              96.4                      1.048118  \n",
       "9             137.9                      0.301308  \n",
       "10            122.4                     13.655478  \n",
       "11            218.8                      3.586574  \n",
       "12            154.2                      3.251303  \n",
       "13            159.6                      2.181904  \n",
       "14            127.7                      7.108558  \n",
       "15            100.4                     16.464161  \n",
       "16            101.2                      4.472448  \n",
       "17            189.8                      1.722559  \n",
       "18            128.6                      0.974888  \n",
       "19            144.5                      0.535777  \n",
       "20            105.8                      1.310391  \n",
       "21            155.1                      0.102952  "
      ]
     },
     "execution_count": 81,
     "metadata": {},
     "output_type": "execute_result"
    }
   ],
   "source": [
    "data"
   ]
  },
  {
   "cell_type": "code",
   "execution_count": 125,
   "metadata": {},
   "outputs": [],
   "source": [
    "# Backward Elimination\n",
    "y = data['AvgDailyPopulation']\n",
    "X = data.filter(['NumberOfLinks','NumberOfRoutes','DensidadePopulacional2017','SeniorDependency2019','SeniorResidentPop2019','IndexEnvelh2019'],axis=1)"
   ]
  },
  {
   "cell_type": "code",
   "execution_count": 108,
   "metadata": {},
   "outputs": [
    {
     "data": {
      "text/plain": [
       "(22, 6)"
      ]
     },
     "execution_count": 108,
     "metadata": {},
     "output_type": "execute_result"
    }
   ],
   "source": [
    "X.shape"
   ]
  },
  {
   "cell_type": "code",
   "execution_count": 109,
   "metadata": {
    "collapsed": true
   },
   "outputs": [
    {
     "data": {
      "text/plain": [
       "(22,)"
      ]
     },
     "execution_count": 109,
     "metadata": {},
     "output_type": "execute_result"
    }
   ],
   "source": [
    "y.shape"
   ]
  },
  {
   "cell_type": "code",
   "execution_count": 126,
   "metadata": {},
   "outputs": [
    {
     "name": "stdout",
     "output_type": "stream",
     "text": [
      "['NumberOfLinks', 'SeniorDependency2019', 'IndexEnvelh2019']\n"
     ]
    }
   ],
   "source": [
    "#Backward Elimination\n",
    "cols = list(X.columns)\n",
    "pmax = 1\n",
    "while (len(cols)>0):\n",
    "    p= []\n",
    "    X_1 = X[cols]\n",
    "    X_1 = sm.add_constant(X_1)\n",
    "    model = sm.OLS(y,X_1).fit() ######\n",
    "    p = pd.Series(model.pvalues.values[1:],index = cols)      \n",
    "    pmax = max(p)\n",
    "    feature_with_p_max = p.idxmax()\n",
    "    if(pmax>0.05):\n",
    "        cols.remove(feature_with_p_max)\n",
    "    else:\n",
    "        break\n",
    "selected_features_BE = cols\n",
    "print(selected_features_BE)"
   ]
  }
 ],
 "metadata": {
  "kernelspec": {
   "display_name": "Python 3",
   "language": "python",
   "name": "python3"
  },
  "language_info": {
   "codemirror_mode": {
    "name": "ipython",
    "version": 3
   },
   "file_extension": ".py",
   "mimetype": "text/x-python",
   "name": "python",
   "nbconvert_exporter": "python",
   "pygments_lexer": "ipython3",
   "version": "3.8.5"
  },
  "toc": {
   "base_numbering": 1,
   "nav_menu": {},
   "number_sections": true,
   "sideBar": true,
   "skip_h1_title": false,
   "title_cell": "Table of Contents",
   "title_sidebar": "Contents",
   "toc_cell": false,
   "toc_position": {},
   "toc_section_display": true,
   "toc_window_display": false
  },
  "varInspector": {
   "cols": {
    "lenName": 16,
    "lenType": 16,
    "lenVar": 40
   },
   "kernels_config": {
    "python": {
     "delete_cmd_postfix": "",
     "delete_cmd_prefix": "del ",
     "library": "var_list.py",
     "varRefreshCmd": "print(var_dic_list())"
    },
    "r": {
     "delete_cmd_postfix": ") ",
     "delete_cmd_prefix": "rm(",
     "library": "var_list.r",
     "varRefreshCmd": "cat(var_dic_list()) "
    }
   },
   "types_to_exclude": [
    "module",
    "function",
    "builtin_function_or_method",
    "instance",
    "_Feature"
   ],
   "window_display": false
  }
 },
 "nbformat": 4,
 "nbformat_minor": 5
}
